{
 "cells": [
  {
   "cell_type": "markdown",
   "metadata": {},
   "source": [
    "# パーセプトロン (Perceptron)"
   ]
  },
  {
   "cell_type": "markdown",
   "metadata": {},
   "source": [
    "- 1957年に心理学者Rosenblattによって考案されたアルゴリズム\n",
    "- パーセプトロンは複数の「信号」を入力として受け取り、1つのん信号を出力する\n",
    "- ここでいう「信号」は、電流や川のような「流れ」を持つモノというイメージで、電流が導線を流れ、電子を先に送り出すように、パーセプトロンも流れを作り、情報を先へと伝達する\n",
    "- ただし、実際の電流とは異なり、パーセプトロンの信号は、「流す (1) or 流さない (0)」の二値の値をとる"
   ]
  },
  {
   "cell_type": "markdown",
   "metadata": {},
   "source": [
    "### 図2-1 2入力のパーセプトロン\n",
    "\n",
    "<pre>\n",
    "[x1] ----- w1 -----\n",
    "                             |\n",
    "                             -----> [y]  \n",
    "                             |  \n",
    "[x2] ----- w2 -----  \n",
    "</pre>"
   ]
  },
  {
   "cell_type": "markdown",
   "metadata": {},
   "source": [
    "- x1, x2: 入力信号\n",
    "- y: 出力信号\n",
    "- w1, w2: 重み (weight)\n",
    "- []: ニューロン、ノード *実際は○で記述"
   ]
  },
  {
   "cell_type": "markdown",
   "metadata": {},
   "source": [
    "- 入力信号は、ニューロンに送られる際に、固有の重みが乗算される\n",
    "    - w1x1\n",
    "    - w2x2\n",
    "- この重みは各信号の重要性をコントロールするための要素として働き、重みが大きいほど対応する信号の重要性は増す\n",
    "    - 重みは電流でいうところの「抵抗」に相当し、電流の流れに草を決めるパラメータで、抵抗が低いほど大きな電流が流れる\n",
    "    - パーセプトロンでは逆で、重みが大きいほど大きな信号が流れる\n",
    "- ニューロンでは、送られてきた信号の総和が計算され、その総和がある限界値を超えた場合にのみ1を出力\n",
    "    - これを「ニューロンが発火する」と表現することもある\n",
    "    - ここでは限界値は閾値と呼び、θ(theta)で表す"
   ]
  },
  {
   "cell_type": "markdown",
   "metadata": {},
   "source": [
    "#### パーセプトロンの動作原理の数式\n",
    "\n",
    "$$\n",
    "    y =\n",
    "        \\begin{cases}\n",
    "            0 \\quad w1x1+w2x2 \\leqq θ \\\\\n",
    "            1 \\quad w1x1+w2x2 > θ \\\\\n",
    "        \\end{cases}\n",
    "$$"
   ]
  },
  {
   "cell_type": "markdown",
   "metadata": {},
   "source": [
    "## 単純な論理回路"
   ]
  },
  {
   "cell_type": "markdown",
   "metadata": {},
   "source": [
    "### ANDゲート"
   ]
  },
  {
   "cell_type": "markdown",
   "metadata": {},
   "source": [
    "### 図2-2 ANDゲートの真理値表 \n",
    "| x1 | x2 | |: | y |\n",
    "|---|:---:| |: |---:|\n",
    "| 0 | 0 | |: | 0 |\n",
    "| 1 | 0 | |: | 0 |\n",
    "| 0 | 1 | |: | 0 |\n",
    "| 1 | 1 | |: | 1 |"
   ]
  },
  {
   "cell_type": "markdown",
   "metadata": {},
   "source": [
    "- 真理値表を満たすように、w1, w2, θの値を決めるだけで、パーセプトロンを表現できる\n",
    "- 各パラメータの選び方は無限で、下記はいずれもANDゲートの条件を満たす\n",
    "    - (w1, w2, θ) = (0.5, 0.5, 0.7)\n",
    "    - (w1, w2, θ) = (0.5, 0.5, 0.8)\n",
    "    - (w1, w2, θ) = (1.0, 1.0, 1.0)\n",
    "- こうしたパラメータを設定すれば、x1, x2の両方が1の時だけ、重み月信号の総和が、与えられた閾値を上回る"
   ]
  },
  {
   "cell_type": "markdown",
   "metadata": {},
   "source": [
    "### NAND (Not AND) ゲート"
   ]
  },
  {
   "cell_type": "markdown",
   "metadata": {},
   "source": [
    "- NANDゲート: ANDの出力を逆にしたもの\n",
    "\n",
    "### 図2-3 NANDゲートの真理値表 \n",
    "| x1 | x2 | |: | y |\n",
    "|---|:---:| |: |---:|\n",
    "| 0 | 0 | |: | 1 |\n",
    "| 1 | 0 | |: | 1 |\n",
    "| 0 | 1 | |: | 1 |\n",
    "| 1 | 1 | |: | 0 |"
   ]
  },
  {
   "cell_type": "markdown",
   "metadata": {},
   "source": [
    "- NANDゲートを表現する場合の例\n",
    "    - (w1, w2, θ) = (-0.5, -0.5, -0.7)\n",
    "- ANDゲートを実現するパラメータの値に対して、それらの符号を全て反転するだけ"
   ]
  },
  {
   "cell_type": "markdown",
   "metadata": {},
   "source": [
    "### ORゲート"
   ]
  },
  {
   "cell_type": "markdown",
   "metadata": {},
   "source": [
    "- 入力信号の少なくとも1つが1であれば、出力が1になる\n",
    "\n",
    "### 図2-4 ORゲートの真理値表 \n",
    "| x1 | x2 | |: | y |\n",
    "|---|:---:| |: |---:|\n",
    "| 0 | 0 | |: | 0 |\n",
    "| 1 | 0 | |: | 1 |\n",
    "| 0 | 1 | |: | 1 |\n",
    "| 1 | 1 | |: | 1 |"
   ]
  },
  {
   "cell_type": "markdown",
   "metadata": {},
   "source": [
    "## ポイント"
   ]
  },
  {
   "cell_type": "markdown",
   "metadata": {},
   "source": [
    "- 「学習」とは、適切なパラメータを決める作業\n",
    "    　- 人が行う作業: パーセプトロンの構造(モデル)を考え、コンピュータに学習データを与えること\n",
    "    - コンピュータが行う作業: パラメータの値を決める\n",
    "- パーセプトロンの構造は、AND/NAND/ORゲートの全てで同じで、異なるのはパラメータ(重みと閾値)のみ"
   ]
  },
  {
   "cell_type": "markdown",
   "metadata": {},
   "source": [
    "## パーセプトロンの実装"
   ]
  },
  {
   "cell_type": "markdown",
   "metadata": {},
   "source": [
    "### ANDゲートの実装"
   ]
  },
  {
   "cell_type": "code",
   "execution_count": 1,
   "metadata": {},
   "outputs": [],
   "source": [
    "def AND(x1, x2):\n",
    "    w1, w2, theta = 0.5, 0.5, 0.7\n",
    "    tmp= x1*w1 + x2*w2\n",
    "    if tmp <= theta:\n",
    "        return 0\n",
    "    elif tmp > theta:\n",
    "        return 1"
   ]
  },
  {
   "cell_type": "code",
   "execution_count": 2,
   "metadata": {},
   "outputs": [
    {
     "data": {
      "text/plain": [
       "0"
      ]
     },
     "execution_count": 2,
     "metadata": {},
     "output_type": "execute_result"
    }
   ],
   "source": [
    "AND(0, 0) # 0を出力"
   ]
  },
  {
   "cell_type": "code",
   "execution_count": 3,
   "metadata": {},
   "outputs": [
    {
     "data": {
      "text/plain": [
       "0"
      ]
     },
     "execution_count": 3,
     "metadata": {},
     "output_type": "execute_result"
    }
   ],
   "source": [
    "AND(1, 0) # 0を出力"
   ]
  },
  {
   "cell_type": "code",
   "execution_count": 4,
   "metadata": {},
   "outputs": [
    {
     "data": {
      "text/plain": [
       "0"
      ]
     },
     "execution_count": 4,
     "metadata": {},
     "output_type": "execute_result"
    }
   ],
   "source": [
    "AND(0, 1) # 0を出力"
   ]
  },
  {
   "cell_type": "code",
   "execution_count": 5,
   "metadata": {},
   "outputs": [
    {
     "data": {
      "text/plain": [
       "1"
      ]
     },
     "execution_count": 5,
     "metadata": {},
     "output_type": "execute_result"
    }
   ],
   "source": [
    "AND(1, 1) # 1を出力"
   ]
  },
  {
   "cell_type": "markdown",
   "metadata": {},
   "source": [
    "### 重みとバイアスの導入"
   ]
  },
  {
   "cell_type": "markdown",
   "metadata": {},
   "source": [
    "$$\n",
    "    y =\n",
    "        \\begin{cases}\n",
    "            0 \\quad (b+w1x1+w2x2 \\leqq 0) \\\\\n",
    "            1 \\quad (b+w1x1+w2x2 > 0) \\\\\n",
    "        \\end{cases}\n",
    "$$"
   ]
  },
  {
   "cell_type": "markdown",
   "metadata": {},
   "source": [
    "- b: bias, バイアス\n",
    "    - 発火のしやすさ(出力信号が1を出力する度合い)を調整いするパラメータ\n",
    "    - 「下駄履き」という意味があり、入力が何もない時(入力が0の時)、出力にどれだけ下駄を履かせるか(値を上乗せするか)を意味する\n",
    "- w1, w2: weight, 重み\n",
    "- 上述の数式において、パーセプトロンは、入力信号に重みが乗算された値とバイアスの和が計算する\n",
    "    - その和が０を上回る　--> 1を出力\n",
    "    - その和が０以下 --> 0を出力"
   ]
  },
  {
   "cell_type": "code",
   "execution_count": 6,
   "metadata": {},
   "outputs": [],
   "source": [
    "import numpy as np"
   ]
  },
  {
   "cell_type": "code",
   "execution_count": 7,
   "metadata": {},
   "outputs": [],
   "source": [
    "x = np.array([0, 1]) # 入力\n",
    "w = np.array([0.5, 0.5]) # 重み\n",
    "b = -0.7 # バイアス"
   ]
  },
  {
   "cell_type": "code",
   "execution_count": 8,
   "metadata": {},
   "outputs": [
    {
     "data": {
      "text/plain": [
       "array([0. , 0.5])"
      ]
     },
     "execution_count": 8,
     "metadata": {},
     "output_type": "execute_result"
    }
   ],
   "source": [
    "w * x"
   ]
  },
  {
   "cell_type": "code",
   "execution_count": 9,
   "metadata": {},
   "outputs": [
    {
     "data": {
      "text/plain": [
       "0.5"
      ]
     },
     "execution_count": 9,
     "metadata": {},
     "output_type": "execute_result"
    }
   ],
   "source": [
    "np.sum(w*x) # 各要素の総和"
   ]
  },
  {
   "cell_type": "code",
   "execution_count": 10,
   "metadata": {},
   "outputs": [
    {
     "data": {
      "text/plain": [
       "-0.19999999999999996"
      ]
     },
     "execution_count": 10,
     "metadata": {},
     "output_type": "execute_result"
    }
   ],
   "source": [
    "np.sum(w*x) + b # 浮動小数点による演算誤差のため、最後が6になっている"
   ]
  },
  {
   "cell_type": "markdown",
   "metadata": {},
   "source": [
    "### 重みとバイアスによる実装"
   ]
  },
  {
   "cell_type": "code",
   "execution_count": 21,
   "metadata": {},
   "outputs": [],
   "source": [
    "def AND(x1, x2):\n",
    "    x = np.array([x1, x2])\n",
    "    w = np.array([0.5, 0.5])\n",
    "    b = -0.7\n",
    "    tmp = np.sum(w*x) + b\n",
    "    if tmp <= 0:\n",
    "        return 0\n",
    "    else:\n",
    "        return 1"
   ]
  },
  {
   "cell_type": "markdown",
   "metadata": {},
   "source": [
    "### NANDゲートとORゲートの実装"
   ]
  },
  {
   "cell_type": "code",
   "execution_count": 22,
   "metadata": {},
   "outputs": [],
   "source": [
    "def NAND(x1, x2):\n",
    "    x = np.array([x1, x2])\n",
    "    w = np.array([-0.5, -0.5]) # 重みとバイアスだけがANDと違う！\n",
    "    b = 0.7\n",
    "    tmp = np.sum(w*x) + b\n",
    "    if tmp <= 0:\n",
    "        return 0\n",
    "    else:\n",
    "        return 1"
   ]
  },
  {
   "cell_type": "code",
   "execution_count": 23,
   "metadata": {},
   "outputs": [],
   "source": [
    "def OR(x1, x2):\n",
    "    x = np.array([x1, x2])\n",
    "    w = np.array([0.5, 0.5]) # 重みとバイアスだけがANDと違う！\n",
    "    b = -0.2\n",
    "    tmp = np.sum(w*x) + b\n",
    "    if tmp <= 0:\n",
    "        return 0\n",
    "    else:\n",
    "        return 1"
   ]
  },
  {
   "cell_type": "markdown",
   "metadata": {},
   "source": [
    "## パーセプトロンの限界"
   ]
  },
  {
   "cell_type": "markdown",
   "metadata": {},
   "source": [
    "### XORゲート (排他的論理和)"
   ]
  },
  {
   "cell_type": "markdown",
   "metadata": {},
   "source": [
    "| x1 | x2 | |: | y |\n",
    "|---|:---:| |: |---:|\n",
    "| 0 | 0 | |: | 0 |\n",
    "| 1 | 0 | |: | 1 |\n",
    "| 0 | 1 | |: | 1 |\n",
    "| 1 | 1 | |: | 0 |"
   ]
  },
  {
   "cell_type": "markdown",
   "metadata": {},
   "source": [
    "- どちらかが1の時のみ1を出力\n",
    "\n",
    "$$\n",
    "    y =\n",
    "        \\begin{cases}\n",
    "            0 \\quad (-0.5+w1x1+w2x2 \\leqq 0) \\\\\n",
    "            1 \\quad (-0.5+w1x1+w2x2 > 0) \\\\\n",
    "        \\end{cases}\n",
    "$$\n",
    "\n",
    "- パーセプトロンの限界は1本の直線で分けた**線形**の領域しか表現できないこと\n",
    "    - 正確には、「単層のパーセプトロンではXORを表現できない」、または、「単層のパーセプトロンでは非線形領域は分類できない」\n",
    "- XORゲートを表現するには、**非線形**な領域を作る必要がある"
   ]
  },
  {
   "cell_type": "markdown",
   "metadata": {},
   "source": [
    "## 多層パーセプトロン (Multi-Layered Perceptron)"
   ]
  },
  {
   "cell_type": "markdown",
   "metadata": {},
   "source": [
    "- パーセプトロンは、**層を重ねる**ことができ、そうすることで、XORを表現できるようになる\n",
    "\n",
    "<pre>\n",
    "x1-----(NAND)-----s1-----  \n",
    "   \\    /                                |  \n",
    "     \\/                                  -----(AND)---> y  \n",
    "     / \\                                 |    \n",
    "    /    \\                               |  \n",
    "x2-----  (OR)  -----s2-----\n",
    "</pre>\n",
    "\n",
    "| x1 | x2 | |: | s1 | s2 | |: | y |\n",
    "|---|:---:| |: | ---: | --: | |: |---:|\n",
    "| 0 | 0 | |: | 1 | 0 | |: | 0 |\n",
    "| 1 | 0 | |: | 1 | 1 | |: | 1 |\n",
    "| 0 | 1 | |: | 1 | 1 | |: | 1 |\n",
    "| 1 | 1 | |: | 0 | 1 | |: | 0 |"
   ]
  },
  {
   "cell_type": "markdown",
   "metadata": {},
   "source": [
    "### XORゲートの実装"
   ]
  },
  {
   "cell_type": "code",
   "execution_count": 24,
   "metadata": {},
   "outputs": [],
   "source": [
    "def XOR(x1, x2):\n",
    "    s1 = NAND(x1, x2)\n",
    "    s2 = OR(x1, x2)\n",
    "    y = AND(s1, s2)\n",
    "    return y"
   ]
  },
  {
   "cell_type": "code",
   "execution_count": 25,
   "metadata": {},
   "outputs": [
    {
     "data": {
      "text/plain": [
       "0"
      ]
     },
     "execution_count": 25,
     "metadata": {},
     "output_type": "execute_result"
    }
   ],
   "source": [
    "XOR(0, 0) # 0を出力"
   ]
  },
  {
   "cell_type": "code",
   "execution_count": 26,
   "metadata": {},
   "outputs": [
    {
     "data": {
      "text/plain": [
       "1"
      ]
     },
     "execution_count": 26,
     "metadata": {},
     "output_type": "execute_result"
    }
   ],
   "source": [
    "XOR(1, 0) # 1を出力"
   ]
  },
  {
   "cell_type": "code",
   "execution_count": 27,
   "metadata": {},
   "outputs": [
    {
     "data": {
      "text/plain": [
       "1"
      ]
     },
     "execution_count": 27,
     "metadata": {},
     "output_type": "execute_result"
    }
   ],
   "source": [
    "XOR(0, 1) # 1を出力"
   ]
  },
  {
   "cell_type": "code",
   "execution_count": 28,
   "metadata": {},
   "outputs": [
    {
     "data": {
      "text/plain": [
       "0"
      ]
     },
     "execution_count": 28,
     "metadata": {},
     "output_type": "execute_result"
    }
   ],
   "source": [
    "XOR(1, 1) # 0を出力"
   ]
  },
  {
   "cell_type": "markdown",
   "metadata": {},
   "source": [
    "### 図2-13 XORのパーセプトロンによる表記\n",
    "\n",
    "<pre>\n",
    "第0層　　　　　　第1層              第2層\n",
    "[x1] ----- [s1] -----\n",
    "        \\   /                 |\n",
    "         \\/                   -----> [y]  \n",
    "         / \\                  |  \n",
    "        /    \\                |  \n",
    "[x2] ----- [s2] -----  \n",
    "</pre>"
   ]
  },
  {
   "cell_type": "markdown",
   "metadata": {},
   "source": [
    "- パーセプトロンは合計で3層から構成されているが、重みを持つ層は実質2層(第0層と第1層の間、第1層と第2層の間)だから「2層のパーセプトロン」と呼ぶ\n",
    "    - 重みを持つ層の組み合わせ(第0層と第1層の間、第1層と第2層の間)をDenseと呼ぶ\n",
    "- 文献により、3層のパーセプトロンとも呼ばれる\n",
    "- 信号の送受信の流れは以下の通り\n",
    "    1. 第0層の2つのニューロンが入力信号を受け取り、第1層のニューロンへ信号を送る\n",
    "    2. 第1層のニューロンが第2層のニューロンへ信号を送り、第2層のニューロンはyを出力する"
   ]
  },
  {
   "cell_type": "markdown",
   "metadata": {},
   "source": [
    "## 発展学習"
   ]
  },
  {
   "cell_type": "markdown",
   "metadata": {},
   "source": [
    "- 「コンピュータシステムの理論と実装---モダンなコンピュータの作り方」: NANDゲートの組み合わせだけからコンピュータが作れる(パーセプトロンの組み合わせだけで表現できる)ことを理解するために、「NANDからテトリスへ」を標語の元、実際にNANDからテトリスが動くコンピュータを作る本"
   ]
  },
  {
   "cell_type": "code",
   "execution_count": null,
   "metadata": {},
   "outputs": [],
   "source": []
  }
 ],
 "metadata": {
  "kernelspec": {
   "display_name": "Python 3",
   "language": "python",
   "name": "python3"
  },
  "language_info": {
   "codemirror_mode": {
    "name": "ipython",
    "version": 3
   },
   "file_extension": ".py",
   "mimetype": "text/x-python",
   "name": "python",
   "nbconvert_exporter": "python",
   "pygments_lexer": "ipython3",
   "version": "3.7.3"
  }
 },
 "nbformat": 4,
 "nbformat_minor": 2
}
