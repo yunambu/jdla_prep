{
 "cells": [
  {
   "cell_type": "markdown",
   "metadata": {
    "collapsed": false
   },
   "source": [
    "<h2><img src=\"../day1/coding hive logo med with text.png\" height=\"60\" width =\"47\"> Coding a Neural Network 2: The 6ix Prediction!</h3>"
   ]
  },
  {
   "cell_type": "markdown",
   "metadata": {
    "collapsed": false
   },
   "source": [
    "<h3>Step 1: Load Required Libraries</h3>"
   ]
  },
  {
   "cell_type": "code",
   "execution_count": 1,
   "metadata": {
    "collapsed": false
   },
   "outputs": [
    {
     "name": "stderr",
     "output_type": "stream",
     "text": [
      "/usr/local/lib/python3.6/dist-packages/h5py/__init__.py:36: FutureWarning: Conversion of the second argument of issubdtype from `float` to `np.floating` is deprecated. In future, it will be treated as `np.float64 == np.dtype(float).type`.\n",
      "  from ._conv import register_converters as _register_converters\n",
      "Using TensorFlow backend.\n"
     ]
    }
   ],
   "source": [
    "import keras                               # deep learning package\n",
    "from keras.datasets import mnist           # dataset we will use to train our model\n",
    "from keras.layers import Dense             # a neural network function\n",
    "from keras.models import Sequential        # a neural network function\n",
    "from keras.optimizers import SGD           # a neural network function\n",
    "import matplotlib.pyplot as plt            # visualize images\n",
    "from keras.preprocessing import image      # preprocess images\n",
    "from PIL import Image                      # preprocess images\n",
    "import PIL.ImageOps                        # invert images\n",
    "from keras.models import load_model        # import a model that was already trained"
   ]
  },
  {
   "cell_type": "markdown",
   "metadata": {
    "collapsed": false
   },
   "source": [
    "<h3>Step 2: Load Your Image</h3>"
   ]
  },
  {
   "cell_type": "code",
   "execution_count": 3,
   "metadata": {
    "collapsed": false
   },
   "outputs": [
    {
     "name": "stdout",
     "output_type": "stream",
     "text": [
      "(28, 28)\n"
     ]
    }
   ],
   "source": [
    "img = image.load_img(path=\"/home/user/data/six_digit.jpg\",color_mode='grayscale',target_size=(28,28))   #load image as grayscale\n",
    "img = PIL.ImageOps.invert(img)                                                           #invert image\n",
    "\n",
    "img = image.img_to_array(img)                                                            #convert to array\n",
    "img = img.reshape((28,28))                                                               #reshape array\n",
    "print(img.shape)                                                                         #display image shape"
   ]
  },
  {
   "cell_type": "code",
   "execution_count": 4,
   "metadata": {
    "collapsed": false
   },
   "outputs": [
    {
     "data": {
      "text/plain": [
       "array([[  0.,   0.,   0.,   0.,   0.,   0.,   0.,   0.,   0.,   0.,   0.,\n",
       "          0.,   0.,   0.,   0.,   0.,   0.,   0.,   0.,   0.,   0.,   0.,\n",
       "          0.,   0.,   0.,   0.,   0.,   0.],\n",
       "       [  0.,   0.,   0.,   0.,   0.,   0.,   0.,   0.,   0.,   0.,   0.,\n",
       "          0.,   0.,   0.,   0.,   0.,   0.,   0.,   0.,   0.,   0.,   0.,\n",
       "          0.,   0.,   0.,   0.,   0.,   0.],\n",
       "       [  0.,   0.,   0.,   0.,   0.,   0.,   0.,   0.,   0.,   0.,   0.,\n",
       "          0.,   0.,   0.,   0.,   0.,   0.,   0.,   0.,   0.,   0.,   0.,\n",
       "          0.,   0.,   0.,   0.,   0.,   0.],\n",
       "       [  0.,   0.,   0.,   0.,   0.,   0.,   0.,   0.,   0.,   0.,   0.,\n",
       "          0.,   0.,   0.,   0.,   0.,   0.,   0.,   0.,   0.,   0.,   0.,\n",
       "          0.,   0.,   0.,   0.,   0.,   0.],\n",
       "       [  0.,   0.,   0.,   0.,   0.,   0.,   0.,   0.,   0.,   0.,   0.,\n",
       "          0.,   0.,   0.,   0.,   0.,   0.,   0.,   0.,   0.,   0.,   0.,\n",
       "          0.,   0.,   0.,   0.,   0.,   0.],\n",
       "       [  0.,   0.,   0.,   0.,   0.,   0.,   0.,   0.,   0.,   0.,   0.,\n",
       "          0., 134.,   0.,   0.,   0.,   0.,   0.,   0.,   0.,   0.,   0.,\n",
       "          0.,   0.,   0.,   0.,   0.,   0.],\n",
       "       [  0.,   0.,   0.,   0.,   0.,   0.,   0.,   0.,   0.,   0.,   0.,\n",
       "          3., 182.,   0.,   0.,   0.,   0.,   0.,   0.,   0.,   0.,   0.,\n",
       "          0.,   0.,   0.,   0.,   0.,   0.],\n",
       "       [  0.,   0.,   0.,   0.,   0.,   0.,   0.,   0.,   0.,   0.,   0.,\n",
       "        117., 187.,   0.,   0.,   0.,   0.,   0.,   0.,   0.,   0.,   0.,\n",
       "          0.,   0.,   0.,   0.,   0.,   0.],\n",
       "       [  0.,   0.,   0.,   0.,   0.,   0.,   0.,   0.,   0.,   0.,   1.,\n",
       "        201., 175.,   0.,   0.,   0.,   0.,   0.,   0.,   0.,   0.,   0.,\n",
       "          0.,   0.,   0.,   0.,   0.,   0.],\n",
       "       [  0.,   0.,   0.,   0.,   0.,   0.,   0.,   0.,   0.,   0.,   0.,\n",
       "        176.,  92.,   0.,   0.,   0.,   0.,   0.,   0.,   0.,   0.,   0.,\n",
       "          0.,   0.,   0.,   0.,   0.,   0.],\n",
       "       [  0.,   0.,   0.,   0.,   0.,   0.,   0.,   0.,   0.,   0.,   1.,\n",
       "        189.,   0.,   0.,   0.,   0.,   0.,   0.,   0.,   0.,   0.,   0.,\n",
       "          0.,   0.,   0.,   0.,   0.,   0.],\n",
       "       [  0.,   0.,   0.,   0.,   0.,   0.,   0.,   0.,   0.,   0.,  72.,\n",
       "        157.,   0.,   0.,   0.,   0.,   0.,   0.,   0.,   0.,   0.,   0.,\n",
       "          0.,   0.,   0.,   0.,   0.,   0.],\n",
       "       [  0.,   0.,   0.,   0.,   0.,   0.,   0.,   0.,   0.,   0., 149.,\n",
       "        153.,   0.,   0.,   0.,   0.,   0.,   0.,   0.,   0.,   0.,   0.,\n",
       "          0.,   0.,   0.,   0.,   0.,   0.],\n",
       "       [  0.,   0.,   0.,   0.,   0.,   0.,   0.,   0.,   0.,   0., 169.,\n",
       "        129.,   0.,   0.,   0.,   0.,   0.,   0.,   0.,   0.,   0.,   0.,\n",
       "          0.,   0.,   0.,   0.,   0.,   0.],\n",
       "       [  0.,   0.,   0.,   0.,   0.,   0.,   0.,   0.,   0.,   0., 211.,\n",
       "         30.,   0.,   0.,   0.,   0.,   0.,   0.,   0.,   0.,   0.,   0.,\n",
       "          0.,   0.,   0.,   0.,   0.,   0.],\n",
       "       [  0.,   0.,   0.,   0.,   0.,   0.,   0.,   0.,   0.,   0., 182.,\n",
       "          4.,   0.,   0.,   0.,   1.,  24.,  50.,   0.,   0.,   0.,   0.,\n",
       "          0.,   0.,   0.,   0.,   0.,   0.],\n",
       "       [  0.,   0.,   0.,   0.,   0.,   0.,   0.,   0.,   0.,   1., 218.,\n",
       "          2.,   0.,  28., 142., 153., 180., 170., 174.,   0.,   0.,   0.,\n",
       "          0.,   0.,   0.,   0.,   0.,   0.],\n",
       "       [  0.,   0.,   0.,   0.,   0.,   0.,   0.,   0.,   0.,   2., 187.,\n",
       "          0.,  65., 156.,  92.,  14.,   0.,   0., 218.,   0.,   0.,   0.,\n",
       "          0.,   0.,   0.,   0.,   0.,   0.],\n",
       "       [  0.,   0.,   0.,   0.,   0.,   0.,   0.,   0.,   0.,   3., 177.,\n",
       "        100., 157.,  56.,   0.,   0.,   0.,   9., 220.,   0.,   0.,   0.,\n",
       "          0.,   0.,   0.,   0.,   0.,   0.],\n",
       "       [  0.,   0.,   0.,   0.,   0.,   0.,   0.,   0.,   0.,   7., 207.,\n",
       "        128.,  29.,   0.,   0.,   0.,   0.,  24., 191.,   0.,   0.,   0.,\n",
       "          0.,   0.,   0.,   0.,   0.,   0.],\n",
       "       [  0.,   0.,   0.,   0.,   0.,   0.,   0.,   0.,   0.,   4., 211.,\n",
       "         28.,   0.,   0.,   0.,   0.,   1., 158., 176.,   0.,   0.,   0.,\n",
       "          0.,   0.,   0.,   0.,   0.,   0.],\n",
       "       [  0.,   0.,   0.,   0.,   0.,   0.,   0.,   0.,   0.,   1., 197.,\n",
       "          0.,   0.,   0.,   0.,   0.,   7., 221.,  73.,   0.,   0.,   0.,\n",
       "          0.,   0.,   0.,   0.,   0.,   0.],\n",
       "       [  0.,   0.,   0.,   0.,   0.,   0.,   0.,   0.,   0.,   3., 164.,\n",
       "          0.,   0.,   0.,   0.,   0., 110., 173.,   0.,   0.,   0.,   0.,\n",
       "          0.,   0.,   0.,   0.,   0.,   0.],\n",
       "       [  0.,   0.,   0.,   0.,   0.,   0.,   0.,   0.,   0.,   6., 209.,\n",
       "          0.,   0.,   1.,   1.,  47., 189.,  95.,   0.,   0.,   0.,   0.,\n",
       "          0.,   0.,   0.,   0.,   0.,   0.],\n",
       "       [  0.,   0.,   0.,   0.,   0.,   0.,   0.,   0.,   0.,   0., 131.,\n",
       "        204., 163., 183., 180., 187., 154.,   0.,   0.,   0.,   0.,   0.,\n",
       "          0.,   0.,   0.,   0.,   0.,   0.],\n",
       "       [  0.,   0.,   0.,   0.,   0.,   0.,   0.,   0.,   0.,   0.,   1.,\n",
       "         23., 132., 169., 123.,  89.,   0.,   0.,   0.,   0.,   0.,   0.,\n",
       "          0.,   0.,   0.,   0.,   0.,   0.],\n",
       "       [  0.,   0.,   0.,   0.,   0.,   0.,   0.,   0.,   0.,   0.,   0.,\n",
       "          0.,   0.,   0.,   0.,   0.,   0.,   0.,   0.,   0.,   0.,   0.,\n",
       "          0.,   0.,   0.,   0.,   0.,   0.],\n",
       "       [  0.,   0.,   0.,   0.,   0.,   0.,   0.,   0.,   0.,   0.,   0.,\n",
       "          0.,   0.,   0.,   0.,   0.,   0.,   0.,   0.,   0.,   0.,   0.,\n",
       "          0.,   0.,   0.,   0.,   0.,   0.]], dtype=float32)"
      ]
     },
     "execution_count": 4,
     "metadata": {
     },
     "output_type": "execute_result"
    }
   ],
   "source": [
    "#let's look at image content\n",
    "img"
   ]
  },
  {
   "cell_type": "markdown",
   "metadata": {
    "collapsed": false
   },
   "source": [
    "<h3>Step 3: Display Your Image</h3>"
   ]
  },
  {
   "cell_type": "code",
   "execution_count": 6,
   "metadata": {
    "collapsed": false
   },
   "outputs": [
    {
     "data": {
      "text/plain": [
       "<matplotlib.image.AxesImage at 0x7fb36a1ab908>"
      ]
     },
     "execution_count": 6,
     "metadata": {
     },
     "output_type": "execute_result"
    },
    {
     "data": {
      "image/png": "[encoded data removed]",
      "text/plain": [
       "<Figure size 432x288 with 1 Axes>"
      ]
     },
     "execution_count": 6,
     "metadata": {
      "image/png": {
       "height": 250,
       "width": 253
      }
     },
     "output_type": "execute_result"
    }
   ],
   "source": [
    "plt.imshow(img)"
   ]
  },
  {
   "cell_type": "markdown",
   "metadata": {
    "collapsed": false
   },
   "source": [
    "<h3>Step 4: Reshape Your Image</h3>"
   ]
  },
  {
   "cell_type": "code",
   "execution_count": 5,
   "metadata": {
    "collapsed": false
   },
   "outputs": [
   ],
   "source": [
    "img = img.reshape((1,784)) #reshape it to 1x784 to prepare it for the model we developed"
   ]
  },
  {
   "cell_type": "markdown",
   "metadata": {
    "collapsed": false
   },
   "source": [
    "<h3>Step 5: Load The Trained Model</h3>"
   ]
  },
  {
   "cell_type": "code",
   "execution_count": 6,
   "metadata": {
    "collapsed": false
   },
   "outputs": [
    {
     "name": "stdout",
     "output_type": "stream",
     "text": [
      "WARNING:tensorflow:From /usr/local/lib/python3.6/dist-packages/tensorflow/python/framework/op_def_library.py:263: colocate_with (from tensorflow.python.framework.ops) is deprecated and will be removed in a future version.\n",
      "Instructions for updating:\n",
      "Colocations handled automatically by placer.\n"
     ]
    },
    {
     "name": "stdout",
     "output_type": "stream",
     "text": [
      "WARNING:tensorflow:From /usr/local/lib/python3.6/dist-packages/tensorflow/python/ops/math_ops.py:3066: to_int32 (from tensorflow.python.ops.math_ops) is deprecated and will be removed in a future version.\n",
      "Instructions for updating:\n",
      "Use tf.cast instead.\n"
     ]
    }
   ],
   "source": [
    "model = load_model('./mnistmodel.h5')     #load the model instead of re-running it from scratch!, .h5 file is encoded so you can open only by some specific editors\n",
    "#model.load_weights('./mnistmodel_weights.h5')"
   ]
  },
  {
   "cell_type": "markdown",
   "metadata": {
    "collapsed": false
   },
   "source": [
    "<h3>Step 6: Predict!</h3>"
   ]
  },
  {
   "cell_type": "code",
   "execution_count": 7,
   "metadata": {
    "collapsed": false
   },
   "outputs": [
    {
     "name": "stdout",
     "output_type": "stream",
     "text": [
      "Predicted Number:  [6]\n"
     ]
    }
   ],
   "source": [
    "prediction = model.predict_classes(img)  #predict the number! predict_classes is a final prediction\n",
    "print(\"Predicted Number: \",prediction)       #display the prediction"
   ]
  },
  {
   "cell_type": "code",
   "execution_count": 8,
   "metadata": {
    "collapsed": false
   },
   "outputs": [
    {
     "data": {
      "text/plain": [
       "array([[3.3657946e-06, 1.2456089e-10, 6.3545524e-10, 1.3518893e-10,\n",
       "        2.5409608e-09, 8.3549311e-03, 9.9163353e-01, 3.5869241e-10,\n",
       "        1.4103362e-08, 8.1011012e-06]], dtype=float32)"
      ]
     },
     "execution_count": 8,
     "metadata": {
     },
     "output_type": "execute_result"
    }
   ],
   "source": [
    "model.predict(img)                      #display the probability for each number"
   ]
  },
  {
   "cell_type": "markdown",
   "metadata": {
    "collapsed": false
   },
   "source": [
    "<h3>Assignment 3</h3>\n",
    "Try testing different pictures!"
   ]
  },
  {
   "cell_type": "markdown",
   "metadata": {
    "collapsed": false
   },
   "source": [
    "<div style=\"text-align: center;\"><img src=\"../day1/coding hive logo med with text.png\" height=\"60\" width=\"47\" />\n",
    "\n",
    "<div> 2019"
   ]
  },
  {
   "cell_type": "code",
   "execution_count": 15,
   "metadata": {
    "collapsed": false
   },
   "outputs": [
    {
     "name": "stdout",
     "output_type": "stream",
     "text": [
      "(28, 28)\n"
     ]
    }
   ],
   "source": [
    "img = image.load_img(path=\"/home/user/data/IMG_5077.jpg\",color_mode='grayscale',target_size=(28,28))   #load image as grayscale\n",
    "img = PIL.ImageOps.invert(img)                                                           #invert image\n",
    "\n",
    "img = image.img_to_array(img)                                                            #convert to array\n",
    "img = img.reshape((28,28))                                                               #reshape array\n",
    "print(img.shape)                                                                         #display image shape"
   ]
  },
  {
   "cell_type": "code",
   "execution_count": 16,
   "metadata": {
    "collapsed": false
   },
   "outputs": [
    {
     "data": {
      "text/plain": [
       "array([[ 32.,  29.,  32.,  29.,  28.,  30.,  30.,  30.,  30.,  27.,  28.,\n",
       "         30.,  26.,  27.,  27.,  29.,  25.,  22.,  15.,  18.,  23.,  27.,\n",
       "         27.,  23.,  21.,  22.,  26.,  37.],\n",
       "       [ 35.,  33.,  33.,  37.,  33.,  35.,  35.,  32.,  31.,  30.,  30.,\n",
       "         27.,  27.,  26.,  26.,  26.,  27.,  26.,  29.,  31.,  30.,  31.,\n",
       "         30.,  30.,  26.,  27.,  28.,  26.],\n",
       "       [ 39.,  44.,  46.,  49.,  45.,  43.,  38.,  41.,  34.,  31.,  33.,\n",
       "         30.,  31.,  31.,  27.,  29.,  27.,  26.,  30.,  26.,  29.,  31.,\n",
       "         33.,  31.,  30.,  27.,  25.,  30.],\n",
       "       [ 42.,  51.,  52.,  48.,  53.,  51.,  49.,  44.,  37.,  41.,  39.,\n",
       "         35.,  36.,  38.,  36.,  35.,  33.,  33.,  38.,  37.,  35.,  33.,\n",
       "         35.,  33.,  35.,  35.,  36.,  35.],\n",
       "       [ 44.,  49.,  57.,  55.,  56.,  58.,  54.,  52.,  55.,  50.,  49.,\n",
       "         52.,  47.,  47.,  48.,  50.,  46.,  43.,  43.,  48.,  46.,  49.,\n",
       "         48.,  47.,  45.,  50.,  46.,  43.],\n",
       "       [ 68.,  59.,  61.,  63.,  65.,  68.,  66.,  68.,  62.,  59.,  64.,\n",
       "         63.,  64.,  69.,  64.,  69.,  65.,  65.,  64.,  60.,  58.,  59.,\n",
       "         58.,  48.,  50.,  56.,  59.,  47.],\n",
       "       [ 66.,  59.,  68.,  63.,  58.,  66.,  70.,  78.,  76.,  74.,  76.,\n",
       "         86.,  86.,  92.,  90.,  89.,  91.,  72.,  69.,  66.,  63.,  60.,\n",
       "         68.,  62.,  59.,  61.,  60.,  50.],\n",
       "       [ 80.,  84.,  87.,  76.,  87.,  76.,  72.,  85.,  78.,  85.,  88.,\n",
       "        162.,  85., 104.,  71., 188.,  63.,  89.,  79.,  63.,  63.,  63.,\n",
       "         60.,  57.,  53.,  58.,  58.,  54.],\n",
       "       [ 72.,  86.,  96.,  94.,  95.,  91.,  88.,  81.,  75., 197., 191.,\n",
       "        172., 100., 134., 186.,  69.,  61.,  54.,  81.,  67.,  66.,  61.,\n",
       "         66.,  59.,  59.,  59.,  57.,  56.],\n",
       "       [ 60.,  76.,  67.,  72.,  82.,  92.,  80.,  75.,  71.,  72., 196.,\n",
       "         54.,  54.,  56.,  61., 142.,  91.,  56., 213.,  66.,  72.,  61.,\n",
       "         57.,  50.,  53.,  57.,  57.,  50.],\n",
       "       [ 70.,  69.,  77.,  80.,  82.,  79.,  79.,  84.,  74.,  71.,  58.,\n",
       "         64.,  59.,  57.,  57.,  59.,  47.,  51., 195.,  58.,  70.,  64.,\n",
       "         57.,  57.,  55.,  60.,  62.,  54.],\n",
       "       [ 89.,  74.,  84.,  88.,  82.,  81.,  86.,  82.,  76.,  76.,  68.,\n",
       "         59.,  57.,  61.,  60.,  57.,  57.,  59.,  93.,  70.,  56.,  59.,\n",
       "         59.,  59.,  58.,  62.,  58.,  57.],\n",
       "       [ 93.,  89.,  82.,  83.,  80.,  87.,  77.,  82.,  78.,  72.,  69.,\n",
       "         66.,  65.,  60.,  64.,  60.,  50., 145.,  51.,  35.,  54.,  59.,\n",
       "         64.,  59.,  66.,  65.,  65.,  65.],\n",
       "       [ 91.,  95.,  88.,  84.,  87.,  74.,  79.,  75.,  74.,  80.,  67.,\n",
       "         66.,  62.,  59.,  59.,  41.,  48.,  88.,  85.,  55.,  58.,  55.,\n",
       "         57.,  62.,  61.,  66.,  62.,  66.],\n",
       "       [ 88.,  94.,  92.,  85.,  87.,  82.,  84.,  75.,  74.,  74.,  64.,\n",
       "         66.,  58.,  57.,  55.,  42., 205., 170., 142., 175.,  61.,  61.,\n",
       "         67.,  69.,  64.,  67.,  65.,  65.],\n",
       "       [ 94., 103., 100.,  93.,  93.,  86.,  79.,  84.,  73.,  72.,  62.,\n",
       "         68.,  66.,  58.,  57.,  56.,  50.,  64.,  67., 134.,  74.,  71.,\n",
       "         78.,  69.,  64.,  71.,  76.,  73.],\n",
       "       [ 75.,  94., 100.,  97.,  92.,  85.,  80.,  81.,  76.,  74.,  75.,\n",
       "         68.,  70.,  65.,  65.,  72.,  69., 210.,  90.,  94.,  87.,  73.,\n",
       "         78.,  76.,  79.,  73.,  72.,  70.],\n",
       "       [ 84.,  84.,  87.,  92.,  89.,  86.,  78.,  67.,  65.,  64.,  65.,\n",
       "         72.,  75.,  73.,  67.,  70.,  71.,  82., 147.,  94.,  76.,  64.,\n",
       "         71.,  65.,  63.,  70.,  70.,  73.],\n",
       "       [ 81.,  87.,  90.,  87.,  88.,  75.,  69.,  72.,  66.,  75.,  79.,\n",
       "         79.,  72.,  73.,  67.,  68.,  81., 169.,  51., 154.,  92.,  62.,\n",
       "         68.,  61.,  59.,  60.,  62.,  63.],\n",
       "       [ 83.,  78.,  82.,  77.,  75.,  73.,  73.,  80.,  73.,  77., 111.,\n",
       "         59., 107., 181., 122., 197., 109.,  59.,  55.,  56.,  54.,  56.,\n",
       "         59.,  59.,  61.,  60.,  61.,  61.],\n",
       "       [ 96.,  93.,  85.,  85.,  83.,  73.,  76.,  81.,  73.,  69.,  64.,\n",
       "        171.,  94., 101.,  61., 194., 222.,  54.,  40.,  45.,  58.,  57.,\n",
       "         55.,  58.,  60.,  66.,  62.,  61.],\n",
       "       [ 99.,  96.,  98.,  91.,  88.,  84.,  82.,  82.,  79.,  73.,  70.,\n",
       "        180., 162.,  60.,  58.,  62.,  63.,  53.,  46.,  53.,  57.,  54.,\n",
       "         57.,  62.,  63.,  65.,  69.,  66.],\n",
       "       [102., 100., 100.,  98.,  99.,  91.,  92.,  86.,  89.,  85.,  85.,\n",
       "         87.,  83.,  82.,  78.,  77.,  72.,  66.,  61.,  60.,  64.,  63.,\n",
       "         66.,  67.,  70.,  68.,  73.,  73.],\n",
       "       [102., 102., 103., 101.,  98.,  92.,  94.,  93.,  89.,  91.,  95.,\n",
       "         95.,  91.,  85.,  84.,  84.,  80.,  75.,  68.,  62.,  61.,  64.,\n",
       "         65.,  68.,  75.,  71.,  71.,  77.],\n",
       "       [105., 109., 107., 102.,  99.,  97.,  98.,  93.,  93.,  96.,  94.,\n",
       "         91.,  95.,  97.,  94.,  90.,  83.,  77.,  66.,  62.,  66.,  60.,\n",
       "         65.,  65.,  75.,  73.,  75.,  69.],\n",
       "       [104., 104., 104., 104., 101., 100., 100., 101.,  99.,  95.,  98.,\n",
       "        101., 100.,  99., 103.,  99.,  95.,  82.,  77.,  63.,  70.,  70.,\n",
       "         69.,  72.,  71.,  72.,  73.,  72.],\n",
       "       [109., 104., 102., 102., 100., 105., 106., 100., 101., 103., 101.,\n",
       "        101., 103., 105., 105., 101., 101.,  90.,  84.,  79.,  72.,  69.,\n",
       "         70.,  70.,  70.,  75.,  72.,  76.],\n",
       "       [109., 108., 107., 108., 105., 104., 103., 106., 106., 107., 103.,\n",
       "        104., 106., 105., 105., 104., 100.,  97.,  92.,  82.,  77.,  76.,\n",
       "         78.,  70.,  71.,  73.,  75.,  71.]], dtype=float32)"
      ]
     },
     "execution_count": 16,
     "metadata": {
     },
     "output_type": "execute_result"
    }
   ],
   "source": [
    "img"
   ]
  },
  {
   "cell_type": "code",
   "execution_count": 17,
   "metadata": {
    "collapsed": false
   },
   "outputs": [
    {
     "data": {
      "text/plain": [
       "<matplotlib.image.AxesImage at 0x7fa85035be80>"
      ]
     },
     "execution_count": 17,
     "metadata": {
     },
     "output_type": "execute_result"
    },
    {
     "data": {
      "image/png": "[encoded data removed]",
      "text/plain": [
       "<Figure size 432x288 with 1 Axes>"
      ]
     },
     "execution_count": 17,
     "metadata": {
      "image/png": {
       "height": 250,
       "width": 253
      }
     },
     "output_type": "execute_result"
    }
   ],
   "source": [
    "plt.imshow(img)"
   ]
  },
  {
   "cell_type": "code",
   "execution_count": 18,
   "metadata": {
    "collapsed": false
   },
   "outputs": [
   ],
   "source": [
    "img = img.reshape((1,784))"
   ]
  },
  {
   "cell_type": "code",
   "execution_count": 20,
   "metadata": {
    "collapsed": false
   },
   "outputs": [
   ],
   "source": [
    "model = load_model('./mnistmodel.h5') "
   ]
  },
  {
   "cell_type": "code",
   "execution_count": 21,
   "metadata": {
    "collapsed": false
   },
   "outputs": [
    {
     "name": "stdout",
     "output_type": "stream",
     "text": [
      "Predicted Number:  [8]\n"
     ]
    }
   ],
   "source": [
    "prediction = model.predict_classes(img)  #predict the number! predict_classes is a final prediction\n",
    "print(\"Predicted Number: \",prediction)       #display the prediction"
   ]
  },
  {
   "cell_type": "code",
   "execution_count": 22,
   "metadata": {
    "collapsed": false
   },
   "outputs": [
    {
     "data": {
      "text/plain": [
       "array([[4.0330193e-09, 2.4598620e-10, 3.3747587e-02, 9.2431810e-03,\n",
       "        1.3942820e-09, 1.7947519e-07, 3.2759090e-05, 1.0503507e-07,\n",
       "        9.5696807e-01, 8.0931468e-06]], dtype=float32)"
      ]
     },
     "execution_count": 22,
     "metadata": {
     },
     "output_type": "execute_result"
    }
   ],
   "source": [
    "model.predict(img)                      #display the probability for each number"
   ]
  },
  {
   "cell_type": "code",
   "execution_count": 23,
   "metadata": {
    "collapsed": false
   },
   "outputs": [
    {
     "name": "stdout",
     "output_type": "stream",
     "text": [
      "(28, 28)\n"
     ]
    }
   ],
   "source": [
    "img = image.load_img(path=\"/home/user/data/IMG_5078.jpg\",color_mode='grayscale',target_size=(28,28))   #load image as grayscale\n",
    "img = PIL.ImageOps.invert(img)                                                           #invert image\n",
    "\n",
    "img = image.img_to_array(img)                                                            #convert to array\n",
    "img = img.reshape((28,28))                                                               #reshape array\n",
    "print(img.shape)                                                                         #display image shape"
   ]
  },
  {
   "cell_type": "code",
   "execution_count": 24,
   "metadata": {
    "collapsed": false
   },
   "outputs": [
    {
     "data": {
      "text/plain": [
       "array([[ 33.,  32.,  38.,  35.,  32.,  36.,  35.,  30.,  33.,  31.,  33.,\n",
       "         32.,  31.,  32.,  28.,  30.,  32.,  35.,  38.,  33.,  36.,  31.,\n",
       "         34.,  31.,  31.,  29.,  33.,  31.],\n",
       "       [ 36.,  36.,  35.,  37.,  37.,  36.,  36.,  36.,  32.,  30.,  32.,\n",
       "         33.,  35.,  31.,  36.,  33.,  34.,  36.,  32.,  35.,  34.,  34.,\n",
       "         37.,  34.,  33.,  32.,  30.,  33.],\n",
       "       [ 37.,  34.,  35.,  37.,  40.,  38.,  38.,  34.,  33.,  35.,  35.,\n",
       "         34.,  33.,  34.,  37.,  35.,  35.,  34.,  34.,  33.,  33.,  34.,\n",
       "         33.,  34.,  33.,  33.,  33.,  32.],\n",
       "       [ 37.,  38.,  42.,  40.,  41.,  40.,  36.,  38.,  36.,  40.,  37.,\n",
       "         37.,  35.,  32.,  33.,  34.,  33.,  33.,  36.,  36.,  36.,  33.,\n",
       "         33.,  36.,  35.,  35.,  34.,  36.],\n",
       "       [ 44.,  48.,  45.,  50.,  48.,  48.,  47.,  48.,  54.,  55.,  48.,\n",
       "         57.,  57.,  57.,  54.,  52.,  51.,  51.,  51.,  44.,  49.,  50.,\n",
       "         47.,  47.,  43.,  41.,  42.,  35.],\n",
       "       [ 63.,  64.,  67.,  64.,  60.,  65.,  66.,  68.,  61.,  70.,  71.,\n",
       "         83., 117.,  73., 192., 181.,  67.,  63.,  58.,  54.,  51.,  50.,\n",
       "         50.,  50.,  51.,  49.,  45.,  41.],\n",
       "       [ 77.,  76.,  77.,  73.,  79.,  73.,  73.,  76.,  78.,  84., 165.,\n",
       "         78.,  93., 142., 163., 173., 160., 175.,  95.,  64.,  62.,  64.,\n",
       "         63.,  61.,  62.,  59.,  54.,  43.],\n",
       "       [ 90.,  88.,  84.,  85.,  92.,  80.,  80.,  77.,  77., 195., 176.,\n",
       "        189.,  78.,  78., 167., 133.,  81.,  76., 101.,  77.,  68.,  66.,\n",
       "         67.,  67.,  63.,  65.,  56.,  47.],\n",
       "       [ 87.,  89.,  94.,  76.,  81.,  80.,  74.,  73.,  72., 115., 185.,\n",
       "        109.,  59.,  64.,  58.,  61., 187., 160.,  67.,  68.,  83.,  65.,\n",
       "         63.,  62.,  63.,  62.,  57.,  48.],\n",
       "       [ 85.,  85.,  83.,  84.,  85.,  82.,  85.,  77.,  72.,  66., 138.,\n",
       "         67.,  63.,  65.,  65.,  69.,  67.,  69.,  93., 185., 137.,  67.,\n",
       "         64.,  63.,  66.,  64.,  61.,  52.],\n",
       "       [ 79.,  82.,  87.,  88.,  87.,  84.,  79.,  83.,  75.,  75.,  72.,\n",
       "         71.,  60.,  66.,  66.,  67.,  74., 155., 175., 169.,  51.,  67.,\n",
       "         67.,  62.,  64.,  64.,  58.,  46.],\n",
       "       [ 66.,  60.,  68.,  72.,  71.,  77.,  74.,  73.,  69.,  74.,  71.,\n",
       "         71.,  74.,  70.,  78.,  77., 107., 130., 107.,  45.,  61.,  64.,\n",
       "         70.,  64.,  66.,  66.,  62.,  44.],\n",
       "       [ 52.,  62.,  66.,  72.,  68.,  62.,  71.,  72.,  72.,  70.,  75.,\n",
       "         75., 190., 158., 116., 139., 190., 177., 205.,  78.,  72.,  65.,\n",
       "         66.,  69.,  63.,  59.,  57.,  46.],\n",
       "       [ 56.,  63.,  72.,  69.,  73.,  69.,  71.,  67.,  79.,  72.,  72.,\n",
       "         70., 120.,  62.,  78., 170.,  82.,  70., 136.,  61.,  67.,  67.,\n",
       "         68.,  74.,  64.,  61.,  50.,  39.],\n",
       "       [ 67.,  69.,  80.,  73.,  69.,  71.,  76.,  78.,  77.,  70.,  69.,\n",
       "         65.,  63.,  56.,  51.,  58.,  58., 201.,  76.,  75.,  76.,  63.,\n",
       "         65.,  63.,  62.,  58.,  60.,  42.],\n",
       "       [ 69.,  70.,  76.,  74.,  73.,  73.,  81.,  80.,  73.,  66.,  60.,\n",
       "         67.,  66.,  61.,  59.,  55.,  57., 165.,  67.,  63., 140.,  66.,\n",
       "         63.,  65.,  63.,  59.,  58.,  46.],\n",
       "       [ 83.,  87.,  96.,  76.,  72.,  72.,  71.,  65.,  64.,  66.,  69.,\n",
       "         65.,  65.,  62.,  60.,  61.,  60., 130.,  51., 149.,  69.,  64.,\n",
       "         58.,  57.,  60.,  58.,  57.,  56.],\n",
       "       [ 83.,  87.,  78.,  80.,  82.,  73.,  67.,  68.,  64.,  68.,  71.,\n",
       "         75.,  67.,  73.,  64.,  69.,  62.,  70., 167.,  70.,  56.,  55.,\n",
       "         59.,  57.,  59.,  58.,  60.,  53.],\n",
       "       [ 78.,  77.,  71.,  72.,  67.,  69.,  70.,  71.,  69.,  77.,  77.,\n",
       "         72., 162., 176.,  49., 161., 107.,  70., 154., 175., 171.,  57.,\n",
       "         61.,  57.,  58.,  57.,  60.,  60.],\n",
       "       [ 74.,  69.,  67.,  66.,  63.,  57.,  66.,  67.,  67., 185., 120.,\n",
       "         73.,  86., 195.,  78., 160.,  57.,  79.,  54.,  43.,  48.,  54.,\n",
       "         60.,  57.,  58.,  63.,  64.,  56.],\n",
       "       [ 74.,  72.,  66.,  66.,  68.,  69.,  64.,  62.,  66., 179.,  64.,\n",
       "         56.,  78., 135.,  81., 167., 122.,  43.,  47.,  48.,  54.,  52.,\n",
       "         60.,  56.,  63.,  66.,  65.,  62.],\n",
       "       [ 78.,  81.,  75.,  70.,  74.,  67.,  70.,  68.,  70.,  59.,  61.,\n",
       "         52.,  56.,  50.,  50.,  50.,  51.,  47.,  56.,  56.,  54.,  59.,\n",
       "         62.,  66.,  69.,  69.,  68.,  69.],\n",
       "       [ 94.,  93.,  97.,  89.,  86.,  85.,  81.,  79.,  74.,  68.,  74.,\n",
       "         80.,  73.,  73.,  73.,  68.,  63.,  66.,  61.,  60.,  66.,  63.,\n",
       "         64.,  69.,  71.,  74.,  71.,  73.],\n",
       "       [105., 100., 107., 102.,  98., 100.,  94.,  92.,  92.,  93.,  92.,\n",
       "         92.,  92.,  90.,  90.,  90.,  88.,  81.,  78.,  70.,  68.,  67.,\n",
       "         65.,  72.,  75.,  74.,  76.,  77.],\n",
       "       [113., 118., 119., 116., 114., 112., 110., 105., 108., 107., 105.,\n",
       "        105., 104., 103., 102., 101.,  94.,  89.,  86.,  73.,  73.,  68.,\n",
       "         64.,  70.,  74.,  76.,  81.,  80.],\n",
       "       [115., 121., 125., 123., 124., 122., 118., 117., 116., 116., 117.,\n",
       "        115., 113., 115., 107., 106., 101.,  99.,  95.,  88.,  79.,  76.,\n",
       "         69.,  70.,  79.,  76.,  80.,  80.],\n",
       "       [128., 130., 125., 124., 122., 126., 123., 120., 121., 119., 119.,\n",
       "        120., 118., 115., 114., 111., 105., 102., 103.,  94.,  85.,  83.,\n",
       "         71.,  73.,  75.,  79.,  79.,  81.],\n",
       "       [124., 128., 127., 127., 123., 124., 122., 121., 121., 119., 120.,\n",
       "        117., 118., 114., 112., 111., 104., 109., 103.,  94.,  87.,  82.,\n",
       "         75.,  74.,  76.,  77.,  80.,  82.]], dtype=float32)"
      ]
     },
     "execution_count": 24,
     "metadata": {
     },
     "output_type": "execute_result"
    }
   ],
   "source": [
    "img"
   ]
  },
  {
   "cell_type": "code",
   "execution_count": 25,
   "metadata": {
    "collapsed": false
   },
   "outputs": [
    {
     "data": {
      "text/plain": [
       "<matplotlib.image.AxesImage at 0x7fa8383bf860>"
      ]
     },
     "execution_count": 25,
     "metadata": {
     },
     "output_type": "execute_result"
    },
    {
     "data": {
      "image/png": "[encoded data removed]",
      "text/plain": [
       "<Figure size 432x288 with 1 Axes>"
      ]
     },
     "execution_count": 25,
     "metadata": {
      "image/png": {
       "height": 250,
       "width": 253
      }
     },
     "output_type": "execute_result"
    }
   ],
   "source": [
    "plt.imshow(img)"
   ]
  },
  {
   "cell_type": "code",
   "execution_count": 26,
   "metadata": {
    "collapsed": false
   },
   "outputs": [
   ],
   "source": [
    "img = img.reshape((1,784))"
   ]
  },
  {
   "cell_type": "code",
   "execution_count": 27,
   "metadata": {
    "collapsed": false
   },
   "outputs": [
   ],
   "source": [
    "model = load_model('./mnistmodel.h5') "
   ]
  },
  {
   "cell_type": "code",
   "execution_count": 28,
   "metadata": {
    "collapsed": false
   },
   "outputs": [
    {
     "name": "stdout",
     "output_type": "stream",
     "text": [
      "Predicted Number:  [3]\n"
     ]
    }
   ],
   "source": [
    "prediction = model.predict_classes(img)  #predict the number! predict_classes is a final prediction\n",
    "print(\"Predicted Number: \",prediction)       #display the prediction"
   ]
  },
  {
   "cell_type": "code",
   "execution_count": 29,
   "metadata": {
    "collapsed": false
   },
   "outputs": [
    {
     "data": {
      "text/plain": [
       "array([[4.3390243e-13, 3.9157828e-09, 4.1752402e-03, 9.8554951e-01,\n",
       "        3.0176549e-11, 7.3645157e-10, 6.1034416e-10, 3.3723966e-06,\n",
       "        1.0270370e-02, 1.5271753e-06]], dtype=float32)"
      ]
     },
     "execution_count": 29,
     "metadata": {
     },
     "output_type": "execute_result"
    }
   ],
   "source": [
    "model.predict(img)                      #display the probability for each number"
   ]
  },
  {
   "cell_type": "code",
   "execution_count": 30,
   "metadata": {
    "collapsed": false
   },
   "outputs": [
    {
     "name": "stdout",
     "output_type": "stream",
     "text": [
      "(28, 28)\n"
     ]
    }
   ],
   "source": [
    "img = image.load_img(path=\"/home/user/data/IMG_5079.jpg\",color_mode='grayscale',target_size=(28,28))   #load image as grayscale\n",
    "img = PIL.ImageOps.invert(img)                                                           #invert image\n",
    "\n",
    "img = image.img_to_array(img)                                                            #convert to array\n",
    "img = img.reshape((28,28))                                                               #reshape array\n",
    "print(img.shape)                                                                         #display image shape"
   ]
  },
  {
   "cell_type": "code",
   "execution_count": 31,
   "metadata": {
    "collapsed": false
   },
   "outputs": [
    {
     "data": {
      "text/plain": [
       "array([[126., 128., 113., 114., 102.,  94.,  75.,  74.,  75.,  77.,  88.,\n",
       "         82.,  69.,  68.,  53.,  53.,  69.,  81.,  82.,  87.,  82.,  80.,\n",
       "         59.,  42.,  37.,  36.,  36.,  31.],\n",
       "       [125., 128., 124., 117., 107.,  93.,  81.,  74.,  70.,  79.,  88.,\n",
       "         88.,  68.,  70.,  60.,  59.,  59.,  81.,  85.,  88.,  84.,  76.,\n",
       "         65.,  47.,  37.,  37.,  35.,  33.],\n",
       "       [126., 124., 125., 118., 107.,  96.,  77.,  66.,  68.,  72.,  78.,\n",
       "         92.,  74.,  76.,  74.,  67.,  67.,  89.,  87.,  92.,  81.,  78.,\n",
       "         66.,  47.,  42.,  37.,  36.,  39.],\n",
       "       [127., 124., 121., 115., 107.,  88.,  76.,  67.,  62.,  72.,  78.,\n",
       "         78.,  70.,  81.,  64.,  74.,  70.,  87.,  85.,  77.,  85.,  75.,\n",
       "         63.,  52.,  39.,  38.,  37.,  36.],\n",
       "       [124., 126., 122., 117., 100.,  88.,  71.,  68.,  62.,  69.,  80.,\n",
       "         76.,  70.,  67.,  73.,  70.,  69.,  86.,  87.,  80.,  87.,  76.,\n",
       "         62.,  50.,  39.,  38.,  37.,  32.],\n",
       "       [125., 122., 120., 109.,  98.,  81.,  68.,  63.,  59.,  71.,  71.,\n",
       "         73.,  77.,  75.,  73.,  66.,  72.,  88.,  82.,  85.,  79.,  74.,\n",
       "         64.,  48.,  37.,  38.,  36.,  36.],\n",
       "       [121., 124., 120., 110.,  93.,  81.,  68.,  62.,  63.,  72.,  68.,\n",
       "         69.,  82.,  76.,  75.,  71.,  74.,  78.,  87.,  77.,  82.,  74.,\n",
       "         66.,  46.,  39.,  37.,  35.,  38.],\n",
       "       [124., 119., 116., 109.,  95.,  79.,  70.,  65.,  64.,  70.,  70.,\n",
       "         67.,  81.,  78.,  71.,  73.,  71.,  82.,  78.,  72.,  76.,  77.,\n",
       "         67.,  49.,  39.,  36.,  36.,  32.],\n",
       "       [122., 122., 115., 108.,  92.,  74.,  70.,  65.,  69.,  73.,  62.,\n",
       "         60.,  70.,  79.,  80.,  73.,  76.,  73.,  74.,  72.,  78.,  80.,\n",
       "         64.,  53.,  35.,  34.,  33.,  34.],\n",
       "       [121., 121., 116., 105.,  93.,  72.,  58., 179., 191.,  78.,  64.,\n",
       "         66.,  67.,  70.,  73.,  71.,  77.,  74.,  68., 145., 201.,  86.,\n",
       "         70.,  53.,  38.,  33.,  30.,  30.],\n",
       "       [119., 119., 115., 108.,  91.,  75.,  60.,  62., 168.,  78.,  70.,\n",
       "         67.,  64.,  71.,  72.,  71.,  75.,  71., 157., 189., 179., 160.,\n",
       "         71.,  49.,  36.,  35.,  32.,  32.],\n",
       "       [115., 118., 115., 105.,  88.,  74.,  52.,  54.,  72.,  70.,  76.,\n",
       "         63.,  67.,  68.,  68.,  79.,  72.,  70.,  67., 167., 188.,  89.,\n",
       "         85.,  55.,  36.,  35.,  32.,  34.],\n",
       "       [118., 117., 115., 104.,  90.,  70.,  51.,  77., 111., 147.,  71.,\n",
       "         66.,  67.,  65., 170., 198.,  73.,  65.,  65.,  64.,  78.,  92.,\n",
       "         88.,  56.,  35.,  34.,  35.,  32.],\n",
       "       [118., 115., 111., 101.,  93.,  69.,  45.,  72., 190., 165.,  72.,\n",
       "         62.,  63.,  56.,  62., 176.,  80.,  63.,  68.,  62.,  69., 101.,\n",
       "         83.,  56.,  32.,  35.,  33.,  30.],\n",
       "       [110., 114., 108.,  99.,  92.,  72.,  47.,  74.,  77.,  67.,  63.,\n",
       "         64.,  60.,  51., 113.,  96.,  78.,  74.,  66.,  62., 167., 165.,\n",
       "        190.,  54.,  32.,  35.,  36.,  32.],\n",
       "       [111., 106., 107., 100.,  87.,  67.,  52., 166., 156., 150.,  65.,\n",
       "         59.,  55.,  56., 141., 142.,  77.,  65.,  68.,  65., 156., 175.,\n",
       "        180.,  51.,  34.,  35.,  32.,  31.],\n",
       "       [108., 105., 101.,  92.,  83.,  65.,  48., 106.,  53., 174.,  62.,\n",
       "         58.,  55.,  63.,  55., 202., 165.,  74.,  66., 180., 102., 172.,\n",
       "         66.,  54.,  34.,  37.,  32.,  34.],\n",
       "       [107., 103., 102.,  90.,  83.,  68.,  49.,  44.,  65.,  64.,  84.,\n",
       "        126., 183., 195.,  69., 172., 139., 148.,  67., 157.,  57., 173.,\n",
       "         64.,  49.,  34.,  30.,  36.,  34.],\n",
       "       [106., 102.,  95.,  87.,  79.,  60.,  52.,  50.,  56., 157., 162.,\n",
       "         37.,  60.,  78.,  89., 222., 105., 180.,  87.,  70.,  94.,  80.,\n",
       "         58.,  48.,  34.,  33.,  36.,  36.],\n",
       "       [ 95.,  93.,  84.,  75.,  70.,  59.,  54.,  48.,  42., 184., 101.,\n",
       "        135.,  68.,  72.,  57.,  81.,  51., 154., 194.,  66.,  83.,  64.,\n",
       "         53.,  45.,  35.,  34.,  33.,  34.],\n",
       "       [ 88.,  89.,  78.,  70.,  68.,  67.,  55.,  49.,  46., 163.,  59.,\n",
       "         68., 137.,  68.,  66.,  73.,  62.,  51., 146.,  84.,  67.,  62.,\n",
       "         50.,  48.,  35.,  32.,  33.,  35.],\n",
       "       [ 82.,  80.,  74.,  69.,  68.,  60.,  60.,  53.,  56.,  57.,  59.,\n",
       "         62.,  64.,  65.,  65.,  68.,  65.,  67.,  66.,  64.,  64.,  64.,\n",
       "         53.,  50.,  34.,  33.,  35.,  31.],\n",
       "       [ 76.,  72.,  68.,  66.,  64.,  66.,  62.,  60.,  55.,  60.,  57.,\n",
       "         60.,  62.,  68.,  68.,  66.,  67.,  67.,  63.,  60.,  70.,  64.,\n",
       "         49.,  45.,  32.,  32.,  37.,  33.],\n",
       "       [ 77.,  74.,  70.,  67.,  72.,  68.,  66.,  59.,  58.,  56.,  57.,\n",
       "         57.,  65.,  63.,  70.,  67.,  65.,  63.,  64.,  63.,  65.,  61.,\n",
       "         52.,  44.,  33.,  34.,  34.,  34.],\n",
       "       [ 79.,  76.,  76.,  73.,  74.,  71.,  67.,  61.,  59.,  58.,  59.,\n",
       "         59.,  65.,  62.,  69.,  62.,  68.,  67.,  67.,  63.,  63.,  61.,\n",
       "         52.,  42.,  35.,  33.,  34.,  30.],\n",
       "       [ 77.,  77.,  76.,  78.,  73.,  73.,  71.,  66.,  66.,  58.,  59.,\n",
       "         59.,  60.,  58.,  59.,  62.,  64.,  61.,  64.,  63.,  66.,  58.,\n",
       "         49.,  42.,  33.,  34.,  33.,  31.],\n",
       "       [ 80.,  81.,  81.,  78.,  78.,  73.,  66.,  67.,  62.,  61.,  61.,\n",
       "         56.,  60.,  60.,  48.,  55.,  65.,  58.,  60.,  60.,  59.,  54.,\n",
       "         44.,  43.,  36.,  32.,  33.,  34.],\n",
       "       [ 83.,  79.,  78.,  79.,  80.,  76.,  70.,  62.,  55.,  61.,  59.,\n",
       "         55.,  46.,  41.,  36.,  47.,  47.,  49.,  53.,  49.,  47.,  42.,\n",
       "         41.,  35.,  37.,  33.,  32.,  36.]], dtype=float32)"
      ]
     },
     "execution_count": 31,
     "metadata": {
     },
     "output_type": "execute_result"
    }
   ],
   "source": [
    "img"
   ]
  },
  {
   "cell_type": "code",
   "execution_count": 32,
   "metadata": {
    "collapsed": false
   },
   "outputs": [
    {
     "data": {
      "text/plain": [
       "<matplotlib.image.AxesImage at 0x7fa8187d7668>"
      ]
     },
     "execution_count": 32,
     "metadata": {
     },
     "output_type": "execute_result"
    },
    {
     "data": {
      "image/png": "[encoded data removed]",
      "text/plain": [
       "<Figure size 432x288 with 1 Axes>"
      ]
     },
     "execution_count": 32,
     "metadata": {
      "image/png": {
       "height": 250,
       "width": 253
      }
     },
     "output_type": "execute_result"
    }
   ],
   "source": [
    "plt.imshow(img)"
   ]
  },
  {
   "cell_type": "code",
   "execution_count": 33,
   "metadata": {
    "collapsed": false
   },
   "outputs": [
   ],
   "source": [
    "img = img.reshape((1,784))"
   ]
  },
  {
   "cell_type": "code",
   "execution_count": 34,
   "metadata": {
    "collapsed": false
   },
   "outputs": [
   ],
   "source": [
    "model = load_model('./mnistmodel.h5') "
   ]
  },
  {
   "cell_type": "code",
   "execution_count": 35,
   "metadata": {
    "collapsed": false
   },
   "outputs": [
    {
     "name": "stdout",
     "output_type": "stream",
     "text": [
      "Predicted Number:  [2]\n"
     ]
    }
   ],
   "source": [
    "prediction = model.predict_classes(img)  #predict the number! predict_classes is a final prediction\n",
    "print(\"Predicted Number: \",prediction)       #display the prediction"
   ]
  },
  {
   "cell_type": "code",
   "execution_count": 36,
   "metadata": {
    "collapsed": false
   },
   "outputs": [
    {
     "data": {
      "text/plain": [
       "array([[6.7615030e-10, 2.0279080e-13, 6.2721026e-01, 2.8571084e-01,\n",
       "        1.3189780e-10, 1.5054484e-08, 3.3661024e-06, 5.8799551e-06,\n",
       "        8.7069340e-02, 3.2914852e-07]], dtype=float32)"
      ]
     },
     "execution_count": 36,
     "metadata": {
     },
     "output_type": "execute_result"
    }
   ],
   "source": [
    "model.predict(img)                      #display the probability for each number"
   ]
  },
  {
   "cell_type": "code",
   "execution_count": 37,
   "metadata": {
    "collapsed": false
   },
   "outputs": [
    {
     "name": "stdout",
     "output_type": "stream",
     "text": [
      "(28, 28)\n"
     ]
    }
   ],
   "source": [
    "img = image.load_img(path=\"/home/user/data/IMG_5080.jpg\",color_mode='grayscale',target_size=(28,28))   #load image as grayscale\n",
    "img = PIL.ImageOps.invert(img)                                                           #invert image\n",
    "\n",
    "img = image.img_to_array(img)                                                            #convert to array\n",
    "img = img.reshape((28,28))                                                               #reshape array\n",
    "print(img.shape)                                                                         #display image shape"
   ]
  },
  {
   "cell_type": "code",
   "execution_count": 38,
   "metadata": {
    "collapsed": false
   },
   "outputs": [
    {
     "data": {
      "text/plain": [
       "array([[ 27.,  24.,  26.,  26.,  28.,  26.,  25.,  23.,  23.,  21.,  23.,\n",
       "         25.,  24.,  24.,  23.,  23.,  22.,  24.,  22.,  23.,  23.,  24.,\n",
       "         25.,  25.,  26.,  25.,  28.,  27.],\n",
       "       [ 37.,  29.,  27.,  25.,  24.,  24.,  24.,  24.,  21.,  22.,  21.,\n",
       "         24.,  26.,  28.,  26.,  24.,  24.,  26.,  23.,  25.,  24.,  25.,\n",
       "         27.,  25.,  28.,  28.,  31.,  34.],\n",
       "       [ 48.,  50.,  56.,  49.,  37.,  32.,  30.,  25.,  30.,  25.,  26.,\n",
       "         29.,  28.,  30.,  39.,  32.,  33.,  32.,  36.,  31.,  33.,  31.,\n",
       "         32.,  34.,  34.,  32.,  32.,  32.],\n",
       "       [ 39.,  54.,  45.,  42.,  40.,  40.,  40.,  41.,  42.,  41.,  47.,\n",
       "         39.,  41.,  41.,  37.,  44.,  41.,  37.,  41.,  40.,  41.,  36.,\n",
       "         38.,  42.,  43.,  45.,  41.,  42.],\n",
       "       [ 46.,  48.,  46.,  51.,  47.,  47.,  46.,  50.,  48., 142., 165.,\n",
       "         54.,  51.,  50.,  49.,  49.,  45.,  49.,  45.,  45.,  48.,  44.,\n",
       "         43.,  48.,  51.,  45.,  51.,  48.],\n",
       "       [ 48.,  40.,  44.,  40.,  38.,  40.,  46., 169., 195., 135.,  54.,\n",
       "        131.,  59., 201.,  57.,  55.,  54.,  51.,  52.,  51.,  51.,  53.,\n",
       "         57.,  60.,  60.,  58.,  63.,  58.],\n",
       "       [ 41.,  46.,  47.,  44.,  48.,  50.,  94., 173.,  43.,  43.,  42.,\n",
       "         41.,  41., 191., 202.,  92.,  48.,  50.,  51.,  54.,  55.,  54.,\n",
       "         59.,  57.,  61.,  64.,  64.,  60.],\n",
       "       [ 45.,  52.,  57.,  49.,  50.,  45., 161., 120.,  51.,  50.,  46.,\n",
       "         50.,  59.,  60., 115., 181.,  71.,  62.,  51.,  55.,  56.,  57.,\n",
       "         62.,  62.,  66.,  64.,  64.,  63.],\n",
       "       [ 60.,  59.,  60.,  60.,  59.,  60.,  61.,  52.,  48.,  53.,  60.,\n",
       "         52.,  64.,  73., 187., 173.,  54.,  56.,  63.,  58.,  59.,  66.,\n",
       "         66.,  63.,  61.,  66.,  68.,  72.],\n",
       "       [ 65.,  67.,  68.,  69.,  66.,  66.,  65.,  59.,  52.,  61.,  65.,\n",
       "         59.,  61.,  61., 122., 180.,  57.,  61.,  64.,  55.,  60.,  62.,\n",
       "         61.,  65.,  66.,  66.,  66.,  84.],\n",
       "       [ 64.,  67.,  66.,  69.,  69.,  66.,  66.,  62.,  65.,  66.,  70.,\n",
       "         57.,  59.,  57., 200., 185.,  60.,  59.,  56.,  58.,  61.,  61.,\n",
       "         62.,  62.,  65.,  65.,  67.,  91.],\n",
       "       [ 61.,  65.,  66.,  71.,  66.,  69.,  67.,  68.,  70.,  70.,  71.,\n",
       "         55.,  63.,  63.,  77., 197.,  54.,  59.,  61.,  62.,  66.,  66.,\n",
       "         66.,  66.,  62.,  68.,  64.,  89.],\n",
       "       [ 65.,  65.,  67., 100.,  68.,  71.,  68.,  74.,  68.,  68.,  64.,\n",
       "         68.,  68., 198., 100.,  53.,  56.,  56.,  62.,  61.,  62.,  69.,\n",
       "         67.,  64.,  70.,  70.,  66.,  94.],\n",
       "       [ 63.,  65.,  68.,  62.,  72.,  68.,  65.,  63.,  80.,  75.,  71.,\n",
       "         75., 177., 193.,  53.,  57.,  58.,  57.,  54.,  61.,  67.,  69.,\n",
       "         68.,  69.,  72.,  70.,  70.,  95.],\n",
       "       [ 64.,  65.,  68.,  71.,  69.,  67., 176.,  84.,  77.,  81.,  81.,\n",
       "        181., 200.,  57.,  56.,  62.,  60.,  61.,  60.,  62.,  68.,  71.,\n",
       "         69., 154.,  77.,  71.,  83., 126.],\n",
       "       [ 75.,  78.,  75.,  89., 156.,  69., 185.,  63., 190., 197., 204.,\n",
       "        183.,  61.,  65.,  58.,  57.,  54.,  54.,  57.,  62.,  67.,  66.,\n",
       "        204.,  68.,  67.,  72.,  95., 203.],\n",
       "       [ 79.,  76.,  73., 195., 192.,  69.,  69.,  61.,  72., 181., 206.,\n",
       "        166., 223.,  61.,  57.,  60.,  61.,  62.,  64.,  86., 151., 130.,\n",
       "         58.,  63.,  66.,  68.,  85., 207.],\n",
       "       [ 68.,  59.,  61.,  56., 213., 174., 208., 167., 200.,  53.,  46.,\n",
       "         50.,  49., 172., 115.,  88., 178., 214., 195., 180.,  50.,  53.,\n",
       "         58.,  66.,  67.,  67.,  85., 194.],\n",
       "       [ 59.,  60.,  56.,  55.,  48., 137.,  62.,  46.,  48.,  51.,  53.,\n",
       "         50.,  50.,  42.,  44.,  39.,  35.,  47.,  44.,  52.,  56.,  61.,\n",
       "         58.,  62.,  64.,  65.,  67., 186.],\n",
       "       [ 70.,  70.,  65.,  66.,  71.,  69.,  68.,  67.,  65.,  62.,  59.,\n",
       "         59.,  61.,  60.,  53.,  59.,  52.,  54.,  50.,  53.,  54.,  55.,\n",
       "         66.,  61.,  62.,  69.,  66., 218.],\n",
       "       [ 78.,  77.,  79.,  79.,  82.,  81.,  80.,  79.,  77.,  79.,  85.,\n",
       "         67.,  74.,  67.,  69.,  61.,  70.,  70.,  63.,  60.,  67.,  66.,\n",
       "         71.,  64.,  67.,  67.,  68., 185.],\n",
       "       [102.,  97.,  99.,  98.,  99.,  96.,  97., 101., 104., 101., 101.,\n",
       "         99.,  96.,  97.,  88.,  88.,  74.,  74.,  75.,  74.,  70.,  66.,\n",
       "         66.,  65.,  67.,  68.,  68., 187.],\n",
       "       [116., 112., 110., 108., 106., 107., 109., 107., 111., 105., 109.,\n",
       "        106., 101., 108., 106., 104.,  95.,  95.,  94.,  88.,  93.,  81.,\n",
       "         76.,  70.,  68.,  67.,  66., 183.],\n",
       "       [122., 121., 124., 117., 118., 120., 120., 121., 119., 121., 120.,\n",
       "        117., 116., 110.,  99., 106., 107., 108., 107., 103., 103.,  92.,\n",
       "         77.,  79.,  73.,  70.,  70., 182.],\n",
       "       [126., 123., 126., 128., 121., 118., 121., 119., 119., 119., 118.,\n",
       "        112., 112., 105., 110., 112., 107., 111., 110., 110., 103.,  97.,\n",
       "         88.,  87.,  75.,  74.,  71., 191.],\n",
       "       [128., 128., 126., 124., 119., 123., 122., 120., 118., 117., 113.,\n",
       "        114., 111., 110., 112., 111., 111., 110., 111., 114., 108.,  99.,\n",
       "         93.,  88.,  74.,  73.,  72., 197.],\n",
       "       [132., 131., 128., 128., 131., 124., 120., 118., 119., 118., 115.,\n",
       "        115., 117., 113., 112., 108., 113., 116., 113., 115., 111., 106.,\n",
       "         97.,  89.,  80.,  72.,  72., 188.],\n",
       "       [132., 132., 132., 130., 127., 127., 124., 124., 121., 119., 117.,\n",
       "        114., 113., 114., 113., 115., 116., 117., 118., 118., 113., 105.,\n",
       "         98.,  96.,  85.,  84.,  83., 198.]], dtype=float32)"
      ]
     },
     "execution_count": 38,
     "metadata": {
     },
     "output_type": "execute_result"
    }
   ],
   "source": [
    "img"
   ]
  },
  {
   "cell_type": "code",
   "execution_count": 39,
   "metadata": {
    "collapsed": false
   },
   "outputs": [
    {
     "data": {
      "text/plain": [
       "<matplotlib.image.AxesImage at 0x7fa81842d470>"
      ]
     },
     "execution_count": 39,
     "metadata": {
     },
     "output_type": "execute_result"
    },
    {
     "data": {
      "image/png": "[encoded data removed]",
      "text/plain": [
       "<Figure size 432x288 with 1 Axes>"
      ]
     },
     "execution_count": 39,
     "metadata": {
      "image/png": {
       "height": 250,
       "width": 253
      }
     },
     "output_type": "execute_result"
    }
   ],
   "source": [
    "plt.imshow(img)"
   ]
  },
  {
   "cell_type": "code",
   "execution_count": 40,
   "metadata": {
    "collapsed": false
   },
   "outputs": [
   ],
   "source": [
    "img = img.reshape((1,784))"
   ]
  },
  {
   "cell_type": "code",
   "execution_count": 41,
   "metadata": {
    "collapsed": false
   },
   "outputs": [
   ],
   "source": [
    "model = load_model('./mnistmodel.h5') "
   ]
  },
  {
   "cell_type": "code",
   "execution_count": 42,
   "metadata": {
    "collapsed": false
   },
   "outputs": [
    {
     "name": "stdout",
     "output_type": "stream",
     "text": [
      "Predicted Number:  [2]\n"
     ]
    }
   ],
   "source": [
    "prediction = model.predict_classes(img)  #predict the number! predict_classes is a final prediction\n",
    "print(\"Predicted Number: \",prediction)       #display the prediction"
   ]
  },
  {
   "cell_type": "code",
   "execution_count": 0,
   "metadata": {
    "collapsed": false
   },
   "outputs": [
   ],
   "source": [
   ]
  }
 ],
 "metadata": {
  "kernelspec": {
   "display_name": "Python 3 (system-wide)",
   "language": "python",
   "metadata": {
    "cocalc": {
     "description": "Python 3 programming language",
     "priority": 100,
     "url": "https://www.python.org/"
    }
   },
   "name": "python3"
  },
  "language_info": {
   "codemirror_mode": {
    "name": "ipython",
    "version": 3
   },
   "file_extension": ".py",
   "mimetype": "text/x-python",
   "name": "python",
   "nbconvert_exporter": "python",
   "pygments_lexer": "ipython3",
   "version": "3.6.8"
  }
 },
 "nbformat": 4,
 "nbformat_minor": 0
}