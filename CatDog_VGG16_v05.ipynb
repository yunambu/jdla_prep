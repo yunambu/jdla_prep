{
 "cells": [
  {
   "cell_type": "code",
   "execution_count": 4,
   "metadata": {
    "collapsed": true
   },
   "outputs": [],
   "source": [
    "# Azure Custom Vision は画像入れると勝手に NN 組んでくれる\n",
    "import numpy as np\n",
    "import pandas as pd\n",
    "import matplotlib.pyplot as plt\n",
    "%matplotlib inline\n",
    "import tensorflow as tf\n",
    "from tensorflow import keras\n",
    "import cv2\n",
    "from PIL import Image\n",
    "from tensorflow.keras import models, layers\n",
    "from glob import glob\n",
    "from sklearn.model_selection import train_test_split"
   ]
  },
  {
   "cell_type": "code",
   "execution_count": 2,
   "metadata": {
    "collapsed": true
   },
   "outputs": [],
   "source": [
    "cat_filepath = glob('data/cat/*jpg')"
   ]
  },
  {
   "cell_type": "code",
   "execution_count": 3,
   "metadata": {
    "collapsed": true
   },
   "outputs": [],
   "source": [
    "dog_filepath = glob('data/dog/*jpg')"
   ]
  },
  {
   "cell_type": "code",
   "execution_count": 5,
   "metadata": {
    "collapsed": true
   },
   "outputs": [],
   "source": [
    "import os\n",
    "import random\n",
    "\n",
    "def reset_seed(seed=0):\n",
    "\n",
    "    os.environ['PYTHONHASHSEED'] = '0'\n",
    "    random.seed(seed)\n",
    "    np.random.seed(seed)\n",
    "    tf.random.set_seed(seed)"
   ]
  },
  {
   "cell_type": "code",
   "execution_count": 6,
   "metadata": {
    "collapsed": true
   },
   "outputs": [],
   "source": [
    "x, t = [], []\n",
    "\n",
    "for filepath in dog_filepath:\n",
    "    img = Image.open(filepath)\n",
    "    x.append(np.array(img))\n",
    "    t.append(0)\n",
    "    \n",
    "for filepath in cat_filepath:\n",
    "    img = Image.open(filepath)\n",
    "    x.append(np.array(img))\n",
    "    t.append(1)"
   ]
  },
  {
   "cell_type": "code",
   "execution_count": 7,
   "metadata": {},
   "outputs": [
    {
     "data": {
      "text/plain": [
       "(500, 500)"
      ]
     },
     "execution_count": 7,
     "metadata": {},
     "output_type": "execute_result"
    }
   ],
   "source": [
    "len(x), len(t)"
   ]
  },
  {
   "cell_type": "code",
   "execution_count": 8,
   "metadata": {
    "collapsed": true
   },
   "outputs": [],
   "source": [
    "x = np.array(x)/255\n",
    "t = np.array(t)"
   ]
  },
  {
   "cell_type": "code",
   "execution_count": 9,
   "metadata": {},
   "outputs": [
    {
     "data": {
      "text/plain": [
       "(500, 224, 224, 3)"
      ]
     },
     "execution_count": 9,
     "metadata": {},
     "output_type": "execute_result"
    }
   ],
   "source": [
    "x.shape"
   ]
  },
  {
   "cell_type": "code",
   "execution_count": 10,
   "metadata": {},
   "outputs": [
    {
     "data": {
      "text/plain": [
       "(500,)"
      ]
     },
     "execution_count": 10,
     "metadata": {},
     "output_type": "execute_result"
    }
   ],
   "source": [
    "t.shape"
   ]
  },
  {
   "cell_type": "code",
   "execution_count": 11,
   "metadata": {},
   "outputs": [
    {
     "data": {
      "text/plain": [
       "(350, 150, 350, 150)"
      ]
     },
     "execution_count": 11,
     "metadata": {},
     "output_type": "execute_result"
    }
   ],
   "source": [
    "x_train, x_val, t_train, t_val = train_test_split(x, t, test_size=0.3, random_state=0)\n",
    "len(x_train), len(x_val), len(t_train), len(t_val)"
   ]
  },
  {
   "cell_type": "code",
   "execution_count": 12,
   "metadata": {},
   "outputs": [
    {
     "data": {
      "text/plain": [
       "(350, 224, 224, 3)"
      ]
     },
     "execution_count": 12,
     "metadata": {},
     "output_type": "execute_result"
    }
   ],
   "source": [
    "x_train.shape"
   ]
  },
  {
   "cell_type": "code",
   "execution_count": 13,
   "metadata": {},
   "outputs": [
    {
     "data": {
      "text/plain": [
       "(224, 224, 3)"
      ]
     },
     "execution_count": 13,
     "metadata": {},
     "output_type": "execute_result"
    }
   ],
   "source": [
    "x[0].shape"
   ]
  },
  {
   "cell_type": "code",
   "execution_count": 14,
   "metadata": {
    "collapsed": true
   },
   "outputs": [],
   "source": [
    "from tensorflow.keras.applications import VGG16"
   ]
  },
  {
   "cell_type": "code",
   "execution_count": 16,
   "metadata": {},
   "outputs": [
    {
     "name": "stdout",
     "output_type": "stream",
     "text": [
      "Downloading data from https://github.com/fchollet/deep-learning-models/releases/download/v0.1/vgg16_weights_tf_dim_ordering_tf_kernels_notop.h5\n",
      "58892288/58889256 [==============================] - 1s 0us/step\n"
     ]
    }
   ],
   "source": [
    "vgg16 = VGG16(weights='imagenet', include_top=False, input_shape=(224, 224, 3))"
   ]
  },
  {
   "cell_type": "code",
   "execution_count": 18,
   "metadata": {},
   "outputs": [
    {
     "name": "stdout",
     "output_type": "stream",
     "text": [
      "Model: \"vgg16\"\n",
      "_________________________________________________________________\n",
      "Layer (type)                 Output Shape              Param #   \n",
      "=================================================================\n",
      "input_1 (InputLayer)         [(None, 224, 224, 3)]     0         \n",
      "_________________________________________________________________\n",
      "block1_conv1 (Conv2D)        (None, 224, 224, 64)      1792      \n",
      "_________________________________________________________________\n",
      "block1_conv2 (Conv2D)        (None, 224, 224, 64)      36928     \n",
      "_________________________________________________________________\n",
      "block1_pool (MaxPooling2D)   (None, 112, 112, 64)      0         \n",
      "_________________________________________________________________\n",
      "block2_conv1 (Conv2D)        (None, 112, 112, 128)     73856     \n",
      "_________________________________________________________________\n",
      "block2_conv2 (Conv2D)        (None, 112, 112, 128)     147584    \n",
      "_________________________________________________________________\n",
      "block2_pool (MaxPooling2D)   (None, 56, 56, 128)       0         \n",
      "_________________________________________________________________\n",
      "block3_conv1 (Conv2D)        (None, 56, 56, 256)       295168    \n",
      "_________________________________________________________________\n",
      "block3_conv2 (Conv2D)        (None, 56, 56, 256)       590080    \n",
      "_________________________________________________________________\n",
      "block3_conv3 (Conv2D)        (None, 56, 56, 256)       590080    \n",
      "_________________________________________________________________\n",
      "block3_pool (MaxPooling2D)   (None, 28, 28, 256)       0         \n",
      "_________________________________________________________________\n",
      "block4_conv1 (Conv2D)        (None, 28, 28, 512)       1180160   \n",
      "_________________________________________________________________\n",
      "block4_conv2 (Conv2D)        (None, 28, 28, 512)       2359808   \n",
      "_________________________________________________________________\n",
      "block4_conv3 (Conv2D)        (None, 28, 28, 512)       2359808   \n",
      "_________________________________________________________________\n",
      "block4_pool (MaxPooling2D)   (None, 14, 14, 512)       0         \n",
      "_________________________________________________________________\n",
      "block5_conv1 (Conv2D)        (None, 14, 14, 512)       2359808   \n",
      "_________________________________________________________________\n",
      "block5_conv2 (Conv2D)        (None, 14, 14, 512)       2359808   \n",
      "_________________________________________________________________\n",
      "block5_conv3 (Conv2D)        (None, 14, 14, 512)       2359808   \n",
      "_________________________________________________________________\n",
      "block5_pool (MaxPooling2D)   (None, 7, 7, 512)         0         \n",
      "=================================================================\n",
      "Total params: 14,714,688\n",
      "Trainable params: 14,714,688\n",
      "Non-trainable params: 0\n",
      "_________________________________________________________________\n"
     ]
    }
   ],
   "source": [
    "vgg16.summary()"
   ]
  },
  {
   "cell_type": "code",
   "execution_count": 21,
   "metadata": {},
   "outputs": [],
   "source": [
    "from tensorflow.keras import models, layers\n",
    "reset_seed(0)\n",
    "\n",
    "model = models.Sequential()\n",
    "\n",
    "for layer in vgg16.layers:\n",
    "    layer.trainable = False\n",
    "    \n",
    "model.add(vgg16)\n",
    "model.add(layers.Flatten())\n",
    "model.add(layers.BatchNormalization())\n",
    "model.add(layers.Dense(100, activation='relu'))\n",
    "model.add(layers.Dense(30, activation='relu'))\n",
    "model.add(layers.Dense(2, activation='softmax'))"
   ]
  },
  {
   "cell_type": "code",
   "execution_count": 22,
   "metadata": {
    "collapsed": true
   },
   "outputs": [],
   "source": [
    "optimizer = keras.optimizers.Adam(0.001)\n",
    "\n",
    "model.compile(loss='sparse_categorical_crossentropy',\n",
    "             optimizer=optimizer, metrics=['accuracy'])"
   ]
  },
  {
   "cell_type": "code",
   "execution_count": 23,
   "metadata": {},
   "outputs": [
    {
     "name": "stdout",
     "output_type": "stream",
     "text": [
      "Model: \"sequential_2\"\n",
      "_________________________________________________________________\n",
      "Layer (type)                 Output Shape              Param #   \n",
      "=================================================================\n",
      "vgg16 (Model)                (None, 7, 7, 512)         14714688  \n",
      "_________________________________________________________________\n",
      "flatten (Flatten)            (None, 25088)             0         \n",
      "_________________________________________________________________\n",
      "batch_normalization (BatchNo (None, 25088)             100352    \n",
      "_________________________________________________________________\n",
      "dense (Dense)                (None, 100)               2508900   \n",
      "_________________________________________________________________\n",
      "dense_1 (Dense)              (None, 30)                3030      \n",
      "_________________________________________________________________\n",
      "dense_2 (Dense)              (None, 2)                 62        \n",
      "=================================================================\n",
      "Total params: 17,327,032\n",
      "Trainable params: 2,562,168\n",
      "Non-trainable params: 14,764,864\n",
      "_________________________________________________________________\n"
     ]
    }
   ],
   "source": [
    "model.summary()"
   ]
  },
  {
   "cell_type": "code",
   "execution_count": 24,
   "metadata": {},
   "outputs": [
    {
     "name": "stdout",
     "output_type": "stream",
     "text": [
      "Train on 350 samples, validate on 150 samples\n",
      "Epoch 1/30\n",
      "350/350 [==============================] - 48s 138ms/sample - loss: 0.7409 - accuracy: 0.6714 - val_loss: 1.0133 - val_accuracy: 0.5733\n",
      "Epoch 2/30\n",
      "350/350 [==============================] - 47s 134ms/sample - loss: 0.0414 - accuracy: 0.9771 - val_loss: 1.0086 - val_accuracy: 0.5867\n",
      "Epoch 3/30\n",
      "350/350 [==============================] - 47s 134ms/sample - loss: 0.0041 - accuracy: 1.0000 - val_loss: 0.9337 - val_accuracy: 0.6133\n",
      "Epoch 4/30\n",
      "350/350 [==============================] - 47s 134ms/sample - loss: 0.0015 - accuracy: 1.0000 - val_loss: 0.8857 - val_accuracy: 0.6267\n",
      "Epoch 5/30\n",
      "350/350 [==============================] - 47s 134ms/sample - loss: 6.9147e-04 - accuracy: 1.0000 - val_loss: 0.8496 - val_accuracy: 0.6467\n",
      "Epoch 6/30\n",
      "350/350 [==============================] - 47s 134ms/sample - loss: 2.6997e-04 - accuracy: 1.0000 - val_loss: 0.8191 - val_accuracy: 0.6667\n",
      "Epoch 7/30\n",
      "350/350 [==============================] - 65s 187ms/sample - loss: 3.7420e-04 - accuracy: 1.0000 - val_loss: 0.7980 - val_accuracy: 0.6933\n",
      "Epoch 8/30\n",
      "350/350 [==============================] - 57s 164ms/sample - loss: 3.5565e-04 - accuracy: 1.0000 - val_loss: 0.7806 - val_accuracy: 0.7000\n",
      "Epoch 9/30\n",
      "350/350 [==============================] - 47s 134ms/sample - loss: 6.2425e-05 - accuracy: 1.0000 - val_loss: 0.7638 - val_accuracy: 0.7067\n",
      "Epoch 10/30\n",
      "350/350 [==============================] - 47s 134ms/sample - loss: 6.8990e-05 - accuracy: 1.0000 - val_loss: 0.7475 - val_accuracy: 0.7200\n",
      "Epoch 11/30\n",
      "350/350 [==============================] - 47s 134ms/sample - loss: 6.5331e-05 - accuracy: 1.0000 - val_loss: 0.7316 - val_accuracy: 0.7467\n",
      "Epoch 12/30\n",
      "350/350 [==============================] - 47s 134ms/sample - loss: 1.3757e-04 - accuracy: 1.0000 - val_loss: 0.7169 - val_accuracy: 0.7600\n",
      "Epoch 13/30\n",
      "350/350 [==============================] - 47s 134ms/sample - loss: 4.2682e-05 - accuracy: 1.0000 - val_loss: 0.7030 - val_accuracy: 0.7733\n",
      "Epoch 14/30\n",
      "350/350 [==============================] - 47s 134ms/sample - loss: 9.0898e-05 - accuracy: 1.0000 - val_loss: 0.6908 - val_accuracy: 0.7800\n",
      "Epoch 15/30\n",
      "350/350 [==============================] - 47s 134ms/sample - loss: 3.0649e-05 - accuracy: 1.0000 - val_loss: 0.6784 - val_accuracy: 0.7800\n",
      "Epoch 16/30\n",
      "350/350 [==============================] - 47s 135ms/sample - loss: 3.8917e-05 - accuracy: 1.0000 - val_loss: 0.6673 - val_accuracy: 0.7867\n",
      "Epoch 17/30\n",
      "350/350 [==============================] - 47s 135ms/sample - loss: 3.0705e-05 - accuracy: 1.0000 - val_loss: 0.6565 - val_accuracy: 0.7867\n",
      "Epoch 18/30\n",
      "350/350 [==============================] - 47s 134ms/sample - loss: 3.1698e-05 - accuracy: 1.0000 - val_loss: 0.6466 - val_accuracy: 0.7933\n",
      "Epoch 19/30\n",
      "350/350 [==============================] - 47s 135ms/sample - loss: 4.5750e-05 - accuracy: 1.0000 - val_loss: 0.6370 - val_accuracy: 0.8000\n",
      "Epoch 20/30\n",
      "350/350 [==============================] - 47s 134ms/sample - loss: 4.3662e-05 - accuracy: 1.0000 - val_loss: 0.6274 - val_accuracy: 0.8267\n",
      "Epoch 21/30\n",
      "350/350 [==============================] - 47s 135ms/sample - loss: 6.4247e-05 - accuracy: 1.0000 - val_loss: 0.6194 - val_accuracy: 0.8267\n",
      "Epoch 22/30\n",
      "350/350 [==============================] - 47s 135ms/sample - loss: 3.8920e-05 - accuracy: 1.0000 - val_loss: 0.6120 - val_accuracy: 0.8333\n",
      "Epoch 23/30\n",
      "350/350 [==============================] - 47s 134ms/sample - loss: 2.3011e-05 - accuracy: 1.0000 - val_loss: 0.6049 - val_accuracy: 0.8333\n",
      "Epoch 24/30\n",
      "350/350 [==============================] - 47s 134ms/sample - loss: 2.9402e-05 - accuracy: 1.0000 - val_loss: 0.5977 - val_accuracy: 0.8333\n",
      "Epoch 25/30\n",
      "350/350 [==============================] - 47s 134ms/sample - loss: 4.7385e-05 - accuracy: 1.0000 - val_loss: 0.5920 - val_accuracy: 0.8333\n",
      "Epoch 26/30\n",
      "350/350 [==============================] - 47s 135ms/sample - loss: 3.2303e-05 - accuracy: 1.0000 - val_loss: 0.5865 - val_accuracy: 0.8267\n",
      "Epoch 27/30\n",
      "350/350 [==============================] - 47s 135ms/sample - loss: 1.9450e-05 - accuracy: 1.0000 - val_loss: 0.5814 - val_accuracy: 0.8400\n",
      "Epoch 28/30\n",
      "350/350 [==============================] - 47s 135ms/sample - loss: 3.2342e-05 - accuracy: 1.0000 - val_loss: 0.5770 - val_accuracy: 0.8467\n",
      "Epoch 29/30\n",
      "350/350 [==============================] - 47s 135ms/sample - loss: 2.1131e-05 - accuracy: 1.0000 - val_loss: 0.5728 - val_accuracy: 0.8467\n",
      "Epoch 30/30\n",
      "350/350 [==============================] - 53s 152ms/sample - loss: 2.6897e-05 - accuracy: 1.0000 - val_loss: 0.5692 - val_accuracy: 0.8467\n"
     ]
    }
   ],
   "source": [
    "history = model.fit(x_train, t_train,\n",
    "                   batch_size=128,\n",
    "                   epochs=30,\n",
    "                   validation_data=(x_val, t_val))"
   ]
  },
  {
   "cell_type": "code",
   "execution_count": 25,
   "metadata": {
    "collapsed": true
   },
   "outputs": [],
   "source": [
    "results = pd.DataFrame(history.history)"
   ]
  },
  {
   "cell_type": "code",
   "execution_count": 26,
   "metadata": {},
   "outputs": [
    {
     "data": {
      "text/plain": [
       "<matplotlib.axes._subplots.AxesSubplot at 0x7f1f7c48b630>"
      ]
     },
     "execution_count": 26,
     "metadata": {},
     "output_type": "execute_result"
    },
    {
     "data": {
      "image/png": "[encoded data removed]",
      "text/plain": [
       "<matplotlib.figure.Figure at 0x7f2019ceb898>"
      ]
     },
     "metadata": {},
     "output_type": "display_data"
    }
   ],
   "source": [
    "results[['accuracy', 'val_accuracy']].plot()"
   ]
  },
  {
   "cell_type": "code",
   "execution_count": null,
   "metadata": {
    "collapsed": true
   },
   "outputs": [],
   "source": []
  }
 ],
 "metadata": {
  "kernelspec": {
   "display_name": "Python 3",
   "language": "python",
   "name": "python3"
  },
  "language_info": {
   "codemirror_mode": {
    "name": "ipython",
    "version": 3
   },
   "file_extension": ".py",
   "mimetype": "text/x-python",
   "name": "python",
   "nbconvert_exporter": "python",
   "pygments_lexer": "ipython3",
   "version": "3.5.2"
  }
 },
 "nbformat": 4,
 "nbformat_minor": 2
}
