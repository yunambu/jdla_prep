{
 "cells": [
  {
   "cell_type": "code",
   "execution_count": 1,
   "metadata": {
    "collapsed": true
   },
   "outputs": [],
   "source": [
    "# !pip install --upgrade pip # Kernel & Restart した時に再実行させたくないからコメントアウト"
   ]
  },
  {
   "cell_type": "code",
   "execution_count": 2,
   "metadata": {
    "collapsed": true
   },
   "outputs": [],
   "source": [
    "# !pip install tensorflow-gpu==2.0.0"
   ]
  },
  {
   "cell_type": "code",
   "execution_count": 3,
   "metadata": {
    "collapsed": true
   },
   "outputs": [],
   "source": [
    "# Pythonの挙動を整えるライブラリのインポート\n",
    "from __future__ import absolute_import, division, print_function, unicode_literals"
   ]
  },
  {
   "cell_type": "code",
   "execution_count": 4,
   "metadata": {
    "collapsed": true
   },
   "outputs": [],
   "source": [
    "# tensorflow と keras のインポート\n",
    "import tensorflow as tf\n",
    "from tensorflow import keras"
   ]
  },
  {
   "cell_type": "code",
   "execution_count": 5,
   "metadata": {},
   "outputs": [
    {
     "data": {
      "text/plain": [
       "[name: \"/device:CPU:0\"\n",
       " device_type: \"CPU\"\n",
       " memory_limit: 268435456\n",
       " locality {\n",
       " }\n",
       " incarnation: 12718918960406110656, name: \"/device:XLA_CPU:0\"\n",
       " device_type: \"XLA_CPU\"\n",
       " memory_limit: 17179869184\n",
       " locality {\n",
       " }\n",
       " incarnation: 10543871071109685381\n",
       " physical_device_desc: \"device: XLA_CPU device\", name: \"/device:XLA_GPU:0\"\n",
       " device_type: \"XLA_GPU\"\n",
       " memory_limit: 17179869184\n",
       " locality {\n",
       " }\n",
       " incarnation: 2862826542435675695\n",
       " physical_device_desc: \"device: XLA_GPU device\"]"
      ]
     },
     "execution_count": 5,
     "metadata": {},
     "output_type": "execute_result"
    }
   ],
   "source": [
    "# GPU との接続確認。device_type: ...GPU があれば OK\n",
    "from tensorflow.python.client import device_lib\n",
    "device_lib.list_local_devices()"
   ]
  },
  {
   "cell_type": "code",
   "execution_count": 6,
   "metadata": {},
   "outputs": [
    {
     "data": {
      "text/plain": [
       "'2.0.0'"
      ]
     },
     "execution_count": 6,
     "metadata": {},
     "output_type": "execute_result"
    }
   ],
   "source": [
    "tf.version.VERSION # TensorFlow のバージョン確認"
   ]
  },
  {
   "cell_type": "code",
   "execution_count": 7,
   "metadata": {},
   "outputs": [
    {
     "data": {
      "text/plain": [
       "'2.2.4-tf'"
      ]
     },
     "execution_count": 7,
     "metadata": {},
     "output_type": "execute_result"
    }
   ],
   "source": [
    "tf.keras.__version__ # Keras のバージョン確認"
   ]
  },
  {
   "cell_type": "markdown",
   "metadata": {},
   "source": [
    "# クラス分類\n",
    "- ワインの等級 (3)"
   ]
  },
  {
   "cell_type": "code",
   "execution_count": 8,
   "metadata": {
    "collapsed": true
   },
   "outputs": [],
   "source": [
    "import numpy as np\n",
    "import pandas as pd\n",
    "import matplotlib.pyplot as plt\n",
    "%matplotlib inline"
   ]
  },
  {
   "cell_type": "code",
   "execution_count": 9,
   "metadata": {},
   "outputs": [
    {
     "data": {
      "text/html": [
       "<div>\n",
       "<style>\n",
       "    .dataframe thead tr:only-child th {\n",
       "        text-align: right;\n",
       "    }\n",
       "\n",
       "    .dataframe thead th {\n",
       "        text-align: left;\n",
       "    }\n",
       "\n",
       "    .dataframe tbody tr th {\n",
       "        vertical-align: top;\n",
       "    }\n",
       "</style>\n",
       "<table border=\"1\" class=\"dataframe\">\n",
       "  <thead>\n",
       "    <tr style=\"text-align: right;\">\n",
       "      <th></th>\n",
       "      <th>Class</th>\n",
       "      <th>Alcohol</th>\n",
       "      <th>Ash</th>\n",
       "      <th>Alcalinity of ash</th>\n",
       "      <th>Magnesium</th>\n",
       "      <th>Total phenols</th>\n",
       "      <th>Flavanoids</th>\n",
       "      <th>Nonflavanoid phenols</th>\n",
       "      <th>Color intensity</th>\n",
       "      <th>Hue</th>\n",
       "      <th>Proline</th>\n",
       "    </tr>\n",
       "  </thead>\n",
       "  <tbody>\n",
       "    <tr>\n",
       "      <th>0</th>\n",
       "      <td>1</td>\n",
       "      <td>14.23</td>\n",
       "      <td>2.43</td>\n",
       "      <td>15.6</td>\n",
       "      <td>127</td>\n",
       "      <td>2.80</td>\n",
       "      <td>3.06</td>\n",
       "      <td>0.28</td>\n",
       "      <td>5.64</td>\n",
       "      <td>1.04</td>\n",
       "      <td>1065</td>\n",
       "    </tr>\n",
       "    <tr>\n",
       "      <th>1</th>\n",
       "      <td>1</td>\n",
       "      <td>13.20</td>\n",
       "      <td>2.14</td>\n",
       "      <td>11.2</td>\n",
       "      <td>100</td>\n",
       "      <td>2.65</td>\n",
       "      <td>2.76</td>\n",
       "      <td>0.26</td>\n",
       "      <td>4.38</td>\n",
       "      <td>1.05</td>\n",
       "      <td>1050</td>\n",
       "    </tr>\n",
       "    <tr>\n",
       "      <th>2</th>\n",
       "      <td>1</td>\n",
       "      <td>13.16</td>\n",
       "      <td>2.67</td>\n",
       "      <td>18.6</td>\n",
       "      <td>101</td>\n",
       "      <td>2.80</td>\n",
       "      <td>3.24</td>\n",
       "      <td>0.30</td>\n",
       "      <td>5.68</td>\n",
       "      <td>1.03</td>\n",
       "      <td>1185</td>\n",
       "    </tr>\n",
       "  </tbody>\n",
       "</table>\n",
       "</div>"
      ],
      "text/plain": [
       "   Class  Alcohol   Ash  Alcalinity of ash  Magnesium  Total phenols  \\\n",
       "0      1    14.23  2.43               15.6        127           2.80   \n",
       "1      1    13.20  2.14               11.2        100           2.65   \n",
       "2      1    13.16  2.67               18.6        101           2.80   \n",
       "\n",
       "   Flavanoids  Nonflavanoid phenols  Color intensity   Hue  Proline  \n",
       "0        3.06                  0.28             5.64  1.04     1065  \n",
       "1        2.76                  0.26             4.38  1.05     1050  \n",
       "2        3.24                  0.30             5.68  1.03     1185  "
      ]
     },
     "execution_count": 9,
     "metadata": {},
     "output_type": "execute_result"
    }
   ],
   "source": [
    "# データの読み込み\n",
    "df = pd.read_csv('data/wine_class.csv')\n",
    "df.head(3)"
   ]
  },
  {
   "cell_type": "code",
   "execution_count": 10,
   "metadata": {
    "collapsed": true
   },
   "outputs": [],
   "source": [
    "# 入力変数と教師データに切り分け\n",
    "x = df.iloc[:, 1:]\n",
    "t = df.iloc[:, :1] # df.iloc[:, 0] としても可"
   ]
  },
  {
   "cell_type": "code",
   "execution_count": 11,
   "metadata": {},
   "outputs": [
    {
     "data": {
      "text/html": [
       "<div>\n",
       "<style>\n",
       "    .dataframe thead tr:only-child th {\n",
       "        text-align: right;\n",
       "    }\n",
       "\n",
       "    .dataframe thead th {\n",
       "        text-align: left;\n",
       "    }\n",
       "\n",
       "    .dataframe tbody tr th {\n",
       "        vertical-align: top;\n",
       "    }\n",
       "</style>\n",
       "<table border=\"1\" class=\"dataframe\">\n",
       "  <thead>\n",
       "    <tr style=\"text-align: right;\">\n",
       "      <th></th>\n",
       "      <th>Alcohol</th>\n",
       "      <th>Ash</th>\n",
       "      <th>Alcalinity of ash</th>\n",
       "      <th>Magnesium</th>\n",
       "      <th>Total phenols</th>\n",
       "      <th>Flavanoids</th>\n",
       "      <th>Nonflavanoid phenols</th>\n",
       "      <th>Color intensity</th>\n",
       "      <th>Hue</th>\n",
       "      <th>Proline</th>\n",
       "    </tr>\n",
       "  </thead>\n",
       "  <tbody>\n",
       "    <tr>\n",
       "      <th>0</th>\n",
       "      <td>14.23</td>\n",
       "      <td>2.43</td>\n",
       "      <td>15.6</td>\n",
       "      <td>127</td>\n",
       "      <td>2.80</td>\n",
       "      <td>3.06</td>\n",
       "      <td>0.28</td>\n",
       "      <td>5.64</td>\n",
       "      <td>1.04</td>\n",
       "      <td>1065</td>\n",
       "    </tr>\n",
       "    <tr>\n",
       "      <th>1</th>\n",
       "      <td>13.20</td>\n",
       "      <td>2.14</td>\n",
       "      <td>11.2</td>\n",
       "      <td>100</td>\n",
       "      <td>2.65</td>\n",
       "      <td>2.76</td>\n",
       "      <td>0.26</td>\n",
       "      <td>4.38</td>\n",
       "      <td>1.05</td>\n",
       "      <td>1050</td>\n",
       "    </tr>\n",
       "    <tr>\n",
       "      <th>2</th>\n",
       "      <td>13.16</td>\n",
       "      <td>2.67</td>\n",
       "      <td>18.6</td>\n",
       "      <td>101</td>\n",
       "      <td>2.80</td>\n",
       "      <td>3.24</td>\n",
       "      <td>0.30</td>\n",
       "      <td>5.68</td>\n",
       "      <td>1.03</td>\n",
       "      <td>1185</td>\n",
       "    </tr>\n",
       "  </tbody>\n",
       "</table>\n",
       "</div>"
      ],
      "text/plain": [
       "   Alcohol   Ash  Alcalinity of ash  Magnesium  Total phenols  Flavanoids  \\\n",
       "0    14.23  2.43               15.6        127           2.80        3.06   \n",
       "1    13.20  2.14               11.2        100           2.65        2.76   \n",
       "2    13.16  2.67               18.6        101           2.80        3.24   \n",
       "\n",
       "   Nonflavanoid phenols  Color intensity   Hue  Proline  \n",
       "0                  0.28             5.64  1.04     1065  \n",
       "1                  0.26             4.38  1.05     1050  \n",
       "2                  0.30             5.68  1.03     1185  "
      ]
     },
     "execution_count": 11,
     "metadata": {},
     "output_type": "execute_result"
    }
   ],
   "source": [
    "# 入力変数\n",
    "x.head(3)"
   ]
  },
  {
   "cell_type": "code",
   "execution_count": 12,
   "metadata": {},
   "outputs": [
    {
     "data": {
      "text/html": [
       "<div>\n",
       "<style>\n",
       "    .dataframe thead tr:only-child th {\n",
       "        text-align: right;\n",
       "    }\n",
       "\n",
       "    .dataframe thead th {\n",
       "        text-align: left;\n",
       "    }\n",
       "\n",
       "    .dataframe tbody tr th {\n",
       "        vertical-align: top;\n",
       "    }\n",
       "</style>\n",
       "<table border=\"1\" class=\"dataframe\">\n",
       "  <thead>\n",
       "    <tr style=\"text-align: right;\">\n",
       "      <th></th>\n",
       "      <th>Class</th>\n",
       "    </tr>\n",
       "  </thead>\n",
       "  <tbody>\n",
       "    <tr>\n",
       "      <th>0</th>\n",
       "      <td>1</td>\n",
       "    </tr>\n",
       "    <tr>\n",
       "      <th>1</th>\n",
       "      <td>1</td>\n",
       "    </tr>\n",
       "    <tr>\n",
       "      <th>2</th>\n",
       "      <td>1</td>\n",
       "    </tr>\n",
       "  </tbody>\n",
       "</table>\n",
       "</div>"
      ],
      "text/plain": [
       "   Class\n",
       "0      1\n",
       "1      1\n",
       "2      1"
      ]
     },
     "execution_count": 12,
     "metadata": {},
     "output_type": "execute_result"
    }
   ],
   "source": [
    "# 教師データ\n",
    "t.head(3)"
   ]
  },
  {
   "cell_type": "code",
   "execution_count": 13,
   "metadata": {},
   "outputs": [
    {
     "data": {
      "text/plain": [
       "(178, 10)"
      ]
     },
     "execution_count": 13,
     "metadata": {},
     "output_type": "execute_result"
    }
   ],
   "source": [
    "x.shape # .shape でサイズを確認。ここでは、178 x 10 の行列"
   ]
  },
  {
   "cell_type": "code",
   "execution_count": 14,
   "metadata": {},
   "outputs": [
    {
     "data": {
      "text/plain": [
       "(pandas.core.frame.DataFrame, pandas.core.frame.DataFrame)"
      ]
     },
     "execution_count": 14,
     "metadata": {},
     "output_type": "execute_result"
    }
   ],
   "source": [
    "type(x), type(t) # pandas のデータ型。np.array 型、つまり、Numpy のデータ型にしないといけない"
   ]
  },
  {
   "cell_type": "code",
   "execution_count": 15,
   "metadata": {},
   "outputs": [
    {
     "data": {
      "text/plain": [
       "numpy.ndarray"
      ]
     },
     "execution_count": 15,
     "metadata": {},
     "output_type": "execute_result"
    }
   ],
   "source": [
    "type(x.values)"
   ]
  },
  {
   "cell_type": "code",
   "execution_count": 16,
   "metadata": {
    "collapsed": true
   },
   "outputs": [],
   "source": [
    "x = x.values # 多次元配列の形に変換 == np.array に変換"
   ]
  },
  {
   "cell_type": "code",
   "execution_count": 17,
   "metadata": {},
   "outputs": [
    {
     "data": {
      "text/plain": [
       "array([[1],\n",
       "       [1],\n",
       "       [1],\n",
       "       [1],\n",
       "       [1],\n",
       "       [1],\n",
       "       [1],\n",
       "       [1],\n",
       "       [1],\n",
       "       [1],\n",
       "       [1],\n",
       "       [1],\n",
       "       [1],\n",
       "       [1],\n",
       "       [1],\n",
       "       [1],\n",
       "       [1],\n",
       "       [1],\n",
       "       [1],\n",
       "       [1],\n",
       "       [1],\n",
       "       [1],\n",
       "       [1],\n",
       "       [1],\n",
       "       [1],\n",
       "       [1],\n",
       "       [1],\n",
       "       [1],\n",
       "       [1],\n",
       "       [1],\n",
       "       [1],\n",
       "       [1],\n",
       "       [1],\n",
       "       [1],\n",
       "       [1],\n",
       "       [1],\n",
       "       [1],\n",
       "       [1],\n",
       "       [1],\n",
       "       [1],\n",
       "       [1],\n",
       "       [1],\n",
       "       [1],\n",
       "       [1],\n",
       "       [1],\n",
       "       [1],\n",
       "       [1],\n",
       "       [1],\n",
       "       [1],\n",
       "       [1],\n",
       "       [1],\n",
       "       [1],\n",
       "       [1],\n",
       "       [1],\n",
       "       [1],\n",
       "       [1],\n",
       "       [1],\n",
       "       [1],\n",
       "       [1],\n",
       "       [2],\n",
       "       [2],\n",
       "       [2],\n",
       "       [2],\n",
       "       [2],\n",
       "       [2],\n",
       "       [2],\n",
       "       [2],\n",
       "       [2],\n",
       "       [2],\n",
       "       [2],\n",
       "       [2],\n",
       "       [2],\n",
       "       [2],\n",
       "       [2],\n",
       "       [2],\n",
       "       [2],\n",
       "       [2],\n",
       "       [2],\n",
       "       [2],\n",
       "       [2],\n",
       "       [2],\n",
       "       [2],\n",
       "       [2],\n",
       "       [2],\n",
       "       [2],\n",
       "       [2],\n",
       "       [2],\n",
       "       [2],\n",
       "       [2],\n",
       "       [2],\n",
       "       [2],\n",
       "       [2],\n",
       "       [2],\n",
       "       [2],\n",
       "       [2],\n",
       "       [2],\n",
       "       [2],\n",
       "       [2],\n",
       "       [2],\n",
       "       [2],\n",
       "       [2],\n",
       "       [2],\n",
       "       [2],\n",
       "       [2],\n",
       "       [2],\n",
       "       [2],\n",
       "       [2],\n",
       "       [2],\n",
       "       [2],\n",
       "       [2],\n",
       "       [2],\n",
       "       [2],\n",
       "       [2],\n",
       "       [2],\n",
       "       [2],\n",
       "       [2],\n",
       "       [2],\n",
       "       [2],\n",
       "       [2],\n",
       "       [2],\n",
       "       [2],\n",
       "       [2],\n",
       "       [2],\n",
       "       [2],\n",
       "       [2],\n",
       "       [2],\n",
       "       [2],\n",
       "       [2],\n",
       "       [2],\n",
       "       [2],\n",
       "       [3],\n",
       "       [3],\n",
       "       [3],\n",
       "       [3],\n",
       "       [3],\n",
       "       [3],\n",
       "       [3],\n",
       "       [3],\n",
       "       [3],\n",
       "       [3],\n",
       "       [3],\n",
       "       [3],\n",
       "       [3],\n",
       "       [3],\n",
       "       [3],\n",
       "       [3],\n",
       "       [3],\n",
       "       [3],\n",
       "       [3],\n",
       "       [3],\n",
       "       [3],\n",
       "       [3],\n",
       "       [3],\n",
       "       [3],\n",
       "       [3],\n",
       "       [3],\n",
       "       [3],\n",
       "       [3],\n",
       "       [3],\n",
       "       [3],\n",
       "       [3],\n",
       "       [3],\n",
       "       [3],\n",
       "       [3],\n",
       "       [3],\n",
       "       [3],\n",
       "       [3],\n",
       "       [3],\n",
       "       [3],\n",
       "       [3],\n",
       "       [3],\n",
       "       [3],\n",
       "       [3],\n",
       "       [3],\n",
       "       [3],\n",
       "       [3],\n",
       "       [3],\n",
       "       [3]])"
      ]
     },
     "execution_count": 17,
     "metadata": {},
     "output_type": "execute_result"
    }
   ],
   "source": [
    "t.values"
   ]
  },
  {
   "cell_type": "code",
   "execution_count": 18,
   "metadata": {
    "collapsed": true
   },
   "outputs": [],
   "source": [
    "# t = t.values"
   ]
  },
  {
   "cell_type": "code",
   "execution_count": 19,
   "metadata": {},
   "outputs": [
    {
     "data": {
      "text/plain": [
       "pandas.core.frame.DataFrame"
      ]
     },
     "execution_count": 19,
     "metadata": {},
     "output_type": "execute_result"
    }
   ],
   "source": [
    "type(t)"
   ]
  },
  {
   "cell_type": "code",
   "execution_count": 20,
   "metadata": {
    "collapsed": true
   },
   "outputs": [],
   "source": [
    "t = t.values - 1 # ラベルを 1,2,3 から、0, 1, 2に変換。コンピュータが誤って 0 というクラスを追加してしまうのを防ぐ"
   ]
  },
  {
   "cell_type": "code",
   "execution_count": 21,
   "metadata": {},
   "outputs": [
    {
     "data": {
      "text/plain": [
       "array([[0],\n",
       "       [0],\n",
       "       [0],\n",
       "       [0],\n",
       "       [0],\n",
       "       [0],\n",
       "       [0],\n",
       "       [0],\n",
       "       [0],\n",
       "       [0],\n",
       "       [0],\n",
       "       [0],\n",
       "       [0],\n",
       "       [0],\n",
       "       [0],\n",
       "       [0],\n",
       "       [0],\n",
       "       [0],\n",
       "       [0],\n",
       "       [0],\n",
       "       [0],\n",
       "       [0],\n",
       "       [0],\n",
       "       [0],\n",
       "       [0],\n",
       "       [0],\n",
       "       [0],\n",
       "       [0],\n",
       "       [0],\n",
       "       [0],\n",
       "       [0],\n",
       "       [0],\n",
       "       [0],\n",
       "       [0],\n",
       "       [0],\n",
       "       [0],\n",
       "       [0],\n",
       "       [0],\n",
       "       [0],\n",
       "       [0],\n",
       "       [0],\n",
       "       [0],\n",
       "       [0],\n",
       "       [0],\n",
       "       [0],\n",
       "       [0],\n",
       "       [0],\n",
       "       [0],\n",
       "       [0],\n",
       "       [0],\n",
       "       [0],\n",
       "       [0],\n",
       "       [0],\n",
       "       [0],\n",
       "       [0],\n",
       "       [0],\n",
       "       [0],\n",
       "       [0],\n",
       "       [0],\n",
       "       [1],\n",
       "       [1],\n",
       "       [1],\n",
       "       [1],\n",
       "       [1],\n",
       "       [1],\n",
       "       [1],\n",
       "       [1],\n",
       "       [1],\n",
       "       [1],\n",
       "       [1],\n",
       "       [1],\n",
       "       [1],\n",
       "       [1],\n",
       "       [1],\n",
       "       [1],\n",
       "       [1],\n",
       "       [1],\n",
       "       [1],\n",
       "       [1],\n",
       "       [1],\n",
       "       [1],\n",
       "       [1],\n",
       "       [1],\n",
       "       [1],\n",
       "       [1],\n",
       "       [1],\n",
       "       [1],\n",
       "       [1],\n",
       "       [1],\n",
       "       [1],\n",
       "       [1],\n",
       "       [1],\n",
       "       [1],\n",
       "       [1],\n",
       "       [1],\n",
       "       [1],\n",
       "       [1],\n",
       "       [1],\n",
       "       [1],\n",
       "       [1],\n",
       "       [1],\n",
       "       [1],\n",
       "       [1],\n",
       "       [1],\n",
       "       [1],\n",
       "       [1],\n",
       "       [1],\n",
       "       [1],\n",
       "       [1],\n",
       "       [1],\n",
       "       [1],\n",
       "       [1],\n",
       "       [1],\n",
       "       [1],\n",
       "       [1],\n",
       "       [1],\n",
       "       [1],\n",
       "       [1],\n",
       "       [1],\n",
       "       [1],\n",
       "       [1],\n",
       "       [1],\n",
       "       [1],\n",
       "       [1],\n",
       "       [1],\n",
       "       [1],\n",
       "       [1],\n",
       "       [1],\n",
       "       [1],\n",
       "       [1],\n",
       "       [2],\n",
       "       [2],\n",
       "       [2],\n",
       "       [2],\n",
       "       [2],\n",
       "       [2],\n",
       "       [2],\n",
       "       [2],\n",
       "       [2],\n",
       "       [2],\n",
       "       [2],\n",
       "       [2],\n",
       "       [2],\n",
       "       [2],\n",
       "       [2],\n",
       "       [2],\n",
       "       [2],\n",
       "       [2],\n",
       "       [2],\n",
       "       [2],\n",
       "       [2],\n",
       "       [2],\n",
       "       [2],\n",
       "       [2],\n",
       "       [2],\n",
       "       [2],\n",
       "       [2],\n",
       "       [2],\n",
       "       [2],\n",
       "       [2],\n",
       "       [2],\n",
       "       [2],\n",
       "       [2],\n",
       "       [2],\n",
       "       [2],\n",
       "       [2],\n",
       "       [2],\n",
       "       [2],\n",
       "       [2],\n",
       "       [2],\n",
       "       [2],\n",
       "       [2],\n",
       "       [2],\n",
       "       [2],\n",
       "       [2],\n",
       "       [2],\n",
       "       [2],\n",
       "       [2]])"
      ]
     },
     "execution_count": 21,
     "metadata": {},
     "output_type": "execute_result"
    }
   ],
   "source": [
    "t"
   ]
  },
  {
   "cell_type": "markdown",
   "metadata": {},
   "source": [
    "## 訓練データと検証データに分割"
   ]
  },
  {
   "cell_type": "code",
   "execution_count": 22,
   "metadata": {
    "collapsed": true
   },
   "outputs": [],
   "source": [
    "from sklearn.model_selection import train_test_split"
   ]
  },
  {
   "cell_type": "code",
   "execution_count": 23,
   "metadata": {
    "collapsed": true
   },
   "outputs": [],
   "source": [
    "# 事前予習動画では、x_train, y_train となっているが、x_train, x_val, ... の順で書く方が多い\n",
    "x_train, x_val, t_train, t_val = train_test_split(x, t, test_size=0.3, random_state=0)\n",
    "# random_state=0 にすると、分割の仕方を固定。random_state=1 にするとランダムに分割"
   ]
  },
  {
   "cell_type": "code",
   "execution_count": 24,
   "metadata": {},
   "outputs": [
    {
     "data": {
      "text/plain": [
       "(124, 54, 124, 54)"
      ]
     },
     "execution_count": 24,
     "metadata": {},
     "output_type": "execute_result"
    }
   ],
   "source": [
    "len(x_train), len(x_val), len(t_train), len(t_val)"
   ]
  },
  {
   "cell_type": "markdown",
   "metadata": {},
   "source": [
    "## シードの固定のための準備"
   ]
  },
  {
   "cell_type": "code",
   "execution_count": 25,
   "metadata": {
    "collapsed": true
   },
   "outputs": [],
   "source": [
    "import os\n",
    "import random\n",
    "\n",
    "\n",
    "def reset_seed(seed=0):\n",
    "\n",
    "    os.environ['PYTHONHASHSEED'] = '0'\n",
    "    random.seed(seed) #　random関数のシードを固定\n",
    "    np.random.seed(seed) #numpyのシードを固定\n",
    "    tf.random.set_seed(seed) #tensorflowのシードを固定"
   ]
  },
  {
   "cell_type": "markdown",
   "metadata": {},
   "source": [
    "## モデルの構築"
   ]
  },
  {
   "cell_type": "code",
   "execution_count": 26,
   "metadata": {
    "collapsed": true
   },
   "outputs": [],
   "source": [
    "#  シードの固定\n",
    "reset_seed(0)\n",
    "\n",
    "#モデルの構築\n",
    "model = keras.Sequential([ # インスタンス化\n",
    "    # 層の追加\n",
    "    keras.layers.Dense(5, input_shape=(10,)), \n",
    "    # input_shapes は x.shape() を参照。原則、\"=(xxx,)\"とタプル型であることを明示する\n",
    "    keras.layers.Activation('relu'), \n",
    "    # 活性化関数として ReLu の利用を宣言\n",
    "    keras.layers.Dense(3),\n",
    "    # 出力数の決定\n",
    "    keras.layers.Activation('softmax')\n",
    "    # 損失関数として softmax の利用を宣言\n",
    "])"
   ]
  },
  {
   "cell_type": "markdown",
   "metadata": {},
   "source": [
    "### よりスマートな書き方"
   ]
  },
  {
   "cell_type": "code",
   "execution_count": 27,
   "metadata": {
    "collapsed": true
   },
   "outputs": [],
   "source": [
    "from tensorflow.keras import models, layers\n",
    "\n",
    "# モデルのインスタンス化\n",
    "model = models.Sequential()\n",
    "\n",
    "# モデルに構築\n",
    "model.add(layers.Dense(5, activation='relu', input_shape=(10,))) # 2 層 1 セット\n",
    "model.add(layers.Dense(3, activation='softmax'))"
   ]
  },
  {
   "cell_type": "markdown",
   "metadata": {},
   "source": [
    "## モデルのコンパイル (学習処理の方法を指定)"
   ]
  },
  {
   "cell_type": "code",
   "execution_count": 28,
   "metadata": {
    "collapsed": true
   },
   "outputs": [],
   "source": [
    "# SDG = 確率的勾配降下法。metrics は評価指標で accuracy を使うことが多い\n",
    "model.compile(optimizer='SGD',\n",
    "               loss='sparse_categorical_crossentropy',\n",
    "               metrics=['accuracy'])"
   ]
  },
  {
   "cell_type": "markdown",
   "metadata": {},
   "source": [
    "## 学習の実行"
   ]
  },
  {
   "cell_type": "code",
   "execution_count": 29,
   "metadata": {},
   "outputs": [
    {
     "name": "stdout",
     "output_type": "stream",
     "text": [
      "Train on 124 samples, validate on 54 samples\n",
      "Epoch 1/50\n",
      "124/124 [==============================] - 1s 4ms/sample - loss: 63.2295 - accuracy: 0.3629 - val_loss: 1.0977 - val_accuracy: 0.4074\n",
      "Epoch 2/50\n",
      "124/124 [==============================] - 0s 226us/sample - loss: 1.0979 - accuracy: 0.3952 - val_loss: 1.0966 - val_accuracy: 0.4074\n",
      "Epoch 3/50\n",
      "124/124 [==============================] - 0s 224us/sample - loss: 1.0971 - accuracy: 0.3952 - val_loss: 1.0954 - val_accuracy: 0.4074\n",
      "Epoch 4/50\n",
      "124/124 [==============================] - 0s 239us/sample - loss: 1.0963 - accuracy: 0.3952 - val_loss: 1.0943 - val_accuracy: 0.4074\n",
      "Epoch 5/50\n",
      "124/124 [==============================] - 0s 224us/sample - loss: 1.0958 - accuracy: 0.3952 - val_loss: 1.0935 - val_accuracy: 0.4074\n",
      "Epoch 6/50\n",
      "124/124 [==============================] - 0s 221us/sample - loss: 1.0951 - accuracy: 0.3952 - val_loss: 1.0928 - val_accuracy: 0.4074\n",
      "Epoch 7/50\n",
      "124/124 [==============================] - 0s 221us/sample - loss: 1.0947 - accuracy: 0.3952 - val_loss: 1.0920 - val_accuracy: 0.4074\n",
      "Epoch 8/50\n",
      "124/124 [==============================] - 0s 232us/sample - loss: 1.0943 - accuracy: 0.3952 - val_loss: 1.0915 - val_accuracy: 0.4074\n",
      "Epoch 9/50\n",
      "124/124 [==============================] - 0s 218us/sample - loss: 1.0939 - accuracy: 0.3952 - val_loss: 1.0908 - val_accuracy: 0.4074\n",
      "Epoch 10/50\n",
      "124/124 [==============================] - 0s 238us/sample - loss: 1.0934 - accuracy: 0.3952 - val_loss: 1.0902 - val_accuracy: 0.4074\n",
      "Epoch 11/50\n",
      "124/124 [==============================] - 0s 227us/sample - loss: 1.0931 - accuracy: 0.3952 - val_loss: 1.0898 - val_accuracy: 0.4074\n",
      "Epoch 12/50\n",
      "124/124 [==============================] - 0s 221us/sample - loss: 1.0929 - accuracy: 0.3952 - val_loss: 1.0893 - val_accuracy: 0.4074\n",
      "Epoch 13/50\n",
      "124/124 [==============================] - 0s 231us/sample - loss: 1.0926 - accuracy: 0.3952 - val_loss: 1.0887 - val_accuracy: 0.4074\n",
      "Epoch 14/50\n",
      "124/124 [==============================] - 0s 232us/sample - loss: 1.0922 - accuracy: 0.3952 - val_loss: 1.0881 - val_accuracy: 0.4074\n",
      "Epoch 15/50\n",
      "124/124 [==============================] - 0s 217us/sample - loss: 1.0918 - accuracy: 0.3952 - val_loss: 1.0875 - val_accuracy: 0.4074\n",
      "Epoch 16/50\n",
      "124/124 [==============================] - 0s 216us/sample - loss: 1.0916 - accuracy: 0.3952 - val_loss: 1.0870 - val_accuracy: 0.4074\n",
      "Epoch 17/50\n",
      "124/124 [==============================] - 0s 224us/sample - loss: 1.0914 - accuracy: 0.3952 - val_loss: 1.0864 - val_accuracy: 0.4074\n",
      "Epoch 18/50\n",
      "124/124 [==============================] - 0s 219us/sample - loss: 1.0912 - accuracy: 0.3952 - val_loss: 1.0860 - val_accuracy: 0.4074\n",
      "Epoch 19/50\n",
      "124/124 [==============================] - 0s 218us/sample - loss: 1.0909 - accuracy: 0.3952 - val_loss: 1.0857 - val_accuracy: 0.4074\n",
      "Epoch 20/50\n",
      "124/124 [==============================] - 0s 232us/sample - loss: 1.0906 - accuracy: 0.3952 - val_loss: 1.0852 - val_accuracy: 0.4074\n",
      "Epoch 21/50\n",
      "124/124 [==============================] - 0s 236us/sample - loss: 1.0904 - accuracy: 0.3952 - val_loss: 1.0851 - val_accuracy: 0.4074\n",
      "Epoch 22/50\n",
      "124/124 [==============================] - 0s 217us/sample - loss: 1.0905 - accuracy: 0.3952 - val_loss: 1.0849 - val_accuracy: 0.4074\n",
      "Epoch 23/50\n",
      "124/124 [==============================] - 0s 225us/sample - loss: 1.0903 - accuracy: 0.3952 - val_loss: 1.0848 - val_accuracy: 0.4074\n",
      "Epoch 24/50\n",
      "124/124 [==============================] - 0s 221us/sample - loss: 1.0902 - accuracy: 0.3952 - val_loss: 1.0846 - val_accuracy: 0.4074\n",
      "Epoch 25/50\n",
      "124/124 [==============================] - 0s 225us/sample - loss: 1.0900 - accuracy: 0.3952 - val_loss: 1.0842 - val_accuracy: 0.4074\n",
      "Epoch 26/50\n",
      "124/124 [==============================] - 0s 227us/sample - loss: 1.0900 - accuracy: 0.3952 - val_loss: 1.0840 - val_accuracy: 0.4074\n",
      "Epoch 27/50\n",
      "124/124 [==============================] - 0s 233us/sample - loss: 1.0900 - accuracy: 0.3952 - val_loss: 1.0837 - val_accuracy: 0.4074\n",
      "Epoch 28/50\n",
      "124/124 [==============================] - 0s 225us/sample - loss: 1.0898 - accuracy: 0.3952 - val_loss: 1.0834 - val_accuracy: 0.4074\n",
      "Epoch 29/50\n",
      "124/124 [==============================] - 0s 217us/sample - loss: 1.0899 - accuracy: 0.3952 - val_loss: 1.0834 - val_accuracy: 0.4074\n",
      "Epoch 30/50\n",
      "124/124 [==============================] - 0s 224us/sample - loss: 1.0898 - accuracy: 0.3952 - val_loss: 1.0831 - val_accuracy: 0.4074\n",
      "Epoch 31/50\n",
      "124/124 [==============================] - 0s 223us/sample - loss: 1.0897 - accuracy: 0.3952 - val_loss: 1.0831 - val_accuracy: 0.4074\n",
      "Epoch 32/50\n",
      "124/124 [==============================] - 0s 230us/sample - loss: 1.0897 - accuracy: 0.3952 - val_loss: 1.0830 - val_accuracy: 0.4074\n",
      "Epoch 33/50\n",
      "124/124 [==============================] - 0s 224us/sample - loss: 1.0898 - accuracy: 0.3952 - val_loss: 1.0829 - val_accuracy: 0.4074\n",
      "Epoch 34/50\n",
      "124/124 [==============================] - 0s 228us/sample - loss: 1.0896 - accuracy: 0.3952 - val_loss: 1.0830 - val_accuracy: 0.4074\n",
      "Epoch 35/50\n",
      "124/124 [==============================] - 0s 216us/sample - loss: 1.0896 - accuracy: 0.3952 - val_loss: 1.0831 - val_accuracy: 0.4074\n",
      "Epoch 36/50\n",
      "124/124 [==============================] - 0s 222us/sample - loss: 1.0896 - accuracy: 0.3952 - val_loss: 1.0831 - val_accuracy: 0.4074\n",
      "Epoch 37/50\n",
      "124/124 [==============================] - 0s 227us/sample - loss: 1.0895 - accuracy: 0.3952 - val_loss: 1.0829 - val_accuracy: 0.4074\n",
      "Epoch 38/50\n",
      "124/124 [==============================] - 0s 216us/sample - loss: 1.0894 - accuracy: 0.3952 - val_loss: 1.0829 - val_accuracy: 0.4074\n",
      "Epoch 39/50\n",
      "124/124 [==============================] - 0s 236us/sample - loss: 1.0893 - accuracy: 0.3952 - val_loss: 1.0829 - val_accuracy: 0.4074\n",
      "Epoch 40/50\n",
      "124/124 [==============================] - 0s 224us/sample - loss: 1.0896 - accuracy: 0.3952 - val_loss: 1.0829 - val_accuracy: 0.4074\n",
      "Epoch 41/50\n",
      "124/124 [==============================] - 0s 228us/sample - loss: 1.0894 - accuracy: 0.3952 - val_loss: 1.0828 - val_accuracy: 0.4074\n",
      "Epoch 42/50\n",
      "124/124 [==============================] - 0s 226us/sample - loss: 1.0894 - accuracy: 0.3952 - val_loss: 1.0826 - val_accuracy: 0.4074\n",
      "Epoch 43/50\n",
      "124/124 [==============================] - 0s 224us/sample - loss: 1.0895 - accuracy: 0.3952 - val_loss: 1.0825 - val_accuracy: 0.4074\n",
      "Epoch 44/50\n",
      "124/124 [==============================] - 0s 229us/sample - loss: 1.0893 - accuracy: 0.3952 - val_loss: 1.0825 - val_accuracy: 0.4074\n",
      "Epoch 45/50\n",
      "124/124 [==============================] - 0s 217us/sample - loss: 1.0895 - accuracy: 0.3952 - val_loss: 1.0825 - val_accuracy: 0.4074\n",
      "Epoch 46/50\n",
      "124/124 [==============================] - 0s 223us/sample - loss: 1.0893 - accuracy: 0.3952 - val_loss: 1.0825 - val_accuracy: 0.4074\n",
      "Epoch 47/50\n",
      "124/124 [==============================] - 0s 235us/sample - loss: 1.0893 - accuracy: 0.3952 - val_loss: 1.0824 - val_accuracy: 0.4074\n",
      "Epoch 48/50\n",
      "124/124 [==============================] - 0s 231us/sample - loss: 1.0894 - accuracy: 0.3952 - val_loss: 1.0823 - val_accuracy: 0.4074\n",
      "Epoch 49/50\n",
      "124/124 [==============================] - 0s 280us/sample - loss: 1.0893 - accuracy: 0.3952 - val_loss: 1.0823 - val_accuracy: 0.4074\n",
      "Epoch 50/50\n",
      "124/124 [==============================] - 0s 234us/sample - loss: 1.0893 - accuracy: 0.3952 - val_loss: 1.0822 - val_accuracy: 0.4074\n"
     ]
    }
   ],
   "source": [
    "# batch_size=xx はミニバッチ学習を行う。ランダムに xx 個ずつ取って xx 個ずつ損失関数を計算。\n",
    "# epoch=xx 何回学習させるか。持っているデータを使い切るまでで 1 epoch\n",
    "# verbose=1 とすると学習の過程を可視化。\n",
    "history = model.fit(x_train, t_train,\n",
    "                   batch_size=10,\n",
    "                   epochs=50,\n",
    "                   verbose=1,\n",
    "                   validation_data=(x_val, t_val))"
   ]
  },
  {
   "cell_type": "code",
   "execution_count": 30,
   "metadata": {
    "collapsed": true
   },
   "outputs": [],
   "source": [
    "history = model.fit(x_train, t_train,\n",
    "                   batch_size=10,\n",
    "                   epochs=50,\n",
    "                   verbose=0,\n",
    "                   validation_data=(x_val, t_val))"
   ]
  },
  {
   "cell_type": "markdown",
   "metadata": {},
   "source": [
    "## 結果の確認"
   ]
  },
  {
   "cell_type": "code",
   "execution_count": 31,
   "metadata": {},
   "outputs": [
    {
     "data": {
      "text/plain": [
       "dict"
      ]
     },
     "execution_count": 31,
     "metadata": {},
     "output_type": "execute_result"
    }
   ],
   "source": [
    "type(history.history)"
   ]
  },
  {
   "cell_type": "code",
   "execution_count": 32,
   "metadata": {
    "collapsed": true
   },
   "outputs": [],
   "source": [
    "results = pd.DataFrame(history.history)"
   ]
  },
  {
   "cell_type": "code",
   "execution_count": 33,
   "metadata": {},
   "outputs": [
    {
     "data": {
      "text/html": [
       "<div>\n",
       "<style>\n",
       "    .dataframe thead tr:only-child th {\n",
       "        text-align: right;\n",
       "    }\n",
       "\n",
       "    .dataframe thead th {\n",
       "        text-align: left;\n",
       "    }\n",
       "\n",
       "    .dataframe tbody tr th {\n",
       "        vertical-align: top;\n",
       "    }\n",
       "</style>\n",
       "<table border=\"1\" class=\"dataframe\">\n",
       "  <thead>\n",
       "    <tr style=\"text-align: right;\">\n",
       "      <th></th>\n",
       "      <th>accuracy</th>\n",
       "      <th>loss</th>\n",
       "      <th>val_accuracy</th>\n",
       "      <th>val_loss</th>\n",
       "    </tr>\n",
       "  </thead>\n",
       "  <tbody>\n",
       "    <tr>\n",
       "      <th>0</th>\n",
       "      <td>0.395161</td>\n",
       "      <td>1.089405</td>\n",
       "      <td>0.407407</td>\n",
       "      <td>1.082251</td>\n",
       "    </tr>\n",
       "    <tr>\n",
       "      <th>1</th>\n",
       "      <td>0.395161</td>\n",
       "      <td>1.089253</td>\n",
       "      <td>0.407407</td>\n",
       "      <td>1.082186</td>\n",
       "    </tr>\n",
       "    <tr>\n",
       "      <th>2</th>\n",
       "      <td>0.395161</td>\n",
       "      <td>1.089260</td>\n",
       "      <td>0.407407</td>\n",
       "      <td>1.082004</td>\n",
       "    </tr>\n",
       "    <tr>\n",
       "      <th>3</th>\n",
       "      <td>0.395161</td>\n",
       "      <td>1.089241</td>\n",
       "      <td>0.407407</td>\n",
       "      <td>1.081981</td>\n",
       "    </tr>\n",
       "    <tr>\n",
       "      <th>4</th>\n",
       "      <td>0.395161</td>\n",
       "      <td>1.089434</td>\n",
       "      <td>0.407407</td>\n",
       "      <td>1.081911</td>\n",
       "    </tr>\n",
       "    <tr>\n",
       "      <th>5</th>\n",
       "      <td>0.395161</td>\n",
       "      <td>1.089249</td>\n",
       "      <td>0.407407</td>\n",
       "      <td>1.081821</td>\n",
       "    </tr>\n",
       "    <tr>\n",
       "      <th>6</th>\n",
       "      <td>0.395161</td>\n",
       "      <td>1.089198</td>\n",
       "      <td>0.407407</td>\n",
       "      <td>1.081798</td>\n",
       "    </tr>\n",
       "    <tr>\n",
       "      <th>7</th>\n",
       "      <td>0.395161</td>\n",
       "      <td>1.089394</td>\n",
       "      <td>0.407407</td>\n",
       "      <td>1.081845</td>\n",
       "    </tr>\n",
       "    <tr>\n",
       "      <th>8</th>\n",
       "      <td>0.395161</td>\n",
       "      <td>1.089341</td>\n",
       "      <td>0.407407</td>\n",
       "      <td>1.081770</td>\n",
       "    </tr>\n",
       "    <tr>\n",
       "      <th>9</th>\n",
       "      <td>0.395161</td>\n",
       "      <td>1.089186</td>\n",
       "      <td>0.407407</td>\n",
       "      <td>1.081702</td>\n",
       "    </tr>\n",
       "    <tr>\n",
       "      <th>10</th>\n",
       "      <td>0.395161</td>\n",
       "      <td>1.089190</td>\n",
       "      <td>0.407407</td>\n",
       "      <td>1.081756</td>\n",
       "    </tr>\n",
       "    <tr>\n",
       "      <th>11</th>\n",
       "      <td>0.395161</td>\n",
       "      <td>1.089240</td>\n",
       "      <td>0.407407</td>\n",
       "      <td>1.081720</td>\n",
       "    </tr>\n",
       "    <tr>\n",
       "      <th>12</th>\n",
       "      <td>0.395161</td>\n",
       "      <td>1.089313</td>\n",
       "      <td>0.407407</td>\n",
       "      <td>1.081682</td>\n",
       "    </tr>\n",
       "    <tr>\n",
       "      <th>13</th>\n",
       "      <td>0.395161</td>\n",
       "      <td>1.089174</td>\n",
       "      <td>0.407407</td>\n",
       "      <td>1.081532</td>\n",
       "    </tr>\n",
       "    <tr>\n",
       "      <th>14</th>\n",
       "      <td>0.395161</td>\n",
       "      <td>1.089115</td>\n",
       "      <td>0.407407</td>\n",
       "      <td>1.081384</td>\n",
       "    </tr>\n",
       "    <tr>\n",
       "      <th>15</th>\n",
       "      <td>0.395161</td>\n",
       "      <td>1.089154</td>\n",
       "      <td>0.407407</td>\n",
       "      <td>1.081246</td>\n",
       "    </tr>\n",
       "    <tr>\n",
       "      <th>16</th>\n",
       "      <td>0.395161</td>\n",
       "      <td>1.089200</td>\n",
       "      <td>0.407407</td>\n",
       "      <td>1.081139</td>\n",
       "    </tr>\n",
       "    <tr>\n",
       "      <th>17</th>\n",
       "      <td>0.395161</td>\n",
       "      <td>1.089295</td>\n",
       "      <td>0.407407</td>\n",
       "      <td>1.081016</td>\n",
       "    </tr>\n",
       "    <tr>\n",
       "      <th>18</th>\n",
       "      <td>0.395161</td>\n",
       "      <td>1.089235</td>\n",
       "      <td>0.407407</td>\n",
       "      <td>1.081006</td>\n",
       "    </tr>\n",
       "    <tr>\n",
       "      <th>19</th>\n",
       "      <td>0.395161</td>\n",
       "      <td>1.089093</td>\n",
       "      <td>0.407407</td>\n",
       "      <td>1.080914</td>\n",
       "    </tr>\n",
       "    <tr>\n",
       "      <th>20</th>\n",
       "      <td>0.395161</td>\n",
       "      <td>1.089067</td>\n",
       "      <td>0.407407</td>\n",
       "      <td>1.080992</td>\n",
       "    </tr>\n",
       "    <tr>\n",
       "      <th>21</th>\n",
       "      <td>0.395161</td>\n",
       "      <td>1.089259</td>\n",
       "      <td>0.407407</td>\n",
       "      <td>1.080985</td>\n",
       "    </tr>\n",
       "    <tr>\n",
       "      <th>22</th>\n",
       "      <td>0.395161</td>\n",
       "      <td>1.089181</td>\n",
       "      <td>0.407407</td>\n",
       "      <td>1.081061</td>\n",
       "    </tr>\n",
       "    <tr>\n",
       "      <th>23</th>\n",
       "      <td>0.395161</td>\n",
       "      <td>1.089105</td>\n",
       "      <td>0.407407</td>\n",
       "      <td>1.081050</td>\n",
       "    </tr>\n",
       "    <tr>\n",
       "      <th>24</th>\n",
       "      <td>0.395161</td>\n",
       "      <td>1.089100</td>\n",
       "      <td>0.407407</td>\n",
       "      <td>1.080931</td>\n",
       "    </tr>\n",
       "    <tr>\n",
       "      <th>25</th>\n",
       "      <td>0.395161</td>\n",
       "      <td>1.089201</td>\n",
       "      <td>0.407407</td>\n",
       "      <td>1.080923</td>\n",
       "    </tr>\n",
       "    <tr>\n",
       "      <th>26</th>\n",
       "      <td>0.395161</td>\n",
       "      <td>1.089245</td>\n",
       "      <td>0.407407</td>\n",
       "      <td>1.080833</td>\n",
       "    </tr>\n",
       "    <tr>\n",
       "      <th>27</th>\n",
       "      <td>0.395161</td>\n",
       "      <td>1.089163</td>\n",
       "      <td>0.407407</td>\n",
       "      <td>1.080698</td>\n",
       "    </tr>\n",
       "    <tr>\n",
       "      <th>28</th>\n",
       "      <td>0.395161</td>\n",
       "      <td>1.089331</td>\n",
       "      <td>0.407407</td>\n",
       "      <td>1.080810</td>\n",
       "    </tr>\n",
       "    <tr>\n",
       "      <th>29</th>\n",
       "      <td>0.395161</td>\n",
       "      <td>1.089268</td>\n",
       "      <td>0.407407</td>\n",
       "      <td>1.080699</td>\n",
       "    </tr>\n",
       "    <tr>\n",
       "      <th>30</th>\n",
       "      <td>0.395161</td>\n",
       "      <td>1.089255</td>\n",
       "      <td>0.407407</td>\n",
       "      <td>1.080778</td>\n",
       "    </tr>\n",
       "    <tr>\n",
       "      <th>31</th>\n",
       "      <td>0.395161</td>\n",
       "      <td>1.089267</td>\n",
       "      <td>0.407407</td>\n",
       "      <td>1.080729</td>\n",
       "    </tr>\n",
       "    <tr>\n",
       "      <th>32</th>\n",
       "      <td>0.395161</td>\n",
       "      <td>1.089395</td>\n",
       "      <td>0.407407</td>\n",
       "      <td>1.080726</td>\n",
       "    </tr>\n",
       "    <tr>\n",
       "      <th>33</th>\n",
       "      <td>0.395161</td>\n",
       "      <td>1.089177</td>\n",
       "      <td>0.407407</td>\n",
       "      <td>1.080917</td>\n",
       "    </tr>\n",
       "    <tr>\n",
       "      <th>34</th>\n",
       "      <td>0.395161</td>\n",
       "      <td>1.089258</td>\n",
       "      <td>0.407407</td>\n",
       "      <td>1.081103</td>\n",
       "    </tr>\n",
       "    <tr>\n",
       "      <th>35</th>\n",
       "      <td>0.395161</td>\n",
       "      <td>1.089225</td>\n",
       "      <td>0.407407</td>\n",
       "      <td>1.081204</td>\n",
       "    </tr>\n",
       "    <tr>\n",
       "      <th>36</th>\n",
       "      <td>0.395161</td>\n",
       "      <td>1.089161</td>\n",
       "      <td>0.407407</td>\n",
       "      <td>1.081108</td>\n",
       "    </tr>\n",
       "    <tr>\n",
       "      <th>37</th>\n",
       "      <td>0.395161</td>\n",
       "      <td>1.089123</td>\n",
       "      <td>0.407407</td>\n",
       "      <td>1.081210</td>\n",
       "    </tr>\n",
       "    <tr>\n",
       "      <th>38</th>\n",
       "      <td>0.395161</td>\n",
       "      <td>1.089028</td>\n",
       "      <td>0.407407</td>\n",
       "      <td>1.081276</td>\n",
       "    </tr>\n",
       "    <tr>\n",
       "      <th>39</th>\n",
       "      <td>0.395161</td>\n",
       "      <td>1.089295</td>\n",
       "      <td>0.407407</td>\n",
       "      <td>1.081340</td>\n",
       "    </tr>\n",
       "    <tr>\n",
       "      <th>40</th>\n",
       "      <td>0.395161</td>\n",
       "      <td>1.089157</td>\n",
       "      <td>0.407407</td>\n",
       "      <td>1.081317</td>\n",
       "    </tr>\n",
       "    <tr>\n",
       "      <th>41</th>\n",
       "      <td>0.395161</td>\n",
       "      <td>1.089134</td>\n",
       "      <td>0.407407</td>\n",
       "      <td>1.081183</td>\n",
       "    </tr>\n",
       "    <tr>\n",
       "      <th>42</th>\n",
       "      <td>0.395161</td>\n",
       "      <td>1.089305</td>\n",
       "      <td>0.407407</td>\n",
       "      <td>1.081171</td>\n",
       "    </tr>\n",
       "    <tr>\n",
       "      <th>43</th>\n",
       "      <td>0.395161</td>\n",
       "      <td>1.089169</td>\n",
       "      <td>0.407407</td>\n",
       "      <td>1.081237</td>\n",
       "    </tr>\n",
       "    <tr>\n",
       "      <th>44</th>\n",
       "      <td>0.395161</td>\n",
       "      <td>1.089322</td>\n",
       "      <td>0.407407</td>\n",
       "      <td>1.081216</td>\n",
       "    </tr>\n",
       "    <tr>\n",
       "      <th>45</th>\n",
       "      <td>0.395161</td>\n",
       "      <td>1.089115</td>\n",
       "      <td>0.407407</td>\n",
       "      <td>1.081285</td>\n",
       "    </tr>\n",
       "    <tr>\n",
       "      <th>46</th>\n",
       "      <td>0.395161</td>\n",
       "      <td>1.089180</td>\n",
       "      <td>0.407407</td>\n",
       "      <td>1.081208</td>\n",
       "    </tr>\n",
       "    <tr>\n",
       "      <th>47</th>\n",
       "      <td>0.395161</td>\n",
       "      <td>1.089202</td>\n",
       "      <td>0.407407</td>\n",
       "      <td>1.081214</td>\n",
       "    </tr>\n",
       "    <tr>\n",
       "      <th>48</th>\n",
       "      <td>0.395161</td>\n",
       "      <td>1.089164</td>\n",
       "      <td>0.407407</td>\n",
       "      <td>1.081228</td>\n",
       "    </tr>\n",
       "    <tr>\n",
       "      <th>49</th>\n",
       "      <td>0.395161</td>\n",
       "      <td>1.089160</td>\n",
       "      <td>0.407407</td>\n",
       "      <td>1.081243</td>\n",
       "    </tr>\n",
       "  </tbody>\n",
       "</table>\n",
       "</div>"
      ],
      "text/plain": [
       "    accuracy      loss  val_accuracy  val_loss\n",
       "0   0.395161  1.089405      0.407407  1.082251\n",
       "1   0.395161  1.089253      0.407407  1.082186\n",
       "2   0.395161  1.089260      0.407407  1.082004\n",
       "3   0.395161  1.089241      0.407407  1.081981\n",
       "4   0.395161  1.089434      0.407407  1.081911\n",
       "5   0.395161  1.089249      0.407407  1.081821\n",
       "6   0.395161  1.089198      0.407407  1.081798\n",
       "7   0.395161  1.089394      0.407407  1.081845\n",
       "8   0.395161  1.089341      0.407407  1.081770\n",
       "9   0.395161  1.089186      0.407407  1.081702\n",
       "10  0.395161  1.089190      0.407407  1.081756\n",
       "11  0.395161  1.089240      0.407407  1.081720\n",
       "12  0.395161  1.089313      0.407407  1.081682\n",
       "13  0.395161  1.089174      0.407407  1.081532\n",
       "14  0.395161  1.089115      0.407407  1.081384\n",
       "15  0.395161  1.089154      0.407407  1.081246\n",
       "16  0.395161  1.089200      0.407407  1.081139\n",
       "17  0.395161  1.089295      0.407407  1.081016\n",
       "18  0.395161  1.089235      0.407407  1.081006\n",
       "19  0.395161  1.089093      0.407407  1.080914\n",
       "20  0.395161  1.089067      0.407407  1.080992\n",
       "21  0.395161  1.089259      0.407407  1.080985\n",
       "22  0.395161  1.089181      0.407407  1.081061\n",
       "23  0.395161  1.089105      0.407407  1.081050\n",
       "24  0.395161  1.089100      0.407407  1.080931\n",
       "25  0.395161  1.089201      0.407407  1.080923\n",
       "26  0.395161  1.089245      0.407407  1.080833\n",
       "27  0.395161  1.089163      0.407407  1.080698\n",
       "28  0.395161  1.089331      0.407407  1.080810\n",
       "29  0.395161  1.089268      0.407407  1.080699\n",
       "30  0.395161  1.089255      0.407407  1.080778\n",
       "31  0.395161  1.089267      0.407407  1.080729\n",
       "32  0.395161  1.089395      0.407407  1.080726\n",
       "33  0.395161  1.089177      0.407407  1.080917\n",
       "34  0.395161  1.089258      0.407407  1.081103\n",
       "35  0.395161  1.089225      0.407407  1.081204\n",
       "36  0.395161  1.089161      0.407407  1.081108\n",
       "37  0.395161  1.089123      0.407407  1.081210\n",
       "38  0.395161  1.089028      0.407407  1.081276\n",
       "39  0.395161  1.089295      0.407407  1.081340\n",
       "40  0.395161  1.089157      0.407407  1.081317\n",
       "41  0.395161  1.089134      0.407407  1.081183\n",
       "42  0.395161  1.089305      0.407407  1.081171\n",
       "43  0.395161  1.089169      0.407407  1.081237\n",
       "44  0.395161  1.089322      0.407407  1.081216\n",
       "45  0.395161  1.089115      0.407407  1.081285\n",
       "46  0.395161  1.089180      0.407407  1.081208\n",
       "47  0.395161  1.089202      0.407407  1.081214\n",
       "48  0.395161  1.089164      0.407407  1.081228\n",
       "49  0.395161  1.089160      0.407407  1.081243"
      ]
     },
     "execution_count": 33,
     "metadata": {},
     "output_type": "execute_result"
    }
   ],
   "source": [
    "results"
   ]
  },
  {
   "cell_type": "code",
   "execution_count": 34,
   "metadata": {},
   "outputs": [
    {
     "data": {
      "text/html": [
       "<div>\n",
       "<style>\n",
       "    .dataframe thead tr:only-child th {\n",
       "        text-align: right;\n",
       "    }\n",
       "\n",
       "    .dataframe thead th {\n",
       "        text-align: left;\n",
       "    }\n",
       "\n",
       "    .dataframe tbody tr th {\n",
       "        vertical-align: top;\n",
       "    }\n",
       "</style>\n",
       "<table border=\"1\" class=\"dataframe\">\n",
       "  <thead>\n",
       "    <tr style=\"text-align: right;\">\n",
       "      <th></th>\n",
       "      <th>accuracy</th>\n",
       "      <th>val_accuracy</th>\n",
       "    </tr>\n",
       "  </thead>\n",
       "  <tbody>\n",
       "    <tr>\n",
       "      <th>0</th>\n",
       "      <td>0.395161</td>\n",
       "      <td>0.407407</td>\n",
       "    </tr>\n",
       "    <tr>\n",
       "      <th>1</th>\n",
       "      <td>0.395161</td>\n",
       "      <td>0.407407</td>\n",
       "    </tr>\n",
       "    <tr>\n",
       "      <th>2</th>\n",
       "      <td>0.395161</td>\n",
       "      <td>0.407407</td>\n",
       "    </tr>\n",
       "    <tr>\n",
       "      <th>3</th>\n",
       "      <td>0.395161</td>\n",
       "      <td>0.407407</td>\n",
       "    </tr>\n",
       "    <tr>\n",
       "      <th>4</th>\n",
       "      <td>0.395161</td>\n",
       "      <td>0.407407</td>\n",
       "    </tr>\n",
       "  </tbody>\n",
       "</table>\n",
       "</div>"
      ],
      "text/plain": [
       "   accuracy  val_accuracy\n",
       "0  0.395161      0.407407\n",
       "1  0.395161      0.407407\n",
       "2  0.395161      0.407407\n",
       "3  0.395161      0.407407\n",
       "4  0.395161      0.407407"
      ]
     },
     "execution_count": 34,
     "metadata": {},
     "output_type": "execute_result"
    }
   ],
   "source": [
    "results[['accuracy', 'val_accuracy']].head() # 2 つ表示させたいから [[]] を重ねる"
   ]
  },
  {
   "cell_type": "code",
   "execution_count": 35,
   "metadata": {},
   "outputs": [
    {
     "data": {
      "text/plain": [
       "<matplotlib.axes._subplots.AxesSubplot at 0x7f416c5e4390>"
      ]
     },
     "execution_count": 35,
     "metadata": {},
     "output_type": "execute_result"
    },
    {
     "data": {
      "image/png": "[encoded data removed]",
      "text/plain": [
       "<matplotlib.figure.Figure at 0x7f416c5e1978>"
      ]
     },
     "metadata": {},
     "output_type": "display_data"
    }
   ],
   "source": [
    "results[['accuracy', 'val_accuracy']].plot()"
   ]
  },
  {
   "cell_type": "code",
   "execution_count": 36,
   "metadata": {},
   "outputs": [
    {
     "data": {
      "text/plain": [
       "<matplotlib.axes._subplots.AxesSubplot at 0x7f416c516278>"
      ]
     },
     "execution_count": 36,
     "metadata": {},
     "output_type": "execute_result"
    },
    {
     "data": {
      "image/png": "[encoded data removed]",
      "text/plain": [
       "<matplotlib.figure.Figure at 0x7f416c5e1940>"
      ]
     },
     "metadata": {},
     "output_type": "display_data"
    }
   ],
   "source": [
    "results[['loss', 'val_loss']].plot()"
   ]
  },
  {
   "cell_type": "code",
   "execution_count": 37,
   "metadata": {
    "collapsed": true
   },
   "outputs": [],
   "source": [
    "# モデルの再構築\n",
    "model = models.Sequential()\n",
    "\n",
    "# モデルに構築\n",
    "model.add(layers.Dense(8, activation='relu', input_shape=(10,)))\n",
    "model.add(layers.Dense(6, activation='relu', input_shape=(10,)))\n",
    "model.add(layers.Dense(3, activation='softmax'))"
   ]
  },
  {
   "cell_type": "code",
   "execution_count": 38,
   "metadata": {},
   "outputs": [
    {
     "data": {
      "text/plain": [
       "<matplotlib.axes._subplots.AxesSubplot at 0x7f416c957c88>"
      ]
     },
     "execution_count": 38,
     "metadata": {},
     "output_type": "execute_result"
    },
    {
     "data": {
      "image/png": "[encoded data removed]",
      "text/plain": [
       "<matplotlib.figure.Figure at 0x7f416c4de198>"
      ]
     },
     "metadata": {},
     "output_type": "display_data"
    }
   ],
   "source": [
    "results[['accuracy', 'val_accuracy']].plot()"
   ]
  },
  {
   "cell_type": "code",
   "execution_count": 39,
   "metadata": {
    "collapsed": true
   },
   "outputs": [],
   "source": [
    "model.compile(optimizer='SGD',\n",
    "               loss='sparse_categorical_crossentropy',\n",
    "               metrics=['accuracy'])"
   ]
  },
  {
   "cell_type": "code",
   "execution_count": 40,
   "metadata": {
    "collapsed": true
   },
   "outputs": [],
   "source": [
    "history = model.fit(x_train, t_train,\n",
    "                   batch_size=10,\n",
    "                   epochs=50,\n",
    "                   verbose=0,\n",
    "                   validation_data=(x_val, t_val))"
   ]
  },
  {
   "cell_type": "code",
   "execution_count": 41,
   "metadata": {},
   "outputs": [
    {
     "data": {
      "text/plain": [
       "dict"
      ]
     },
     "execution_count": 41,
     "metadata": {},
     "output_type": "execute_result"
    }
   ],
   "source": [
    "type(history.history)"
   ]
  },
  {
   "cell_type": "code",
   "execution_count": 42,
   "metadata": {},
   "outputs": [
    {
     "data": {
      "text/html": [
       "<div>\n",
       "<style>\n",
       "    .dataframe thead tr:only-child th {\n",
       "        text-align: right;\n",
       "    }\n",
       "\n",
       "    .dataframe thead th {\n",
       "        text-align: left;\n",
       "    }\n",
       "\n",
       "    .dataframe tbody tr th {\n",
       "        vertical-align: top;\n",
       "    }\n",
       "</style>\n",
       "<table border=\"1\" class=\"dataframe\">\n",
       "  <thead>\n",
       "    <tr style=\"text-align: right;\">\n",
       "      <th></th>\n",
       "      <th>accuracy</th>\n",
       "      <th>loss</th>\n",
       "      <th>val_accuracy</th>\n",
       "      <th>val_loss</th>\n",
       "    </tr>\n",
       "  </thead>\n",
       "  <tbody>\n",
       "    <tr>\n",
       "      <th>0</th>\n",
       "      <td>0.362903</td>\n",
       "      <td>63.097844</td>\n",
       "      <td>0.407407</td>\n",
       "      <td>1.097181</td>\n",
       "    </tr>\n",
       "    <tr>\n",
       "      <th>1</th>\n",
       "      <td>0.395161</td>\n",
       "      <td>1.097203</td>\n",
       "      <td>0.407407</td>\n",
       "      <td>1.096101</td>\n",
       "    </tr>\n",
       "    <tr>\n",
       "      <th>2</th>\n",
       "      <td>0.395161</td>\n",
       "      <td>1.096492</td>\n",
       "      <td>0.407407</td>\n",
       "      <td>1.094930</td>\n",
       "    </tr>\n",
       "    <tr>\n",
       "      <th>3</th>\n",
       "      <td>0.395161</td>\n",
       "      <td>1.095778</td>\n",
       "      <td>0.407407</td>\n",
       "      <td>1.093968</td>\n",
       "    </tr>\n",
       "    <tr>\n",
       "      <th>4</th>\n",
       "      <td>0.395161</td>\n",
       "      <td>1.095309</td>\n",
       "      <td>0.407407</td>\n",
       "      <td>1.093182</td>\n",
       "    </tr>\n",
       "    <tr>\n",
       "      <th>5</th>\n",
       "      <td>0.395161</td>\n",
       "      <td>1.094671</td>\n",
       "      <td>0.407407</td>\n",
       "      <td>1.092505</td>\n",
       "    </tr>\n",
       "    <tr>\n",
       "      <th>6</th>\n",
       "      <td>0.395161</td>\n",
       "      <td>1.094263</td>\n",
       "      <td>0.407407</td>\n",
       "      <td>1.091705</td>\n",
       "    </tr>\n",
       "    <tr>\n",
       "      <th>7</th>\n",
       "      <td>0.395161</td>\n",
       "      <td>1.093932</td>\n",
       "      <td>0.407407</td>\n",
       "      <td>1.091217</td>\n",
       "    </tr>\n",
       "    <tr>\n",
       "      <th>8</th>\n",
       "      <td>0.395161</td>\n",
       "      <td>1.093564</td>\n",
       "      <td>0.407407</td>\n",
       "      <td>1.090601</td>\n",
       "    </tr>\n",
       "    <tr>\n",
       "      <th>9</th>\n",
       "      <td>0.395161</td>\n",
       "      <td>1.093083</td>\n",
       "      <td>0.407407</td>\n",
       "      <td>1.090027</td>\n",
       "    </tr>\n",
       "    <tr>\n",
       "      <th>10</th>\n",
       "      <td>0.395161</td>\n",
       "      <td>1.092788</td>\n",
       "      <td>0.407407</td>\n",
       "      <td>1.089644</td>\n",
       "    </tr>\n",
       "    <tr>\n",
       "      <th>11</th>\n",
       "      <td>0.395161</td>\n",
       "      <td>1.092594</td>\n",
       "      <td>0.407407</td>\n",
       "      <td>1.089112</td>\n",
       "    </tr>\n",
       "    <tr>\n",
       "      <th>12</th>\n",
       "      <td>0.395161</td>\n",
       "      <td>1.092362</td>\n",
       "      <td>0.407407</td>\n",
       "      <td>1.088617</td>\n",
       "    </tr>\n",
       "    <tr>\n",
       "      <th>13</th>\n",
       "      <td>0.395161</td>\n",
       "      <td>1.091941</td>\n",
       "      <td>0.407407</td>\n",
       "      <td>1.088004</td>\n",
       "    </tr>\n",
       "    <tr>\n",
       "      <th>14</th>\n",
       "      <td>0.395161</td>\n",
       "      <td>1.091594</td>\n",
       "      <td>0.407407</td>\n",
       "      <td>1.087429</td>\n",
       "    </tr>\n",
       "    <tr>\n",
       "      <th>15</th>\n",
       "      <td>0.395161</td>\n",
       "      <td>1.091372</td>\n",
       "      <td>0.407407</td>\n",
       "      <td>1.086894</td>\n",
       "    </tr>\n",
       "    <tr>\n",
       "      <th>16</th>\n",
       "      <td>0.395161</td>\n",
       "      <td>1.091179</td>\n",
       "      <td>0.407407</td>\n",
       "      <td>1.086378</td>\n",
       "    </tr>\n",
       "    <tr>\n",
       "      <th>17</th>\n",
       "      <td>0.395161</td>\n",
       "      <td>1.091018</td>\n",
       "      <td>0.407407</td>\n",
       "      <td>1.085919</td>\n",
       "    </tr>\n",
       "    <tr>\n",
       "      <th>18</th>\n",
       "      <td>0.395161</td>\n",
       "      <td>1.090768</td>\n",
       "      <td>0.407407</td>\n",
       "      <td>1.085622</td>\n",
       "    </tr>\n",
       "    <tr>\n",
       "      <th>19</th>\n",
       "      <td>0.395161</td>\n",
       "      <td>1.090473</td>\n",
       "      <td>0.407407</td>\n",
       "      <td>1.085198</td>\n",
       "    </tr>\n",
       "    <tr>\n",
       "      <th>20</th>\n",
       "      <td>0.395161</td>\n",
       "      <td>1.090255</td>\n",
       "      <td>0.407407</td>\n",
       "      <td>1.085092</td>\n",
       "    </tr>\n",
       "    <tr>\n",
       "      <th>21</th>\n",
       "      <td>0.395161</td>\n",
       "      <td>1.090384</td>\n",
       "      <td>0.407407</td>\n",
       "      <td>1.084853</td>\n",
       "    </tr>\n",
       "    <tr>\n",
       "      <th>22</th>\n",
       "      <td>0.395161</td>\n",
       "      <td>1.090195</td>\n",
       "      <td>0.407407</td>\n",
       "      <td>1.084766</td>\n",
       "    </tr>\n",
       "    <tr>\n",
       "      <th>23</th>\n",
       "      <td>0.395161</td>\n",
       "      <td>1.090067</td>\n",
       "      <td>0.407407</td>\n",
       "      <td>1.084546</td>\n",
       "    </tr>\n",
       "    <tr>\n",
       "      <th>24</th>\n",
       "      <td>0.395161</td>\n",
       "      <td>1.089964</td>\n",
       "      <td>0.407407</td>\n",
       "      <td>1.084214</td>\n",
       "    </tr>\n",
       "    <tr>\n",
       "      <th>25</th>\n",
       "      <td>0.395161</td>\n",
       "      <td>1.089960</td>\n",
       "      <td>0.407407</td>\n",
       "      <td>1.084028</td>\n",
       "    </tr>\n",
       "    <tr>\n",
       "      <th>26</th>\n",
       "      <td>0.395161</td>\n",
       "      <td>1.089924</td>\n",
       "      <td>0.407407</td>\n",
       "      <td>1.083721</td>\n",
       "    </tr>\n",
       "    <tr>\n",
       "      <th>27</th>\n",
       "      <td>0.395161</td>\n",
       "      <td>1.089726</td>\n",
       "      <td>0.407407</td>\n",
       "      <td>1.083442</td>\n",
       "    </tr>\n",
       "    <tr>\n",
       "      <th>28</th>\n",
       "      <td>0.395161</td>\n",
       "      <td>1.089845</td>\n",
       "      <td>0.407407</td>\n",
       "      <td>1.083426</td>\n",
       "    </tr>\n",
       "    <tr>\n",
       "      <th>29</th>\n",
       "      <td>0.395161</td>\n",
       "      <td>1.089741</td>\n",
       "      <td>0.407407</td>\n",
       "      <td>1.083163</td>\n",
       "    </tr>\n",
       "    <tr>\n",
       "      <th>30</th>\n",
       "      <td>0.395161</td>\n",
       "      <td>1.089662</td>\n",
       "      <td>0.407407</td>\n",
       "      <td>1.083151</td>\n",
       "    </tr>\n",
       "    <tr>\n",
       "      <th>31</th>\n",
       "      <td>0.395161</td>\n",
       "      <td>1.089665</td>\n",
       "      <td>0.407407</td>\n",
       "      <td>1.083023</td>\n",
       "    </tr>\n",
       "    <tr>\n",
       "      <th>32</th>\n",
       "      <td>0.395161</td>\n",
       "      <td>1.089788</td>\n",
       "      <td>0.407407</td>\n",
       "      <td>1.082900</td>\n",
       "    </tr>\n",
       "    <tr>\n",
       "      <th>33</th>\n",
       "      <td>0.395161</td>\n",
       "      <td>1.089527</td>\n",
       "      <td>0.407407</td>\n",
       "      <td>1.083026</td>\n",
       "    </tr>\n",
       "    <tr>\n",
       "      <th>34</th>\n",
       "      <td>0.395161</td>\n",
       "      <td>1.089614</td>\n",
       "      <td>0.407407</td>\n",
       "      <td>1.083149</td>\n",
       "    </tr>\n",
       "    <tr>\n",
       "      <th>35</th>\n",
       "      <td>0.395161</td>\n",
       "      <td>1.089585</td>\n",
       "      <td>0.407407</td>\n",
       "      <td>1.083157</td>\n",
       "    </tr>\n",
       "    <tr>\n",
       "      <th>36</th>\n",
       "      <td>0.395161</td>\n",
       "      <td>1.089493</td>\n",
       "      <td>0.407407</td>\n",
       "      <td>1.082930</td>\n",
       "    </tr>\n",
       "    <tr>\n",
       "      <th>37</th>\n",
       "      <td>0.395161</td>\n",
       "      <td>1.089393</td>\n",
       "      <td>0.407407</td>\n",
       "      <td>1.082954</td>\n",
       "    </tr>\n",
       "    <tr>\n",
       "      <th>38</th>\n",
       "      <td>0.395161</td>\n",
       "      <td>1.089279</td>\n",
       "      <td>0.407407</td>\n",
       "      <td>1.082958</td>\n",
       "    </tr>\n",
       "    <tr>\n",
       "      <th>39</th>\n",
       "      <td>0.395161</td>\n",
       "      <td>1.089544</td>\n",
       "      <td>0.407407</td>\n",
       "      <td>1.082964</td>\n",
       "    </tr>\n",
       "    <tr>\n",
       "      <th>40</th>\n",
       "      <td>0.395161</td>\n",
       "      <td>1.089403</td>\n",
       "      <td>0.407407</td>\n",
       "      <td>1.082859</td>\n",
       "    </tr>\n",
       "    <tr>\n",
       "      <th>41</th>\n",
       "      <td>0.395161</td>\n",
       "      <td>1.089352</td>\n",
       "      <td>0.407407</td>\n",
       "      <td>1.082638</td>\n",
       "    </tr>\n",
       "    <tr>\n",
       "      <th>42</th>\n",
       "      <td>0.395161</td>\n",
       "      <td>1.089489</td>\n",
       "      <td>0.407407</td>\n",
       "      <td>1.082554</td>\n",
       "    </tr>\n",
       "    <tr>\n",
       "      <th>43</th>\n",
       "      <td>0.395161</td>\n",
       "      <td>1.089333</td>\n",
       "      <td>0.407407</td>\n",
       "      <td>1.082575</td>\n",
       "    </tr>\n",
       "    <tr>\n",
       "      <th>44</th>\n",
       "      <td>0.395161</td>\n",
       "      <td>1.089486</td>\n",
       "      <td>0.407407</td>\n",
       "      <td>1.082488</td>\n",
       "    </tr>\n",
       "    <tr>\n",
       "      <th>45</th>\n",
       "      <td>0.395161</td>\n",
       "      <td>1.089261</td>\n",
       "      <td>0.407407</td>\n",
       "      <td>1.082516</td>\n",
       "    </tr>\n",
       "    <tr>\n",
       "      <th>46</th>\n",
       "      <td>0.395161</td>\n",
       "      <td>1.089327</td>\n",
       "      <td>0.407407</td>\n",
       "      <td>1.082399</td>\n",
       "    </tr>\n",
       "    <tr>\n",
       "      <th>47</th>\n",
       "      <td>0.395161</td>\n",
       "      <td>1.089350</td>\n",
       "      <td>0.407407</td>\n",
       "      <td>1.082335</td>\n",
       "    </tr>\n",
       "    <tr>\n",
       "      <th>48</th>\n",
       "      <td>0.395161</td>\n",
       "      <td>1.089285</td>\n",
       "      <td>0.407407</td>\n",
       "      <td>1.082285</td>\n",
       "    </tr>\n",
       "    <tr>\n",
       "      <th>49</th>\n",
       "      <td>0.395161</td>\n",
       "      <td>1.089257</td>\n",
       "      <td>0.407407</td>\n",
       "      <td>1.082241</td>\n",
       "    </tr>\n",
       "  </tbody>\n",
       "</table>\n",
       "</div>"
      ],
      "text/plain": [
       "    accuracy       loss  val_accuracy  val_loss\n",
       "0   0.362903  63.097844      0.407407  1.097181\n",
       "1   0.395161   1.097203      0.407407  1.096101\n",
       "2   0.395161   1.096492      0.407407  1.094930\n",
       "3   0.395161   1.095778      0.407407  1.093968\n",
       "4   0.395161   1.095309      0.407407  1.093182\n",
       "5   0.395161   1.094671      0.407407  1.092505\n",
       "6   0.395161   1.094263      0.407407  1.091705\n",
       "7   0.395161   1.093932      0.407407  1.091217\n",
       "8   0.395161   1.093564      0.407407  1.090601\n",
       "9   0.395161   1.093083      0.407407  1.090027\n",
       "10  0.395161   1.092788      0.407407  1.089644\n",
       "11  0.395161   1.092594      0.407407  1.089112\n",
       "12  0.395161   1.092362      0.407407  1.088617\n",
       "13  0.395161   1.091941      0.407407  1.088004\n",
       "14  0.395161   1.091594      0.407407  1.087429\n",
       "15  0.395161   1.091372      0.407407  1.086894\n",
       "16  0.395161   1.091179      0.407407  1.086378\n",
       "17  0.395161   1.091018      0.407407  1.085919\n",
       "18  0.395161   1.090768      0.407407  1.085622\n",
       "19  0.395161   1.090473      0.407407  1.085198\n",
       "20  0.395161   1.090255      0.407407  1.085092\n",
       "21  0.395161   1.090384      0.407407  1.084853\n",
       "22  0.395161   1.090195      0.407407  1.084766\n",
       "23  0.395161   1.090067      0.407407  1.084546\n",
       "24  0.395161   1.089964      0.407407  1.084214\n",
       "25  0.395161   1.089960      0.407407  1.084028\n",
       "26  0.395161   1.089924      0.407407  1.083721\n",
       "27  0.395161   1.089726      0.407407  1.083442\n",
       "28  0.395161   1.089845      0.407407  1.083426\n",
       "29  0.395161   1.089741      0.407407  1.083163\n",
       "30  0.395161   1.089662      0.407407  1.083151\n",
       "31  0.395161   1.089665      0.407407  1.083023\n",
       "32  0.395161   1.089788      0.407407  1.082900\n",
       "33  0.395161   1.089527      0.407407  1.083026\n",
       "34  0.395161   1.089614      0.407407  1.083149\n",
       "35  0.395161   1.089585      0.407407  1.083157\n",
       "36  0.395161   1.089493      0.407407  1.082930\n",
       "37  0.395161   1.089393      0.407407  1.082954\n",
       "38  0.395161   1.089279      0.407407  1.082958\n",
       "39  0.395161   1.089544      0.407407  1.082964\n",
       "40  0.395161   1.089403      0.407407  1.082859\n",
       "41  0.395161   1.089352      0.407407  1.082638\n",
       "42  0.395161   1.089489      0.407407  1.082554\n",
       "43  0.395161   1.089333      0.407407  1.082575\n",
       "44  0.395161   1.089486      0.407407  1.082488\n",
       "45  0.395161   1.089261      0.407407  1.082516\n",
       "46  0.395161   1.089327      0.407407  1.082399\n",
       "47  0.395161   1.089350      0.407407  1.082335\n",
       "48  0.395161   1.089285      0.407407  1.082285\n",
       "49  0.395161   1.089257      0.407407  1.082241"
      ]
     },
     "execution_count": 42,
     "metadata": {},
     "output_type": "execute_result"
    }
   ],
   "source": [
    "results = pd.DataFrame(history.history)\n",
    "results"
   ]
  },
  {
   "cell_type": "code",
   "execution_count": 43,
   "metadata": {},
   "outputs": [
    {
     "data": {
      "text/plain": [
       "<matplotlib.axes._subplots.AxesSubplot at 0x7f414d708c88>"
      ]
     },
     "execution_count": 43,
     "metadata": {},
     "output_type": "execute_result"
    },
    {
     "data": {
      "image/png": "[encoded data removed]",
      "text/plain": [
       "<matplotlib.figure.Figure at 0x7f414d705cc0>"
      ]
     },
     "metadata": {},
     "output_type": "display_data"
    }
   ],
   "source": [
    "results[['accuracy', 'val_accuracy']].plot()"
   ]
  },
  {
   "cell_type": "code",
   "execution_count": 44,
   "metadata": {},
   "outputs": [
    {
     "data": {
      "text/plain": [
       "<matplotlib.axes._subplots.AxesSubplot at 0x7f414d718e10>"
      ]
     },
     "execution_count": 44,
     "metadata": {},
     "output_type": "execute_result"
    },
    {
     "data": {
      "image/png": "[encoded data removed]",
      "text/plain": [
       "<matplotlib.figure.Figure at 0x7f414d722f60>"
      ]
     },
     "metadata": {},
     "output_type": "display_data"
    }
   ],
   "source": [
    "results[['loss', 'val_loss']].plot()"
   ]
  },
  {
   "cell_type": "code",
   "execution_count": 45,
   "metadata": {
    "collapsed": true
   },
   "outputs": [],
   "source": [
    "np.set_printoptions(precision=3, suppress=True)"
   ]
  },
  {
   "cell_type": "code",
   "execution_count": 46,
   "metadata": {},
   "outputs": [
    {
     "data": {
      "text/plain": [
       "array([[  14.23,    2.43,   15.6 , ...,    5.64,    1.04, 1065.  ],\n",
       "       [  13.2 ,    2.14,   11.2 , ...,    4.38,    1.05, 1050.  ],\n",
       "       [  13.16,    2.67,   18.6 , ...,    5.68,    1.03, 1185.  ],\n",
       "       ...,\n",
       "       [  13.27,    2.26,   20.  , ...,   10.2 ,    0.59,  835.  ],\n",
       "       [  13.17,    2.37,   20.  , ...,    9.3 ,    0.6 ,  840.  ],\n",
       "       [  14.13,    2.74,   24.5 , ...,    9.2 ,    0.61,  560.  ]])"
      ]
     },
     "execution_count": 46,
     "metadata": {},
     "output_type": "execute_result"
    }
   ],
   "source": [
    "x"
   ]
  },
  {
   "cell_type": "code",
   "execution_count": 47,
   "metadata": {
    "collapsed": true
   },
   "outputs": [],
   "source": [
    "# モデルの再構築\n",
    "model = models.Sequential()\n",
    "\n",
    "# モデルに構築 + BatchNormalization\n",
    "model.add(layers.BatchNormalization())\n",
    "model.add(layers.Dense(5, activation='relu', input_shape=(10,)))\n",
    "model.add(layers.Dense(3, activation='softmax'))"
   ]
  },
  {
   "cell_type": "code",
   "execution_count": 48,
   "metadata": {
    "collapsed": true
   },
   "outputs": [],
   "source": [
    "model.compile(optimizer='SGD',\n",
    "               loss='sparse_categorical_crossentropy',\n",
    "               metrics=['accuracy'])"
   ]
  },
  {
   "cell_type": "code",
   "execution_count": 49,
   "metadata": {
    "collapsed": true
   },
   "outputs": [],
   "source": [
    "history = model.fit(x_train, t_train,\n",
    "                   batch_size=10,\n",
    "                   epochs=50,\n",
    "                   verbose=0,\n",
    "                   validation_data=(x_val, t_val))"
   ]
  },
  {
   "cell_type": "code",
   "execution_count": 50,
   "metadata": {},
   "outputs": [
    {
     "data": {
      "text/html": [
       "<div>\n",
       "<style>\n",
       "    .dataframe thead tr:only-child th {\n",
       "        text-align: right;\n",
       "    }\n",
       "\n",
       "    .dataframe thead th {\n",
       "        text-align: left;\n",
       "    }\n",
       "\n",
       "    .dataframe tbody tr th {\n",
       "        vertical-align: top;\n",
       "    }\n",
       "</style>\n",
       "<table border=\"1\" class=\"dataframe\">\n",
       "  <thead>\n",
       "    <tr style=\"text-align: right;\">\n",
       "      <th></th>\n",
       "      <th>accuracy</th>\n",
       "      <th>loss</th>\n",
       "      <th>val_accuracy</th>\n",
       "      <th>val_loss</th>\n",
       "    </tr>\n",
       "  </thead>\n",
       "  <tbody>\n",
       "    <tr>\n",
       "      <th>45</th>\n",
       "      <td>0.927419</td>\n",
       "      <td>0.212542</td>\n",
       "      <td>0.981481</td>\n",
       "      <td>0.101328</td>\n",
       "    </tr>\n",
       "    <tr>\n",
       "      <th>46</th>\n",
       "      <td>0.959677</td>\n",
       "      <td>0.186976</td>\n",
       "      <td>0.981481</td>\n",
       "      <td>0.099197</td>\n",
       "    </tr>\n",
       "    <tr>\n",
       "      <th>47</th>\n",
       "      <td>0.919355</td>\n",
       "      <td>0.290650</td>\n",
       "      <td>0.981481</td>\n",
       "      <td>0.099009</td>\n",
       "    </tr>\n",
       "    <tr>\n",
       "      <th>48</th>\n",
       "      <td>0.943548</td>\n",
       "      <td>0.184725</td>\n",
       "      <td>0.981481</td>\n",
       "      <td>0.095161</td>\n",
       "    </tr>\n",
       "    <tr>\n",
       "      <th>49</th>\n",
       "      <td>0.903226</td>\n",
       "      <td>0.212308</td>\n",
       "      <td>0.981481</td>\n",
       "      <td>0.094392</td>\n",
       "    </tr>\n",
       "  </tbody>\n",
       "</table>\n",
       "</div>"
      ],
      "text/plain": [
       "    accuracy      loss  val_accuracy  val_loss\n",
       "45  0.927419  0.212542      0.981481  0.101328\n",
       "46  0.959677  0.186976      0.981481  0.099197\n",
       "47  0.919355  0.290650      0.981481  0.099009\n",
       "48  0.943548  0.184725      0.981481  0.095161\n",
       "49  0.903226  0.212308      0.981481  0.094392"
      ]
     },
     "execution_count": 50,
     "metadata": {},
     "output_type": "execute_result"
    }
   ],
   "source": [
    "results = pd.DataFrame(history.history)\n",
    "results.tail()"
   ]
  },
  {
   "cell_type": "code",
   "execution_count": 51,
   "metadata": {},
   "outputs": [
    {
     "data": {
      "text/plain": [
       "<matplotlib.axes._subplots.AxesSubplot at 0x7f416c768ac8>"
      ]
     },
     "execution_count": 51,
     "metadata": {},
     "output_type": "execute_result"
    },
    {
     "data": {
      "image/png": "[encoded data removed]",
      "text/plain": [
       "<matplotlib.figure.Figure at 0x7f416c728780>"
      ]
     },
     "metadata": {},
     "output_type": "display_data"
    }
   ],
   "source": [
    "results[['accuracy', 'val_accuracy']].plot()"
   ]
  },
  {
   "cell_type": "code",
   "execution_count": 52,
   "metadata": {},
   "outputs": [
    {
     "data": {
      "text/plain": [
       "<matplotlib.axes._subplots.AxesSubplot at 0x7f416d1cce80>"
      ]
     },
     "execution_count": 52,
     "metadata": {},
     "output_type": "execute_result"
    },
    {
     "data": {
      "image/png": "[encoded data removed]",
      "text/plain": [
       "<matplotlib.figure.Figure at 0x7f416d1c6828>"
      ]
     },
     "metadata": {},
     "output_type": "display_data"
    }
   ],
   "source": [
    "results[['loss', 'val_loss']].plot()"
   ]
  },
  {
   "cell_type": "markdown",
   "metadata": {},
   "source": [
    "## 推論"
   ]
  },
  {
   "cell_type": "code",
   "execution_count": 53,
   "metadata": {
    "collapsed": true
   },
   "outputs": [],
   "source": [
    "# 新しいデータはないため、x_train の 1 個目のデータを新しいデータと仮定\n",
    "x_new = x_train[0]"
   ]
  },
  {
   "cell_type": "code",
   "execution_count": 54,
   "metadata": {},
   "outputs": [
    {
     "data": {
      "text/plain": [
       "(10,)"
      ]
     },
     "execution_count": 54,
     "metadata": {},
     "output_type": "execute_result"
    }
   ],
   "source": [
    "x_new.shape"
   ]
  },
  {
   "cell_type": "code",
   "execution_count": 55,
   "metadata": {
    "collapsed": true
   },
   "outputs": [],
   "source": [
    "# model.predict(x_new) # エラー"
   ]
  },
  {
   "cell_type": "code",
   "execution_count": 56,
   "metadata": {
    "collapsed": true
   },
   "outputs": [],
   "source": [
    "# np.newaxis: 推論の際によく使う次元数を増やす手法\n",
    "x_new = x_new[np.newaxis]"
   ]
  },
  {
   "cell_type": "code",
   "execution_count": 57,
   "metadata": {},
   "outputs": [
    {
     "data": {
      "text/plain": [
       "array([[0.907, 0.067, 0.026]], dtype=float32)"
      ]
     },
     "execution_count": 57,
     "metadata": {},
     "output_type": "execute_result"
    }
   ],
   "source": [
    "model.predict(x_new) # どのラベルであるかの確率を表示"
   ]
  },
  {
   "cell_type": "code",
   "execution_count": 58,
   "metadata": {},
   "outputs": [
    {
     "data": {
      "text/plain": [
       "(1, 10)"
      ]
     },
     "execution_count": 58,
     "metadata": {},
     "output_type": "execute_result"
    }
   ],
   "source": [
    "# shape が変わる\n",
    "x_new.shape"
   ]
  },
  {
   "cell_type": "code",
   "execution_count": 59,
   "metadata": {
    "collapsed": true
   },
   "outputs": [],
   "source": [
    "y = model.predict(x_new)"
   ]
  },
  {
   "cell_type": "code",
   "execution_count": 60,
   "metadata": {},
   "outputs": [
    {
     "data": {
      "text/plain": [
       "0"
      ]
     },
     "execution_count": 60,
     "metadata": {},
     "output_type": "execute_result"
    }
   ],
   "source": [
    "np.argmax(y) # どのクラスかを推論。この場合、label 0"
   ]
  },
  {
   "cell_type": "markdown",
   "metadata": {},
   "source": [
    "## 自己学習"
   ]
  },
  {
   "cell_type": "code",
   "execution_count": 61,
   "metadata": {
    "collapsed": true
   },
   "outputs": [],
   "source": [
    "from sklearn.preprocessing import StandardScaler"
   ]
  },
  {
   "cell_type": "code",
   "execution_count": 62,
   "metadata": {},
   "outputs": [
    {
     "data": {
      "text/plain": [
       "array([[ True,  True,  True, ...,  True,  True,  True],\n",
       "       [ True,  True,  True, ...,  True,  True,  True],\n",
       "       [ True,  True,  True, ...,  True,  True,  True],\n",
       "       ...,\n",
       "       [ True,  True,  True, ...,  True,  True,  True],\n",
       "       [ True,  True,  True, ...,  True,  True,  True],\n",
       "       [ True,  True,  True, ...,  True,  True,  True]])"
      ]
     },
     "execution_count": 62,
     "metadata": {},
     "output_type": "execute_result"
    }
   ],
   "source": [
    "x_train2 = x_train\n",
    "x_train2 == x_train"
   ]
  },
  {
   "cell_type": "code",
   "execution_count": 63,
   "metadata": {
    "collapsed": true
   },
   "outputs": [],
   "source": [
    "scaler = StandardScaler()"
   ]
  },
  {
   "cell_type": "code",
   "execution_count": 64,
   "metadata": {},
   "outputs": [
    {
     "data": {
      "text/plain": [
       "StandardScaler(copy=True, with_mean=True, with_std=True)"
      ]
     },
     "execution_count": 64,
     "metadata": {},
     "output_type": "execute_result"
    }
   ],
   "source": [
    "scaler.fit(x_train2)"
   ]
  },
  {
   "cell_type": "code",
   "execution_count": 65,
   "metadata": {
    "collapsed": true
   },
   "outputs": [],
   "source": [
    "x_train3 = scaler.transform(x_train2)\n",
    "x_val3 = scaler.transform(x_val)"
   ]
  },
  {
   "cell_type": "code",
   "execution_count": 66,
   "metadata": {},
   "outputs": [
    {
     "data": {
      "text/plain": [
       "array([[ 0.911, -0.011, -0.821, ..., -0.512,  0.657,  0.937],\n",
       "       [-0.956, -1.537, -0.147, ..., -0.982, -0.409, -1.413],\n",
       "       [ 0.36 , -0.375,  0.133, ...,  2.221, -1.56 ,  0.287],\n",
       "       ...,\n",
       "       [-0.706, -0.629,  0.834, ..., -1.255,  0.444, -1.306],\n",
       "       [ 1.149, -0.883, -0.989, ...,  0.47 , -0.195,  0.774],\n",
       "       [ 1.475,  0.425,  0.133, ...,  2.007, -1.432, -0.282]])"
      ]
     },
     "execution_count": 66,
     "metadata": {},
     "output_type": "execute_result"
    }
   ],
   "source": [
    "x_train3"
   ]
  },
  {
   "cell_type": "code",
   "execution_count": 67,
   "metadata": {},
   "outputs": [
    {
     "data": {
      "text/plain": [
       "array([[ 0.948, -0.411, -0.877,  1.227,  0.571,  0.956, -1.247,  0.363,\n",
       "        -0.153,  1.018],\n",
       "       [-0.242,  0.425,  0.694,  0.816, -1.302, -0.626, -1.004,  2.477,\n",
       "        -2.028, -0.867],\n",
       "       [-0.768, -0.738, -0.147, -0.896,  2.077,  1.162, -1.408, -0.235,\n",
       "         1.126, -1.062],\n",
       "       [ 0.723,  0.352,  0.273,  1.09 ,  1.174,  0.833, -1.328,  0.534,\n",
       "         0.103,  1.213],\n",
       "       [ 0.084, -0.847,  0.554, -0.965,  0.605,  0.699, -0.519, -1.025,\n",
       "        -0.963, -1.192],\n",
       "       [-1.783,  3.149,  2.517,  1.295,  1.542,  3.196,  0.854,  0.427,\n",
       "        -0.11 , -0.916],\n",
       "       [ 1.349,  0.897, -0.54 ,  1.432,  0.571,  0.555, -0.439,  0.021,\n",
       "         0.444,  1.782],\n",
       "       [-0.781,  0.061,  0.414, -0.828,  0.07 , -1.079,  1.097,  1.132,\n",
       "        -1.687, -0.737],\n",
       "       [-0.919, -0.883, -0.147, -1.376, -1.018,  0.062,  0.046, -0.683,\n",
       "         0.188, -0.77 ],\n",
       "       [-1.132, -0.157, -0.288, -1.307, -1.101, -0.482,  1.259, -1.11 ,\n",
       "         0.529, -0.867],\n",
       "       [ 0.472, -0.048,  0.133, -0.759, -1.436, -1.51 ,  0.046,  0.256,\n",
       "        -1.091,  0.108],\n",
       "       [ 1.124, -0.484,  0.133, -1.376, -2.139, -1.675,  0.289, -0.043,\n",
       "        -1.602, -1.079],\n",
       "       [ 1.525,  0.316, -1.213,  0.816,  1.692,  1.46 , -0.196,  0.747,\n",
       "         0.401,  2.286],\n",
       "       [-0.768, -0.956, -0.288, -0.828,  2.111,  1.83 , -1.004, -0.213,\n",
       "         0.359, -0.282],\n",
       "       [ 0.748,  1.187,  1.395,  0.336, -1.185, -1.161,  0.208,  1.563,\n",
       "        -0.92 ,  0.011],\n",
       "       [-1.232, -1.319, -0.147, -0.965,  0.27 ,  0.299, -0.519, -1.068,\n",
       "         1.808, -1.524],\n",
       "       [ 0.973,  1.224, -0.007,  2.186,  1.157,  0.792,  1.097,  0.171,\n",
       "         1.254,  1.587],\n",
       "       [ 1.512,  0.425, -0.849,  0.542,  1.742,  2.015, -0.358,  1.58 ,\n",
       "         1.169,  3.034],\n",
       "       [-0.43 , -1.247, -0.765, -0.006, -0.399, -0.575,  1.339,  0.32 ,\n",
       "         0.103, -0.965],\n",
       "       [ 1.061,  0.86 , -0.652, -0.417,  0.321,  1.049, -1.166,  0.256,\n",
       "         1.211,  1.685],\n",
       "       [ 0.159, -2.409, -1.269, -1.513,  1.207,  1.244, -0.843,  0.128,\n",
       "         0.7  , -0.796],\n",
       "       [ 0.084,  0.679, -0.428, -0.143,  0.321,  0.473, -0.6  , -0.32 ,\n",
       "         0.7  ,  1.165],\n",
       "       [ 0.322,  1.841,  0.414,  1.227,  0.906,  0.74 ,  0.208, -0.29 ,\n",
       "         0.359, -0.038],\n",
       "       [-0.593, -1.392,  0.273, -1.033, -0.098, -0.051, -0.358, -0.88 ,\n",
       "         0.359, -0.243],\n",
       "       [-0.818, -0.302, -0.989,  0.062, -0.349, -0.904,  2.148, -0.739,\n",
       "         1.254, -0.217],\n",
       "       [-0.58 , -0.702,  0.414, -0.828,  0.488,  0.309, -0.843, -1.281,\n",
       "        -0.238, -1.371],\n",
       "       [-0.693, -0.266,  0.554, -0.965,  0.806,  1.213,  0.208, -0.453,\n",
       "        -1.133, -1.283],\n",
       "       [-1.031, -0.193,  0.918, -0.691, -0.8  , -0.287,  0.531, -1.089,\n",
       "         1.595, -0.818],\n",
       "       [-1.532,  2.023,  0.133,  0.199, -0.85 ,  0.062,  1.905, -0.512,\n",
       "         1.169, -0.454],\n",
       "       [ 0.999, -0.229,  0.694, -0.691, -1.52 , -1.325,  0.37 ,  1.956,\n",
       "        -1.091, -0.428],\n",
       "       [ 0.51 ,  0.933, -0.961, -0.486,  0.99 ,  0.997, -0.196, -0.085,\n",
       "        -0.153,  1.457],\n",
       "       [ 1.55 , -0.229, -0.905,  1.227,  1.575,  1.059, -0.843,  0.589,\n",
       "        -0.068,  0.726],\n",
       "       [-1.182,  0.061,  0.694, -1.376, -0.265, -0.226,  0.45 , -1.025,\n",
       "        -0.707, -0.542],\n",
       "       [ 1.537,  0.279, -0.176,  0.747,  0.99 ,  0.699, -0.519,  0.103,\n",
       "        -0.366,  1.083],\n",
       "       [ 2.314, -0.702, -1.55 , -0.212,  0.906,  1.038, -0.6  ,  0.085,\n",
       "         0.529,  0.97 ],\n",
       "       [ 0.084, -0.956, -0.708,  0.473,  1.241,  1.059, -0.681,  0.017,\n",
       "        -0.323,  0.449],\n",
       "       [ 0.886,  0.642,  0.133,  0.473, -0.717, -1.448,  1.097,  0.376,\n",
       "         0.018, -0.217],\n",
       "       [-0.367, -0.375,  0.329, -1.376, -1.469, -0.524,  1.743, -0.833,\n",
       "         0.018, -0.818],\n",
       "       [-1.708, -0.302, -0.428, -0.143,  1.274,  0.299, -1.57 , -0.747,\n",
       "         0.87 , -1.306],\n",
       "       [ 0.522,  0.425,  0.974,  0.131, -0.767, -1.253,  0.531,  0.982,\n",
       "        -1.091,  0.011],\n",
       "       [ 0.648,  0.897,  0.133, -0.28 ,  0.454,  0.658, -0.681, -0.632,\n",
       "         0.7  ,  0.319],\n",
       "       [ 0.936,  1.224,  0.834,  0.062,  1.241,  1.316, -0.6  ,  0.299,\n",
       "         0.998,  1.75 ],\n",
       "       [-0.868, -0.52 , -0.428, -0.828,  0.321,  0.288, -0.924, -1.217,\n",
       "         0.828, -1.485],\n",
       "       [-0.48 , -1.683, -0.288, -0.828, -1.352, -0.626, -0.6  , -1.089,\n",
       "         0.359, -0.601],\n",
       "       [-1.971,  0.497,  0.414, -0.828,  0.371,  0.042,  0.45 , -0.82 ,\n",
       "         0.614, -1.017],\n",
       "       [ 0.823,  0.715, -1.213,  1.09 ,  0.739,  1.09 , -1.57 ,  0.043,\n",
       "         0.018,  0.319],\n",
       "       [-0.48 , -0.593, -0.288, -0.417, -1.068, -1.346,  2.148,  0.897,\n",
       "        -0.963, -0.168],\n",
       "       [-1.282, -0.229,  0.414,  0.062,  1.876,  0.175, -1.893, -0.764,\n",
       "         0.146,  0.453],\n",
       "       [-0.919, -0.593, -0.288,  0.816, -1.469, -1.222, -0.6  ,  1.371,\n",
       "        -1.304,  0.352],\n",
       "       [ 1.65 ,  1.296,  0.133,  1.364,  0.906,  1.203, -0.277,  0.512,\n",
       "         0.487,  1.733],\n",
       "       [-0.129,  0.134,  0.133,  0.268, -1.603, -0.77 , -1.004,  0.171,\n",
       "        -0.92 , -0.705],\n",
       "       [ 0.635, -0.629, -0.007, -0.828, -1.068, -1.531,  1.743,  0.299,\n",
       "        -0.622, -0.542],\n",
       "       [ 0.723, -0.193, -0.933,  1.158,  1.492,  1.357, -0.196,  0.483,\n",
       "        -0.025,  0.157],\n",
       "       [ 1.7  ,  1.224,  1.535, -0.143,  0.906, -0.678,  1.339,  3.416,\n",
       "        -1.645, -0.282]])"
      ]
     },
     "execution_count": 67,
     "metadata": {},
     "output_type": "execute_result"
    }
   ],
   "source": [
    "x_val3"
   ]
  },
  {
   "cell_type": "code",
   "execution_count": 68,
   "metadata": {
    "collapsed": true
   },
   "outputs": [],
   "source": [
    "# モデルの再構築\n",
    "model = models.Sequential()\n",
    "\n",
    "# モデルに構築 + BatchNormalization\n",
    "model.add(layers.BatchNormalization())\n",
    "model.add(layers.Dense(5, activation='relu', input_shape=(10,)))\n",
    "model.add(layers.Dense(3, activation='softmax'))"
   ]
  },
  {
   "cell_type": "code",
   "execution_count": 69,
   "metadata": {
    "collapsed": true
   },
   "outputs": [],
   "source": [
    "model.compile(optimizer='SGD',\n",
    "               loss='sparse_categorical_crossentropy',\n",
    "               metrics=['accuracy'])"
   ]
  },
  {
   "cell_type": "code",
   "execution_count": 70,
   "metadata": {
    "collapsed": true
   },
   "outputs": [],
   "source": [
    "history = model.fit(x_train3, t_train,\n",
    "                   batch_size=10,\n",
    "                   epochs=50,\n",
    "                   verbose=0,\n",
    "                   validation_data=(x_val3, t_val))"
   ]
  },
  {
   "cell_type": "code",
   "execution_count": 71,
   "metadata": {},
   "outputs": [
    {
     "data": {
      "text/html": [
       "<div>\n",
       "<style>\n",
       "    .dataframe thead tr:only-child th {\n",
       "        text-align: right;\n",
       "    }\n",
       "\n",
       "    .dataframe thead th {\n",
       "        text-align: left;\n",
       "    }\n",
       "\n",
       "    .dataframe tbody tr th {\n",
       "        vertical-align: top;\n",
       "    }\n",
       "</style>\n",
       "<table border=\"1\" class=\"dataframe\">\n",
       "  <thead>\n",
       "    <tr style=\"text-align: right;\">\n",
       "      <th></th>\n",
       "      <th>accuracy</th>\n",
       "      <th>loss</th>\n",
       "      <th>val_accuracy</th>\n",
       "      <th>val_loss</th>\n",
       "    </tr>\n",
       "  </thead>\n",
       "  <tbody>\n",
       "    <tr>\n",
       "      <th>45</th>\n",
       "      <td>0.903226</td>\n",
       "      <td>0.334362</td>\n",
       "      <td>0.962963</td>\n",
       "      <td>0.288187</td>\n",
       "    </tr>\n",
       "    <tr>\n",
       "      <th>46</th>\n",
       "      <td>0.927419</td>\n",
       "      <td>0.323293</td>\n",
       "      <td>0.962963</td>\n",
       "      <td>0.282043</td>\n",
       "    </tr>\n",
       "    <tr>\n",
       "      <th>47</th>\n",
       "      <td>0.919355</td>\n",
       "      <td>0.365957</td>\n",
       "      <td>0.962963</td>\n",
       "      <td>0.277567</td>\n",
       "    </tr>\n",
       "    <tr>\n",
       "      <th>48</th>\n",
       "      <td>0.927419</td>\n",
       "      <td>0.325749</td>\n",
       "      <td>0.962963</td>\n",
       "      <td>0.271705</td>\n",
       "    </tr>\n",
       "    <tr>\n",
       "      <th>49</th>\n",
       "      <td>0.927419</td>\n",
       "      <td>0.305225</td>\n",
       "      <td>0.962963</td>\n",
       "      <td>0.267766</td>\n",
       "    </tr>\n",
       "  </tbody>\n",
       "</table>\n",
       "</div>"
      ],
      "text/plain": [
       "    accuracy      loss  val_accuracy  val_loss\n",
       "45  0.903226  0.334362      0.962963  0.288187\n",
       "46  0.927419  0.323293      0.962963  0.282043\n",
       "47  0.919355  0.365957      0.962963  0.277567\n",
       "48  0.927419  0.325749      0.962963  0.271705\n",
       "49  0.927419  0.305225      0.962963  0.267766"
      ]
     },
     "execution_count": 71,
     "metadata": {},
     "output_type": "execute_result"
    }
   ],
   "source": [
    "results = pd.DataFrame(history.history)\n",
    "results.tail()"
   ]
  },
  {
   "cell_type": "code",
   "execution_count": 72,
   "metadata": {},
   "outputs": [
    {
     "data": {
      "text/plain": [
       "<matplotlib.axes._subplots.AxesSubplot at 0x7f414df95f60>"
      ]
     },
     "execution_count": 72,
     "metadata": {},
     "output_type": "execute_result"
    },
    {
     "data": {
      "image/png": "[encoded data removed]",
      "text/plain": [
       "<matplotlib.figure.Figure at 0x7f416c4fca90>"
      ]
     },
     "metadata": {},
     "output_type": "display_data"
    }
   ],
   "source": [
    "results[['accuracy', 'val_accuracy']].plot()"
   ]
  },
  {
   "cell_type": "code",
   "execution_count": 73,
   "metadata": {},
   "outputs": [
    {
     "data": {
      "text/plain": [
       "<matplotlib.axes._subplots.AxesSubplot at 0x7f416c072b70>"
      ]
     },
     "execution_count": 73,
     "metadata": {},
     "output_type": "execute_result"
    },
    {
     "data": {
      "image/png": "[encoded data removed]",
      "text/plain": [
       "<matplotlib.figure.Figure at 0x7f416d0e5940>"
      ]
     },
     "metadata": {},
     "output_type": "display_data"
    }
   ],
   "source": [
    "results[['loss', 'val_loss']].plot()"
   ]
  },
  {
   "cell_type": "code",
   "execution_count": null,
   "metadata": {
    "collapsed": true
   },
   "outputs": [],
   "source": []
  }
 ],
 "metadata": {
  "kernelspec": {
   "display_name": "Python 3",
   "language": "python",
   "name": "python3"
  },
  "language_info": {
   "codemirror_mode": {
    "name": "ipython",
    "version": 3
   },
   "file_extension": ".py",
   "mimetype": "text/x-python",
   "name": "python",
   "nbconvert_exporter": "python",
   "pygments_lexer": "ipython3",
   "version": "3.5.2"
  }
 },
 "nbformat": 4,
 "nbformat_minor": 2
}
