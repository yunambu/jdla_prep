{
 "cells": [
  {
   "cell_type": "markdown",
   "metadata": {},
   "source": [
    "# 時系列解析の基礎\n",
    "## 株価"
   ]
  },
  {
   "cell_type": "code",
   "execution_count": 1,
   "metadata": {},
   "outputs": [],
   "source": [
    "import numpy as np\n",
    "import pandas as pd\n",
    "import matplotlib.pyplot as plt\n",
    "%matplotlib inline\n",
    "import tensorflow as tf\n",
    "from tensorflow import keras"
   ]
  },
  {
   "cell_type": "code",
   "execution_count": 2,
   "metadata": {
    "collapsed": true
   },
   "outputs": [],
   "source": [
    "import os\n",
    "import random\n",
    "\n",
    "\n",
    "def reset_seed(seed=0):\n",
    "\n",
    "    os.environ['PYTHONHASHSEED'] = '0'\n",
    "    random.seed(seed)\n",
    "    np.random.seed(seed)\n",
    "    tf.random.set_seed(seed)"
   ]
  },
  {
   "cell_type": "code",
   "execution_count": 3,
   "metadata": {},
   "outputs": [],
   "source": [
    "# !pip install -U 'pandas_datareader'"
   ]
  },
  {
   "cell_type": "code",
   "execution_count": 4,
   "metadata": {
    "collapsed": true
   },
   "outputs": [],
   "source": [
    "from pandas_datareader.yahoo.daily import YahooDailyReader\n",
    "import datetime"
   ]
  },
  {
   "cell_type": "code",
   "execution_count": 5,
   "metadata": {
    "collapsed": true
   },
   "outputs": [],
   "source": [
    "date_st = datetime.datetime(2014, 1, 1) #  (year, month, day)\n",
    "date_fn = datetime.datetime(2019, 12, 19)"
   ]
  },
  {
   "cell_type": "code",
   "execution_count": 6,
   "metadata": {
    "collapsed": true
   },
   "outputs": [],
   "source": [
    "df1 = YahooDailyReader('MSFT', date_st, date_fn).read() # 証券銘柄コード。'SBI Ticker 一覧' で検索"
   ]
  },
  {
   "cell_type": "code",
   "execution_count": 7,
   "metadata": {},
   "outputs": [
    {
     "data": {
      "text/html": [
       "<div>\n",
       "<style scoped>\n",
       "    .dataframe tbody tr th:only-of-type {\n",
       "        vertical-align: middle;\n",
       "    }\n",
       "\n",
       "    .dataframe tbody tr th {\n",
       "        vertical-align: top;\n",
       "    }\n",
       "\n",
       "    .dataframe thead th {\n",
       "        text-align: right;\n",
       "    }\n",
       "</style>\n",
       "<table border=\"1\" class=\"dataframe\">\n",
       "  <thead>\n",
       "    <tr style=\"text-align: right;\">\n",
       "      <th></th>\n",
       "      <th>High</th>\n",
       "      <th>Low</th>\n",
       "      <th>Open</th>\n",
       "      <th>Close</th>\n",
       "      <th>Volume</th>\n",
       "      <th>Adj Close</th>\n",
       "    </tr>\n",
       "    <tr>\n",
       "      <th>Date</th>\n",
       "      <th></th>\n",
       "      <th></th>\n",
       "      <th></th>\n",
       "      <th></th>\n",
       "      <th></th>\n",
       "      <th></th>\n",
       "    </tr>\n",
       "  </thead>\n",
       "  <tbody>\n",
       "    <tr>\n",
       "      <th>2014-01-02</th>\n",
       "      <td>37.400002</td>\n",
       "      <td>37.099998</td>\n",
       "      <td>37.349998</td>\n",
       "      <td>37.160000</td>\n",
       "      <td>30632200.0</td>\n",
       "      <td>32.471554</td>\n",
       "    </tr>\n",
       "    <tr>\n",
       "      <th>2014-01-03</th>\n",
       "      <td>37.220001</td>\n",
       "      <td>36.599998</td>\n",
       "      <td>37.200001</td>\n",
       "      <td>36.910000</td>\n",
       "      <td>31134800.0</td>\n",
       "      <td>32.253098</td>\n",
       "    </tr>\n",
       "    <tr>\n",
       "      <th>2014-01-06</th>\n",
       "      <td>36.889999</td>\n",
       "      <td>36.110001</td>\n",
       "      <td>36.849998</td>\n",
       "      <td>36.130001</td>\n",
       "      <td>43603700.0</td>\n",
       "      <td>31.571505</td>\n",
       "    </tr>\n",
       "    <tr>\n",
       "      <th>2014-01-07</th>\n",
       "      <td>36.490002</td>\n",
       "      <td>36.209999</td>\n",
       "      <td>36.330002</td>\n",
       "      <td>36.410000</td>\n",
       "      <td>35802800.0</td>\n",
       "      <td>31.816179</td>\n",
       "    </tr>\n",
       "    <tr>\n",
       "      <th>2014-01-08</th>\n",
       "      <td>36.139999</td>\n",
       "      <td>35.580002</td>\n",
       "      <td>36.000000</td>\n",
       "      <td>35.759998</td>\n",
       "      <td>59971700.0</td>\n",
       "      <td>31.248198</td>\n",
       "    </tr>\n",
       "  </tbody>\n",
       "</table>\n",
       "</div>"
      ],
      "text/plain": [
       "                 High        Low       Open      Close      Volume  Adj Close\n",
       "Date                                                                         \n",
       "2014-01-02  37.400002  37.099998  37.349998  37.160000  30632200.0  32.471554\n",
       "2014-01-03  37.220001  36.599998  37.200001  36.910000  31134800.0  32.253098\n",
       "2014-01-06  36.889999  36.110001  36.849998  36.130001  43603700.0  31.571505\n",
       "2014-01-07  36.490002  36.209999  36.330002  36.410000  35802800.0  31.816179\n",
       "2014-01-08  36.139999  35.580002  36.000000  35.759998  59971700.0  31.248198"
      ]
     },
     "execution_count": 7,
     "metadata": {},
     "output_type": "execute_result"
    }
   ],
   "source": [
    "df1.head()\n",
    "# Adj Close = 調整後終値。実際こっちを使うことが多いらしい"
   ]
  },
  {
   "cell_type": "code",
   "execution_count": 8,
   "metadata": {},
   "outputs": [
    {
     "data": {
      "text/plain": [
       "<matplotlib.axes._subplots.AxesSubplot at 0x7fe55017c128>"
      ]
     },
     "execution_count": 8,
     "metadata": {},
     "output_type": "execute_result"
    },
    {
     "data": {
      "image/png": "[encoded data removed]",
      "text/plain": [
       "<matplotlib.figure.Figure at 0x7fe5501892b0>"
      ]
     },
     "metadata": {},
     "output_type": "display_data"
    }
   ],
   "source": [
    "df1['Close'].plot()"
   ]
  },
  {
   "cell_type": "markdown",
   "metadata": {},
   "source": [
    "## 複数社取得"
   ]
  },
  {
   "cell_type": "code",
   "execution_count": 9,
   "metadata": {
    "collapsed": true
   },
   "outputs": [],
   "source": [
    "symbols = ['AAPL', 'MSFT', 'GOOGL']"
   ]
  },
  {
   "cell_type": "code",
   "execution_count": 10,
   "metadata": {
    "collapsed": true
   },
   "outputs": [],
   "source": [
    "# 内包表記するための []\n",
    "dfs = [YahooDailyReader(symbol, date_st, date_fn).read() \n",
    "      for symbol in symbols]"
   ]
  },
  {
   "cell_type": "code",
   "execution_count": 11,
   "metadata": {},
   "outputs": [
    {
     "data": {
      "text/plain": [
       "list"
      ]
     },
     "execution_count": 11,
     "metadata": {},
     "output_type": "execute_result"
    }
   ],
   "source": [
    "type(dfs)"
   ]
  },
  {
   "cell_type": "code",
   "execution_count": 12,
   "metadata": {
    "collapsed": true
   },
   "outputs": [],
   "source": [
    "df2 = pd.concat(dfs, axis=0, keys=symbols).unstack(0) \n",
    "# axis=1 軸の指定。0 = 行、1　= 列\n",
    "# unstack(0) = 列にコード。行に Date。unstack(0) だと逆 "
   ]
  },
  {
   "cell_type": "code",
   "execution_count": 13,
   "metadata": {},
   "outputs": [
    {
     "data": {
      "text/plain": [
       "pandas.core.frame.DataFrame"
      ]
     },
     "execution_count": 13,
     "metadata": {},
     "output_type": "execute_result"
    }
   ],
   "source": [
    "type(df2)"
   ]
  },
  {
   "cell_type": "code",
   "execution_count": 14,
   "metadata": {},
   "outputs": [
    {
     "data": {
      "text/html": [
       "<div>\n",
       "<style scoped>\n",
       "    .dataframe tbody tr th:only-of-type {\n",
       "        vertical-align: middle;\n",
       "    }\n",
       "\n",
       "    .dataframe tbody tr th {\n",
       "        vertical-align: top;\n",
       "    }\n",
       "\n",
       "    .dataframe thead tr th {\n",
       "        text-align: left;\n",
       "    }\n",
       "\n",
       "    .dataframe thead tr:last-of-type th {\n",
       "        text-align: right;\n",
       "    }\n",
       "</style>\n",
       "<table border=\"1\" class=\"dataframe\">\n",
       "  <thead>\n",
       "    <tr>\n",
       "      <th></th>\n",
       "      <th colspan=\"3\" halign=\"left\">High</th>\n",
       "      <th colspan=\"3\" halign=\"left\">Low</th>\n",
       "      <th colspan=\"3\" halign=\"left\">Open</th>\n",
       "      <th colspan=\"3\" halign=\"left\">Close</th>\n",
       "      <th colspan=\"3\" halign=\"left\">Volume</th>\n",
       "      <th colspan=\"3\" halign=\"left\">Adj Close</th>\n",
       "    </tr>\n",
       "    <tr>\n",
       "      <th></th>\n",
       "      <th>AAPL</th>\n",
       "      <th>MSFT</th>\n",
       "      <th>GOOGL</th>\n",
       "      <th>AAPL</th>\n",
       "      <th>MSFT</th>\n",
       "      <th>GOOGL</th>\n",
       "      <th>AAPL</th>\n",
       "      <th>MSFT</th>\n",
       "      <th>GOOGL</th>\n",
       "      <th>AAPL</th>\n",
       "      <th>MSFT</th>\n",
       "      <th>GOOGL</th>\n",
       "      <th>AAPL</th>\n",
       "      <th>MSFT</th>\n",
       "      <th>GOOGL</th>\n",
       "      <th>AAPL</th>\n",
       "      <th>MSFT</th>\n",
       "      <th>GOOGL</th>\n",
       "    </tr>\n",
       "    <tr>\n",
       "      <th>Date</th>\n",
       "      <th></th>\n",
       "      <th></th>\n",
       "      <th></th>\n",
       "      <th></th>\n",
       "      <th></th>\n",
       "      <th></th>\n",
       "      <th></th>\n",
       "      <th></th>\n",
       "      <th></th>\n",
       "      <th></th>\n",
       "      <th></th>\n",
       "      <th></th>\n",
       "      <th></th>\n",
       "      <th></th>\n",
       "      <th></th>\n",
       "      <th></th>\n",
       "      <th></th>\n",
       "      <th></th>\n",
       "    </tr>\n",
       "  </thead>\n",
       "  <tbody>\n",
       "    <tr>\n",
       "      <th>2014-01-02</th>\n",
       "      <td>79.575714</td>\n",
       "      <td>37.400002</td>\n",
       "      <td>559.434448</td>\n",
       "      <td>78.860001</td>\n",
       "      <td>37.099998</td>\n",
       "      <td>554.684692</td>\n",
       "      <td>79.382858</td>\n",
       "      <td>37.349998</td>\n",
       "      <td>558.288269</td>\n",
       "      <td>79.018570</td>\n",
       "      <td>37.160000</td>\n",
       "      <td>557.117126</td>\n",
       "      <td>58671200.0</td>\n",
       "      <td>30632200.0</td>\n",
       "      <td>3639100.0</td>\n",
       "      <td>71.107201</td>\n",
       "      <td>32.471554</td>\n",
       "      <td>557.117126</td>\n",
       "    </tr>\n",
       "    <tr>\n",
       "      <th>2014-01-03</th>\n",
       "      <td>79.099998</td>\n",
       "      <td>37.220001</td>\n",
       "      <td>559.024048</td>\n",
       "      <td>77.204285</td>\n",
       "      <td>36.599998</td>\n",
       "      <td>553.018005</td>\n",
       "      <td>78.980003</td>\n",
       "      <td>37.200001</td>\n",
       "      <td>558.058044</td>\n",
       "      <td>77.282860</td>\n",
       "      <td>36.910000</td>\n",
       "      <td>553.053040</td>\n",
       "      <td>98116900.0</td>\n",
       "      <td>31134800.0</td>\n",
       "      <td>3330000.0</td>\n",
       "      <td>69.545288</td>\n",
       "      <td>32.253098</td>\n",
       "      <td>553.053040</td>\n",
       "    </tr>\n",
       "    <tr>\n",
       "      <th>2014-01-06</th>\n",
       "      <td>78.114288</td>\n",
       "      <td>36.889999</td>\n",
       "      <td>559.989990</td>\n",
       "      <td>76.228569</td>\n",
       "      <td>36.110001</td>\n",
       "      <td>553.773804</td>\n",
       "      <td>76.778572</td>\n",
       "      <td>36.849998</td>\n",
       "      <td>557.062073</td>\n",
       "      <td>77.704285</td>\n",
       "      <td>36.130001</td>\n",
       "      <td>559.219238</td>\n",
       "      <td>103152700.0</td>\n",
       "      <td>43603700.0</td>\n",
       "      <td>3535000.0</td>\n",
       "      <td>69.924515</td>\n",
       "      <td>31.571505</td>\n",
       "      <td>559.219238</td>\n",
       "    </tr>\n",
       "    <tr>\n",
       "      <th>2014-01-07</th>\n",
       "      <td>77.994286</td>\n",
       "      <td>36.490002</td>\n",
       "      <td>570.415405</td>\n",
       "      <td>76.845711</td>\n",
       "      <td>36.209999</td>\n",
       "      <td>561.141113</td>\n",
       "      <td>77.760002</td>\n",
       "      <td>36.330002</td>\n",
       "      <td>563.063049</td>\n",
       "      <td>77.148575</td>\n",
       "      <td>36.410000</td>\n",
       "      <td>570.000000</td>\n",
       "      <td>79302300.0</td>\n",
       "      <td>35802800.0</td>\n",
       "      <td>5100000.0</td>\n",
       "      <td>69.424438</td>\n",
       "      <td>31.816179</td>\n",
       "      <td>570.000000</td>\n",
       "    </tr>\n",
       "    <tr>\n",
       "      <th>2014-01-08</th>\n",
       "      <td>77.937141</td>\n",
       "      <td>36.139999</td>\n",
       "      <td>574.234253</td>\n",
       "      <td>76.955711</td>\n",
       "      <td>35.580002</td>\n",
       "      <td>567.212219</td>\n",
       "      <td>76.972855</td>\n",
       "      <td>36.000000</td>\n",
       "      <td>573.573547</td>\n",
       "      <td>77.637146</td>\n",
       "      <td>35.759998</td>\n",
       "      <td>571.186157</td>\n",
       "      <td>64632400.0</td>\n",
       "      <td>59971700.0</td>\n",
       "      <td>4480500.0</td>\n",
       "      <td>69.864105</td>\n",
       "      <td>31.248198</td>\n",
       "      <td>571.186157</td>\n",
       "    </tr>\n",
       "  </tbody>\n",
       "</table>\n",
       "</div>"
      ],
      "text/plain": [
       "                 High                               Low             \\\n",
       "                 AAPL       MSFT       GOOGL       AAPL       MSFT   \n",
       "Date                                                                 \n",
       "2014-01-02  79.575714  37.400002  559.434448  78.860001  37.099998   \n",
       "2014-01-03  79.099998  37.220001  559.024048  77.204285  36.599998   \n",
       "2014-01-06  78.114288  36.889999  559.989990  76.228569  36.110001   \n",
       "2014-01-07  77.994286  36.490002  570.415405  76.845711  36.209999   \n",
       "2014-01-08  77.937141  36.139999  574.234253  76.955711  35.580002   \n",
       "\n",
       "                             Open                             Close  \\\n",
       "                 GOOGL       AAPL       MSFT       GOOGL       AAPL   \n",
       "Date                                                                  \n",
       "2014-01-02  554.684692  79.382858  37.349998  558.288269  79.018570   \n",
       "2014-01-03  553.018005  78.980003  37.200001  558.058044  77.282860   \n",
       "2014-01-06  553.773804  76.778572  36.849998  557.062073  77.704285   \n",
       "2014-01-07  561.141113  77.760002  36.330002  563.063049  77.148575   \n",
       "2014-01-08  567.212219  76.972855  36.000000  573.573547  77.637146   \n",
       "\n",
       "                                        Volume                         \\\n",
       "                 MSFT       GOOGL         AAPL        MSFT      GOOGL   \n",
       "Date                                                                    \n",
       "2014-01-02  37.160000  557.117126   58671200.0  30632200.0  3639100.0   \n",
       "2014-01-03  36.910000  553.053040   98116900.0  31134800.0  3330000.0   \n",
       "2014-01-06  36.130001  559.219238  103152700.0  43603700.0  3535000.0   \n",
       "2014-01-07  36.410000  570.000000   79302300.0  35802800.0  5100000.0   \n",
       "2014-01-08  35.759998  571.186157   64632400.0  59971700.0  4480500.0   \n",
       "\n",
       "            Adj Close                         \n",
       "                 AAPL       MSFT       GOOGL  \n",
       "Date                                          \n",
       "2014-01-02  71.107201  32.471554  557.117126  \n",
       "2014-01-03  69.545288  32.253098  553.053040  \n",
       "2014-01-06  69.924515  31.571505  559.219238  \n",
       "2014-01-07  69.424438  31.816179  570.000000  \n",
       "2014-01-08  69.864105  31.248198  571.186157  "
      ]
     },
     "execution_count": 14,
     "metadata": {},
     "output_type": "execute_result"
    }
   ],
   "source": [
    "df2.head()"
   ]
  },
  {
   "cell_type": "markdown",
   "metadata": {},
   "source": [
    "## 時系列データのプロット"
   ]
  },
  {
   "cell_type": "code",
   "execution_count": 15,
   "metadata": {},
   "outputs": [
    {
     "data": {
      "text/plain": [
       "pandas.core.frame.DataFrame"
      ]
     },
     "execution_count": 15,
     "metadata": {},
     "output_type": "execute_result"
    }
   ],
   "source": [
    "type(df2)"
   ]
  },
  {
   "cell_type": "code",
   "execution_count": 16,
   "metadata": {},
   "outputs": [
    {
     "data": {
      "text/plain": [
       "<matplotlib.axes._subplots.AxesSubplot at 0x7fe550089d30>"
      ]
     },
     "execution_count": 16,
     "metadata": {},
     "output_type": "execute_result"
    },
    {
     "data": {
      "image/png": "[encoded data removed]",
      "text/plain": [
       "<matplotlib.figure.Figure at 0x7fe54fad9048>"
      ]
     },
     "metadata": {},
     "output_type": "display_data"
    }
   ],
   "source": [
    "df2['Close'].plot()"
   ]
  },
  {
   "cell_type": "markdown",
   "metadata": {},
   "source": [
    "# トレンド抽出"
   ]
  },
  {
   "cell_type": "code",
   "execution_count": 17,
   "metadata": {
    "collapsed": true
   },
   "outputs": [],
   "source": [
    "from fbprophet import Prophet # Facebook が公開しているライブラリ"
   ]
  },
  {
   "cell_type": "code",
   "execution_count": 18,
   "metadata": {
    "collapsed": true
   },
   "outputs": [],
   "source": [
    "model = Prophet() # モデルのインスタンス化"
   ]
  },
  {
   "cell_type": "code",
   "execution_count": 19,
   "metadata": {},
   "outputs": [
    {
     "data": {
      "text/html": [
       "<div>\n",
       "<style scoped>\n",
       "    .dataframe tbody tr th:only-of-type {\n",
       "        vertical-align: middle;\n",
       "    }\n",
       "\n",
       "    .dataframe tbody tr th {\n",
       "        vertical-align: top;\n",
       "    }\n",
       "\n",
       "    .dataframe thead th {\n",
       "        text-align: right;\n",
       "    }\n",
       "</style>\n",
       "<table border=\"1\" class=\"dataframe\">\n",
       "  <thead>\n",
       "    <tr style=\"text-align: right;\">\n",
       "      <th></th>\n",
       "      <th>High</th>\n",
       "      <th>Low</th>\n",
       "      <th>Open</th>\n",
       "      <th>Close</th>\n",
       "      <th>Volume</th>\n",
       "      <th>Adj Close</th>\n",
       "    </tr>\n",
       "    <tr>\n",
       "      <th>Date</th>\n",
       "      <th></th>\n",
       "      <th></th>\n",
       "      <th></th>\n",
       "      <th></th>\n",
       "      <th></th>\n",
       "      <th></th>\n",
       "    </tr>\n",
       "  </thead>\n",
       "  <tbody>\n",
       "    <tr>\n",
       "      <th>2014-01-02</th>\n",
       "      <td>37.400002</td>\n",
       "      <td>37.099998</td>\n",
       "      <td>37.349998</td>\n",
       "      <td>37.160000</td>\n",
       "      <td>30632200.0</td>\n",
       "      <td>32.471554</td>\n",
       "    </tr>\n",
       "    <tr>\n",
       "      <th>2014-01-03</th>\n",
       "      <td>37.220001</td>\n",
       "      <td>36.599998</td>\n",
       "      <td>37.200001</td>\n",
       "      <td>36.910000</td>\n",
       "      <td>31134800.0</td>\n",
       "      <td>32.253098</td>\n",
       "    </tr>\n",
       "    <tr>\n",
       "      <th>2014-01-06</th>\n",
       "      <td>36.889999</td>\n",
       "      <td>36.110001</td>\n",
       "      <td>36.849998</td>\n",
       "      <td>36.130001</td>\n",
       "      <td>43603700.0</td>\n",
       "      <td>31.571505</td>\n",
       "    </tr>\n",
       "    <tr>\n",
       "      <th>2014-01-07</th>\n",
       "      <td>36.490002</td>\n",
       "      <td>36.209999</td>\n",
       "      <td>36.330002</td>\n",
       "      <td>36.410000</td>\n",
       "      <td>35802800.0</td>\n",
       "      <td>31.816179</td>\n",
       "    </tr>\n",
       "    <tr>\n",
       "      <th>2014-01-08</th>\n",
       "      <td>36.139999</td>\n",
       "      <td>35.580002</td>\n",
       "      <td>36.000000</td>\n",
       "      <td>35.759998</td>\n",
       "      <td>59971700.0</td>\n",
       "      <td>31.248198</td>\n",
       "    </tr>\n",
       "  </tbody>\n",
       "</table>\n",
       "</div>"
      ],
      "text/plain": [
       "                 High        Low       Open      Close      Volume  Adj Close\n",
       "Date                                                                         \n",
       "2014-01-02  37.400002  37.099998  37.349998  37.160000  30632200.0  32.471554\n",
       "2014-01-03  37.220001  36.599998  37.200001  36.910000  31134800.0  32.253098\n",
       "2014-01-06  36.889999  36.110001  36.849998  36.130001  43603700.0  31.571505\n",
       "2014-01-07  36.490002  36.209999  36.330002  36.410000  35802800.0  31.816179\n",
       "2014-01-08  36.139999  35.580002  36.000000  35.759998  59971700.0  31.248198"
      ]
     },
     "execution_count": 19,
     "metadata": {},
     "output_type": "execute_result"
    }
   ],
   "source": [
    "df1.head() # High, Low の行と、Date の行に無駄な空欄があり、修正しないとエラーが発生"
   ]
  },
  {
   "cell_type": "code",
   "execution_count": 20,
   "metadata": {},
   "outputs": [
    {
     "data": {
      "text/html": [
       "<div>\n",
       "<style scoped>\n",
       "    .dataframe tbody tr th:only-of-type {\n",
       "        vertical-align: middle;\n",
       "    }\n",
       "\n",
       "    .dataframe tbody tr th {\n",
       "        vertical-align: top;\n",
       "    }\n",
       "\n",
       "    .dataframe thead th {\n",
       "        text-align: right;\n",
       "    }\n",
       "</style>\n",
       "<table border=\"1\" class=\"dataframe\">\n",
       "  <thead>\n",
       "    <tr style=\"text-align: right;\">\n",
       "      <th></th>\n",
       "      <th>Date</th>\n",
       "      <th>High</th>\n",
       "      <th>Low</th>\n",
       "      <th>Open</th>\n",
       "      <th>Close</th>\n",
       "      <th>Volume</th>\n",
       "      <th>Adj Close</th>\n",
       "    </tr>\n",
       "  </thead>\n",
       "  <tbody>\n",
       "    <tr>\n",
       "      <th>0</th>\n",
       "      <td>2014-01-02</td>\n",
       "      <td>37.400002</td>\n",
       "      <td>37.099998</td>\n",
       "      <td>37.349998</td>\n",
       "      <td>37.160000</td>\n",
       "      <td>30632200.0</td>\n",
       "      <td>32.471554</td>\n",
       "    </tr>\n",
       "    <tr>\n",
       "      <th>1</th>\n",
       "      <td>2014-01-03</td>\n",
       "      <td>37.220001</td>\n",
       "      <td>36.599998</td>\n",
       "      <td>37.200001</td>\n",
       "      <td>36.910000</td>\n",
       "      <td>31134800.0</td>\n",
       "      <td>32.253098</td>\n",
       "    </tr>\n",
       "    <tr>\n",
       "      <th>2</th>\n",
       "      <td>2014-01-06</td>\n",
       "      <td>36.889999</td>\n",
       "      <td>36.110001</td>\n",
       "      <td>36.849998</td>\n",
       "      <td>36.130001</td>\n",
       "      <td>43603700.0</td>\n",
       "      <td>31.571505</td>\n",
       "    </tr>\n",
       "    <tr>\n",
       "      <th>3</th>\n",
       "      <td>2014-01-07</td>\n",
       "      <td>36.490002</td>\n",
       "      <td>36.209999</td>\n",
       "      <td>36.330002</td>\n",
       "      <td>36.410000</td>\n",
       "      <td>35802800.0</td>\n",
       "      <td>31.816179</td>\n",
       "    </tr>\n",
       "    <tr>\n",
       "      <th>4</th>\n",
       "      <td>2014-01-08</td>\n",
       "      <td>36.139999</td>\n",
       "      <td>35.580002</td>\n",
       "      <td>36.000000</td>\n",
       "      <td>35.759998</td>\n",
       "      <td>59971700.0</td>\n",
       "      <td>31.248198</td>\n",
       "    </tr>\n",
       "  </tbody>\n",
       "</table>\n",
       "</div>"
      ],
      "text/plain": [
       "        Date       High        Low       Open      Close      Volume  \\\n",
       "0 2014-01-02  37.400002  37.099998  37.349998  37.160000  30632200.0   \n",
       "1 2014-01-03  37.220001  36.599998  37.200001  36.910000  31134800.0   \n",
       "2 2014-01-06  36.889999  36.110001  36.849998  36.130001  43603700.0   \n",
       "3 2014-01-07  36.490002  36.209999  36.330002  36.410000  35802800.0   \n",
       "4 2014-01-08  36.139999  35.580002  36.000000  35.759998  59971700.0   \n",
       "\n",
       "   Adj Close  \n",
       "0  32.471554  \n",
       "1  32.253098  \n",
       "2  31.571505  \n",
       "3  31.816179  \n",
       "4  31.248198  "
      ]
     },
     "execution_count": 20,
     "metadata": {},
     "output_type": "execute_result"
    }
   ],
   "source": [
    "df1.reset_index().head() # インデックスの修正"
   ]
  },
  {
   "cell_type": "code",
   "execution_count": 21,
   "metadata": {},
   "outputs": [
    {
     "data": {
      "text/html": [
       "<div>\n",
       "<style scoped>\n",
       "    .dataframe tbody tr th:only-of-type {\n",
       "        vertical-align: middle;\n",
       "    }\n",
       "\n",
       "    .dataframe tbody tr th {\n",
       "        vertical-align: top;\n",
       "    }\n",
       "\n",
       "    .dataframe thead th {\n",
       "        text-align: right;\n",
       "    }\n",
       "</style>\n",
       "<table border=\"1\" class=\"dataframe\">\n",
       "  <thead>\n",
       "    <tr style=\"text-align: right;\">\n",
       "      <th></th>\n",
       "      <th>High</th>\n",
       "      <th>Low</th>\n",
       "      <th>Open</th>\n",
       "      <th>y</th>\n",
       "      <th>Volume</th>\n",
       "      <th>Adj Close</th>\n",
       "    </tr>\n",
       "    <tr>\n",
       "      <th>Date</th>\n",
       "      <th></th>\n",
       "      <th></th>\n",
       "      <th></th>\n",
       "      <th></th>\n",
       "      <th></th>\n",
       "      <th></th>\n",
       "    </tr>\n",
       "  </thead>\n",
       "  <tbody>\n",
       "    <tr>\n",
       "      <th>2014-01-02</th>\n",
       "      <td>37.400002</td>\n",
       "      <td>37.099998</td>\n",
       "      <td>37.349998</td>\n",
       "      <td>37.160000</td>\n",
       "      <td>30632200.0</td>\n",
       "      <td>32.471554</td>\n",
       "    </tr>\n",
       "    <tr>\n",
       "      <th>2014-01-03</th>\n",
       "      <td>37.220001</td>\n",
       "      <td>36.599998</td>\n",
       "      <td>37.200001</td>\n",
       "      <td>36.910000</td>\n",
       "      <td>31134800.0</td>\n",
       "      <td>32.253098</td>\n",
       "    </tr>\n",
       "    <tr>\n",
       "      <th>2014-01-06</th>\n",
       "      <td>36.889999</td>\n",
       "      <td>36.110001</td>\n",
       "      <td>36.849998</td>\n",
       "      <td>36.130001</td>\n",
       "      <td>43603700.0</td>\n",
       "      <td>31.571505</td>\n",
       "    </tr>\n",
       "    <tr>\n",
       "      <th>2014-01-07</th>\n",
       "      <td>36.490002</td>\n",
       "      <td>36.209999</td>\n",
       "      <td>36.330002</td>\n",
       "      <td>36.410000</td>\n",
       "      <td>35802800.0</td>\n",
       "      <td>31.816179</td>\n",
       "    </tr>\n",
       "    <tr>\n",
       "      <th>2014-01-08</th>\n",
       "      <td>36.139999</td>\n",
       "      <td>35.580002</td>\n",
       "      <td>36.000000</td>\n",
       "      <td>35.759998</td>\n",
       "      <td>59971700.0</td>\n",
       "      <td>31.248198</td>\n",
       "    </tr>\n",
       "  </tbody>\n",
       "</table>\n",
       "</div>"
      ],
      "text/plain": [
       "                 High        Low       Open          y      Volume  Adj Close\n",
       "Date                                                                         \n",
       "2014-01-02  37.400002  37.099998  37.349998  37.160000  30632200.0  32.471554\n",
       "2014-01-03  37.220001  36.599998  37.200001  36.910000  31134800.0  32.253098\n",
       "2014-01-06  36.889999  36.110001  36.849998  36.130001  43603700.0  31.571505\n",
       "2014-01-07  36.490002  36.209999  36.330002  36.410000  35802800.0  31.816179\n",
       "2014-01-08  36.139999  35.580002  36.000000  35.759998  59971700.0  31.248198"
      ]
     },
     "execution_count": 21,
     "metadata": {},
     "output_type": "execute_result"
    }
   ],
   "source": [
    "df1.rename(columns={'Date': 'ds', 'Close': 'y'}).head() \n",
    "# rename するとまたインデックスがずれる"
   ]
  },
  {
   "cell_type": "code",
   "execution_count": 22,
   "metadata": {},
   "outputs": [],
   "source": [
    "data = df1.reset_index().rename(columns={'Date': 'ds', 'Close': 'y'}).head()"
   ]
  },
  {
   "cell_type": "code",
   "execution_count": 23,
   "metadata": {},
   "outputs": [
    {
     "name": "stderr",
     "output_type": "stream",
     "text": [
      "/usr/local/lib/python3.5/dist-packages/fbprophet/forecaster.py:641: FutureWarning: Series.nonzero() is deprecated and will be removed in a future version.Use Series.to_numpy().nonzero() instead\n",
      "  min_dt = dt.iloc[dt.nonzero()[0]].min()\n",
      "INFO:fbprophet.forecaster:Disabling yearly seasonality. Run prophet with yearly_seasonality=True to override this.\n",
      "INFO:fbprophet.forecaster:Disabling weekly seasonality. Run prophet with weekly_seasonality=True to override this.\n",
      "INFO:fbprophet.forecaster:Disabling daily seasonality. Run prophet with daily_seasonality=True to override this.\n",
      "INFO:fbprophet.forecaster:n_changepoints greater than number of observations.Using 3.0.\n",
      "/usr/local/lib/python3.5/dist-packages/pystan/misc.py:399: FutureWarning: Conversion of the second argument of issubdtype from `float` to `np.floating` is deprecated. In future, it will be treated as `np.float64 == np.dtype(float).type`.\n",
      "  elif np.issubdtype(np.asarray(v).dtype, float):\n"
     ]
    },
    {
     "data": {
      "text/plain": [
       "<fbprophet.forecaster.Prophet at 0x7fe54d8fa128>"
      ]
     },
     "execution_count": 23,
     "metadata": {},
     "output_type": "execute_result"
    }
   ],
   "source": [
    "model.fit(data) # モデルの学習"
   ]
  },
  {
   "cell_type": "code",
   "execution_count": 30,
   "metadata": {
    "collapsed": true
   },
   "outputs": [],
   "source": [
    "future = model.make_future_dataframe(periods=365)\n",
    "\n",
    "# Signature: model.make_future_dataframe(periods, freq='D', include_history=True)\n",
    "# Docstring:\n",
    "# Simulate the trend using the extrapolated generative model.\n",
    "\n",
    "# Parameters\n",
    "# ----------\n",
    "# periods: Int number of periods to forecast forward.\n",
    "# freq: Any valid frequency for pd.date_range, such as 'D' or 'M'.\n",
    "# include_history: Boolean to include the historical dates in the data\n",
    "#     frame for predictions.\n",
    "\n",
    "# Returns\n",
    "# -------\n",
    "# pd.Dataframe that extends forward from the end of self.history for the\n",
    "# requested number of periods.\n",
    "# File:      /usr/local/lib/python3.5/dist-packages/fbprophet/forecaster.py\n",
    "# Type:      method"
   ]
  },
  {
   "cell_type": "code",
   "execution_count": 31,
   "metadata": {},
   "outputs": [
    {
     "name": "stderr",
     "output_type": "stream",
     "text": [
      "/usr/local/lib/python3.5/dist-packages/fbprophet/forecaster.py:1010: FutureWarning: Method .as_matrix will be removed in a future version. Use .values instead.\n",
      "  X = seasonal_features.as_matrix()\n",
      "/usr/local/lib/python3.5/dist-packages/fbprophet/forecaster.py:1134: FutureWarning: Method .as_matrix will be removed in a future version. Use .values instead.\n",
      "  seasonal = np.matmul(seasonal_features.as_matrix(), beta) * self.y_scale\n"
     ]
    }
   ],
   "source": [
    "forecast = model.predict(future) # 推論"
   ]
  },
  {
   "cell_type": "code",
   "execution_count": 32,
   "metadata": {},
   "outputs": [
    {
     "data": {
      "text/html": [
       "<div>\n",
       "<style scoped>\n",
       "    .dataframe tbody tr th:only-of-type {\n",
       "        vertical-align: middle;\n",
       "    }\n",
       "\n",
       "    .dataframe tbody tr th {\n",
       "        vertical-align: top;\n",
       "    }\n",
       "\n",
       "    .dataframe thead th {\n",
       "        text-align: right;\n",
       "    }\n",
       "</style>\n",
       "<table border=\"1\" class=\"dataframe\">\n",
       "  <thead>\n",
       "    <tr style=\"text-align: right;\">\n",
       "      <th></th>\n",
       "      <th>ds</th>\n",
       "      <th>trend</th>\n",
       "      <th>trend_lower</th>\n",
       "      <th>trend_upper</th>\n",
       "      <th>yhat_lower</th>\n",
       "      <th>yhat_upper</th>\n",
       "      <th>seasonal</th>\n",
       "      <th>seasonal_lower</th>\n",
       "      <th>seasonal_upper</th>\n",
       "      <th>yhat</th>\n",
       "    </tr>\n",
       "  </thead>\n",
       "  <tbody>\n",
       "    <tr>\n",
       "      <th>0</th>\n",
       "      <td>2014-01-02</td>\n",
       "      <td>37.121255</td>\n",
       "      <td>37.121255</td>\n",
       "      <td>37.121255</td>\n",
       "      <td>36.923578</td>\n",
       "      <td>37.315288</td>\n",
       "      <td>0.0</td>\n",
       "      <td>0.0</td>\n",
       "      <td>0.0</td>\n",
       "      <td>37.121255</td>\n",
       "    </tr>\n",
       "    <tr>\n",
       "      <th>1</th>\n",
       "      <td>2014-01-03</td>\n",
       "      <td>36.926155</td>\n",
       "      <td>36.926155</td>\n",
       "      <td>36.926155</td>\n",
       "      <td>36.731404</td>\n",
       "      <td>37.122325</td>\n",
       "      <td>0.0</td>\n",
       "      <td>0.0</td>\n",
       "      <td>0.0</td>\n",
       "      <td>36.926155</td>\n",
       "    </tr>\n",
       "    <tr>\n",
       "      <th>2</th>\n",
       "      <td>2014-01-06</td>\n",
       "      <td>36.340854</td>\n",
       "      <td>36.340854</td>\n",
       "      <td>36.340854</td>\n",
       "      <td>36.136834</td>\n",
       "      <td>36.544726</td>\n",
       "      <td>0.0</td>\n",
       "      <td>0.0</td>\n",
       "      <td>0.0</td>\n",
       "      <td>36.340854</td>\n",
       "    </tr>\n",
       "    <tr>\n",
       "      <th>3</th>\n",
       "      <td>2014-01-07</td>\n",
       "      <td>36.145753</td>\n",
       "      <td>36.145753</td>\n",
       "      <td>36.145753</td>\n",
       "      <td>35.946616</td>\n",
       "      <td>36.349993</td>\n",
       "      <td>0.0</td>\n",
       "      <td>0.0</td>\n",
       "      <td>0.0</td>\n",
       "      <td>36.145753</td>\n",
       "    </tr>\n",
       "    <tr>\n",
       "      <th>4</th>\n",
       "      <td>2014-01-08</td>\n",
       "      <td>35.835959</td>\n",
       "      <td>35.835959</td>\n",
       "      <td>35.835959</td>\n",
       "      <td>35.633084</td>\n",
       "      <td>36.027941</td>\n",
       "      <td>0.0</td>\n",
       "      <td>0.0</td>\n",
       "      <td>0.0</td>\n",
       "      <td>35.835959</td>\n",
       "    </tr>\n",
       "  </tbody>\n",
       "</table>\n",
       "</div>"
      ],
      "text/plain": [
       "          ds      trend  trend_lower  trend_upper  yhat_lower  yhat_upper  \\\n",
       "0 2014-01-02  37.121255    37.121255    37.121255   36.923578   37.315288   \n",
       "1 2014-01-03  36.926155    36.926155    36.926155   36.731404   37.122325   \n",
       "2 2014-01-06  36.340854    36.340854    36.340854   36.136834   36.544726   \n",
       "3 2014-01-07  36.145753    36.145753    36.145753   35.946616   36.349993   \n",
       "4 2014-01-08  35.835959    35.835959    35.835959   35.633084   36.027941   \n",
       "\n",
       "   seasonal  seasonal_lower  seasonal_upper       yhat  \n",
       "0       0.0             0.0             0.0  37.121255  \n",
       "1       0.0             0.0             0.0  36.926155  \n",
       "2       0.0             0.0             0.0  36.340854  \n",
       "3       0.0             0.0             0.0  36.145753  \n",
       "4       0.0             0.0             0.0  35.835959  "
      ]
     },
     "execution_count": 32,
     "metadata": {},
     "output_type": "execute_result"
    }
   ],
   "source": [
    "forecast.head() # 結果の可視化"
   ]
  },
  {
   "cell_type": "code",
   "execution_count": 33,
   "metadata": {},
   "outputs": [
    {
     "data": {
      "image/png": "[encoded data removed]",
      "text/plain": [
       "<matplotlib.figure.Figure at 0x7fe54d13c710>"
      ]
     },
     "metadata": {},
     "output_type": "display_data"
    }
   ],
   "source": [
    "model.plot(forecast) # 結果のグラフ描画\n",
    "plt.show()"
   ]
  },
  {
   "cell_type": "code",
   "execution_count": 34,
   "metadata": {},
   "outputs": [
    {
     "ename": "TypeError",
     "evalue": "zip argument #1 must support iteration",
     "output_type": "error",
     "traceback": [
      "\u001b[0;31m---------------------------------------------------------------------------\u001b[0m",
      "\u001b[0;31mTypeError\u001b[0m                                 Traceback (most recent call last)",
      "\u001b[0;32m<ipython-input-34-e26d172e7cb1>\u001b[0m in \u001b[0;36m<module>\u001b[0;34m()\u001b[0m\n\u001b[1;32m      1\u001b[0m \u001b[0;31m# トレンド抽出\u001b[0m\u001b[0;34m\u001b[0m\u001b[0;34m\u001b[0m\u001b[0m\n\u001b[0;32m----> 2\u001b[0;31m \u001b[0mmodel\u001b[0m\u001b[0;34m.\u001b[0m\u001b[0mplot_components\u001b[0m\u001b[0;34m(\u001b[0m\u001b[0mforecast\u001b[0m\u001b[0;34m)\u001b[0m\u001b[0;34m\u001b[0m\u001b[0m\n\u001b[0m\u001b[1;32m      3\u001b[0m \u001b[0mplt\u001b[0m\u001b[0;34m.\u001b[0m\u001b[0mshow\u001b[0m\u001b[0;34m(\u001b[0m\u001b[0;34m)\u001b[0m\u001b[0;34m\u001b[0m\u001b[0m\n\u001b[1;32m      4\u001b[0m \u001b[0;34m\u001b[0m\u001b[0m\n\u001b[1;32m      5\u001b[0m \u001b[0;31m# ---------------------------------------------------------------------------\u001b[0m\u001b[0;34m\u001b[0m\u001b[0;34m\u001b[0m\u001b[0m\n",
      "\u001b[0;32m/usr/local/lib/python3.5/dist-packages/fbprophet/forecaster.py\u001b[0m in \u001b[0;36mplot_components\u001b[0;34m(self, fcst, uncertainty, plot_cap, weekly_start, yearly_start)\u001b[0m\n\u001b[1;32m   1304\u001b[0m                                  figsize=(9, 3 * npanel))\n\u001b[1;32m   1305\u001b[0m \u001b[0;34m\u001b[0m\u001b[0m\n\u001b[0;32m-> 1306\u001b[0;31m         \u001b[0;32mfor\u001b[0m \u001b[0max\u001b[0m\u001b[0;34m,\u001b[0m \u001b[0mplot\u001b[0m \u001b[0;32min\u001b[0m \u001b[0mzip\u001b[0m\u001b[0;34m(\u001b[0m\u001b[0maxes\u001b[0m\u001b[0;34m,\u001b[0m \u001b[0mcomponents\u001b[0m\u001b[0;34m)\u001b[0m\u001b[0;34m:\u001b[0m\u001b[0;34m\u001b[0m\u001b[0m\n\u001b[0m\u001b[1;32m   1307\u001b[0m             \u001b[0;32mif\u001b[0m \u001b[0mplot\u001b[0m \u001b[0;34m==\u001b[0m \u001b[0;34m'trend'\u001b[0m\u001b[0;34m:\u001b[0m\u001b[0;34m\u001b[0m\u001b[0m\n\u001b[1;32m   1308\u001b[0m                 self.plot_forecast_component(\n",
      "\u001b[0;31mTypeError\u001b[0m: zip argument #1 must support iteration"
     ]
    },
    {
     "data": {
      "image/png": "[encoded data removed]",
      "text/plain": [
       "<matplotlib.figure.Figure at 0x7fe54d216978>"
      ]
     },
     "metadata": {},
     "output_type": "display_data"
    }
   ],
   "source": [
    "# トレンド抽出\n",
    "model.plot_components(forecast)\n",
    "plt.show()\n",
    "\n",
    "# ---------------------------------------------------------------------------\n",
    "# TypeError                                 Traceback (most recent call last)\n",
    "# <ipython-input-29-152fec61156d> in <module>()\n",
    "#       1 # トレンド抽出\n",
    "# ----> 2 model.plot_components(forecast)\n",
    "#       3 plt.show()\n",
    "\n",
    "# /usr/local/lib/python3.5/dist-packages/fbprophet/forecaster.py in plot_components(self, fcst, uncertainty, plot_cap, weekly_start, yearly_start)\n",
    "#    1304                                  figsize=(9, 3 * npanel))\n",
    "#    1305 \n",
    "# -> 1306         for ax, plot in zip(axes, components):\n",
    "#    1307             if plot == 'trend':\n",
    "#    1308                 self.plot_forecast_component(\n",
    "\n",
    "# TypeError: zip argument #1 must support iteration\n",
    "# 幅が合ってない時に出るエラーらしい"
   ]
  },
  {
   "cell_type": "code",
   "execution_count": null,
   "metadata": {
    "collapsed": true
   },
   "outputs": [],
   "source": []
  }
 ],
 "metadata": {
  "kernelspec": {
   "display_name": "Python 3",
   "language": "python",
   "name": "python3"
  },
  "language_info": {
   "codemirror_mode": {
    "name": "ipython",
    "version": 3
   },
   "file_extension": ".py",
   "mimetype": "text/x-python",
   "name": "python",
   "nbconvert_exporter": "python",
   "pygments_lexer": "ipython3",
   "version": "3.5.2"
  }
 },
 "nbformat": 4,
 "nbformat_minor": 2
}
