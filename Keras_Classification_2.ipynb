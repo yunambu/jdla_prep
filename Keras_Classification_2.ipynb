{
 "cells": [
  {
   "cell_type": "code",
   "execution_count": 1,
   "metadata": {},
   "outputs": [
    {
     "name": "stdout",
     "output_type": "stream",
     "text": [
      "2.0.0\n"
     ]
    }
   ],
   "source": [
    "%matplotlib inline\n",
    "import numpy as np\n",
    "import pandas as pd\n",
    "import matplotlib.pyplot as plt\n",
    "\n",
    "from __future__ import absolute_import, division, print_function, unicode_literals\n",
    "\n",
    "# TensorFlow と tf.keras のインポート\n",
    "import tensorflow as tf\n",
    "from tensorflow import keras\n",
    "\n",
    "# シードの固定\n",
    "import os\n",
    "import random\n",
    "\n",
    "def reset_seed(seed=0):\n",
    "\n",
    "    os.environ['PYTHONHASHSEED'] = '0'\n",
    "    random.seed(seed) #　random関数のシードを固定\n",
    "    np.random.seed(seed) #numpyのシードを固定\n",
    "    tf.random.set_seed(seed) #tensorflowのシードを固定\n",
    "\n",
    "print(tf.__version__)"
   ]
  },
  {
   "cell_type": "code",
   "execution_count": 2,
   "metadata": {
    "collapsed": true
   },
   "outputs": [],
   "source": [
    "from tensorflow.keras.datasets import cifar10"
   ]
  },
  {
   "cell_type": "code",
   "execution_count": 3,
   "metadata": {
    "collapsed": true
   },
   "outputs": [],
   "source": [
    "(train_x, train_t), (val_x, val_t) = cifar10.load_data()"
   ]
  },
  {
   "cell_type": "code",
   "execution_count": 4,
   "metadata": {},
   "outputs": [
    {
     "data": {
      "text/plain": [
       "(50000, 10000, 50000, 10000)"
      ]
     },
     "execution_count": 4,
     "metadata": {},
     "output_type": "execute_result"
    }
   ],
   "source": [
    "len(train_x), len(val_x), len(train_t), len(val_t)"
   ]
  },
  {
   "cell_type": "code",
   "execution_count": 5,
   "metadata": {},
   "outputs": [
    {
     "data": {
      "text/plain": [
       "(50000, 32, 32, 3)"
      ]
     },
     "execution_count": 5,
     "metadata": {},
     "output_type": "execute_result"
    }
   ],
   "source": [
    "train_x.shape"
   ]
  },
  {
   "cell_type": "code",
   "execution_count": 6,
   "metadata": {},
   "outputs": [
    {
     "data": {
      "text/plain": [
       "numpy.ndarray"
      ]
     },
     "execution_count": 6,
     "metadata": {},
     "output_type": "execute_result"
    }
   ],
   "source": [
    "type(train_x)"
   ]
  },
  {
   "cell_type": "code",
   "execution_count": 7,
   "metadata": {},
   "outputs": [
    {
     "data": {
      "text/plain": [
       "dtype('uint8')"
      ]
     },
     "execution_count": 7,
     "metadata": {},
     "output_type": "execute_result"
    }
   ],
   "source": [
    "train_x.dtype"
   ]
  },
  {
   "cell_type": "code",
   "execution_count": 8,
   "metadata": {},
   "outputs": [
    {
     "data": {
      "text/plain": [
       "<matplotlib.image.AxesImage at 0x7f85e8395c18>"
      ]
     },
     "execution_count": 8,
     "metadata": {},
     "output_type": "execute_result"
    },
    {
     "data": {
      "image/png": "[encoded data removed]",
      "text/plain": [
       "<matplotlib.figure.Figure at 0x7f85f36a3cc0>"
      ]
     },
     "metadata": {},
     "output_type": "display_data"
    }
   ],
   "source": [
    "plt.imshow(train_x[0])"
   ]
  },
  {
   "cell_type": "code",
   "execution_count": 9,
   "metadata": {},
   "outputs": [
    {
     "data": {
      "text/plain": [
       "(50000, 1)"
      ]
     },
     "execution_count": 9,
     "metadata": {},
     "output_type": "execute_result"
    }
   ],
   "source": [
    "train_t.shape"
   ]
  },
  {
   "cell_type": "code",
   "execution_count": 10,
   "metadata": {},
   "outputs": [
    {
     "data": {
      "text/plain": [
       "numpy.ndarray"
      ]
     },
     "execution_count": 10,
     "metadata": {},
     "output_type": "execute_result"
    }
   ],
   "source": [
    "type(train_t)"
   ]
  },
  {
   "cell_type": "code",
   "execution_count": 11,
   "metadata": {},
   "outputs": [
    {
     "data": {
      "text/plain": [
       "dtype('uint8')"
      ]
     },
     "execution_count": 11,
     "metadata": {},
     "output_type": "execute_result"
    }
   ],
   "source": [
    "train_t.dtype"
   ]
  },
  {
   "cell_type": "code",
   "execution_count": 12,
   "metadata": {},
   "outputs": [
    {
     "data": {
      "text/plain": [
       "array([6], dtype=uint8)"
      ]
     },
     "execution_count": 12,
     "metadata": {},
     "output_type": "execute_result"
    }
   ],
   "source": [
    "train_t[0]"
   ]
  },
  {
   "cell_type": "code",
   "execution_count": 13,
   "metadata": {},
   "outputs": [
    {
     "data": {
      "text/plain": [
       "(50000, 1)"
      ]
     },
     "execution_count": 13,
     "metadata": {},
     "output_type": "execute_result"
    }
   ],
   "source": [
    "train_t.shape"
   ]
  },
  {
   "cell_type": "code",
   "execution_count": 14,
   "metadata": {},
   "outputs": [
    {
     "data": {
      "text/plain": [
       "array([[[ 59,  62,  63],\n",
       "        [ 43,  46,  45],\n",
       "        [ 50,  48,  43],\n",
       "        ...,\n",
       "        [158, 132, 108],\n",
       "        [152, 125, 102],\n",
       "        [148, 124, 103]],\n",
       "\n",
       "       [[ 16,  20,  20],\n",
       "        [  0,   0,   0],\n",
       "        [ 18,   8,   0],\n",
       "        ...,\n",
       "        [123,  88,  55],\n",
       "        [119,  83,  50],\n",
       "        [122,  87,  57]],\n",
       "\n",
       "       [[ 25,  24,  21],\n",
       "        [ 16,   7,   0],\n",
       "        [ 49,  27,   8],\n",
       "        ...,\n",
       "        [118,  84,  50],\n",
       "        [120,  84,  50],\n",
       "        [109,  73,  42]],\n",
       "\n",
       "       ...,\n",
       "\n",
       "       [[208, 170,  96],\n",
       "        [201, 153,  34],\n",
       "        [198, 161,  26],\n",
       "        ...,\n",
       "        [160, 133,  70],\n",
       "        [ 56,  31,   7],\n",
       "        [ 53,  34,  20]],\n",
       "\n",
       "       [[180, 139,  96],\n",
       "        [173, 123,  42],\n",
       "        [186, 144,  30],\n",
       "        ...,\n",
       "        [184, 148,  94],\n",
       "        [ 97,  62,  34],\n",
       "        [ 83,  53,  34]],\n",
       "\n",
       "       [[177, 144, 116],\n",
       "        [168, 129,  94],\n",
       "        [179, 142,  87],\n",
       "        ...,\n",
       "        [216, 184, 140],\n",
       "        [151, 118,  84],\n",
       "        [123,  92,  72]]], dtype=uint8)"
      ]
     },
     "execution_count": 14,
     "metadata": {},
     "output_type": "execute_result"
    }
   ],
   "source": [
    "train_x[0]"
   ]
  },
  {
   "cell_type": "code",
   "execution_count": 15,
   "metadata": {},
   "outputs": [],
   "source": [
    "# 特徴量の正規化\n",
    "train_x = train_x / 255\n",
    "val_x = val_x / 255"
   ]
  },
  {
   "cell_type": "code",
   "execution_count": 16,
   "metadata": {},
   "outputs": [
    {
     "data": {
      "text/plain": [
       "array([[[0.23137255, 0.24313725, 0.24705882],\n",
       "        [0.16862745, 0.18039216, 0.17647059],\n",
       "        [0.19607843, 0.18823529, 0.16862745],\n",
       "        ...,\n",
       "        [0.61960784, 0.51764706, 0.42352941],\n",
       "        [0.59607843, 0.49019608, 0.4       ],\n",
       "        [0.58039216, 0.48627451, 0.40392157]],\n",
       "\n",
       "       [[0.0627451 , 0.07843137, 0.07843137],\n",
       "        [0.        , 0.        , 0.        ],\n",
       "        [0.07058824, 0.03137255, 0.        ],\n",
       "        ...,\n",
       "        [0.48235294, 0.34509804, 0.21568627],\n",
       "        [0.46666667, 0.3254902 , 0.19607843],\n",
       "        [0.47843137, 0.34117647, 0.22352941]],\n",
       "\n",
       "       [[0.09803922, 0.09411765, 0.08235294],\n",
       "        [0.0627451 , 0.02745098, 0.        ],\n",
       "        [0.19215686, 0.10588235, 0.03137255],\n",
       "        ...,\n",
       "        [0.4627451 , 0.32941176, 0.19607843],\n",
       "        [0.47058824, 0.32941176, 0.19607843],\n",
       "        [0.42745098, 0.28627451, 0.16470588]],\n",
       "\n",
       "       ...,\n",
       "\n",
       "       [[0.81568627, 0.66666667, 0.37647059],\n",
       "        [0.78823529, 0.6       , 0.13333333],\n",
       "        [0.77647059, 0.63137255, 0.10196078],\n",
       "        ...,\n",
       "        [0.62745098, 0.52156863, 0.2745098 ],\n",
       "        [0.21960784, 0.12156863, 0.02745098],\n",
       "        [0.20784314, 0.13333333, 0.07843137]],\n",
       "\n",
       "       [[0.70588235, 0.54509804, 0.37647059],\n",
       "        [0.67843137, 0.48235294, 0.16470588],\n",
       "        [0.72941176, 0.56470588, 0.11764706],\n",
       "        ...,\n",
       "        [0.72156863, 0.58039216, 0.36862745],\n",
       "        [0.38039216, 0.24313725, 0.13333333],\n",
       "        [0.3254902 , 0.20784314, 0.13333333]],\n",
       "\n",
       "       [[0.69411765, 0.56470588, 0.45490196],\n",
       "        [0.65882353, 0.50588235, 0.36862745],\n",
       "        [0.70196078, 0.55686275, 0.34117647],\n",
       "        ...,\n",
       "        [0.84705882, 0.72156863, 0.54901961],\n",
       "        [0.59215686, 0.4627451 , 0.32941176],\n",
       "        [0.48235294, 0.36078431, 0.28235294]]])"
      ]
     },
     "execution_count": 16,
     "metadata": {},
     "output_type": "execute_result"
    }
   ],
   "source": [
    "train_x[0]"
   ]
  },
  {
   "cell_type": "code",
   "execution_count": 17,
   "metadata": {
    "collapsed": true
   },
   "outputs": [],
   "source": [
    "# sparse_catergorical_crossentropy にすると自動的に One-hot 表現にされる。\n",
    "# sparse というところが味噌。\n",
    "# --> したがって、今は one-hot 表現にわざわざ to_categorical を使って変える必要なし\n",
    "# https://10001ideas.com/2018/10/10/batch-normalization-%E3%81%A8-dropout-%E3%81%AF%E4%BD%B5%E7%94%A8%E3%81%97%E3%81%AA%E3%81%84%E6%96%B9%E3%81%8C%E8%89%AF%E3%81%84%E3%81%A8%E3%81%84%E3%81%86%E8%A9%B1/"
   ]
  },
  {
   "cell_type": "code",
   "execution_count": 18,
   "metadata": {
    "collapsed": true
   },
   "outputs": [],
   "source": [
    "from tensorflow.keras import models, layers"
   ]
  },
  {
   "cell_type": "code",
   "execution_count": 19,
   "metadata": {
    "collapsed": true
   },
   "outputs": [],
   "source": [
    "# Batch Normalization と Dropout は一緒にしないほうがいいが、回避策としては、\n",
    "# BN -> DO の順に行うこと。というのも、DO は過学習を起こさないために、指定した割合で\n",
    "# ノードを消して NN を行うが、DO を先にやってしまうと、そのフルノードでない状態で、\n",
    "# BN が行われ、accuracy や loss にフラップが発生する。どちらもやってもいいが、\n",
    "# BN だけでいいのでは？というのが最近の傾向らしい"
   ]
  },
  {
   "cell_type": "code",
   "execution_count": 20,
   "metadata": {},
   "outputs": [],
   "source": [
    "reset_seed(0)\n",
    "\n",
    "model = models.Sequential()\n",
    "\n",
    "model.add(layers.Conv2D(16, (3, 3), activation='relu', padding='same', \n",
    "                        input_shape=(32, 32, 3)))\n",
    "model.add(layers.BatchNormalization())\n",
    "model.add(layers.MaxPooling2D((2, 2), strides=(2, 2), padding='same'))\n",
    "\n",
    "model.add(layers.Conv2D(32, (3, 3), activation='relu', padding='same'))\n",
    "model.add(layers.BatchNormalization())\n",
    "model.add(layers.MaxPooling2D((2, 2), strides=(2, 2), padding='same'))\n",
    "\n",
    "model.add(layers.Conv2D(64, (3, 3), activation='relu', padding='same'))\n",
    "model.add(layers.BatchNormalization())\n",
    "model.add(layers.MaxPooling2D((2, 2), strides=(2, 2), padding='same'))\n",
    "\n",
    "model.add(layers.Conv2D(128, (3, 3), activation='relu', padding='same'))\n",
    "model.add(layers.BatchNormalization())\n",
    "model.add(layers.MaxPooling2D((2, 2), strides=(2, 2), padding='same'))\n",
    "\n",
    "model.add(layers.Conv2D(192, (3, 3), activation='relu', padding='same'))\n",
    "model.add(layers.BatchNormalization())\n",
    "model.add(layers.MaxPooling2D((2, 2), strides=(2, 2), padding='same'))\n",
    "\n",
    "model.add(layers.Flatten())\n",
    "model.add(layers.Dense(256, activation='relu'))\n",
    "model.add(layers.BatchNormalization())\n",
    "model.add(layers.Dense(10, activation='softmax'))\n",
    "\n",
    "model.compile(loss='sparse_categorical_crossentropy',\n",
    "             optimizer='Adam',\n",
    "             metrics=['accuracy'])"
   ]
  },
  {
   "cell_type": "code",
   "execution_count": 21,
   "metadata": {},
   "outputs": [
    {
     "name": "stdout",
     "output_type": "stream",
     "text": [
      "Train on 50000 samples, validate on 10000 samples\n",
      "Epoch 1/50\n",
      "50000/50000 [==============================] - 24s 486us/sample - loss: 1.5977 - accuracy: 0.4427 - val_loss: 2.3910 - val_accuracy: 0.1001\n",
      "Epoch 2/50\n",
      "50000/50000 [==============================] - 23s 451us/sample - loss: 1.1441 - accuracy: 0.5956 - val_loss: 2.6708 - val_accuracy: 0.1005\n",
      "Epoch 3/50\n",
      "50000/50000 [==============================] - 23s 450us/sample - loss: 0.9600 - accuracy: 0.6626 - val_loss: 2.9254 - val_accuracy: 0.1004\n",
      "Epoch 4/50\n",
      "50000/50000 [==============================] - 22s 449us/sample - loss: 0.8062 - accuracy: 0.7188 - val_loss: 3.0117 - val_accuracy: 0.1355\n",
      "Epoch 5/50\n",
      "50000/50000 [==============================] - 23s 452us/sample - loss: 0.6785 - accuracy: 0.7656 - val_loss: 2.9027 - val_accuracy: 0.2210\n",
      "Epoch 6/50\n",
      "50000/50000 [==============================] - 23s 450us/sample - loss: 0.5626 - accuracy: 0.8070 - val_loss: 2.5130 - val_accuracy: 0.2989\n",
      "Epoch 7/50\n",
      "50000/50000 [==============================] - 23s 450us/sample - loss: 0.4467 - accuracy: 0.8477 - val_loss: 2.5814 - val_accuracy: 0.3054\n",
      "Epoch 8/50\n",
      "50000/50000 [==============================] - 23s 451us/sample - loss: 0.3517 - accuracy: 0.8851 - val_loss: 2.1392 - val_accuracy: 0.3966\n",
      "Epoch 9/50\n",
      "50000/50000 [==============================] - 23s 450us/sample - loss: 0.2689 - accuracy: 0.9128 - val_loss: 1.8175 - val_accuracy: 0.4729\n",
      "Epoch 10/50\n",
      "50000/50000 [==============================] - 23s 451us/sample - loss: 0.1901 - accuracy: 0.9420 - val_loss: 1.6512 - val_accuracy: 0.5463\n",
      "Epoch 11/50\n",
      "50000/50000 [==============================] - 23s 452us/sample - loss: 0.1382 - accuracy: 0.9608 - val_loss: 1.4260 - val_accuracy: 0.6066\n",
      "Epoch 12/50\n",
      "50000/50000 [==============================] - 23s 451us/sample - loss: 0.0979 - accuracy: 0.9746 - val_loss: 1.4876 - val_accuracy: 0.6311\n",
      "Epoch 13/50\n",
      "50000/50000 [==============================] - 23s 452us/sample - loss: 0.0655 - accuracy: 0.9850 - val_loss: 1.5972 - val_accuracy: 0.6359\n",
      "Epoch 14/50\n",
      "50000/50000 [==============================] - 23s 452us/sample - loss: 0.0450 - accuracy: 0.9914 - val_loss: 1.5475 - val_accuracy: 0.6472\n",
      "Epoch 15/50\n",
      "50000/50000 [==============================] - 23s 452us/sample - loss: 0.0316 - accuracy: 0.9953 - val_loss: 1.6534 - val_accuracy: 0.6504\n",
      "Epoch 16/50\n",
      "50000/50000 [==============================] - 22s 449us/sample - loss: 0.0189 - accuracy: 0.9981 - val_loss: 1.6586 - val_accuracy: 0.6563\n",
      "Epoch 17/50\n",
      "50000/50000 [==============================] - 22s 448us/sample - loss: 0.0103 - accuracy: 0.9994 - val_loss: 1.6950 - val_accuracy: 0.6614\n",
      "Epoch 18/50\n",
      "50000/50000 [==============================] - 25s 500us/sample - loss: 0.0044 - accuracy: 1.0000 - val_loss: 1.7123 - val_accuracy: 0.6640\n",
      "Epoch 19/50\n",
      "50000/50000 [==============================] - 26s 526us/sample - loss: 0.0025 - accuracy: 1.0000 - val_loss: 1.7302 - val_accuracy: 0.6682\n",
      "Epoch 20/50\n",
      "50000/50000 [==============================] - 23s 451us/sample - loss: 0.0019 - accuracy: 1.0000 - val_loss: 1.7462 - val_accuracy: 0.6685\n",
      "Epoch 21/50\n",
      "50000/50000 [==============================] - 22s 448us/sample - loss: 0.0016 - accuracy: 1.0000 - val_loss: 1.7662 - val_accuracy: 0.6671\n",
      "Epoch 22/50\n",
      "50000/50000 [==============================] - 23s 452us/sample - loss: 0.0014 - accuracy: 1.0000 - val_loss: 1.7857 - val_accuracy: 0.6680\n",
      "Epoch 23/50\n",
      "50000/50000 [==============================] - 23s 452us/sample - loss: 0.0012 - accuracy: 1.0000 - val_loss: 1.8047 - val_accuracy: 0.6678\n",
      "Epoch 24/50\n",
      "50000/50000 [==============================] - 23s 450us/sample - loss: 0.0011 - accuracy: 1.0000 - val_loss: 1.8190 - val_accuracy: 0.6664\n",
      "Epoch 25/50\n",
      "50000/50000 [==============================] - 23s 451us/sample - loss: 0.0010 - accuracy: 1.0000 - val_loss: 1.8357 - val_accuracy: 0.6684\n",
      "Epoch 26/50\n",
      "50000/50000 [==============================] - 23s 451us/sample - loss: 9.2853e-04 - accuracy: 1.0000 - val_loss: 1.8478 - val_accuracy: 0.6682\n",
      "Epoch 27/50\n",
      "50000/50000 [==============================] - 22s 450us/sample - loss: 8.3958e-04 - accuracy: 1.0000 - val_loss: 1.8637 - val_accuracy: 0.6671\n",
      "Epoch 28/50\n",
      "50000/50000 [==============================] - 23s 452us/sample - loss: 7.8410e-04 - accuracy: 1.0000 - val_loss: 1.8762 - val_accuracy: 0.6680\n",
      "Epoch 29/50\n",
      "50000/50000 [==============================] - 22s 449us/sample - loss: 7.2638e-04 - accuracy: 1.0000 - val_loss: 1.8846 - val_accuracy: 0.6677\n",
      "Epoch 30/50\n",
      "50000/50000 [==============================] - 22s 450us/sample - loss: 6.7718e-04 - accuracy: 1.0000 - val_loss: 1.8975 - val_accuracy: 0.6677\n",
      "Epoch 31/50\n",
      "50000/50000 [==============================] - 23s 451us/sample - loss: 6.3115e-04 - accuracy: 1.0000 - val_loss: 1.9075 - val_accuracy: 0.6668\n",
      "Epoch 32/50\n",
      "50000/50000 [==============================] - 23s 452us/sample - loss: 5.8937e-04 - accuracy: 1.0000 - val_loss: 1.9183 - val_accuracy: 0.6668\n",
      "Epoch 33/50\n",
      "50000/50000 [==============================] - 23s 452us/sample - loss: 5.5145e-04 - accuracy: 1.0000 - val_loss: 1.9295 - val_accuracy: 0.6670\n",
      "Epoch 34/50\n",
      "50000/50000 [==============================] - 22s 450us/sample - loss: 5.2153e-04 - accuracy: 1.0000 - val_loss: 1.9417 - val_accuracy: 0.6667\n",
      "Epoch 35/50\n",
      "50000/50000 [==============================] - 22s 449us/sample - loss: 4.9264e-04 - accuracy: 1.0000 - val_loss: 1.9512 - val_accuracy: 0.6668\n",
      "Epoch 36/50\n",
      "50000/50000 [==============================] - 23s 453us/sample - loss: 4.5638e-04 - accuracy: 1.0000 - val_loss: 1.9584 - val_accuracy: 0.6666\n",
      "Epoch 37/50\n",
      "50000/50000 [==============================] - 23s 461us/sample - loss: 4.3252e-04 - accuracy: 1.0000 - val_loss: 1.9693 - val_accuracy: 0.6658\n",
      "Epoch 38/50\n",
      "50000/50000 [==============================] - 23s 452us/sample - loss: 4.0461e-04 - accuracy: 1.0000 - val_loss: 1.9796 - val_accuracy: 0.6651\n",
      "Epoch 39/50\n",
      "50000/50000 [==============================] - 23s 452us/sample - loss: 3.9096e-04 - accuracy: 1.0000 - val_loss: 1.9875 - val_accuracy: 0.6651\n",
      "Epoch 40/50\n",
      "50000/50000 [==============================] - 23s 452us/sample - loss: 3.6305e-04 - accuracy: 1.0000 - val_loss: 1.9979 - val_accuracy: 0.6657\n",
      "Epoch 41/50\n",
      "50000/50000 [==============================] - 23s 450us/sample - loss: 3.5288e-04 - accuracy: 1.0000 - val_loss: 2.0041 - val_accuracy: 0.6663\n",
      "Epoch 42/50\n",
      "50000/50000 [==============================] - 23s 452us/sample - loss: 3.3134e-04 - accuracy: 1.0000 - val_loss: 2.0174 - val_accuracy: 0.6644\n",
      "Epoch 43/50\n",
      "50000/50000 [==============================] - 23s 451us/sample - loss: 3.1813e-04 - accuracy: 1.0000 - val_loss: 2.0234 - val_accuracy: 0.6654\n",
      "Epoch 44/50\n",
      "50000/50000 [==============================] - 23s 452us/sample - loss: 3.0370e-04 - accuracy: 1.0000 - val_loss: 2.0325 - val_accuracy: 0.6647\n",
      "Epoch 45/50\n",
      "50000/50000 [==============================] - 23s 456us/sample - loss: 2.8459e-04 - accuracy: 1.0000 - val_loss: 2.0406 - val_accuracy: 0.6648\n",
      "Epoch 46/50\n",
      "50000/50000 [==============================] - 23s 452us/sample - loss: 2.7194e-04 - accuracy: 1.0000 - val_loss: 2.0497 - val_accuracy: 0.6662\n",
      "Epoch 47/50\n",
      "50000/50000 [==============================] - 23s 454us/sample - loss: 2.5925e-04 - accuracy: 1.0000 - val_loss: 2.0573 - val_accuracy: 0.6659\n",
      "Epoch 48/50\n",
      "50000/50000 [==============================] - 23s 452us/sample - loss: 2.3865e-04 - accuracy: 1.0000 - val_loss: 2.0659 - val_accuracy: 0.6645\n",
      "Epoch 49/50\n",
      "50000/50000 [==============================] - 23s 456us/sample - loss: 2.3832e-04 - accuracy: 1.0000 - val_loss: 2.0757 - val_accuracy: 0.6645\n",
      "Epoch 50/50\n",
      "50000/50000 [==============================] - 23s 453us/sample - loss: 2.3309e-04 - accuracy: 1.0000 - val_loss: 2.0825 - val_accuracy: 0.6651\n"
     ]
    },
    {
     "data": {
      "text/plain": [
       "<tensorflow.python.keras.callbacks.History at 0x7f855c0824e0>"
      ]
     },
     "execution_count": 21,
     "metadata": {},
     "output_type": "execute_result"
    }
   ],
   "source": [
    "model.fit(train_x, train_t,\n",
    "         batch_size=1024,\n",
    "         epochs=50,\n",
    "         verbose=1,\n",
    "         validation_data=(val_x, val_t))"
   ]
  },
  {
   "cell_type": "code",
   "execution_count": 22,
   "metadata": {
    "collapsed": true
   },
   "outputs": [],
   "source": [
    "results = pd.DataFrame(model.history.history)"
   ]
  },
  {
   "cell_type": "code",
   "execution_count": 23,
   "metadata": {},
   "outputs": [
    {
     "data": {
      "text/plain": [
       "<matplotlib.axes._subplots.AxesSubplot at 0x7f852c084a90>"
      ]
     },
     "execution_count": 23,
     "metadata": {},
     "output_type": "execute_result"
    },
    {
     "data": {
      "image/png": "[encoded data removed]",
      "text/plain": [
       "<matplotlib.figure.Figure at 0x7f865aff0780>"
      ]
     },
     "metadata": {},
     "output_type": "display_data"
    }
   ],
   "source": [
    "results[['loss', 'val_loss']].plot()"
   ]
  },
  {
   "cell_type": "code",
   "execution_count": 24,
   "metadata": {},
   "outputs": [
    {
     "data": {
      "text/plain": [
       "<matplotlib.axes._subplots.AxesSubplot at 0x7f852c0f9358>"
      ]
     },
     "execution_count": 24,
     "metadata": {},
     "output_type": "execute_result"
    },
    {
     "data": {
      "image/png": "[encoded data removed]",
      "text/plain": [
       "<matplotlib.figure.Figure at 0x7f854013da20>"
      ]
     },
     "metadata": {},
     "output_type": "display_data"
    }
   ],
   "source": [
    "results[['accuracy', 'val_accuracy']].plot()"
   ]
  },
  {
   "cell_type": "code",
   "execution_count": 25,
   "metadata": {},
   "outputs": [
    {
     "data": {
      "text/html": [
       "<div>\n",
       "<style scoped>\n",
       "    .dataframe tbody tr th:only-of-type {\n",
       "        vertical-align: middle;\n",
       "    }\n",
       "\n",
       "    .dataframe tbody tr th {\n",
       "        vertical-align: top;\n",
       "    }\n",
       "\n",
       "    .dataframe thead th {\n",
       "        text-align: right;\n",
       "    }\n",
       "</style>\n",
       "<table border=\"1\" class=\"dataframe\">\n",
       "  <thead>\n",
       "    <tr style=\"text-align: right;\">\n",
       "      <th></th>\n",
       "      <th>accuracy</th>\n",
       "      <th>val_accuracy</th>\n",
       "    </tr>\n",
       "  </thead>\n",
       "  <tbody>\n",
       "    <tr>\n",
       "      <th>45</th>\n",
       "      <td>1.0</td>\n",
       "      <td>0.6662</td>\n",
       "    </tr>\n",
       "    <tr>\n",
       "      <th>46</th>\n",
       "      <td>1.0</td>\n",
       "      <td>0.6659</td>\n",
       "    </tr>\n",
       "    <tr>\n",
       "      <th>47</th>\n",
       "      <td>1.0</td>\n",
       "      <td>0.6645</td>\n",
       "    </tr>\n",
       "    <tr>\n",
       "      <th>48</th>\n",
       "      <td>1.0</td>\n",
       "      <td>0.6645</td>\n",
       "    </tr>\n",
       "    <tr>\n",
       "      <th>49</th>\n",
       "      <td>1.0</td>\n",
       "      <td>0.6651</td>\n",
       "    </tr>\n",
       "  </tbody>\n",
       "</table>\n",
       "</div>"
      ],
      "text/plain": [
       "    accuracy  val_accuracy\n",
       "45       1.0        0.6662\n",
       "46       1.0        0.6659\n",
       "47       1.0        0.6645\n",
       "48       1.0        0.6645\n",
       "49       1.0        0.6651"
      ]
     },
     "execution_count": 25,
     "metadata": {},
     "output_type": "execute_result"
    }
   ],
   "source": [
    "results[['accuracy', 'val_accuracy']].tail()"
   ]
  },
  {
   "cell_type": "code",
   "execution_count": 27,
   "metadata": {},
   "outputs": [],
   "source": [
    "reset_seed(0)\n",
    "\n",
    "model = models.Sequential()\n",
    "\n",
    "model.add(layers.Conv2D(16, (3, 3), activation='relu', padding='same', \n",
    "                        input_shape=(32, 32, 3)))\n",
    "model.add(layers.BatchNormalization())\n",
    "model.add(layers.Dropout(0.2))\n",
    "model.add(layers.MaxPooling2D((2, 2), strides=(2, 2), padding='same'))\n",
    "\n",
    "model.add(layers.Conv2D(32, (3, 3), activation='relu', padding='same'))\n",
    "model.add(layers.BatchNormalization())\n",
    "model.add(layers.Dropout(0.2))\n",
    "model.add(layers.MaxPooling2D((2, 2), strides=(2, 2), padding='same'))\n",
    "\n",
    "model.add(layers.Conv2D(64, (3, 3), activation='relu', padding='same'))\n",
    "model.add(layers.BatchNormalization())\n",
    "model.add(layers.Dropout(0.2))\n",
    "model.add(layers.MaxPooling2D((2, 2), strides=(2, 2), padding='same'))\n",
    "\n",
    "model.add(layers.Conv2D(128, (3, 3), activation='relu', padding='same'))\n",
    "model.add(layers.BatchNormalization())\n",
    "model.add(layers.Dropout(0.2))\n",
    "model.add(layers.MaxPooling2D((2, 2), strides=(2, 2), padding='same'))\n",
    "\n",
    "model.add(layers.Conv2D(192, (3, 3), activation='relu', padding='same'))\n",
    "model.add(layers.BatchNormalization())\n",
    "model.add(layers.Dropout(0.2))\n",
    "model.add(layers.MaxPooling2D((2, 2), strides=(2, 2), padding='same'))\n",
    "\n",
    "model.add(layers.Flatten())\n",
    "model.add(layers.Dense(256, activation='relu'))\n",
    "model.add(layers.BatchNormalization())\n",
    "model.add(layers.Dropout(0.5))\n",
    "model.add(layers.Dense(10, activation='softmax'))\n",
    "\n",
    "model.compile(loss='sparse_categorical_crossentropy',\n",
    "             optimizer='Adam',\n",
    "             metrics=['accuracy'])"
   ]
  },
  {
   "cell_type": "code",
   "execution_count": 28,
   "metadata": {},
   "outputs": [
    {
     "name": "stdout",
     "output_type": "stream",
     "text": [
      "Train on 50000 samples, validate on 10000 samples\n",
      "Epoch 1/30\n",
      "50000/50000 [==============================] - 29s 581us/sample - loss: 2.3275 - accuracy: 0.2781 - val_loss: 2.4233 - val_accuracy: 0.1132\n",
      "Epoch 2/30\n",
      "50000/50000 [==============================] - 27s 543us/sample - loss: 1.7380 - accuracy: 0.3966 - val_loss: 2.9770 - val_accuracy: 0.1025\n",
      "Epoch 3/30\n",
      "50000/50000 [==============================] - 27s 544us/sample - loss: 1.5148 - accuracy: 0.4667 - val_loss: 3.4166 - val_accuracy: 0.1140\n",
      "Epoch 4/30\n",
      "50000/50000 [==============================] - 27s 543us/sample - loss: 1.3920 - accuracy: 0.5062 - val_loss: 3.8716 - val_accuracy: 0.1416\n",
      "Epoch 5/30\n",
      "50000/50000 [==============================] - 27s 542us/sample - loss: 1.2928 - accuracy: 0.5413 - val_loss: 3.6346 - val_accuracy: 0.2186\n",
      "Epoch 6/30\n",
      "50000/50000 [==============================] - 27s 544us/sample - loss: 1.2084 - accuracy: 0.5703 - val_loss: 3.5327 - val_accuracy: 0.2148\n",
      "Epoch 7/30\n",
      "50000/50000 [==============================] - 27s 542us/sample - loss: 1.1391 - accuracy: 0.5932 - val_loss: 3.7498 - val_accuracy: 0.2013\n",
      "Epoch 8/30\n",
      "50000/50000 [==============================] - 27s 543us/sample - loss: 1.0813 - accuracy: 0.6141 - val_loss: 2.5208 - val_accuracy: 0.2992\n",
      "Epoch 9/30\n",
      "50000/50000 [==============================] - 27s 545us/sample - loss: 1.0201 - accuracy: 0.6404 - val_loss: 1.9621 - val_accuracy: 0.3715\n",
      "Epoch 10/30\n",
      "50000/50000 [==============================] - 27s 547us/sample - loss: 0.9797 - accuracy: 0.6538 - val_loss: 1.8032 - val_accuracy: 0.4206\n",
      "Epoch 11/30\n",
      "50000/50000 [==============================] - 27s 542us/sample - loss: 0.9302 - accuracy: 0.6724 - val_loss: 1.5473 - val_accuracy: 0.4966\n",
      "Epoch 12/30\n",
      "50000/50000 [==============================] - 27s 544us/sample - loss: 0.8940 - accuracy: 0.6832 - val_loss: 1.2550 - val_accuracy: 0.5740\n",
      "Epoch 13/30\n",
      "50000/50000 [==============================] - 27s 542us/sample - loss: 0.8610 - accuracy: 0.6967 - val_loss: 1.3888 - val_accuracy: 0.5585\n",
      "Epoch 14/30\n",
      "50000/50000 [==============================] - 27s 541us/sample - loss: 0.8312 - accuracy: 0.7080 - val_loss: 1.1583 - val_accuracy: 0.6139\n",
      "Epoch 15/30\n",
      "50000/50000 [==============================] - 27s 542us/sample - loss: 0.7996 - accuracy: 0.7186 - val_loss: 0.9644 - val_accuracy: 0.6754\n",
      "Epoch 16/30\n",
      "50000/50000 [==============================] - 27s 544us/sample - loss: 0.7681 - accuracy: 0.7316 - val_loss: 0.9258 - val_accuracy: 0.6869\n",
      "Epoch 17/30\n",
      "50000/50000 [==============================] - 27s 545us/sample - loss: 0.7392 - accuracy: 0.7410 - val_loss: 1.2017 - val_accuracy: 0.6234\n",
      "Epoch 18/30\n",
      "50000/50000 [==============================] - 27s 543us/sample - loss: 0.7193 - accuracy: 0.7447 - val_loss: 0.9108 - val_accuracy: 0.6972\n",
      "Epoch 19/30\n",
      "50000/50000 [==============================] - 27s 543us/sample - loss: 0.6942 - accuracy: 0.7556 - val_loss: 0.9001 - val_accuracy: 0.6986\n",
      "Epoch 20/30\n",
      "50000/50000 [==============================] - 27s 542us/sample - loss: 0.6775 - accuracy: 0.7616 - val_loss: 0.9044 - val_accuracy: 0.7022\n",
      "Epoch 21/30\n",
      "50000/50000 [==============================] - 27s 542us/sample - loss: 0.6574 - accuracy: 0.7696 - val_loss: 0.8529 - val_accuracy: 0.7102\n",
      "Epoch 22/30\n",
      "50000/50000 [==============================] - 27s 542us/sample - loss: 0.6375 - accuracy: 0.7760 - val_loss: 0.9061 - val_accuracy: 0.7005\n",
      "Epoch 23/30\n",
      "50000/50000 [==============================] - 27s 545us/sample - loss: 0.6154 - accuracy: 0.7846 - val_loss: 0.8841 - val_accuracy: 0.7099\n",
      "Epoch 24/30\n",
      "50000/50000 [==============================] - 27s 545us/sample - loss: 0.5955 - accuracy: 0.7884 - val_loss: 0.9387 - val_accuracy: 0.6948\n",
      "Epoch 25/30\n",
      "50000/50000 [==============================] - 27s 544us/sample - loss: 0.5820 - accuracy: 0.7946 - val_loss: 1.1971 - val_accuracy: 0.6450\n",
      "Epoch 26/30\n",
      "50000/50000 [==============================] - 27s 543us/sample - loss: 0.5703 - accuracy: 0.8004 - val_loss: 0.9135 - val_accuracy: 0.7046\n",
      "Epoch 27/30\n",
      "50000/50000 [==============================] - 27s 542us/sample - loss: 0.5534 - accuracy: 0.8051 - val_loss: 0.9433 - val_accuracy: 0.6948\n",
      "Epoch 28/30\n",
      "50000/50000 [==============================] - 27s 543us/sample - loss: 0.5403 - accuracy: 0.8097 - val_loss: 1.3328 - val_accuracy: 0.6281\n",
      "Epoch 29/30\n",
      "50000/50000 [==============================] - 27s 542us/sample - loss: 0.5219 - accuracy: 0.8156 - val_loss: 1.1736 - val_accuracy: 0.6524\n",
      "Epoch 30/30\n",
      "50000/50000 [==============================] - 27s 542us/sample - loss: 0.5128 - accuracy: 0.8201 - val_loss: 1.3877 - val_accuracy: 0.6145\n"
     ]
    },
    {
     "data": {
      "text/plain": [
       "<tensorflow.python.keras.callbacks.History at 0x7f8506163160>"
      ]
     },
     "execution_count": 28,
     "metadata": {},
     "output_type": "execute_result"
    }
   ],
   "source": [
    "model.fit(train_x, train_t,\n",
    "         batch_size=1024,\n",
    "         epochs=30,\n",
    "         verbose=1,\n",
    "         validation_data=(val_x, val_t))"
   ]
  },
  {
   "cell_type": "code",
   "execution_count": 29,
   "metadata": {
    "collapsed": true
   },
   "outputs": [],
   "source": [
    "results = pd.DataFrame(model.history.history)"
   ]
  },
  {
   "cell_type": "code",
   "execution_count": 30,
   "metadata": {},
   "outputs": [
    {
     "data": {
      "text/plain": [
       "<matplotlib.axes._subplots.AxesSubplot at 0x7f85050ce080>"
      ]
     },
     "execution_count": 30,
     "metadata": {},
     "output_type": "execute_result"
    },
    {
     "data": {
      "image/png": "[encoded data removed]",
      "text/plain": [
       "<matplotlib.figure.Figure at 0x7f85066f6ef0>"
      ]
     },
     "metadata": {},
     "output_type": "display_data"
    }
   ],
   "source": [
    "results[['loss', 'val_loss']].plot()"
   ]
  },
  {
   "cell_type": "code",
   "execution_count": 31,
   "metadata": {},
   "outputs": [
    {
     "data": {
      "text/plain": [
       "<matplotlib.axes._subplots.AxesSubplot at 0x7f85066f6a58>"
      ]
     },
     "execution_count": 31,
     "metadata": {},
     "output_type": "execute_result"
    },
    {
     "data": {
      "image/png": "[encoded data removed]",
      "text/plain": [
       "<matplotlib.figure.Figure at 0x7f85050a0cf8>"
      ]
     },
     "metadata": {},
     "output_type": "display_data"
    }
   ],
   "source": [
    "results[['accuracy', 'val_accuracy']].plot()"
   ]
  },
  {
   "cell_type": "code",
   "execution_count": 32,
   "metadata": {},
   "outputs": [
    {
     "data": {
      "text/html": [
       "<div>\n",
       "<style scoped>\n",
       "    .dataframe tbody tr th:only-of-type {\n",
       "        vertical-align: middle;\n",
       "    }\n",
       "\n",
       "    .dataframe tbody tr th {\n",
       "        vertical-align: top;\n",
       "    }\n",
       "\n",
       "    .dataframe thead th {\n",
       "        text-align: right;\n",
       "    }\n",
       "</style>\n",
       "<table border=\"1\" class=\"dataframe\">\n",
       "  <thead>\n",
       "    <tr style=\"text-align: right;\">\n",
       "      <th></th>\n",
       "      <th>accuracy</th>\n",
       "      <th>val_accuracy</th>\n",
       "    </tr>\n",
       "  </thead>\n",
       "  <tbody>\n",
       "    <tr>\n",
       "      <th>25</th>\n",
       "      <td>0.80036</td>\n",
       "      <td>0.7046</td>\n",
       "    </tr>\n",
       "    <tr>\n",
       "      <th>26</th>\n",
       "      <td>0.80514</td>\n",
       "      <td>0.6948</td>\n",
       "    </tr>\n",
       "    <tr>\n",
       "      <th>27</th>\n",
       "      <td>0.80972</td>\n",
       "      <td>0.6281</td>\n",
       "    </tr>\n",
       "    <tr>\n",
       "      <th>28</th>\n",
       "      <td>0.81556</td>\n",
       "      <td>0.6524</td>\n",
       "    </tr>\n",
       "    <tr>\n",
       "      <th>29</th>\n",
       "      <td>0.82010</td>\n",
       "      <td>0.6145</td>\n",
       "    </tr>\n",
       "  </tbody>\n",
       "</table>\n",
       "</div>"
      ],
      "text/plain": [
       "    accuracy  val_accuracy\n",
       "25   0.80036        0.7046\n",
       "26   0.80514        0.6948\n",
       "27   0.80972        0.6281\n",
       "28   0.81556        0.6524\n",
       "29   0.82010        0.6145"
      ]
     },
     "execution_count": 32,
     "metadata": {},
     "output_type": "execute_result"
    }
   ],
   "source": [
    "results[['accuracy', 'val_accuracy']].tail()"
   ]
  },
  {
   "cell_type": "code",
   "execution_count": 33,
   "metadata": {
    "collapsed": true
   },
   "outputs": [],
   "source": [
    "reset_seed(0)\n",
    "\n",
    "model = models.Sequential()\n",
    "\n",
    "model.add(layers.Conv2D(16, (3, 3), activation='relu', padding='same', \n",
    "                        input_shape=(32, 32, 3)))\n",
    "model.add(layers.BatchNormalization())\n",
    "model.add(layers.Dropout(0.2))\n",
    "model.add(layers.MaxPooling2D((2, 2), strides=(2, 2), padding='same'))\n",
    "\n",
    "model.add(layers.Conv2D(32, (3, 3), activation='relu', padding='same'))\n",
    "model.add(layers.BatchNormalization())\n",
    "model.add(layers.Dropout(0.2))\n",
    "model.add(layers.MaxPooling2D((2, 2), strides=(2, 2), padding='same'))\n",
    "\n",
    "model.add(layers.Conv2D(64, (3, 3), activation='relu', padding='same'))\n",
    "model.add(layers.BatchNormalization())\n",
    "model.add(layers.Dropout(0.2))\n",
    "model.add(layers.MaxPooling2D((2, 2), strides=(2, 2), padding='same'))\n",
    "\n",
    "model.add(layers.Conv2D(128, (3, 3), activation='relu', padding='same'))\n",
    "model.add(layers.BatchNormalization())\n",
    "model.add(layers.Dropout(0.2))\n",
    "model.add(layers.MaxPooling2D((2, 2), strides=(2, 2), padding='same'))\n",
    "\n",
    "model.add(layers.Conv2D(192, (3, 3), activation='relu', padding='same'))\n",
    "model.add(layers.BatchNormalization())\n",
    "model.add(layers.Dropout(0.2))\n",
    "model.add(layers.MaxPooling2D((2, 2), strides=(2, 2), padding='same'))\n",
    "\n",
    "model.add(layers.Flatten())\n",
    "model.add(layers.Dense(256, activation='relu'))\n",
    "model.add(layers.BatchNormalization())\n",
    "model.add(layers.Dropout(0.35))\n",
    "model.add(layers.Dense(10, activation='softmax'))\n",
    "\n",
    "model.compile(loss='sparse_categorical_crossentropy',\n",
    "             optimizer='Adam',\n",
    "             metrics=['accuracy'])"
   ]
  },
  {
   "cell_type": "code",
   "execution_count": 34,
   "metadata": {},
   "outputs": [
    {
     "name": "stdout",
     "output_type": "stream",
     "text": [
      "Train on 50000 samples, validate on 10000 samples\n",
      "Epoch 1/30\n",
      "50000/50000 [==============================] - 29s 578us/sample - loss: 2.1390 - accuracy: 0.2995 - val_loss: 2.4103 - val_accuracy: 0.1000\n",
      "Epoch 2/30\n",
      "50000/50000 [==============================] - 27s 544us/sample - loss: 1.6368 - accuracy: 0.4233 - val_loss: 3.1010 - val_accuracy: 0.1000\n",
      "Epoch 3/30\n",
      "50000/50000 [==============================] - 27s 542us/sample - loss: 1.4425 - accuracy: 0.4847 - val_loss: 3.6059 - val_accuracy: 0.1000\n",
      "Epoch 4/30\n",
      "50000/50000 [==============================] - 27s 544us/sample - loss: 1.3180 - accuracy: 0.5316 - val_loss: 3.8008 - val_accuracy: 0.1141\n",
      "Epoch 5/30\n",
      "50000/50000 [==============================] - 27s 541us/sample - loss: 1.2255 - accuracy: 0.5629 - val_loss: 3.4333 - val_accuracy: 0.1727\n",
      "Epoch 6/30\n",
      "50000/50000 [==============================] - 27s 545us/sample - loss: 1.1446 - accuracy: 0.5909 - val_loss: 3.3617 - val_accuracy: 0.1763\n",
      "Epoch 7/30\n",
      "50000/50000 [==============================] - 27s 543us/sample - loss: 1.0808 - accuracy: 0.6126 - val_loss: 2.8779 - val_accuracy: 0.2416\n",
      "Epoch 8/30\n",
      "50000/50000 [==============================] - 27s 543us/sample - loss: 1.0226 - accuracy: 0.6373 - val_loss: 2.6368 - val_accuracy: 0.3089\n",
      "Epoch 9/30\n",
      "50000/50000 [==============================] - 27s 541us/sample - loss: 0.9715 - accuracy: 0.6566 - val_loss: 1.7798 - val_accuracy: 0.4244\n",
      "Epoch 10/30\n",
      "50000/50000 [==============================] - 27s 542us/sample - loss: 0.9291 - accuracy: 0.6721 - val_loss: 1.7497 - val_accuracy: 0.4317\n",
      "Epoch 11/30\n",
      "50000/50000 [==============================] - 27s 541us/sample - loss: 0.8776 - accuracy: 0.6875 - val_loss: 1.3645 - val_accuracy: 0.5451\n",
      "Epoch 12/30\n",
      "50000/50000 [==============================] - 27s 546us/sample - loss: 0.8485 - accuracy: 0.6970 - val_loss: 1.1181 - val_accuracy: 0.6125\n",
      "Epoch 13/30\n",
      "50000/50000 [==============================] - 27s 542us/sample - loss: 0.8076 - accuracy: 0.7140 - val_loss: 1.0766 - val_accuracy: 0.6256\n",
      "Epoch 14/30\n",
      "50000/50000 [==============================] - 27s 546us/sample - loss: 0.7725 - accuracy: 0.7256 - val_loss: 1.0620 - val_accuracy: 0.6397\n",
      "Epoch 15/30\n",
      "50000/50000 [==============================] - 27s 545us/sample - loss: 0.7545 - accuracy: 0.7328 - val_loss: 1.0040 - val_accuracy: 0.6594\n",
      "Epoch 16/30\n",
      "50000/50000 [==============================] - 27s 544us/sample - loss: 0.7147 - accuracy: 0.7463 - val_loss: 0.9442 - val_accuracy: 0.6825\n",
      "Epoch 17/30\n",
      "50000/50000 [==============================] - 27s 544us/sample - loss: 0.6943 - accuracy: 0.7539 - val_loss: 1.0091 - val_accuracy: 0.6594\n",
      "Epoch 18/30\n",
      "50000/50000 [==============================] - 27s 543us/sample - loss: 0.6768 - accuracy: 0.7624 - val_loss: 1.1464 - val_accuracy: 0.6313\n",
      "Epoch 19/30\n",
      "50000/50000 [==============================] - 27s 542us/sample - loss: 0.6552 - accuracy: 0.7698 - val_loss: 1.0160 - val_accuracy: 0.6761\n",
      "Epoch 20/30\n",
      "50000/50000 [==============================] - 27s 542us/sample - loss: 0.6310 - accuracy: 0.7764 - val_loss: 1.0554 - val_accuracy: 0.6687\n",
      "Epoch 21/30\n",
      "50000/50000 [==============================] - 27s 542us/sample - loss: 0.6140 - accuracy: 0.7816 - val_loss: 0.8640 - val_accuracy: 0.7159\n",
      "Epoch 22/30\n",
      "50000/50000 [==============================] - 27s 541us/sample - loss: 0.5972 - accuracy: 0.7909 - val_loss: 0.9542 - val_accuracy: 0.6932\n",
      "Epoch 23/30\n",
      "50000/50000 [==============================] - 27s 547us/sample - loss: 0.5830 - accuracy: 0.7919 - val_loss: 1.0254 - val_accuracy: 0.6813\n",
      "Epoch 24/30\n",
      "50000/50000 [==============================] - 27s 545us/sample - loss: 0.5564 - accuracy: 0.8041 - val_loss: 1.2644 - val_accuracy: 0.6383\n",
      "Epoch 25/30\n",
      "50000/50000 [==============================] - 27s 545us/sample - loss: 0.5484 - accuracy: 0.8059 - val_loss: 0.8397 - val_accuracy: 0.7264\n",
      "Epoch 26/30\n",
      "50000/50000 [==============================] - 27s 543us/sample - loss: 0.5341 - accuracy: 0.8125 - val_loss: 1.0893 - val_accuracy: 0.6698\n",
      "Epoch 27/30\n",
      "50000/50000 [==============================] - 27s 542us/sample - loss: 0.5215 - accuracy: 0.8146 - val_loss: 0.8859 - val_accuracy: 0.7223\n",
      "Epoch 28/30\n",
      "50000/50000 [==============================] - 27s 545us/sample - loss: 0.4960 - accuracy: 0.8240 - val_loss: 0.9123 - val_accuracy: 0.7168\n",
      "Epoch 29/30\n",
      "50000/50000 [==============================] - 27s 541us/sample - loss: 0.4970 - accuracy: 0.8240 - val_loss: 0.9716 - val_accuracy: 0.7025\n",
      "Epoch 30/30\n",
      "50000/50000 [==============================] - 27s 545us/sample - loss: 0.4825 - accuracy: 0.8295 - val_loss: 0.9265 - val_accuracy: 0.7169\n"
     ]
    },
    {
     "data": {
      "text/plain": [
       "<tensorflow.python.keras.callbacks.History at 0x7f8504ba6a20>"
      ]
     },
     "execution_count": 34,
     "metadata": {},
     "output_type": "execute_result"
    }
   ],
   "source": [
    "model.fit(train_x, train_t,\n",
    "         batch_size=1024,\n",
    "         epochs=30,\n",
    "         verbose=1,\n",
    "         validation_data=(val_x, val_t))"
   ]
  },
  {
   "cell_type": "code",
   "execution_count": 35,
   "metadata": {
    "collapsed": true
   },
   "outputs": [],
   "source": [
    "results = pd.DataFrame(model.history.history)"
   ]
  },
  {
   "cell_type": "code",
   "execution_count": 36,
   "metadata": {},
   "outputs": [
    {
     "data": {
      "text/plain": [
       "<matplotlib.axes._subplots.AxesSubplot at 0x7f84e328f080>"
      ]
     },
     "execution_count": 36,
     "metadata": {},
     "output_type": "execute_result"
    },
    {
     "data": {
      "image/png": "[encoded data removed]",
      "text/plain": [
       "<matplotlib.figure.Figure at 0x7f8505137668>"
      ]
     },
     "metadata": {},
     "output_type": "display_data"
    }
   ],
   "source": [
    "results[['loss', 'val_loss']].plot()"
   ]
  },
  {
   "cell_type": "code",
   "execution_count": 37,
   "metadata": {},
   "outputs": [
    {
     "data": {
      "text/plain": [
       "<matplotlib.axes._subplots.AxesSubplot at 0x7f8506fe1518>"
      ]
     },
     "execution_count": 37,
     "metadata": {},
     "output_type": "execute_result"
    },
    {
     "data": {
      "image/png": "[encoded data removed]",
      "text/plain": [
       "<matplotlib.figure.Figure at 0x7f8505139048>"
      ]
     },
     "metadata": {},
     "output_type": "display_data"
    }
   ],
   "source": [
    "results[['accuracy', 'val_accuracy']].plot()"
   ]
  },
  {
   "cell_type": "code",
   "execution_count": 38,
   "metadata": {},
   "outputs": [
    {
     "data": {
      "text/html": [
       "<div>\n",
       "<style scoped>\n",
       "    .dataframe tbody tr th:only-of-type {\n",
       "        vertical-align: middle;\n",
       "    }\n",
       "\n",
       "    .dataframe tbody tr th {\n",
       "        vertical-align: top;\n",
       "    }\n",
       "\n",
       "    .dataframe thead th {\n",
       "        text-align: right;\n",
       "    }\n",
       "</style>\n",
       "<table border=\"1\" class=\"dataframe\">\n",
       "  <thead>\n",
       "    <tr style=\"text-align: right;\">\n",
       "      <th></th>\n",
       "      <th>accuracy</th>\n",
       "      <th>val_accuracy</th>\n",
       "    </tr>\n",
       "  </thead>\n",
       "  <tbody>\n",
       "    <tr>\n",
       "      <th>25</th>\n",
       "      <td>0.81248</td>\n",
       "      <td>0.6698</td>\n",
       "    </tr>\n",
       "    <tr>\n",
       "      <th>26</th>\n",
       "      <td>0.81464</td>\n",
       "      <td>0.7223</td>\n",
       "    </tr>\n",
       "    <tr>\n",
       "      <th>27</th>\n",
       "      <td>0.82398</td>\n",
       "      <td>0.7168</td>\n",
       "    </tr>\n",
       "    <tr>\n",
       "      <th>28</th>\n",
       "      <td>0.82400</td>\n",
       "      <td>0.7025</td>\n",
       "    </tr>\n",
       "    <tr>\n",
       "      <th>29</th>\n",
       "      <td>0.82954</td>\n",
       "      <td>0.7169</td>\n",
       "    </tr>\n",
       "  </tbody>\n",
       "</table>\n",
       "</div>"
      ],
      "text/plain": [
       "    accuracy  val_accuracy\n",
       "25   0.81248        0.6698\n",
       "26   0.81464        0.7223\n",
       "27   0.82398        0.7168\n",
       "28   0.82400        0.7025\n",
       "29   0.82954        0.7169"
      ]
     },
     "execution_count": 38,
     "metadata": {},
     "output_type": "execute_result"
    }
   ],
   "source": [
    "results[['accuracy', 'val_accuracy']].tail()"
   ]
  },
  {
   "cell_type": "code",
   "execution_count": 48,
   "metadata": {},
   "outputs": [],
   "source": [
    "# モデルの構築\n",
    "\n",
    "# ブロック 1\n",
    "inputs = keras.Input(shape=(32, 32, 3), name='img')\n",
    "x = layers.Conv2D(32, 3, activation='relu')(inputs)\n",
    "x = layers.Conv2D(64, 3, activation='relu')(x)\n",
    "block_1_output = layers.MaxPooling2D(3)(x)\n",
    "\n",
    "# ブロック 2\n",
    "x = layers.Conv2D(64, 3, activation='relu', padding='same')(block_1_output)\n",
    "x = layers.Conv2D(64, 3, activation='relu', padding='same')(x)\n",
    "block_2_output = layers.add([x, block_1_output]) # 1 つ目のブロックの出力値を加算\n",
    "\n",
    "# ブロック 3\n",
    "x = layers.Conv2D(64, 3, activation='relu', padding='same')(block_2_output)\n",
    "x = layers.Conv2D(64, 3, activation='relu', padding='same')(x)\n",
    "block_3_output = layers.add([x, block_2_output]) # 2 つ目のブロックの出力値を加算\n",
    "\n",
    "# 最終ブロック\n",
    "x = layers.Conv2D(64, 3, activation='relu')(block_3_output)\n",
    "x = layers.GlobalAveragePooling2D()(x)\n",
    "x = layers.Dense(256, activation='relu')(x)\n",
    "x = layers.Dropout(0.5)(x)\n",
    "outputs = layers.Dense(10, activation='softmax')(x)\n",
    "\n",
    "model = keras.Model(inputs, outputs, name='resnet') # まねた"
   ]
  },
  {
   "cell_type": "code",
   "execution_count": 49,
   "metadata": {},
   "outputs": [],
   "source": [
    "optimizer = keras.optimizers.Adam()\n",
    "model.compile(loss='sparse_categorical_crossentropy', optimizer=optimizer, metrics=['accuracy'])"
   ]
  },
  {
   "cell_type": "code",
   "execution_count": null,
   "metadata": {},
   "outputs": [
    {
     "name": "stdout",
     "output_type": "stream",
     "text": [
      "Train on 50000 samples, validate on 10000 samples\n",
      "Epoch 1/30\n",
      "50000/50000 [==============================] - 57s 1ms/sample - loss: 2.1246 - accuracy: 0.1847 - val_loss: 1.8493 - val_accuracy: 0.2950\n",
      "Epoch 2/30\n",
      "50000/50000 [==============================] - 56s 1ms/sample - loss: 1.8519 - accuracy: 0.2712 - val_loss: 1.7049 - val_accuracy: 0.3505\n",
      "Epoch 3/30\n",
      "50000/50000 [==============================] - 56s 1ms/sample - loss: 1.7000 - accuracy: 0.3397 - val_loss: 1.5976 - val_accuracy: 0.3851\n",
      "Epoch 4/30\n",
      "50000/50000 [==============================] - 56s 1ms/sample - loss: 1.5870 - accuracy: 0.3925 - val_loss: 1.5703 - val_accuracy: 0.3957\n",
      "Epoch 5/30\n",
      "50000/50000 [==============================] - 56s 1ms/sample - loss: 1.4841 - accuracy: 0.4420 - val_loss: 1.3599 - val_accuracy: 0.4894\n",
      "Epoch 6/30\n",
      "50000/50000 [==============================] - 56s 1ms/sample - loss: 1.3905 - accuracy: 0.4868 - val_loss: 1.3249 - val_accuracy: 0.5094\n",
      "Epoch 7/30\n",
      "50000/50000 [==============================] - 56s 1ms/sample - loss: 1.2906 - accuracy: 0.5276 - val_loss: 1.2947 - val_accuracy: 0.5202\n",
      "Epoch 8/30\n",
      "50000/50000 [==============================] - 56s 1ms/sample - loss: 1.2390 - accuracy: 0.5493 - val_loss: 1.1921 - val_accuracy: 0.5660\n",
      "Epoch 9/30\n",
      "50000/50000 [==============================] - 56s 1ms/sample - loss: 1.1771 - accuracy: 0.5741 - val_loss: 1.1447 - val_accuracy: 0.5844\n",
      "Epoch 10/30\n",
      "50000/50000 [==============================] - 56s 1ms/sample - loss: 1.1285 - accuracy: 0.5928 - val_loss: 1.1275 - val_accuracy: 0.5852\n",
      "Epoch 11/30\n",
      "50000/50000 [==============================] - 56s 1ms/sample - loss: 1.0851 - accuracy: 0.6093 - val_loss: 1.0559 - val_accuracy: 0.6199\n",
      "Epoch 12/30\n",
      "50000/50000 [==============================] - 56s 1ms/sample - loss: 1.0482 - accuracy: 0.6215 - val_loss: 1.0363 - val_accuracy: 0.6215\n",
      "Epoch 13/30\n",
      "50000/50000 [==============================] - 56s 1ms/sample - loss: 1.0340 - accuracy: 0.6273 - val_loss: 1.0158 - val_accuracy: 0.6350\n",
      "Epoch 14/30\n",
      "50000/50000 [==============================] - 58s 1ms/sample - loss: 0.9766 - accuracy: 0.6487 - val_loss: 0.9805 - val_accuracy: 0.6484\n",
      "Epoch 15/30\n",
      "50000/50000 [==============================] - 61s 1ms/sample - loss: 0.9484 - accuracy: 0.6581 - val_loss: 0.9465 - val_accuracy: 0.6548\n",
      "Epoch 16/30\n",
      "50000/50000 [==============================] - 57s 1ms/sample - loss: 0.9346 - accuracy: 0.6635 - val_loss: 0.9287 - val_accuracy: 0.6676\n",
      "Epoch 17/30\n",
      "50000/50000 [==============================] - 56s 1ms/sample - loss: 0.9076 - accuracy: 0.6777 - val_loss: 0.8958 - val_accuracy: 0.6795\n",
      "Epoch 18/30\n",
      "50000/50000 [==============================] - 56s 1ms/sample - loss: 0.8788 - accuracy: 0.6878 - val_loss: 0.9031 - val_accuracy: 0.6780\n",
      "Epoch 19/30\n",
      "50000/50000 [==============================] - 56s 1ms/sample - loss: 0.8509 - accuracy: 0.6954 - val_loss: 0.8676 - val_accuracy: 0.6888\n",
      "Epoch 20/30\n",
      "50000/50000 [==============================] - 56s 1ms/sample - loss: 0.8245 - accuracy: 0.7051 - val_loss: 0.8275 - val_accuracy: 0.7023\n",
      "Epoch 21/30\n",
      "50000/50000 [==============================] - 56s 1ms/sample - loss: 0.8207 - accuracy: 0.7075 - val_loss: 0.8311 - val_accuracy: 0.7012\n",
      "Epoch 22/30\n",
      "50000/50000 [==============================] - 56s 1ms/sample - loss: 0.7911 - accuracy: 0.7194 - val_loss: 0.8271 - val_accuracy: 0.7028\n",
      "Epoch 23/30\n",
      "50000/50000 [==============================] - 56s 1ms/sample - loss: 0.7819 - accuracy: 0.7204 - val_loss: 0.7978 - val_accuracy: 0.7179\n",
      "Epoch 24/30\n",
      "50000/50000 [==============================] - 56s 1ms/sample - loss: 0.7580 - accuracy: 0.7328 - val_loss: 0.8123 - val_accuracy: 0.7087\n",
      "Epoch 25/30\n",
      "50000/50000 [==============================] - 56s 1ms/sample - loss: 0.7542 - accuracy: 0.7317 - val_loss: 0.7819 - val_accuracy: 0.7223\n",
      "Epoch 26/30\n",
      "50000/50000 [==============================] - 56s 1ms/sample - loss: 0.7194 - accuracy: 0.7455 - val_loss: 0.7533 - val_accuracy: 0.7311\n",
      "Epoch 27/30\n",
      "50000/50000 [==============================] - 56s 1ms/sample - loss: 0.6997 - accuracy: 0.7538 - val_loss: 0.7672 - val_accuracy: 0.7244\n",
      "Epoch 28/30\n",
      "50000/50000 [==============================] - 56s 1ms/sample - loss: 0.7016 - accuracy: 0.7529 - val_loss: 0.7491 - val_accuracy: 0.7321\n",
      "Epoch 29/30\n",
      "50000/50000 [==============================] - 56s 1ms/sample - loss: 0.6844 - accuracy: 0.7614 - val_loss: 0.8207 - val_accuracy: 0.7174\n",
      "Epoch 30/30\n",
      "32768/50000 [==================>...........] - ETA: 18s - loss: 0.6877 - accuracy: 0.7569"
     ]
    }
   ],
   "source": [
    "model.fit(train_x, train_t,\n",
    "         batch_size=1024,\n",
    "         epochs=30,\n",
    "         verbose=1,\n",
    "         validation_data=(val_x, val_t))"
   ]
  },
  {
   "cell_type": "code",
   "execution_count": null,
   "metadata": {
    "collapsed": true
   },
   "outputs": [],
   "source": [
    "# バッチサイズ変えるのがいいかも\n",
    "# 学習レートも"
   ]
  },
  {
   "cell_type": "code",
   "execution_count": null,
   "metadata": {
    "collapsed": true
   },
   "outputs": [],
   "source": []
  }
 ],
 "metadata": {
  "kernelspec": {
   "display_name": "Python 3",
   "language": "python",
   "name": "python3"
  },
  "language_info": {
   "codemirror_mode": {
    "name": "ipython",
    "version": 3
   },
   "file_extension": ".py",
   "mimetype": "text/x-python",
   "name": "python",
   "nbconvert_exporter": "python",
   "pygments_lexer": "ipython3",
   "version": "3.5.2"
  }
 },
 "nbformat": 4,
 "nbformat_minor": 2
}
