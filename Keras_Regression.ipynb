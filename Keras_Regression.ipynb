{
 "cells": [
  {
   "cell_type": "markdown",
   "metadata": {},
   "source": [
    "## 回帰 (家賃の予測)"
   ]
  },
  {
   "cell_type": "code",
   "execution_count": 1,
   "metadata": {
    "collapsed": true
   },
   "outputs": [],
   "source": [
    "import numpy as np\n",
    "import pandas as pd\n",
    "import matplotlib.pyplot as plt\n",
    "%matplotlib inline"
   ]
  },
  {
   "cell_type": "code",
   "execution_count": 2,
   "metadata": {
    "collapsed": true
   },
   "outputs": [],
   "source": [
    "import tensorflow as tf\n",
    "from tensorflow import keras"
   ]
  },
  {
   "cell_type": "code",
   "execution_count": 3,
   "metadata": {},
   "outputs": [
    {
     "data": {
      "text/html": [
       "<div>\n",
       "<style>\n",
       "    .dataframe thead tr:only-child th {\n",
       "        text-align: right;\n",
       "    }\n",
       "\n",
       "    .dataframe thead th {\n",
       "        text-align: left;\n",
       "    }\n",
       "\n",
       "    .dataframe tbody tr th {\n",
       "        vertical-align: top;\n",
       "    }\n",
       "</style>\n",
       "<table border=\"1\" class=\"dataframe\">\n",
       "  <thead>\n",
       "    <tr style=\"text-align: right;\">\n",
       "      <th></th>\n",
       "      <th>x1</th>\n",
       "      <th>x2</th>\n",
       "      <th>x3</th>\n",
       "      <th>x4</th>\n",
       "      <th>x5</th>\n",
       "      <th>x6</th>\n",
       "      <th>x7</th>\n",
       "      <th>x8</th>\n",
       "      <th>x9</th>\n",
       "      <th>x10</th>\n",
       "      <th>x11</th>\n",
       "      <th>x12</th>\n",
       "      <th>x13</th>\n",
       "      <th>y</th>\n",
       "    </tr>\n",
       "  </thead>\n",
       "  <tbody>\n",
       "    <tr>\n",
       "      <th>0</th>\n",
       "      <td>0.00632</td>\n",
       "      <td>18.0</td>\n",
       "      <td>2.31</td>\n",
       "      <td>0</td>\n",
       "      <td>0.538</td>\n",
       "      <td>6.575</td>\n",
       "      <td>65.2</td>\n",
       "      <td>4.0900</td>\n",
       "      <td>1</td>\n",
       "      <td>296</td>\n",
       "      <td>15.3</td>\n",
       "      <td>396.90</td>\n",
       "      <td>4.98</td>\n",
       "      <td>24.0</td>\n",
       "    </tr>\n",
       "    <tr>\n",
       "      <th>1</th>\n",
       "      <td>0.02731</td>\n",
       "      <td>0.0</td>\n",
       "      <td>7.07</td>\n",
       "      <td>0</td>\n",
       "      <td>0.469</td>\n",
       "      <td>6.421</td>\n",
       "      <td>78.9</td>\n",
       "      <td>4.9671</td>\n",
       "      <td>2</td>\n",
       "      <td>242</td>\n",
       "      <td>17.8</td>\n",
       "      <td>396.90</td>\n",
       "      <td>9.14</td>\n",
       "      <td>21.6</td>\n",
       "    </tr>\n",
       "    <tr>\n",
       "      <th>2</th>\n",
       "      <td>0.02729</td>\n",
       "      <td>0.0</td>\n",
       "      <td>7.07</td>\n",
       "      <td>0</td>\n",
       "      <td>0.469</td>\n",
       "      <td>7.185</td>\n",
       "      <td>61.1</td>\n",
       "      <td>4.9671</td>\n",
       "      <td>2</td>\n",
       "      <td>242</td>\n",
       "      <td>17.8</td>\n",
       "      <td>392.83</td>\n",
       "      <td>4.03</td>\n",
       "      <td>34.7</td>\n",
       "    </tr>\n",
       "  </tbody>\n",
       "</table>\n",
       "</div>"
      ],
      "text/plain": [
       "        x1    x2    x3  x4     x5     x6    x7      x8  x9  x10   x11     x12  \\\n",
       "0  0.00632  18.0  2.31   0  0.538  6.575  65.2  4.0900   1  296  15.3  396.90   \n",
       "1  0.02731   0.0  7.07   0  0.469  6.421  78.9  4.9671   2  242  17.8  396.90   \n",
       "2  0.02729   0.0  7.07   0  0.469  7.185  61.1  4.9671   2  242  17.8  392.83   \n",
       "\n",
       "    x13     y  \n",
       "0  4.98  24.0  \n",
       "1  9.14  21.6  \n",
       "2  4.03  34.7  "
      ]
     },
     "execution_count": 3,
     "metadata": {},
     "output_type": "execute_result"
    }
   ],
   "source": [
    "# データの読み込み\n",
    "df = pd.read_csv('data/housing.csv')\n",
    "df.head(3)"
   ]
  },
  {
   "cell_type": "markdown",
   "metadata": {},
   "source": [
    "- 入力変数と教師データの切り分け\n",
    "- Numpy形式に変換\n",
    "- 訓練データと検証データに分割\n",
    "- シードの固定\n",
    "- モデルの構築\n",
    "- モデルのコンパイル\n",
    "- 学習\n",
    "- 結果の可視化"
   ]
  },
  {
   "cell_type": "code",
   "execution_count": 4,
   "metadata": {},
   "outputs": [
    {
     "data": {
      "text/plain": [
       "0    24.0\n",
       "1    21.6\n",
       "2    34.7\n",
       "Name: y, dtype: float64"
      ]
     },
     "execution_count": 4,
     "metadata": {},
     "output_type": "execute_result"
    }
   ],
   "source": [
    "# 入力変数と教師データの切り分け\n",
    "t = df.iloc[:, -1]\n",
    "t.head(3)"
   ]
  },
  {
   "cell_type": "code",
   "execution_count": 5,
   "metadata": {},
   "outputs": [
    {
     "data": {
      "text/html": [
       "<div>\n",
       "<style>\n",
       "    .dataframe thead tr:only-child th {\n",
       "        text-align: right;\n",
       "    }\n",
       "\n",
       "    .dataframe thead th {\n",
       "        text-align: left;\n",
       "    }\n",
       "\n",
       "    .dataframe tbody tr th {\n",
       "        vertical-align: top;\n",
       "    }\n",
       "</style>\n",
       "<table border=\"1\" class=\"dataframe\">\n",
       "  <thead>\n",
       "    <tr style=\"text-align: right;\">\n",
       "      <th></th>\n",
       "      <th>x1</th>\n",
       "      <th>x2</th>\n",
       "      <th>x3</th>\n",
       "      <th>x4</th>\n",
       "      <th>x5</th>\n",
       "      <th>x6</th>\n",
       "      <th>x7</th>\n",
       "      <th>x8</th>\n",
       "      <th>x9</th>\n",
       "      <th>x10</th>\n",
       "      <th>x11</th>\n",
       "      <th>x12</th>\n",
       "      <th>x13</th>\n",
       "    </tr>\n",
       "  </thead>\n",
       "  <tbody>\n",
       "    <tr>\n",
       "      <th>0</th>\n",
       "      <td>0.00632</td>\n",
       "      <td>18.0</td>\n",
       "      <td>2.31</td>\n",
       "      <td>0</td>\n",
       "      <td>0.538</td>\n",
       "      <td>6.575</td>\n",
       "      <td>65.2</td>\n",
       "      <td>4.0900</td>\n",
       "      <td>1</td>\n",
       "      <td>296</td>\n",
       "      <td>15.3</td>\n",
       "      <td>396.90</td>\n",
       "      <td>4.98</td>\n",
       "    </tr>\n",
       "    <tr>\n",
       "      <th>1</th>\n",
       "      <td>0.02731</td>\n",
       "      <td>0.0</td>\n",
       "      <td>7.07</td>\n",
       "      <td>0</td>\n",
       "      <td>0.469</td>\n",
       "      <td>6.421</td>\n",
       "      <td>78.9</td>\n",
       "      <td>4.9671</td>\n",
       "      <td>2</td>\n",
       "      <td>242</td>\n",
       "      <td>17.8</td>\n",
       "      <td>396.90</td>\n",
       "      <td>9.14</td>\n",
       "    </tr>\n",
       "    <tr>\n",
       "      <th>2</th>\n",
       "      <td>0.02729</td>\n",
       "      <td>0.0</td>\n",
       "      <td>7.07</td>\n",
       "      <td>0</td>\n",
       "      <td>0.469</td>\n",
       "      <td>7.185</td>\n",
       "      <td>61.1</td>\n",
       "      <td>4.9671</td>\n",
       "      <td>2</td>\n",
       "      <td>242</td>\n",
       "      <td>17.8</td>\n",
       "      <td>392.83</td>\n",
       "      <td>4.03</td>\n",
       "    </tr>\n",
       "  </tbody>\n",
       "</table>\n",
       "</div>"
      ],
      "text/plain": [
       "        x1    x2    x3  x4     x5     x6    x7      x8  x9  x10   x11     x12  \\\n",
       "0  0.00632  18.0  2.31   0  0.538  6.575  65.2  4.0900   1  296  15.3  396.90   \n",
       "1  0.02731   0.0  7.07   0  0.469  6.421  78.9  4.9671   2  242  17.8  396.90   \n",
       "2  0.02729   0.0  7.07   0  0.469  7.185  61.1  4.9671   2  242  17.8  392.83   \n",
       "\n",
       "    x13  \n",
       "0  4.98  \n",
       "1  9.14  \n",
       "2  4.03  "
      ]
     },
     "execution_count": 5,
     "metadata": {},
     "output_type": "execute_result"
    }
   ],
   "source": [
    "x = df.iloc[:, :-1] # x = df.iloc[].values\n",
    "x.head(3)"
   ]
  },
  {
   "cell_type": "code",
   "execution_count": 6,
   "metadata": {},
   "outputs": [
    {
     "data": {
      "text/plain": [
       "numpy.ndarray"
      ]
     },
     "execution_count": 6,
     "metadata": {},
     "output_type": "execute_result"
    }
   ],
   "source": [
    "# Numpy形式に変換\n",
    "x = x.values\n",
    "type(x)"
   ]
  },
  {
   "cell_type": "code",
   "execution_count": 7,
   "metadata": {},
   "outputs": [
    {
     "data": {
      "text/plain": [
       "numpy.ndarray"
      ]
     },
     "execution_count": 7,
     "metadata": {},
     "output_type": "execute_result"
    }
   ],
   "source": [
    "t = t.values\n",
    "type(t)"
   ]
  },
  {
   "cell_type": "code",
   "execution_count": 8,
   "metadata": {
    "collapsed": true
   },
   "outputs": [],
   "source": [
    "# 訓練データと検証データに分割\n",
    "from sklearn.model_selection import train_test_split"
   ]
  },
  {
   "cell_type": "code",
   "execution_count": 9,
   "metadata": {
    "collapsed": true
   },
   "outputs": [],
   "source": [
    "x_train, x_val, t_train, t_val = train_test_split(x, t, test_size=0.7 , random_state=0)"
   ]
  },
  {
   "cell_type": "code",
   "execution_count": 10,
   "metadata": {},
   "outputs": [],
   "source": [
    "# シードの固定\n",
    "import os\n",
    "import random\n",
    "\n",
    "\n",
    "def reset_seed(seed=0):\n",
    "\n",
    "    os.environ['PYTHONHASHSEED'] = '0'\n",
    "    random.seed(seed) #　random関数のシードを固定\n",
    "    np.random.seed(seed) #numpyのシードを固定\n",
    "    tf.random.set_seed(seed) #tensorflowのシードを固定\n",
    "    \n",
    "reset_seed(0)"
   ]
  },
  {
   "cell_type": "code",
   "execution_count": 11,
   "metadata": {},
   "outputs": [
    {
     "data": {
      "text/plain": [
       "'2.0.0'"
      ]
     },
     "execution_count": 11,
     "metadata": {},
     "output_type": "execute_result"
    }
   ],
   "source": [
    "tf.version.VERSION"
   ]
  },
  {
   "cell_type": "code",
   "execution_count": 12,
   "metadata": {},
   "outputs": [],
   "source": [
    "# モデルの構築\n",
    "# model = models.Sequential() # モデルのインスタンス化"
   ]
  },
  {
   "cell_type": "code",
   "execution_count": 13,
   "metadata": {
    "collapsed": true
   },
   "outputs": [],
   "source": [
    "# モデルの構築\n",
    "from tensorflow.keras import models,layers\n",
    "\n",
    "model = models.Sequential()"
   ]
  },
  {
   "cell_type": "code",
   "execution_count": 14,
   "metadata": {},
   "outputs": [
    {
     "data": {
      "text/plain": [
       "(506, 13)"
      ]
     },
     "execution_count": 14,
     "metadata": {},
     "output_type": "execute_result"
    }
   ],
   "source": [
    "x.shape"
   ]
  },
  {
   "cell_type": "code",
   "execution_count": 15,
   "metadata": {},
   "outputs": [],
   "source": [
    "# y.shape"
   ]
  },
  {
   "cell_type": "code",
   "execution_count": 16,
   "metadata": {
    "collapsed": true
   },
   "outputs": [],
   "source": [
    "model.add(layers.BatchNormalization())\n",
    "model.add(layers.Dense(5, activation='relu', input_shape=(13,)))\n",
    "# model.add(layers.Dense(1, activation='softmax'))\n",
    "model.add(layers.Dense(1))"
   ]
  },
  {
   "cell_type": "code",
   "execution_count": 17,
   "metadata": {
    "collapsed": true
   },
   "outputs": [],
   "source": [
    "# # モデルのコンパイル\n",
    "# model.compile(optimizer='SGD',\n",
    "#                loss='mean_squared_error',\n",
    "#                metrics=['accuracy'])"
   ]
  },
  {
   "cell_type": "code",
   "execution_count": 18,
   "metadata": {
    "collapsed": true
   },
   "outputs": [],
   "source": [
    "#最適化手法の設定\n",
    "optimizer = keras.optimizers.SGD(lr=0.1) # lr = learning rate\n",
    "\n",
    "#モデルのコンパイル\n",
    "model.compile(loss='mean_squared_error', optimizer=optimizer)"
   ]
  },
  {
   "cell_type": "code",
   "execution_count": 19,
   "metadata": {},
   "outputs": [
    {
     "name": "stdout",
     "output_type": "stream",
     "text": [
      "Train on 151 samples, validate on 355 samples\n",
      "Epoch 1/50\n",
      "151/151 [==============================] - 1s 4ms/sample - loss: nan - val_loss: nan\n",
      "Epoch 2/50\n",
      "151/151 [==============================] - 0s 428us/sample - loss: nan - val_loss: nan\n",
      "Epoch 3/50\n",
      "151/151 [==============================] - 0s 429us/sample - loss: nan - val_loss: nan\n",
      "Epoch 4/50\n",
      "151/151 [==============================] - 0s 432us/sample - loss: nan - val_loss: nan\n",
      "Epoch 5/50\n",
      "151/151 [==============================] - 0s 437us/sample - loss: nan - val_loss: nan\n",
      "Epoch 6/50\n",
      "151/151 [==============================] - 0s 421us/sample - loss: nan - val_loss: nan\n",
      "Epoch 7/50\n",
      "151/151 [==============================] - 0s 426us/sample - loss: nan - val_loss: nan\n",
      "Epoch 8/50\n",
      "151/151 [==============================] - 0s 429us/sample - loss: nan - val_loss: nan\n",
      "Epoch 9/50\n",
      "151/151 [==============================] - 0s 476us/sample - loss: nan - val_loss: nan\n",
      "Epoch 10/50\n",
      "151/151 [==============================] - 0s 440us/sample - loss: nan - val_loss: nan\n",
      "Epoch 11/50\n",
      "151/151 [==============================] - 0s 433us/sample - loss: nan - val_loss: nan\n",
      "Epoch 12/50\n",
      "151/151 [==============================] - 0s 437us/sample - loss: nan - val_loss: nan\n",
      "Epoch 13/50\n",
      "151/151 [==============================] - 0s 437us/sample - loss: nan - val_loss: nan\n",
      "Epoch 14/50\n",
      "151/151 [==============================] - 0s 434us/sample - loss: nan - val_loss: nan\n",
      "Epoch 15/50\n",
      "151/151 [==============================] - 0s 416us/sample - loss: nan - val_loss: nan\n",
      "Epoch 16/50\n",
      "151/151 [==============================] - 0s 417us/sample - loss: nan - val_loss: nan\n",
      "Epoch 17/50\n",
      "151/151 [==============================] - 0s 429us/sample - loss: nan - val_loss: nan\n",
      "Epoch 18/50\n",
      "151/151 [==============================] - 0s 419us/sample - loss: nan - val_loss: nan\n",
      "Epoch 19/50\n",
      "151/151 [==============================] - 0s 413us/sample - loss: nan - val_loss: nan\n",
      "Epoch 20/50\n",
      "151/151 [==============================] - 0s 431us/sample - loss: nan - val_loss: nan\n",
      "Epoch 21/50\n",
      "151/151 [==============================] - 0s 423us/sample - loss: nan - val_loss: nan\n",
      "Epoch 22/50\n",
      "151/151 [==============================] - 0s 414us/sample - loss: nan - val_loss: nan\n",
      "Epoch 23/50\n",
      "151/151 [==============================] - 0s 418us/sample - loss: nan - val_loss: nan\n",
      "Epoch 24/50\n",
      "151/151 [==============================] - 0s 425us/sample - loss: nan - val_loss: nan\n",
      "Epoch 25/50\n",
      "151/151 [==============================] - 0s 423us/sample - loss: nan - val_loss: nan\n",
      "Epoch 26/50\n",
      "151/151 [==============================] - 0s 439us/sample - loss: nan - val_loss: nan\n",
      "Epoch 27/50\n",
      "151/151 [==============================] - 0s 426us/sample - loss: nan - val_loss: nan\n",
      "Epoch 28/50\n",
      "151/151 [==============================] - 0s 459us/sample - loss: nan - val_loss: nan\n",
      "Epoch 29/50\n",
      "151/151 [==============================] - 0s 430us/sample - loss: nan - val_loss: nan\n",
      "Epoch 30/50\n",
      "151/151 [==============================] - 0s 419us/sample - loss: nan - val_loss: nan\n",
      "Epoch 31/50\n",
      "151/151 [==============================] - 0s 416us/sample - loss: nan - val_loss: nan\n",
      "Epoch 32/50\n",
      "151/151 [==============================] - 0s 414us/sample - loss: nan - val_loss: nan\n",
      "Epoch 33/50\n",
      "151/151 [==============================] - 0s 421us/sample - loss: nan - val_loss: nan\n",
      "Epoch 34/50\n",
      "151/151 [==============================] - 0s 424us/sample - loss: nan - val_loss: nan\n",
      "Epoch 35/50\n",
      "151/151 [==============================] - 0s 416us/sample - loss: nan - val_loss: nan\n",
      "Epoch 36/50\n",
      "151/151 [==============================] - 0s 437us/sample - loss: nan - val_loss: nan\n",
      "Epoch 37/50\n",
      "151/151 [==============================] - 0s 419us/sample - loss: nan - val_loss: nan\n",
      "Epoch 38/50\n",
      "151/151 [==============================] - 0s 415us/sample - loss: nan - val_loss: nan\n",
      "Epoch 39/50\n",
      "151/151 [==============================] - 0s 430us/sample - loss: nan - val_loss: nan\n",
      "Epoch 40/50\n",
      "151/151 [==============================] - 0s 420us/sample - loss: nan - val_loss: nan\n",
      "Epoch 41/50\n",
      "151/151 [==============================] - 0s 419us/sample - loss: nan - val_loss: nan\n",
      "Epoch 42/50\n",
      "151/151 [==============================] - 0s 438us/sample - loss: nan - val_loss: nan\n",
      "Epoch 43/50\n",
      "151/151 [==============================] - 0s 439us/sample - loss: nan - val_loss: nan\n",
      "Epoch 44/50\n",
      "151/151 [==============================] - 0s 444us/sample - loss: nan - val_loss: nan\n",
      "Epoch 45/50\n",
      "151/151 [==============================] - 0s 419us/sample - loss: nan - val_loss: nan\n",
      "Epoch 46/50\n",
      "151/151 [==============================] - 0s 426us/sample - loss: nan - val_loss: nan\n",
      "Epoch 47/50\n",
      "151/151 [==============================] - 0s 413us/sample - loss: nan - val_loss: nan\n",
      "Epoch 48/50\n",
      "151/151 [==============================] - 0s 411us/sample - loss: nan - val_loss: nan\n",
      "Epoch 49/50\n",
      "151/151 [==============================] - 0s 413us/sample - loss: nan - val_loss: nan\n",
      "Epoch 50/50\n",
      "151/151 [==============================] - 0s 458us/sample - loss: nan - val_loss: nan\n"
     ]
    }
   ],
   "source": [
    "# 学習\n",
    "history = model.fit(x_train, t_train,\n",
    "                   batch_size=10,\n",
    "                   epochs=50,\n",
    "                   verbose=1,\n",
    "                   validation_data=(x_val, t_val))"
   ]
  },
  {
   "cell_type": "code",
   "execution_count": 20,
   "metadata": {},
   "outputs": [
    {
     "data": {
      "text/html": [
       "<div>\n",
       "<style>\n",
       "    .dataframe thead tr:only-child th {\n",
       "        text-align: right;\n",
       "    }\n",
       "\n",
       "    .dataframe thead th {\n",
       "        text-align: left;\n",
       "    }\n",
       "\n",
       "    .dataframe tbody tr th {\n",
       "        vertical-align: top;\n",
       "    }\n",
       "</style>\n",
       "<table border=\"1\" class=\"dataframe\">\n",
       "  <thead>\n",
       "    <tr style=\"text-align: right;\">\n",
       "      <th></th>\n",
       "      <th>loss</th>\n",
       "      <th>val_loss</th>\n",
       "    </tr>\n",
       "  </thead>\n",
       "  <tbody>\n",
       "    <tr>\n",
       "      <th>0</th>\n",
       "      <td>NaN</td>\n",
       "      <td>NaN</td>\n",
       "    </tr>\n",
       "    <tr>\n",
       "      <th>1</th>\n",
       "      <td>NaN</td>\n",
       "      <td>NaN</td>\n",
       "    </tr>\n",
       "    <tr>\n",
       "      <th>2</th>\n",
       "      <td>NaN</td>\n",
       "      <td>NaN</td>\n",
       "    </tr>\n",
       "    <tr>\n",
       "      <th>3</th>\n",
       "      <td>NaN</td>\n",
       "      <td>NaN</td>\n",
       "    </tr>\n",
       "    <tr>\n",
       "      <th>4</th>\n",
       "      <td>NaN</td>\n",
       "      <td>NaN</td>\n",
       "    </tr>\n",
       "    <tr>\n",
       "      <th>5</th>\n",
       "      <td>NaN</td>\n",
       "      <td>NaN</td>\n",
       "    </tr>\n",
       "    <tr>\n",
       "      <th>6</th>\n",
       "      <td>NaN</td>\n",
       "      <td>NaN</td>\n",
       "    </tr>\n",
       "    <tr>\n",
       "      <th>7</th>\n",
       "      <td>NaN</td>\n",
       "      <td>NaN</td>\n",
       "    </tr>\n",
       "    <tr>\n",
       "      <th>8</th>\n",
       "      <td>NaN</td>\n",
       "      <td>NaN</td>\n",
       "    </tr>\n",
       "    <tr>\n",
       "      <th>9</th>\n",
       "      <td>NaN</td>\n",
       "      <td>NaN</td>\n",
       "    </tr>\n",
       "    <tr>\n",
       "      <th>10</th>\n",
       "      <td>NaN</td>\n",
       "      <td>NaN</td>\n",
       "    </tr>\n",
       "    <tr>\n",
       "      <th>11</th>\n",
       "      <td>NaN</td>\n",
       "      <td>NaN</td>\n",
       "    </tr>\n",
       "    <tr>\n",
       "      <th>12</th>\n",
       "      <td>NaN</td>\n",
       "      <td>NaN</td>\n",
       "    </tr>\n",
       "    <tr>\n",
       "      <th>13</th>\n",
       "      <td>NaN</td>\n",
       "      <td>NaN</td>\n",
       "    </tr>\n",
       "    <tr>\n",
       "      <th>14</th>\n",
       "      <td>NaN</td>\n",
       "      <td>NaN</td>\n",
       "    </tr>\n",
       "    <tr>\n",
       "      <th>15</th>\n",
       "      <td>NaN</td>\n",
       "      <td>NaN</td>\n",
       "    </tr>\n",
       "    <tr>\n",
       "      <th>16</th>\n",
       "      <td>NaN</td>\n",
       "      <td>NaN</td>\n",
       "    </tr>\n",
       "    <tr>\n",
       "      <th>17</th>\n",
       "      <td>NaN</td>\n",
       "      <td>NaN</td>\n",
       "    </tr>\n",
       "    <tr>\n",
       "      <th>18</th>\n",
       "      <td>NaN</td>\n",
       "      <td>NaN</td>\n",
       "    </tr>\n",
       "    <tr>\n",
       "      <th>19</th>\n",
       "      <td>NaN</td>\n",
       "      <td>NaN</td>\n",
       "    </tr>\n",
       "    <tr>\n",
       "      <th>20</th>\n",
       "      <td>NaN</td>\n",
       "      <td>NaN</td>\n",
       "    </tr>\n",
       "    <tr>\n",
       "      <th>21</th>\n",
       "      <td>NaN</td>\n",
       "      <td>NaN</td>\n",
       "    </tr>\n",
       "    <tr>\n",
       "      <th>22</th>\n",
       "      <td>NaN</td>\n",
       "      <td>NaN</td>\n",
       "    </tr>\n",
       "    <tr>\n",
       "      <th>23</th>\n",
       "      <td>NaN</td>\n",
       "      <td>NaN</td>\n",
       "    </tr>\n",
       "    <tr>\n",
       "      <th>24</th>\n",
       "      <td>NaN</td>\n",
       "      <td>NaN</td>\n",
       "    </tr>\n",
       "    <tr>\n",
       "      <th>25</th>\n",
       "      <td>NaN</td>\n",
       "      <td>NaN</td>\n",
       "    </tr>\n",
       "    <tr>\n",
       "      <th>26</th>\n",
       "      <td>NaN</td>\n",
       "      <td>NaN</td>\n",
       "    </tr>\n",
       "    <tr>\n",
       "      <th>27</th>\n",
       "      <td>NaN</td>\n",
       "      <td>NaN</td>\n",
       "    </tr>\n",
       "    <tr>\n",
       "      <th>28</th>\n",
       "      <td>NaN</td>\n",
       "      <td>NaN</td>\n",
       "    </tr>\n",
       "    <tr>\n",
       "      <th>29</th>\n",
       "      <td>NaN</td>\n",
       "      <td>NaN</td>\n",
       "    </tr>\n",
       "    <tr>\n",
       "      <th>30</th>\n",
       "      <td>NaN</td>\n",
       "      <td>NaN</td>\n",
       "    </tr>\n",
       "    <tr>\n",
       "      <th>31</th>\n",
       "      <td>NaN</td>\n",
       "      <td>NaN</td>\n",
       "    </tr>\n",
       "    <tr>\n",
       "      <th>32</th>\n",
       "      <td>NaN</td>\n",
       "      <td>NaN</td>\n",
       "    </tr>\n",
       "    <tr>\n",
       "      <th>33</th>\n",
       "      <td>NaN</td>\n",
       "      <td>NaN</td>\n",
       "    </tr>\n",
       "    <tr>\n",
       "      <th>34</th>\n",
       "      <td>NaN</td>\n",
       "      <td>NaN</td>\n",
       "    </tr>\n",
       "    <tr>\n",
       "      <th>35</th>\n",
       "      <td>NaN</td>\n",
       "      <td>NaN</td>\n",
       "    </tr>\n",
       "    <tr>\n",
       "      <th>36</th>\n",
       "      <td>NaN</td>\n",
       "      <td>NaN</td>\n",
       "    </tr>\n",
       "    <tr>\n",
       "      <th>37</th>\n",
       "      <td>NaN</td>\n",
       "      <td>NaN</td>\n",
       "    </tr>\n",
       "    <tr>\n",
       "      <th>38</th>\n",
       "      <td>NaN</td>\n",
       "      <td>NaN</td>\n",
       "    </tr>\n",
       "    <tr>\n",
       "      <th>39</th>\n",
       "      <td>NaN</td>\n",
       "      <td>NaN</td>\n",
       "    </tr>\n",
       "    <tr>\n",
       "      <th>40</th>\n",
       "      <td>NaN</td>\n",
       "      <td>NaN</td>\n",
       "    </tr>\n",
       "    <tr>\n",
       "      <th>41</th>\n",
       "      <td>NaN</td>\n",
       "      <td>NaN</td>\n",
       "    </tr>\n",
       "    <tr>\n",
       "      <th>42</th>\n",
       "      <td>NaN</td>\n",
       "      <td>NaN</td>\n",
       "    </tr>\n",
       "    <tr>\n",
       "      <th>43</th>\n",
       "      <td>NaN</td>\n",
       "      <td>NaN</td>\n",
       "    </tr>\n",
       "    <tr>\n",
       "      <th>44</th>\n",
       "      <td>NaN</td>\n",
       "      <td>NaN</td>\n",
       "    </tr>\n",
       "    <tr>\n",
       "      <th>45</th>\n",
       "      <td>NaN</td>\n",
       "      <td>NaN</td>\n",
       "    </tr>\n",
       "    <tr>\n",
       "      <th>46</th>\n",
       "      <td>NaN</td>\n",
       "      <td>NaN</td>\n",
       "    </tr>\n",
       "    <tr>\n",
       "      <th>47</th>\n",
       "      <td>NaN</td>\n",
       "      <td>NaN</td>\n",
       "    </tr>\n",
       "    <tr>\n",
       "      <th>48</th>\n",
       "      <td>NaN</td>\n",
       "      <td>NaN</td>\n",
       "    </tr>\n",
       "    <tr>\n",
       "      <th>49</th>\n",
       "      <td>NaN</td>\n",
       "      <td>NaN</td>\n",
       "    </tr>\n",
       "  </tbody>\n",
       "</table>\n",
       "</div>"
      ],
      "text/plain": [
       "    loss  val_loss\n",
       "0    NaN       NaN\n",
       "1    NaN       NaN\n",
       "2    NaN       NaN\n",
       "3    NaN       NaN\n",
       "4    NaN       NaN\n",
       "5    NaN       NaN\n",
       "6    NaN       NaN\n",
       "7    NaN       NaN\n",
       "8    NaN       NaN\n",
       "9    NaN       NaN\n",
       "10   NaN       NaN\n",
       "11   NaN       NaN\n",
       "12   NaN       NaN\n",
       "13   NaN       NaN\n",
       "14   NaN       NaN\n",
       "15   NaN       NaN\n",
       "16   NaN       NaN\n",
       "17   NaN       NaN\n",
       "18   NaN       NaN\n",
       "19   NaN       NaN\n",
       "20   NaN       NaN\n",
       "21   NaN       NaN\n",
       "22   NaN       NaN\n",
       "23   NaN       NaN\n",
       "24   NaN       NaN\n",
       "25   NaN       NaN\n",
       "26   NaN       NaN\n",
       "27   NaN       NaN\n",
       "28   NaN       NaN\n",
       "29   NaN       NaN\n",
       "30   NaN       NaN\n",
       "31   NaN       NaN\n",
       "32   NaN       NaN\n",
       "33   NaN       NaN\n",
       "34   NaN       NaN\n",
       "35   NaN       NaN\n",
       "36   NaN       NaN\n",
       "37   NaN       NaN\n",
       "38   NaN       NaN\n",
       "39   NaN       NaN\n",
       "40   NaN       NaN\n",
       "41   NaN       NaN\n",
       "42   NaN       NaN\n",
       "43   NaN       NaN\n",
       "44   NaN       NaN\n",
       "45   NaN       NaN\n",
       "46   NaN       NaN\n",
       "47   NaN       NaN\n",
       "48   NaN       NaN\n",
       "49   NaN       NaN"
      ]
     },
     "execution_count": 20,
     "metadata": {},
     "output_type": "execute_result"
    }
   ],
   "source": [
    "# 結果の可視化\n",
    "results = pd.DataFrame(history.history)\n",
    "results"
   ]
  },
  {
   "cell_type": "code",
   "execution_count": 21,
   "metadata": {},
   "outputs": [
    {
     "data": {
      "text/plain": [
       "(80, 100)"
      ]
     },
     "execution_count": 21,
     "metadata": {},
     "output_type": "execute_result"
    },
    {
     "data": {
      "image/png": "[encoded data removed]",
      "text/plain": [
       "<matplotlib.figure.Figure at 0x7f749857ab38>"
      ]
     },
     "metadata": {},
     "output_type": "display_data"
    }
   ],
   "source": [
    "# results[['accuracy', 'val_accuracy']].plot()\n",
    "# loss（損失関数）を表示\n",
    "graph = results[['loss', 'val_loss']].plot()\n",
    "graph.set_xlim([0,40])\n",
    "graph.set_ylim([80,100])"
   ]
  },
  {
   "cell_type": "code",
   "execution_count": 22,
   "metadata": {},
   "outputs": [
    {
     "data": {
      "text/plain": [
       "nan"
      ]
     },
     "execution_count": 22,
     "metadata": {},
     "output_type": "execute_result"
    }
   ],
   "source": [
    "# results[['loss', 'val_loss']].plot()\n",
    "\n",
    "#最終誤差のオリジナルスケールでの表示\n",
    "np.sqrt(results.iloc[-1,1])"
   ]
  },
  {
   "cell_type": "code",
   "execution_count": 23,
   "metadata": {
    "collapsed": true
   },
   "outputs": [],
   "source": [
    "np.set_printoptions(precision=3, suppress=True)"
   ]
  },
  {
   "cell_type": "code",
   "execution_count": 24,
   "metadata": {
    "collapsed": true
   },
   "outputs": [],
   "source": [
    "from sklearn.preprocessing import StandardScaler"
   ]
  },
  {
   "cell_type": "code",
   "execution_count": 25,
   "metadata": {},
   "outputs": [
    {
     "data": {
      "text/plain": [
       "array([[ True,  True,  True, ...,  True,  True,  True],\n",
       "       [ True,  True,  True, ...,  True,  True,  True],\n",
       "       [ True,  True,  True, ...,  True,  True,  True],\n",
       "       ...,\n",
       "       [ True,  True,  True, ...,  True,  True,  True],\n",
       "       [ True,  True,  True, ...,  True,  True,  True],\n",
       "       [ True,  True,  True, ...,  True,  True,  True]])"
      ]
     },
     "execution_count": 25,
     "metadata": {},
     "output_type": "execute_result"
    }
   ],
   "source": [
    "x_train2 = x_train\n",
    "x_train2 == x_train"
   ]
  },
  {
   "cell_type": "code",
   "execution_count": 26,
   "metadata": {
    "collapsed": true
   },
   "outputs": [],
   "source": [
    "scaler = StandardScaler()"
   ]
  },
  {
   "cell_type": "code",
   "execution_count": 27,
   "metadata": {},
   "outputs": [
    {
     "data": {
      "text/plain": [
       "StandardScaler(copy=True, with_mean=True, with_std=True)"
      ]
     },
     "execution_count": 27,
     "metadata": {},
     "output_type": "execute_result"
    }
   ],
   "source": [
    "scaler.fit(x_train2)"
   ]
  },
  {
   "cell_type": "code",
   "execution_count": 28,
   "metadata": {
    "collapsed": true
   },
   "outputs": [],
   "source": [
    "x_train3 = scaler.transform(x_train2)\n",
    "x_val3 = scaler.transform(x_val)"
   ]
  },
  {
   "cell_type": "code",
   "execution_count": 29,
   "metadata": {},
   "outputs": [
    {
     "data": {
      "text/plain": [
       "array([[ 2.589, -0.502,  0.96 , ...,  0.792,  0.393,  0.094],\n",
       "       [-0.511, -0.502, -0.892, ...,  0.017,  0.382,  0.016],\n",
       "       [-0.395,  0.333, -0.962, ..., -2.493,  0.232,  0.276],\n",
       "       ...,\n",
       "       [-0.495, -0.502, -0.141, ..., -0.303,  0.363, -0.328],\n",
       "       [-0.483, -0.502, -0.563, ..., -0.257,  0.341,  0.815],\n",
       "       [-0.497, -0.502, -0.952, ..., -0.851,  0.393,  0.262]])"
      ]
     },
     "execution_count": 29,
     "metadata": {},
     "output_type": "execute_result"
    }
   ],
   "source": [
    "x_train3"
   ]
  },
  {
   "cell_type": "code",
   "execution_count": 30,
   "metadata": {},
   "outputs": [
    {
     "data": {
      "text/plain": [
       "numpy.ndarray"
      ]
     },
     "execution_count": 30,
     "metadata": {},
     "output_type": "execute_result"
    }
   ],
   "source": [
    "type(x_train3)"
   ]
  },
  {
   "cell_type": "code",
   "execution_count": 31,
   "metadata": {},
   "outputs": [
    {
     "data": {
      "text/plain": [
       "(151, 13)"
      ]
     },
     "execution_count": 31,
     "metadata": {},
     "output_type": "execute_result"
    }
   ],
   "source": [
    "x_train3.shape"
   ]
  },
  {
   "cell_type": "code",
   "execution_count": 32,
   "metadata": {},
   "outputs": [
    {
     "data": {
      "text/plain": [
       "array([[-0.509, -0.502, -1.062, ..., -0.714,  0.12 , -0.726],\n",
       "       [ 0.944, -0.502,  0.96 , ...,  0.792,  0.006, -0.432],\n",
       "       [-0.501, -0.502,  0.387, ..., -0.942,  0.353, -0.301],\n",
       "       ...,\n",
       "       [-0.511,  0.875, -1.206, ..., -0.029,  0.393, -0.701],\n",
       "       [-0.414,  0.333, -0.962, ..., -2.493,  0.222, -0.666],\n",
       "       [-0.501,  0.02 , -0.432, ..., -1.489,  0.393,  0.071]])"
      ]
     },
     "execution_count": 32,
     "metadata": {},
     "output_type": "execute_result"
    }
   ],
   "source": [
    "x_val3"
   ]
  },
  {
   "cell_type": "code",
   "execution_count": 33,
   "metadata": {},
   "outputs": [
    {
     "data": {
      "text/plain": [
       "numpy.ndarray"
      ]
     },
     "execution_count": 33,
     "metadata": {},
     "output_type": "execute_result"
    }
   ],
   "source": [
    "type(x_val3)"
   ]
  },
  {
   "cell_type": "code",
   "execution_count": 34,
   "metadata": {},
   "outputs": [
    {
     "data": {
      "text/plain": [
       "(355, 13)"
      ]
     },
     "execution_count": 34,
     "metadata": {},
     "output_type": "execute_result"
    }
   ],
   "source": [
    "x_val3.shape"
   ]
  },
  {
   "cell_type": "code",
   "execution_count": 35,
   "metadata": {
    "collapsed": true
   },
   "outputs": [],
   "source": [
    "model.add(layers.BatchNormalization())\n",
    "model.add(layers.Dense(9, activation='relu', input_shape=(13,)))\n",
    "model.add(layers.Dense(5, activation='relu', input_shape=(13,)))\n",
    "model.add(layers.Dense(1))"
   ]
  },
  {
   "cell_type": "code",
   "execution_count": 36,
   "metadata": {
    "collapsed": true
   },
   "outputs": [],
   "source": [
    "#最適化手法の設定\n",
    "optimizer = keras.optimizers.SGD(0.1)\n",
    "\n",
    "#モデルのコンパイル\n",
    "model.compile(loss='mean_squared_error', optimizer=optimizer)"
   ]
  },
  {
   "cell_type": "code",
   "execution_count": 37,
   "metadata": {},
   "outputs": [
    {
     "name": "stdout",
     "output_type": "stream",
     "text": [
      "Train on 151 samples, validate on 355 samples\n",
      "Epoch 1/50\n",
      "151/151 [==============================] - 1s 6ms/sample - loss: nan - val_loss: nan\n",
      "Epoch 2/50\n",
      "151/151 [==============================] - 0s 135us/sample - loss: nan - val_loss: nan\n",
      "Epoch 3/50\n",
      "151/151 [==============================] - 0s 128us/sample - loss: nan - val_loss: nan\n",
      "Epoch 4/50\n",
      "151/151 [==============================] - 0s 136us/sample - loss: nan - val_loss: nan\n",
      "Epoch 5/50\n",
      "151/151 [==============================] - 0s 125us/sample - loss: nan - val_loss: nan\n",
      "Epoch 6/50\n",
      "151/151 [==============================] - 0s 126us/sample - loss: nan - val_loss: nan\n",
      "Epoch 7/50\n",
      "151/151 [==============================] - 0s 135us/sample - loss: nan - val_loss: nan\n",
      "Epoch 8/50\n",
      "151/151 [==============================] - 0s 149us/sample - loss: nan - val_loss: nan\n",
      "Epoch 9/50\n",
      "151/151 [==============================] - 0s 178us/sample - loss: nan - val_loss: nan\n",
      "Epoch 10/50\n",
      "151/151 [==============================] - 0s 164us/sample - loss: nan - val_loss: nan\n",
      "Epoch 11/50\n",
      "151/151 [==============================] - 0s 166us/sample - loss: nan - val_loss: nan\n",
      "Epoch 12/50\n",
      "151/151 [==============================] - 0s 139us/sample - loss: nan - val_loss: nan\n",
      "Epoch 13/50\n",
      "151/151 [==============================] - 0s 131us/sample - loss: nan - val_loss: nan\n",
      "Epoch 14/50\n",
      "151/151 [==============================] - 0s 128us/sample - loss: nan - val_loss: nan\n",
      "Epoch 15/50\n",
      "151/151 [==============================] - 0s 132us/sample - loss: nan - val_loss: nan\n",
      "Epoch 16/50\n",
      "151/151 [==============================] - 0s 126us/sample - loss: nan - val_loss: nan\n",
      "Epoch 17/50\n",
      "151/151 [==============================] - 0s 125us/sample - loss: nan - val_loss: nan\n",
      "Epoch 18/50\n",
      "151/151 [==============================] - 0s 137us/sample - loss: nan - val_loss: nan\n",
      "Epoch 19/50\n",
      "151/151 [==============================] - 0s 127us/sample - loss: nan - val_loss: nan\n",
      "Epoch 20/50\n",
      "151/151 [==============================] - 0s 131us/sample - loss: nan - val_loss: nan\n",
      "Epoch 21/50\n",
      "151/151 [==============================] - 0s 125us/sample - loss: nan - val_loss: nan\n",
      "Epoch 22/50\n",
      "151/151 [==============================] - 0s 128us/sample - loss: nan - val_loss: nan\n",
      "Epoch 23/50\n",
      "151/151 [==============================] - 0s 125us/sample - loss: nan - val_loss: nan\n",
      "Epoch 24/50\n",
      "151/151 [==============================] - 0s 125us/sample - loss: nan - val_loss: nan\n",
      "Epoch 25/50\n",
      "151/151 [==============================] - 0s 130us/sample - loss: nan - val_loss: nan\n",
      "Epoch 26/50\n",
      "151/151 [==============================] - 0s 128us/sample - loss: nan - val_loss: nan\n",
      "Epoch 27/50\n",
      "151/151 [==============================] - 0s 127us/sample - loss: nan - val_loss: nan\n",
      "Epoch 28/50\n",
      "151/151 [==============================] - 0s 126us/sample - loss: nan - val_loss: nan\n",
      "Epoch 29/50\n",
      "151/151 [==============================] - 0s 132us/sample - loss: nan - val_loss: nan\n",
      "Epoch 30/50\n",
      "151/151 [==============================] - 0s 129us/sample - loss: nan - val_loss: nan\n",
      "Epoch 31/50\n",
      "151/151 [==============================] - 0s 126us/sample - loss: nan - val_loss: nan\n",
      "Epoch 32/50\n",
      "151/151 [==============================] - 0s 135us/sample - loss: nan - val_loss: nan\n",
      "Epoch 33/50\n",
      "151/151 [==============================] - 0s 138us/sample - loss: nan - val_loss: nan\n",
      "Epoch 34/50\n",
      "151/151 [==============================] - 0s 131us/sample - loss: nan - val_loss: nan\n",
      "Epoch 35/50\n",
      "151/151 [==============================] - 0s 130us/sample - loss: nan - val_loss: nan\n",
      "Epoch 36/50\n",
      "151/151 [==============================] - 0s 127us/sample - loss: nan - val_loss: nan\n",
      "Epoch 37/50\n",
      "151/151 [==============================] - 0s 126us/sample - loss: nan - val_loss: nan\n",
      "Epoch 38/50\n",
      "151/151 [==============================] - 0s 130us/sample - loss: nan - val_loss: nan\n",
      "Epoch 39/50\n",
      "151/151 [==============================] - 0s 125us/sample - loss: nan - val_loss: nan\n",
      "Epoch 40/50\n",
      "151/151 [==============================] - 0s 125us/sample - loss: nan - val_loss: nan\n",
      "Epoch 41/50\n",
      "151/151 [==============================] - 0s 123us/sample - loss: nan - val_loss: nan\n",
      "Epoch 42/50\n",
      "151/151 [==============================] - 0s 123us/sample - loss: nan - val_loss: nan\n",
      "Epoch 43/50\n",
      "151/151 [==============================] - 0s 127us/sample - loss: nan - val_loss: nan\n",
      "Epoch 44/50\n",
      "151/151 [==============================] - 0s 124us/sample - loss: nan - val_loss: nan\n",
      "Epoch 45/50\n",
      "151/151 [==============================] - ETA: 0s - loss: n - 0s 126us/sample - loss: nan - val_loss: nan\n",
      "Epoch 46/50\n",
      "151/151 [==============================] - 0s 124us/sample - loss: nan - val_loss: nan\n",
      "Epoch 47/50\n",
      "151/151 [==============================] - 0s 129us/sample - loss: nan - val_loss: nan\n",
      "Epoch 48/50\n",
      "151/151 [==============================] - 0s 123us/sample - loss: nan - val_loss: nan\n",
      "Epoch 49/50\n",
      "151/151 [==============================] - 0s 130us/sample - loss: nan - val_loss: nan\n",
      "Epoch 50/50\n",
      "151/151 [==============================] - 0s 127us/sample - loss: nan - val_loss: nan\n"
     ]
    }
   ],
   "source": [
    "history = model.fit(x_train3, t_train,\n",
    "                   batch_size=64,\n",
    "                   epochs=50,\n",
    "                   verbose=1,\n",
    "                   validation_data=(x_val3, t_val))"
   ]
  },
  {
   "cell_type": "code",
   "execution_count": 38,
   "metadata": {},
   "outputs": [
    {
     "data": {
      "text/html": [
       "<div>\n",
       "<style>\n",
       "    .dataframe thead tr:only-child th {\n",
       "        text-align: right;\n",
       "    }\n",
       "\n",
       "    .dataframe thead th {\n",
       "        text-align: left;\n",
       "    }\n",
       "\n",
       "    .dataframe tbody tr th {\n",
       "        vertical-align: top;\n",
       "    }\n",
       "</style>\n",
       "<table border=\"1\" class=\"dataframe\">\n",
       "  <thead>\n",
       "    <tr style=\"text-align: right;\">\n",
       "      <th></th>\n",
       "      <th>loss</th>\n",
       "      <th>val_loss</th>\n",
       "    </tr>\n",
       "  </thead>\n",
       "  <tbody>\n",
       "    <tr>\n",
       "      <th>45</th>\n",
       "      <td>NaN</td>\n",
       "      <td>NaN</td>\n",
       "    </tr>\n",
       "    <tr>\n",
       "      <th>46</th>\n",
       "      <td>NaN</td>\n",
       "      <td>NaN</td>\n",
       "    </tr>\n",
       "    <tr>\n",
       "      <th>47</th>\n",
       "      <td>NaN</td>\n",
       "      <td>NaN</td>\n",
       "    </tr>\n",
       "    <tr>\n",
       "      <th>48</th>\n",
       "      <td>NaN</td>\n",
       "      <td>NaN</td>\n",
       "    </tr>\n",
       "    <tr>\n",
       "      <th>49</th>\n",
       "      <td>NaN</td>\n",
       "      <td>NaN</td>\n",
       "    </tr>\n",
       "  </tbody>\n",
       "</table>\n",
       "</div>"
      ],
      "text/plain": [
       "    loss  val_loss\n",
       "45   NaN       NaN\n",
       "46   NaN       NaN\n",
       "47   NaN       NaN\n",
       "48   NaN       NaN\n",
       "49   NaN       NaN"
      ]
     },
     "execution_count": 38,
     "metadata": {},
     "output_type": "execute_result"
    }
   ],
   "source": [
    "# 結果の可視化\n",
    "results2 = pd.DataFrame(history.history)\n",
    "results2.tail()"
   ]
  },
  {
   "cell_type": "code",
   "execution_count": 39,
   "metadata": {},
   "outputs": [
    {
     "data": {
      "text/plain": [
       "(80, 100)"
      ]
     },
     "execution_count": 39,
     "metadata": {},
     "output_type": "execute_result"
    },
    {
     "data": {
      "image/png": "[encoded data removed]",
      "text/plain": [
       "<matplotlib.figure.Figure at 0x7f74902e68d0>"
      ]
     },
     "metadata": {},
     "output_type": "display_data"
    }
   ],
   "source": [
    "# loss（損失関数）を表示\n",
    "graph = results[['loss', 'val_loss']].plot()\n",
    "graph.set_xlim([0,40])\n",
    "graph.set_ylim([80,100])"
   ]
  },
  {
   "cell_type": "code",
   "execution_count": 40,
   "metadata": {},
   "outputs": [
    {
     "data": {
      "text/plain": [
       "nan"
      ]
     },
     "execution_count": 40,
     "metadata": {},
     "output_type": "execute_result"
    }
   ],
   "source": [
    "#最終誤差のオリジナルスケールでの表示\n",
    "np.sqrt(results.iloc[-1,1])"
   ]
  },
  {
   "cell_type": "markdown",
   "metadata": {},
   "source": [
    "# 演習\n",
    "- 層、ノードを増やす\n",
    "- 活性化関数を変える\n",
    "- バッチサイズ、エポック数\n",
    "- 最適化関数(Adam)\n",
    "- 学習係数"
   ]
  },
  {
   "cell_type": "code",
   "execution_count": 41,
   "metadata": {
    "collapsed": true
   },
   "outputs": [],
   "source": [
    "import numpy as np\n",
    "import pandas as pd\n",
    "import matplotlib.pyplot as plt\n",
    "%matplotlib inline\n",
    "\n",
    "import tensorflow as tf\n",
    "from tensorflow import keras"
   ]
  },
  {
   "cell_type": "code",
   "execution_count": 42,
   "metadata": {},
   "outputs": [
    {
     "data": {
      "text/html": [
       "<div>\n",
       "<style>\n",
       "    .dataframe thead tr:only-child th {\n",
       "        text-align: right;\n",
       "    }\n",
       "\n",
       "    .dataframe thead th {\n",
       "        text-align: left;\n",
       "    }\n",
       "\n",
       "    .dataframe tbody tr th {\n",
       "        vertical-align: top;\n",
       "    }\n",
       "</style>\n",
       "<table border=\"1\" class=\"dataframe\">\n",
       "  <thead>\n",
       "    <tr style=\"text-align: right;\">\n",
       "      <th></th>\n",
       "      <th>x1</th>\n",
       "      <th>x2</th>\n",
       "      <th>x3</th>\n",
       "      <th>x4</th>\n",
       "      <th>x5</th>\n",
       "      <th>x6</th>\n",
       "      <th>x7</th>\n",
       "      <th>x8</th>\n",
       "      <th>x9</th>\n",
       "      <th>x10</th>\n",
       "      <th>x11</th>\n",
       "      <th>x12</th>\n",
       "      <th>x13</th>\n",
       "      <th>y</th>\n",
       "    </tr>\n",
       "  </thead>\n",
       "  <tbody>\n",
       "    <tr>\n",
       "      <th>0</th>\n",
       "      <td>0.00632</td>\n",
       "      <td>18.0</td>\n",
       "      <td>2.31</td>\n",
       "      <td>0</td>\n",
       "      <td>0.538</td>\n",
       "      <td>6.575</td>\n",
       "      <td>65.2</td>\n",
       "      <td>4.0900</td>\n",
       "      <td>1</td>\n",
       "      <td>296</td>\n",
       "      <td>15.3</td>\n",
       "      <td>396.90</td>\n",
       "      <td>4.98</td>\n",
       "      <td>24.0</td>\n",
       "    </tr>\n",
       "    <tr>\n",
       "      <th>1</th>\n",
       "      <td>0.02731</td>\n",
       "      <td>0.0</td>\n",
       "      <td>7.07</td>\n",
       "      <td>0</td>\n",
       "      <td>0.469</td>\n",
       "      <td>6.421</td>\n",
       "      <td>78.9</td>\n",
       "      <td>4.9671</td>\n",
       "      <td>2</td>\n",
       "      <td>242</td>\n",
       "      <td>17.8</td>\n",
       "      <td>396.90</td>\n",
       "      <td>9.14</td>\n",
       "      <td>21.6</td>\n",
       "    </tr>\n",
       "    <tr>\n",
       "      <th>2</th>\n",
       "      <td>0.02729</td>\n",
       "      <td>0.0</td>\n",
       "      <td>7.07</td>\n",
       "      <td>0</td>\n",
       "      <td>0.469</td>\n",
       "      <td>7.185</td>\n",
       "      <td>61.1</td>\n",
       "      <td>4.9671</td>\n",
       "      <td>2</td>\n",
       "      <td>242</td>\n",
       "      <td>17.8</td>\n",
       "      <td>392.83</td>\n",
       "      <td>4.03</td>\n",
       "      <td>34.7</td>\n",
       "    </tr>\n",
       "  </tbody>\n",
       "</table>\n",
       "</div>"
      ],
      "text/plain": [
       "        x1    x2    x3  x4     x5     x6    x7      x8  x9  x10   x11     x12  \\\n",
       "0  0.00632  18.0  2.31   0  0.538  6.575  65.2  4.0900   1  296  15.3  396.90   \n",
       "1  0.02731   0.0  7.07   0  0.469  6.421  78.9  4.9671   2  242  17.8  396.90   \n",
       "2  0.02729   0.0  7.07   0  0.469  7.185  61.1  4.9671   2  242  17.8  392.83   \n",
       "\n",
       "    x13     y  \n",
       "0  4.98  24.0  \n",
       "1  9.14  21.6  \n",
       "2  4.03  34.7  "
      ]
     },
     "execution_count": 42,
     "metadata": {},
     "output_type": "execute_result"
    }
   ],
   "source": [
    "# データの読み込み\n",
    "df = pd.read_csv('data/housing.csv')\n",
    "df.head(3)"
   ]
  },
  {
   "cell_type": "code",
   "execution_count": 43,
   "metadata": {},
   "outputs": [],
   "source": [
    "# 入力変数と教師データの切り分け\n",
    "t = df.iloc[:, -1]\n",
    "t = t.values"
   ]
  },
  {
   "cell_type": "code",
   "execution_count": 44,
   "metadata": {},
   "outputs": [],
   "source": [
    "x = df.iloc[:, :-1]\n",
    "x = x.values"
   ]
  },
  {
   "cell_type": "code",
   "execution_count": 45,
   "metadata": {},
   "outputs": [
    {
     "data": {
      "text/plain": [
       "(numpy.ndarray, numpy.ndarray)"
      ]
     },
     "execution_count": 45,
     "metadata": {},
     "output_type": "execute_result"
    }
   ],
   "source": [
    "type(x), type(t)"
   ]
  },
  {
   "cell_type": "code",
   "execution_count": 46,
   "metadata": {
    "collapsed": true
   },
   "outputs": [],
   "source": [
    "from sklearn.model_selection import train_test_split\n",
    "x_train, x_val, t_train, t_val = train_test_split(x, t, test_size=0.7 , random_state=0)"
   ]
  },
  {
   "cell_type": "code",
   "execution_count": 47,
   "metadata": {
    "collapsed": true
   },
   "outputs": [],
   "source": [
    "import os\n",
    "import random\n",
    "\n",
    "\n",
    "def reset_seed(seed=0):\n",
    "\n",
    "    os.environ['PYTHONHASHSEED'] = '0'\n",
    "    random.seed(seed) #　random関数のシードを固定\n",
    "    np.random.seed(seed) #numpyのシードを固定\n",
    "    tf.random.set_seed(seed) #tensorflowのシードを固定\n",
    "    \n",
    "reset_seed(0)"
   ]
  },
  {
   "cell_type": "code",
   "execution_count": 48,
   "metadata": {
    "collapsed": true
   },
   "outputs": [],
   "source": [
    "model = models.Sequential()"
   ]
  },
  {
   "cell_type": "code",
   "execution_count": 49,
   "metadata": {},
   "outputs": [
    {
     "data": {
      "text/plain": [
       "(506, 13)"
      ]
     },
     "execution_count": 49,
     "metadata": {},
     "output_type": "execute_result"
    }
   ],
   "source": [
    "x.shape"
   ]
  },
  {
   "cell_type": "code",
   "execution_count": 50,
   "metadata": {},
   "outputs": [],
   "source": [
    "# from tensorflow.keras import keras.kayers.advanced_activations"
   ]
  },
  {
   "cell_type": "code",
   "execution_count": 51,
   "metadata": {},
   "outputs": [
    {
     "name": "stdout",
     "output_type": "stream",
     "text": [
      "Train on 151 samples, validate on 355 samples\n",
      "Epoch 1/50\n",
      "151/151 [==============================] - 0s 3ms/sample - loss: 3466.2491 - val_loss: 2590.2241\n",
      "Epoch 2/50\n",
      "151/151 [==============================] - 0s 453us/sample - loss: 1601.9054 - val_loss: 1109.5403\n",
      "Epoch 3/50\n",
      "151/151 [==============================] - 0s 436us/sample - loss: 671.8061 - val_loss: 476.1721\n",
      "Epoch 4/50\n",
      "151/151 [==============================] - 0s 463us/sample - loss: 341.7991 - val_loss: 245.2424\n",
      "Epoch 5/50\n",
      "151/151 [==============================] - 0s 433us/sample - loss: 237.3799 - val_loss: 182.9362\n",
      "Epoch 6/50\n",
      "151/151 [==============================] - 0s 416us/sample - loss: 205.8946 - val_loss: 163.7313\n",
      "Epoch 7/50\n",
      "151/151 [==============================] - 0s 408us/sample - loss: 187.1286 - val_loss: 148.4384\n",
      "Epoch 8/50\n",
      "151/151 [==============================] - 0s 410us/sample - loss: 179.0100 - val_loss: 141.9470\n",
      "Epoch 9/50\n",
      "151/151 [==============================] - 0s 417us/sample - loss: 167.0570 - val_loss: 134.9497\n",
      "Epoch 10/50\n",
      "151/151 [==============================] - 0s 424us/sample - loss: 148.1873 - val_loss: 126.9701\n",
      "Epoch 11/50\n",
      "151/151 [==============================] - 0s 414us/sample - loss: 138.3291 - val_loss: 114.7734\n",
      "Epoch 12/50\n",
      "151/151 [==============================] - 0s 422us/sample - loss: 131.8174 - val_loss: 112.7598\n",
      "Epoch 13/50\n",
      "151/151 [==============================] - 0s 422us/sample - loss: 123.5964 - val_loss: 107.8182\n",
      "Epoch 14/50\n",
      "151/151 [==============================] - 0s 416us/sample - loss: 117.6487 - val_loss: 99.4624\n",
      "Epoch 15/50\n",
      "151/151 [==============================] - 0s 422us/sample - loss: 113.5018 - val_loss: 96.7521\n",
      "Epoch 16/50\n",
      "151/151 [==============================] - 0s 421us/sample - loss: 117.6846 - val_loss: 94.2209\n",
      "Epoch 17/50\n",
      "151/151 [==============================] - 0s 413us/sample - loss: 113.1223 - val_loss: 96.2544\n",
      "Epoch 18/50\n",
      "151/151 [==============================] - 0s 439us/sample - loss: 103.4979 - val_loss: 87.4978\n",
      "Epoch 19/50\n",
      "151/151 [==============================] - 0s 435us/sample - loss: 99.2170 - val_loss: 84.5950\n",
      "Epoch 20/50\n",
      "151/151 [==============================] - 0s 424us/sample - loss: 95.4299 - val_loss: 84.5234\n",
      "Epoch 21/50\n",
      "151/151 [==============================] - 0s 427us/sample - loss: 94.7230 - val_loss: 84.3496\n",
      "Epoch 22/50\n",
      "151/151 [==============================] - 0s 414us/sample - loss: 91.1674 - val_loss: 84.4397\n",
      "Epoch 23/50\n",
      "151/151 [==============================] - 0s 421us/sample - loss: 99.1072 - val_loss: 80.9659\n",
      "Epoch 24/50\n",
      "151/151 [==============================] - 0s 421us/sample - loss: 92.8684 - val_loss: 78.5459\n",
      "Epoch 25/50\n",
      "151/151 [==============================] - 0s 416us/sample - loss: 85.8168 - val_loss: 80.0701\n",
      "Epoch 26/50\n",
      "151/151 [==============================] - 0s 437us/sample - loss: 82.7977 - val_loss: 75.6522\n",
      "Epoch 27/50\n",
      "151/151 [==============================] - 0s 422us/sample - loss: 83.7265 - val_loss: 77.4676\n",
      "Epoch 28/50\n",
      "151/151 [==============================] - 0s 417us/sample - loss: 79.6591 - val_loss: 79.1013\n",
      "Epoch 29/50\n",
      "151/151 [==============================] - 0s 425us/sample - loss: 85.2778 - val_loss: 88.3362\n",
      "Epoch 30/50\n",
      "151/151 [==============================] - 0s 412us/sample - loss: 85.3676 - val_loss: 71.6465\n",
      "Epoch 31/50\n",
      "151/151 [==============================] - 0s 436us/sample - loss: 79.3684 - val_loss: 69.8120\n",
      "Epoch 32/50\n",
      "151/151 [==============================] - 0s 434us/sample - loss: 74.7694 - val_loss: 71.9144\n",
      "Epoch 33/50\n",
      "151/151 [==============================] - 0s 426us/sample - loss: 73.9102 - val_loss: 70.2767\n",
      "Epoch 34/50\n",
      "151/151 [==============================] - 0s 437us/sample - loss: 74.4836 - val_loss: 70.5666\n",
      "Epoch 35/50\n",
      "151/151 [==============================] - 0s 414us/sample - loss: 71.3347 - val_loss: 68.6446\n",
      "Epoch 36/50\n",
      "151/151 [==============================] - 0s 424us/sample - loss: 69.4760 - val_loss: 69.7973\n",
      "Epoch 37/50\n",
      "151/151 [==============================] - 0s 424us/sample - loss: 70.1094 - val_loss: 66.7874\n",
      "Epoch 38/50\n",
      "151/151 [==============================] - 0s 415us/sample - loss: 67.8861 - val_loss: 68.1454\n",
      "Epoch 39/50\n",
      "151/151 [==============================] - 0s 417us/sample - loss: 67.9779 - val_loss: 68.0104\n",
      "Epoch 40/50\n",
      "151/151 [==============================] - 0s 414us/sample - loss: 66.4448 - val_loss: 66.9359\n",
      "Epoch 41/50\n",
      "151/151 [==============================] - 0s 414us/sample - loss: 67.1376 - val_loss: 65.2150\n",
      "Epoch 42/50\n",
      "151/151 [==============================] - 0s 433us/sample - loss: 68.6801 - val_loss: 63.3738\n",
      "Epoch 43/50\n",
      "151/151 [==============================] - 0s 418us/sample - loss: 67.7983 - val_loss: 68.0301\n",
      "Epoch 44/50\n",
      "151/151 [==============================] - 0s 424us/sample - loss: 66.6042 - val_loss: 65.4450\n",
      "Epoch 45/50\n",
      "151/151 [==============================] - 0s 431us/sample - loss: 72.8367 - val_loss: 83.2817\n",
      "Epoch 46/50\n",
      "151/151 [==============================] - 0s 415us/sample - loss: 83.8679 - val_loss: 63.9306\n",
      "Epoch 47/50\n",
      "151/151 [==============================] - 0s 418us/sample - loss: 63.7636 - val_loss: 63.1272\n",
      "Epoch 48/50\n",
      "151/151 [==============================] - 0s 407us/sample - loss: 67.2033 - val_loss: 66.8715\n",
      "Epoch 49/50\n",
      "151/151 [==============================] - 0s 411us/sample - loss: 62.6872 - val_loss: 61.8982\n",
      "Epoch 50/50\n",
      "151/151 [==============================] - 0s 482us/sample - loss: 61.2605 - val_loss: 64.2832\n"
     ]
    }
   ],
   "source": [
    "# 層、ノードを増やす\n",
    "# 活性化関数を変える\n",
    "# バッチサイズ、エポック数\n",
    "# 最適化関数(Adam)\n",
    "# 学習係数\n",
    "\n",
    "model.add(layers.Dense(9, activation='linear', input_shape=(13,)))\n",
    "model.add(layers.Dense(5, activation='linear', input_shape=(13,)))\n",
    "model.add(layers.Dense(1))\n",
    "\n",
    "optimizer = keras.optimizers.Adam(learning_rate=0.001, beta_1=0.9, beta_2=0.999, epsilon=1e-08)\n",
    "\n",
    "model.compile(loss='mean_squared_error', optimizer=optimizer)\n",
    "\n",
    "history = model.fit(x_train, t_train,\n",
    "                   batch_size=10,\n",
    "                   epochs=50,\n",
    "                   verbose=1,\n",
    "                   validation_data=(x_val, t_val))"
   ]
  },
  {
   "cell_type": "code",
   "execution_count": 52,
   "metadata": {
    "collapsed": true
   },
   "outputs": [],
   "source": [
    "results = pd.DataFrame(history.history)"
   ]
  },
  {
   "cell_type": "code",
   "execution_count": 53,
   "metadata": {},
   "outputs": [
    {
     "data": {
      "text/plain": [
       "(80, 100)"
      ]
     },
     "execution_count": 53,
     "metadata": {},
     "output_type": "execute_result"
    },
    {
     "data": {
      "image/png": "[encoded data removed]",
      "text/plain": [
       "<matplotlib.figure.Figure at 0x7f749042b8d0>"
      ]
     },
     "metadata": {},
     "output_type": "display_data"
    }
   ],
   "source": [
    "graph = results[['loss', 'val_loss']].plot()\n",
    "graph.set_xlim([0,40])\n",
    "graph.set_ylim([80,100])"
   ]
  },
  {
   "cell_type": "code",
   "execution_count": 54,
   "metadata": {},
   "outputs": [
    {
     "data": {
      "text/plain": [
       "8.01767839412681"
      ]
     },
     "execution_count": 54,
     "metadata": {},
     "output_type": "execute_result"
    }
   ],
   "source": [
    "np.sqrt(results.iloc[-1,1])"
   ]
  },
  {
   "cell_type": "code",
   "execution_count": 55,
   "metadata": {},
   "outputs": [
    {
     "name": "stdout",
     "output_type": "stream",
     "text": [
      "Train on 151 samples, validate on 355 samples\n",
      "Epoch 1/100\n",
      "151/151 [==============================] - 1s 5ms/sample - loss: 1117.9226 - val_loss: 806.6535\n",
      "Epoch 2/100\n",
      "151/151 [==============================] - 0s 133us/sample - loss: 826.0618 - val_loss: 606.9816\n",
      "Epoch 3/100\n",
      "151/151 [==============================] - 0s 122us/sample - loss: 634.1335 - val_loss: 473.8880\n",
      "Epoch 4/100\n",
      "151/151 [==============================] - 0s 122us/sample - loss: 507.8939 - val_loss: 378.7815\n",
      "Epoch 5/100\n",
      "151/151 [==============================] - 0s 118us/sample - loss: 414.8240 - val_loss: 303.9298\n",
      "Epoch 6/100\n",
      "151/151 [==============================] - 0s 119us/sample - loss: 339.8699 - val_loss: 241.7677\n",
      "Epoch 7/100\n",
      "151/151 [==============================] - 0s 119us/sample - loss: 277.6395 - val_loss: 193.1238\n",
      "Epoch 8/100\n",
      "151/151 [==============================] - 0s 117us/sample - loss: 230.2417 - val_loss: 161.7444\n",
      "Epoch 9/100\n",
      "151/151 [==============================] - 0s 120us/sample - loss: 208.7190 - val_loss: 147.9203\n",
      "Epoch 10/100\n",
      "151/151 [==============================] - 0s 116us/sample - loss: 198.8916 - val_loss: 141.9993\n",
      "Epoch 11/100\n",
      "151/151 [==============================] - 0s 120us/sample - loss: 189.6448 - val_loss: 131.5268\n",
      "Epoch 12/100\n",
      "151/151 [==============================] - 0s 121us/sample - loss: 175.4569 - val_loss: 118.3263\n",
      "Epoch 13/100\n",
      "151/151 [==============================] - 0s 116us/sample - loss: 159.6808 - val_loss: 107.5203\n",
      "Epoch 14/100\n",
      "151/151 [==============================] - 0s 122us/sample - loss: 146.6998 - val_loss: 101.7456\n",
      "Epoch 15/100\n",
      "151/151 [==============================] - 0s 130us/sample - loss: 139.8347 - val_loss: 98.6547\n",
      "Epoch 16/100\n",
      "151/151 [==============================] - 0s 127us/sample - loss: 135.3745 - val_loss: 95.9665\n",
      "Epoch 17/100\n",
      "151/151 [==============================] - 0s 127us/sample - loss: 130.9470 - val_loss: 92.9545\n",
      "Epoch 18/100\n",
      "151/151 [==============================] - 0s 117us/sample - loss: 126.2048 - val_loss: 90.0756\n",
      "Epoch 19/100\n",
      "151/151 [==============================] - 0s 118us/sample - loss: 122.3099 - val_loss: 88.2853\n",
      "Epoch 20/100\n",
      "151/151 [==============================] - 0s 117us/sample - loss: 119.1561 - val_loss: 87.3076\n",
      "Epoch 21/100\n",
      "151/151 [==============================] - 0s 119us/sample - loss: 117.2998 - val_loss: 87.0326\n",
      "Epoch 22/100\n",
      "151/151 [==============================] - 0s 120us/sample - loss: 115.9469 - val_loss: 87.0822\n",
      "Epoch 23/100\n",
      "151/151 [==============================] - 0s 123us/sample - loss: 114.7595 - val_loss: 87.1953\n",
      "Epoch 24/100\n",
      "151/151 [==============================] - 0s 125us/sample - loss: 114.0987 - val_loss: 87.4570\n",
      "Epoch 25/100\n",
      "151/151 [==============================] - 0s 126us/sample - loss: 113.7516 - val_loss: 87.6990\n",
      "Epoch 26/100\n",
      "151/151 [==============================] - 0s 121us/sample - loss: 113.1715 - val_loss: 87.5461\n",
      "Epoch 27/100\n",
      "151/151 [==============================] - 0s 115us/sample - loss: 112.5284 - val_loss: 87.1756\n",
      "Epoch 28/100\n",
      "151/151 [==============================] - 0s 114us/sample - loss: 111.9409 - val_loss: 86.8962\n",
      "Epoch 29/100\n",
      "151/151 [==============================] - 0s 116us/sample - loss: 111.4690 - val_loss: 86.3598\n",
      "Epoch 30/100\n",
      "151/151 [==============================] - 0s 116us/sample - loss: 110.9020 - val_loss: 85.9907\n",
      "Epoch 31/100\n",
      "151/151 [==============================] - 0s 119us/sample - loss: 110.3823 - val_loss: 85.7950\n",
      "Epoch 32/100\n",
      "151/151 [==============================] - 0s 121us/sample - loss: 109.8441 - val_loss: 85.5204\n",
      "Epoch 33/100\n",
      "151/151 [==============================] - 0s 131us/sample - loss: 109.3468 - val_loss: 85.1510\n",
      "Epoch 34/100\n",
      "151/151 [==============================] - 0s 115us/sample - loss: 108.7501 - val_loss: 84.8429\n",
      "Epoch 35/100\n",
      "151/151 [==============================] - 0s 119us/sample - loss: 108.5416 - val_loss: 84.7303\n",
      "Epoch 36/100\n",
      "151/151 [==============================] - 0s 167us/sample - loss: 108.1189 - val_loss: 84.3139\n",
      "Epoch 37/100\n",
      "151/151 [==============================] - 0s 119us/sample - loss: 107.5208 - val_loss: 83.8973\n",
      "Epoch 38/100\n",
      "151/151 [==============================] - 0s 118us/sample - loss: 106.9415 - val_loss: 83.5128\n",
      "Epoch 39/100\n",
      "151/151 [==============================] - 0s 136us/sample - loss: 106.4964 - val_loss: 83.2383\n",
      "Epoch 40/100\n",
      "151/151 [==============================] - 0s 118us/sample - loss: 106.3735 - val_loss: 83.1535\n",
      "Epoch 41/100\n",
      "151/151 [==============================] - 0s 120us/sample - loss: 105.9166 - val_loss: 82.7053\n",
      "Epoch 42/100\n",
      "151/151 [==============================] - 0s 117us/sample - loss: 105.3955 - val_loss: 82.4968\n",
      "Epoch 43/100\n",
      "151/151 [==============================] - 0s 115us/sample - loss: 105.0193 - val_loss: 82.5067\n",
      "Epoch 44/100\n",
      "151/151 [==============================] - 0s 121us/sample - loss: 104.4670 - val_loss: 82.3295\n",
      "Epoch 45/100\n",
      "151/151 [==============================] - 0s 119us/sample - loss: 104.2774 - val_loss: 82.3630\n",
      "Epoch 46/100\n",
      "151/151 [==============================] - 0s 116us/sample - loss: 103.8331 - val_loss: 82.1282\n",
      "Epoch 47/100\n",
      "151/151 [==============================] - 0s 117us/sample - loss: 103.3042 - val_loss: 82.2457\n",
      "Epoch 48/100\n",
      "151/151 [==============================] - 0s 117us/sample - loss: 103.2496 - val_loss: 82.3858\n",
      "Epoch 49/100\n",
      "151/151 [==============================] - 0s 129us/sample - loss: 103.2001 - val_loss: 82.1333\n",
      "Epoch 50/100\n",
      "151/151 [==============================] - 0s 124us/sample - loss: 102.5438 - val_loss: 81.6716\n",
      "Epoch 51/100\n",
      "151/151 [==============================] - 0s 116us/sample - loss: 102.2328 - val_loss: 81.7660\n",
      "Epoch 52/100\n",
      "151/151 [==============================] - 0s 121us/sample - loss: 102.1183 - val_loss: 82.1151\n",
      "Epoch 53/100\n",
      "151/151 [==============================] - 0s 117us/sample - loss: 101.6184 - val_loss: 81.5514\n",
      "Epoch 54/100\n",
      "151/151 [==============================] - 0s 133us/sample - loss: 101.2363 - val_loss: 81.4442\n",
      "Epoch 55/100\n",
      "151/151 [==============================] - 0s 129us/sample - loss: 100.9197 - val_loss: 81.5367\n",
      "Epoch 56/100\n",
      "151/151 [==============================] - 0s 128us/sample - loss: 100.8137 - val_loss: 81.3278\n",
      "Epoch 57/100\n",
      "151/151 [==============================] - 0s 115us/sample - loss: 100.1137 - val_loss: 80.8150\n",
      "Epoch 58/100\n",
      "151/151 [==============================] - 0s 125us/sample - loss: 99.4921 - val_loss: 80.5939\n",
      "Epoch 59/100\n",
      "151/151 [==============================] - 0s 119us/sample - loss: 99.4004 - val_loss: 80.4666\n",
      "Epoch 60/100\n",
      "151/151 [==============================] - 0s 122us/sample - loss: 98.9149 - val_loss: 80.2017\n",
      "Epoch 61/100\n",
      "151/151 [==============================] - 0s 115us/sample - loss: 98.3034 - val_loss: 80.0752\n",
      "Epoch 62/100\n",
      "151/151 [==============================] - 0s 121us/sample - loss: 98.4801 - val_loss: 80.2001\n",
      "Epoch 63/100\n",
      "151/151 [==============================] - 0s 118us/sample - loss: 98.6310 - val_loss: 80.2455\n",
      "Epoch 64/100\n",
      "151/151 [==============================] - 0s 117us/sample - loss: 98.3380 - val_loss: 80.0386\n",
      "Epoch 65/100\n",
      "151/151 [==============================] - 0s 115us/sample - loss: 97.6077 - val_loss: 79.7777\n",
      "Epoch 66/100\n",
      "151/151 [==============================] - 0s 120us/sample - loss: 97.2180 - val_loss: 79.8530\n",
      "Epoch 67/100\n",
      "151/151 [==============================] - 0s 115us/sample - loss: 96.8442 - val_loss: 79.5005\n",
      "Epoch 68/100\n",
      "151/151 [==============================] - 0s 115us/sample - loss: 96.4995 - val_loss: 79.2311\n",
      "Epoch 69/100\n",
      "151/151 [==============================] - 0s 115us/sample - loss: 96.2111 - val_loss: 78.8597\n",
      "Epoch 70/100\n",
      "151/151 [==============================] - 0s 114us/sample - loss: 95.8397 - val_loss: 78.6440\n",
      "Epoch 71/100\n",
      "151/151 [==============================] - 0s 119us/sample - loss: 95.5112 - val_loss: 78.4167\n",
      "Epoch 72/100\n",
      "151/151 [==============================] - 0s 115us/sample - loss: 95.2793 - val_loss: 78.2014\n",
      "Epoch 73/100\n",
      "151/151 [==============================] - 0s 141us/sample - loss: 95.2397 - val_loss: 77.9547\n",
      "Epoch 74/100\n",
      "151/151 [==============================] - 0s 119us/sample - loss: 94.6556 - val_loss: 77.9878\n",
      "Epoch 75/100\n",
      "151/151 [==============================] - 0s 124us/sample - loss: 95.0723 - val_loss: 78.4253\n"
     ]
    },
    {
     "name": "stdout",
     "output_type": "stream",
     "text": [
      "Epoch 76/100\n",
      "151/151 [==============================] - 0s 123us/sample - loss: 94.4832 - val_loss: 78.1423\n",
      "Epoch 77/100\n",
      "151/151 [==============================] - 0s 116us/sample - loss: 94.2713 - val_loss: 77.8615\n",
      "Epoch 78/100\n",
      "151/151 [==============================] - 0s 120us/sample - loss: 93.5664 - val_loss: 77.9150\n",
      "Epoch 79/100\n",
      "151/151 [==============================] - 0s 116us/sample - loss: 93.4175 - val_loss: 77.9342\n",
      "Epoch 80/100\n",
      "151/151 [==============================] - 0s 118us/sample - loss: 93.0532 - val_loss: 77.9003\n",
      "Epoch 81/100\n",
      "151/151 [==============================] - 0s 117us/sample - loss: 92.7980 - val_loss: 78.0072\n",
      "Epoch 82/100\n",
      "151/151 [==============================] - 0s 119us/sample - loss: 92.7351 - val_loss: 78.0131\n",
      "Epoch 83/100\n",
      "151/151 [==============================] - 0s 118us/sample - loss: 92.3294 - val_loss: 77.9295\n",
      "Epoch 84/100\n",
      "151/151 [==============================] - 0s 122us/sample - loss: 92.0389 - val_loss: 77.7832\n",
      "Epoch 85/100\n",
      "151/151 [==============================] - 0s 168us/sample - loss: 91.6005 - val_loss: 77.7405\n",
      "Epoch 86/100\n",
      "151/151 [==============================] - 0s 121us/sample - loss: 91.8887 - val_loss: 77.4975\n",
      "Epoch 87/100\n",
      "151/151 [==============================] - 0s 117us/sample - loss: 91.3945 - val_loss: 76.8560\n",
      "Epoch 88/100\n",
      "151/151 [==============================] - 0s 116us/sample - loss: 90.9428 - val_loss: 76.5648\n",
      "Epoch 89/100\n",
      "151/151 [==============================] - 0s 130us/sample - loss: 90.6885 - val_loss: 76.4246\n",
      "Epoch 90/100\n",
      "151/151 [==============================] - 0s 135us/sample - loss: 90.3496 - val_loss: 76.3541\n",
      "Epoch 91/100\n",
      "151/151 [==============================] - 0s 129us/sample - loss: 90.2437 - val_loss: 76.4232\n",
      "Epoch 92/100\n",
      "151/151 [==============================] - 0s 120us/sample - loss: 89.9296 - val_loss: 75.9887\n",
      "Epoch 93/100\n",
      "151/151 [==============================] - 0s 121us/sample - loss: 89.9190 - val_loss: 75.7645\n",
      "Epoch 94/100\n",
      "151/151 [==============================] - 0s 127us/sample - loss: 89.5442 - val_loss: 75.7205\n",
      "Epoch 95/100\n",
      "151/151 [==============================] - 0s 116us/sample - loss: 89.1855 - val_loss: 75.6101\n",
      "Epoch 96/100\n",
      "151/151 [==============================] - 0s 129us/sample - loss: 88.7305 - val_loss: 76.0283\n",
      "Epoch 97/100\n",
      "151/151 [==============================] - 0s 119us/sample - loss: 89.3130 - val_loss: 76.6545\n",
      "Epoch 98/100\n",
      "151/151 [==============================] - 0s 141us/sample - loss: 89.0078 - val_loss: 75.9117\n",
      "Epoch 99/100\n",
      "151/151 [==============================] - 0s 126us/sample - loss: 88.3882 - val_loss: 75.3839\n",
      "Epoch 100/100\n",
      "151/151 [==============================] - 0s 125us/sample - loss: 87.8522 - val_loss: 75.2924\n"
     ]
    }
   ],
   "source": [
    "# 層、ノードを増やす\n",
    "# 活性化関数を変える\n",
    "# バッチサイズ、エポック数\n",
    "# 最適化関数(Adam)\n",
    "# 学習係数\n",
    "\n",
    "model.add(layers.Dense(9, activation='linear', input_shape=(13,)))\n",
    "model.add(layers.Dense(5, activation='linear', input_shape=(13,)))\n",
    "model.add(layers.Dense(1))\n",
    "\n",
    "optimizer = keras.optimizers.Adam(learning_rate=0.001, beta_1=0.9, beta_2=0.999, epsilon=1e-08)\n",
    "\n",
    "model.compile(loss='mean_squared_error', optimizer=optimizer)\n",
    "\n",
    "history = model.fit(x_train, t_train,\n",
    "                   batch_size=64,\n",
    "                   epochs=100,\n",
    "                   verbose=1,\n",
    "                   validation_data=(x_val, t_val))"
   ]
  },
  {
   "cell_type": "code",
   "execution_count": 56,
   "metadata": {},
   "outputs": [
    {
     "data": {
      "text/plain": [
       "(80, 100)"
      ]
     },
     "execution_count": 56,
     "metadata": {},
     "output_type": "execute_result"
    },
    {
     "data": {
      "image/png": "[encoded data removed]",
      "text/plain": [
       "<matplotlib.figure.Figure at 0x7f746c11c0f0>"
      ]
     },
     "metadata": {},
     "output_type": "display_data"
    }
   ],
   "source": [
    "results = pd.DataFrame(history.history)\n",
    "graph = results[['loss', 'val_loss']].plot()\n",
    "graph.set_xlim([0,40])\n",
    "graph.set_ylim([80,100])"
   ]
  },
  {
   "cell_type": "code",
   "execution_count": 57,
   "metadata": {},
   "outputs": [
    {
     "data": {
      "text/plain": [
       "8.677117500211894"
      ]
     },
     "execution_count": 57,
     "metadata": {},
     "output_type": "execute_result"
    }
   ],
   "source": [
    "np.sqrt(results.iloc[-1,1])"
   ]
  },
  {
   "cell_type": "code",
   "execution_count": 58,
   "metadata": {},
   "outputs": [
    {
     "data": {
      "text/plain": [
       "array([[ True,  True,  True, ...,  True,  True,  True],\n",
       "       [ True,  True,  True, ...,  True,  True,  True],\n",
       "       [ True,  True,  True, ...,  True,  True,  True],\n",
       "       ...,\n",
       "       [ True,  True,  True, ...,  True,  True,  True],\n",
       "       [ True,  True,  True, ...,  True,  True,  True],\n",
       "       [ True,  True,  True, ...,  True,  True,  True]])"
      ]
     },
     "execution_count": 58,
     "metadata": {},
     "output_type": "execute_result"
    }
   ],
   "source": [
    "from sklearn.preprocessing import StandardScaler\n",
    "x_train2 = x_train\n",
    "x_train2 == x_train"
   ]
  },
  {
   "cell_type": "code",
   "execution_count": 59,
   "metadata": {
    "collapsed": true
   },
   "outputs": [],
   "source": [
    "scaler = StandardScaler()"
   ]
  },
  {
   "cell_type": "code",
   "execution_count": 60,
   "metadata": {},
   "outputs": [
    {
     "data": {
      "text/plain": [
       "StandardScaler(copy=True, with_mean=True, with_std=True)"
      ]
     },
     "execution_count": 60,
     "metadata": {},
     "output_type": "execute_result"
    }
   ],
   "source": [
    "scaler.fit(x_train2)"
   ]
  },
  {
   "cell_type": "code",
   "execution_count": 61,
   "metadata": {
    "collapsed": true
   },
   "outputs": [],
   "source": [
    "x_train3 = scaler.transform(x_train2)\n",
    "x_val3 = scaler.transform(x_val)"
   ]
  },
  {
   "cell_type": "code",
   "execution_count": 62,
   "metadata": {},
   "outputs": [
    {
     "data": {
      "text/plain": [
       "array([[ 2.589, -0.502,  0.96 , ...,  0.792,  0.393,  0.094],\n",
       "       [-0.511, -0.502, -0.892, ...,  0.017,  0.382,  0.016],\n",
       "       [-0.395,  0.333, -0.962, ..., -2.493,  0.232,  0.276],\n",
       "       ...,\n",
       "       [-0.495, -0.502, -0.141, ..., -0.303,  0.363, -0.328],\n",
       "       [-0.483, -0.502, -0.563, ..., -0.257,  0.341,  0.815],\n",
       "       [-0.497, -0.502, -0.952, ..., -0.851,  0.393,  0.262]])"
      ]
     },
     "execution_count": 62,
     "metadata": {},
     "output_type": "execute_result"
    }
   ],
   "source": [
    "x_train3"
   ]
  },
  {
   "cell_type": "code",
   "execution_count": 63,
   "metadata": {},
   "outputs": [
    {
     "data": {
      "text/plain": [
       "numpy.ndarray"
      ]
     },
     "execution_count": 63,
     "metadata": {},
     "output_type": "execute_result"
    }
   ],
   "source": [
    "type(x_train3)"
   ]
  },
  {
   "cell_type": "code",
   "execution_count": 64,
   "metadata": {},
   "outputs": [
    {
     "data": {
      "text/plain": [
       "numpy.ndarray"
      ]
     },
     "execution_count": 64,
     "metadata": {},
     "output_type": "execute_result"
    }
   ],
   "source": [
    "type(x_val3)"
   ]
  },
  {
   "cell_type": "code",
   "execution_count": 65,
   "metadata": {},
   "outputs": [
    {
     "data": {
      "text/plain": [
       "numpy.ndarray"
      ]
     },
     "execution_count": 65,
     "metadata": {},
     "output_type": "execute_result"
    }
   ],
   "source": [
    "type(t_train)"
   ]
  },
  {
   "cell_type": "code",
   "execution_count": 66,
   "metadata": {},
   "outputs": [
    {
     "data": {
      "text/plain": [
       "numpy.ndarray"
      ]
     },
     "execution_count": 66,
     "metadata": {},
     "output_type": "execute_result"
    }
   ],
   "source": [
    "type(t_val)"
   ]
  },
  {
   "cell_type": "code",
   "execution_count": 67,
   "metadata": {},
   "outputs": [
    {
     "name": "stdout",
     "output_type": "stream",
     "text": [
      "Train on 151 samples, validate on 355 samples\n",
      "Epoch 1/50\n",
      "151/151 [==============================] - 1s 4ms/sample - loss: 632.2049 - val_loss: 579.8489\n",
      "Epoch 2/50\n",
      "151/151 [==============================] - 0s 190us/sample - loss: 629.1480 - val_loss: 577.2909\n",
      "Epoch 3/50\n",
      "151/151 [==============================] - 0s 192us/sample - loss: 626.6002 - val_loss: 575.0510\n",
      "Epoch 4/50\n",
      "151/151 [==============================] - 0s 189us/sample - loss: 624.4480 - val_loss: 573.0929\n",
      "Epoch 5/50\n",
      "151/151 [==============================] - 0s 196us/sample - loss: 622.5681 - val_loss: 571.3842\n",
      "Epoch 6/50\n",
      "151/151 [==============================] - 0s 191us/sample - loss: 620.8985 - val_loss: 569.8697\n",
      "Epoch 7/50\n",
      "151/151 [==============================] - 0s 185us/sample - loss: 619.4064 - val_loss: 568.4484\n",
      "Epoch 8/50\n",
      "151/151 [==============================] - 0s 195us/sample - loss: 617.9436 - val_loss: 567.0135\n",
      "Epoch 9/50\n",
      "151/151 [==============================] - 0s 187us/sample - loss: 616.4754 - val_loss: 565.4519\n",
      "Epoch 10/50\n",
      "151/151 [==============================] - 0s 188us/sample - loss: 614.8306 - val_loss: 563.7110\n",
      "Epoch 11/50\n",
      "151/151 [==============================] - 0s 186us/sample - loss: 612.9483 - val_loss: 561.7351\n",
      "Epoch 12/50\n",
      "151/151 [==============================] - 0s 192us/sample - loss: 610.8117 - val_loss: 559.4354\n",
      "Epoch 13/50\n",
      "151/151 [==============================] - 0s 195us/sample - loss: 608.2639 - val_loss: 556.7322\n",
      "Epoch 14/50\n",
      "151/151 [==============================] - 0s 189us/sample - loss: 605.2628 - val_loss: 553.4984\n",
      "Epoch 15/50\n",
      "151/151 [==============================] - 0s 191us/sample - loss: 601.7094 - val_loss: 549.5977\n",
      "Epoch 16/50\n",
      "151/151 [==============================] - 0s 195us/sample - loss: 597.3557 - val_loss: 544.8720\n",
      "Epoch 17/50\n",
      "151/151 [==============================] - 0s 189us/sample - loss: 592.0977 - val_loss: 539.0420\n",
      "Epoch 18/50\n",
      "151/151 [==============================] - 0s 189us/sample - loss: 585.6106 - val_loss: 531.8692\n",
      "Epoch 19/50\n",
      "151/151 [==============================] - 0s 187us/sample - loss: 577.6553 - val_loss: 523.1053\n",
      "Epoch 20/50\n",
      "151/151 [==============================] - 0s 191us/sample - loss: 567.7649 - val_loss: 512.1916\n",
      "Epoch 21/50\n",
      "151/151 [==============================] - 0s 195us/sample - loss: 555.5653 - val_loss: 498.1226\n",
      "Epoch 22/50\n",
      "151/151 [==============================] - 0s 186us/sample - loss: 539.1932 - val_loss: 479.6816\n",
      "Epoch 23/50\n",
      "151/151 [==============================] - 0s 194us/sample - loss: 517.2206 - val_loss: 455.2596\n",
      "Epoch 24/50\n",
      "151/151 [==============================] - 0s 186us/sample - loss: 487.3480 - val_loss: 424.0530\n",
      "Epoch 25/50\n",
      "151/151 [==============================] - 0s 194us/sample - loss: 449.6194 - val_loss: 387.6623\n",
      "Epoch 26/50\n",
      "151/151 [==============================] - 0s 197us/sample - loss: 408.8745 - val_loss: 349.9351\n",
      "Epoch 27/50\n",
      "151/151 [==============================] - 0s 181us/sample - loss: 363.2246 - val_loss: 316.1265\n",
      "Epoch 28/50\n",
      "151/151 [==============================] - 0s 189us/sample - loss: 325.2237 - val_loss: 285.5791\n",
      "Epoch 29/50\n",
      "151/151 [==============================] - 0s 186us/sample - loss: 288.2276 - val_loss: 252.0167\n",
      "Epoch 30/50\n",
      "151/151 [==============================] - 0s 189us/sample - loss: 250.7089 - val_loss: 216.1674\n",
      "Epoch 31/50\n",
      "151/151 [==============================] - 0s 191us/sample - loss: 211.8938 - val_loss: 179.9230\n",
      "Epoch 32/50\n",
      "151/151 [==============================] - 0s 229us/sample - loss: 173.5796 - val_loss: 145.4113\n",
      "Epoch 33/50\n",
      "151/151 [==============================] - 0s 193us/sample - loss: 137.4289 - val_loss: 110.7405\n",
      "Epoch 34/50\n",
      "151/151 [==============================] - 0s 188us/sample - loss: 100.6702 - val_loss: 81.8377\n",
      "Epoch 35/50\n",
      "151/151 [==============================] - 0s 187us/sample - loss: 73.1696 - val_loss: 58.3554\n",
      "Epoch 36/50\n",
      "151/151 [==============================] - 0s 184us/sample - loss: 50.2828 - val_loss: 43.1568\n",
      "Epoch 37/50\n",
      "151/151 [==============================] - 0s 180us/sample - loss: 37.3704 - val_loss: 35.6135\n",
      "Epoch 38/50\n",
      "151/151 [==============================] - 0s 187us/sample - loss: 31.0924 - val_loss: 34.1424\n",
      "Epoch 39/50\n",
      "151/151 [==============================] - 0s 183us/sample - loss: 30.2326 - val_loss: 35.0469\n",
      "Epoch 40/50\n",
      "151/151 [==============================] - 0s 194us/sample - loss: 31.2207 - val_loss: 35.3197\n",
      "Epoch 41/50\n",
      "151/151 [==============================] - 0s 185us/sample - loss: 30.6447 - val_loss: 34.1662\n",
      "Epoch 42/50\n",
      "151/151 [==============================] - 0s 182us/sample - loss: 29.2455 - val_loss: 32.3901\n",
      "Epoch 43/50\n",
      "151/151 [==============================] - 0s 190us/sample - loss: 27.9792 - val_loss: 31.8697\n",
      "Epoch 44/50\n",
      "151/151 [==============================] - 0s 184us/sample - loss: 27.6644 - val_loss: 31.6045\n",
      "Epoch 45/50\n",
      "151/151 [==============================] - 0s 182us/sample - loss: 27.2137 - val_loss: 31.6495\n",
      "Epoch 46/50\n",
      "151/151 [==============================] - 0s 186us/sample - loss: 26.9354 - val_loss: 31.5840\n",
      "Epoch 47/50\n",
      "151/151 [==============================] - 0s 194us/sample - loss: 26.6710 - val_loss: 31.3395\n",
      "Epoch 48/50\n",
      "151/151 [==============================] - 0s 185us/sample - loss: 26.3938 - val_loss: 31.1747\n",
      "Epoch 49/50\n",
      "151/151 [==============================] - 0s 181us/sample - loss: 26.1965 - val_loss: 30.8388\n",
      "Epoch 50/50\n",
      "151/151 [==============================] - 0s 192us/sample - loss: 25.9789 - val_loss: 30.3088\n"
     ]
    }
   ],
   "source": [
    "model.add(layers.Dense(9, activation='linear', input_shape=(13,)))\n",
    "model.add(layers.Dense(5, activation='linear', input_shape=(13,)))\n",
    "model.add(layers.Dense(1))\n",
    "\n",
    "optimizer = keras.optimizers.Adam(learning_rate=0.001, beta_1=0.9, beta_2=0.999, epsilon=1e-08)\n",
    "\n",
    "model.compile(loss='mean_squared_error', optimizer=optimizer)\n",
    "\n",
    "history = model.fit(x_train3, t_train,\n",
    "                   batch_size=32,\n",
    "                   epochs=50,\n",
    "                   verbose=1,\n",
    "                   validation_data=(x_val3, t_val))"
   ]
  },
  {
   "cell_type": "code",
   "execution_count": 68,
   "metadata": {},
   "outputs": [
    {
     "data": {
      "text/plain": [
       "(80, 100)"
      ]
     },
     "execution_count": 68,
     "metadata": {},
     "output_type": "execute_result"
    },
    {
     "data": {
      "image/png": "[encoded data removed]",
      "text/plain": [
       "<matplotlib.figure.Figure at 0x7f749838d0b8>"
      ]
     },
     "metadata": {},
     "output_type": "display_data"
    }
   ],
   "source": [
    "results = pd.DataFrame(history.history)\n",
    "graph = results[['loss', 'val_loss']].plot()\n",
    "graph.set_xlim([0,40])\n",
    "graph.set_ylim([80,100])"
   ]
  },
  {
   "cell_type": "code",
   "execution_count": 69,
   "metadata": {},
   "outputs": [
    {
     "data": {
      "text/plain": [
       "5.505346740476276"
      ]
     },
     "execution_count": 69,
     "metadata": {},
     "output_type": "execute_result"
    }
   ],
   "source": [
    "np.sqrt(results.iloc[-1,1])"
   ]
  },
  {
   "cell_type": "code",
   "execution_count": 70,
   "metadata": {},
   "outputs": [],
   "source": [
    "# model.add(layers.BatchNormalization())\n",
    "# model.add(layers.Dense(9, activation='linear', input_shape=(13,)))\n",
    "# model.add(layers.Dense(5, activation='linear', input_shape=(13,)))\n",
    "# model.add(layers.Dense(1))\n",
    "\n",
    "# optimizer = keras.optimizers.Adam(learning_rate=0.001, beta_1=0.9, beta_2=0.999, epsilon=1e-08)\n",
    "\n",
    "# model.compile(loss='mean_squared_error', optimizer=optimizer)\n",
    "\n",
    "# history = model.fit(x_train3, t_train,\n",
    "#                    batch_size=10,\n",
    "#                    epochs=50,\n",
    "#                    verbose=1,\n",
    "#                    validation_data=(x_val3, t_val))"
   ]
  },
  {
   "cell_type": "code",
   "execution_count": 71,
   "metadata": {},
   "outputs": [],
   "source": [
    "# results = pd.DataFrame(history.history)\n",
    "# graph = results[['loss', 'val_loss']].plot()\n",
    "# graph.set_xlim([0,40])\n",
    "# graph.set_ylim([80,100])"
   ]
  },
  {
   "cell_type": "code",
   "execution_count": 72,
   "metadata": {},
   "outputs": [],
   "source": [
    "# np.sqrt(results.iloc[-1,1])"
   ]
  },
  {
   "cell_type": "code",
   "execution_count": 73,
   "metadata": {},
   "outputs": [],
   "source": [
    "# x_train3"
   ]
  },
  {
   "cell_type": "code",
   "execution_count": 74,
   "metadata": {},
   "outputs": [],
   "source": [
    "# x_val3"
   ]
  },
  {
   "cell_type": "code",
   "execution_count": 75,
   "metadata": {},
   "outputs": [],
   "source": [
    "# model.add(layers.Dense(9, activation='linear', input_shape=(13,)))\n",
    "# model.add(layers.Dense(5, activation='linear', input_shape=(13,)))\n",
    "# model.add(layers.Dense(1))\n",
    "\n",
    "# optimizer = keras.optimizers.Adam(learning_rate=0.001, beta_1=0.9, beta_2=0.999, epsilon=1e-07)\n",
    "\n",
    "# model.compile(loss='mean_squared_error', optimizer=optimizer)\n",
    "\n",
    "# history = model.fit(x_train3, t_train,\n",
    "#                    batch_size=32,\n",
    "#                    epochs=50,\n",
    "#                    verbose=1,\n",
    "#                    validation_data=(x_val3, t_val))"
   ]
  },
  {
   "cell_type": "code",
   "execution_count": 76,
   "metadata": {},
   "outputs": [],
   "source": [
    "# results = pd.DataFrame(history.history)\n",
    "# graph = results[['loss', 'val_loss']].plot()\n",
    "# graph.set_xlim([0,40])\n",
    "# graph.set_ylim([80,100])"
   ]
  },
  {
   "cell_type": "code",
   "execution_count": 77,
   "metadata": {},
   "outputs": [],
   "source": [
    "# np.sqrt(results.iloc[-1,1])"
   ]
  },
  {
   "cell_type": "code",
   "execution_count": 78,
   "metadata": {},
   "outputs": [],
   "source": [
    "# model.add(layers.Dense(9, activation='linear', input_shape=(13,)))\n",
    "# model.add(layers.Dense(5, activation='linear', input_shape=(13,)))\n",
    "# model.add(layers.Dense(1))\n",
    "\n",
    "# optimizer = keras.optimizers.Adam(learning_rate=0.001, beta_1=0.9, beta_2=0.999, epsilon=1e-08)\n",
    "\n",
    "# model.compile(loss='mean_squared_error', optimizer=optimizer)\n",
    "\n",
    "# history = model.fit(x_train3, t_train,\n",
    "#                    batch_size=32,\n",
    "#                    epochs=50,\n",
    "#                    verbose=1,\n",
    "#                    validation_data=(x_val3, t_val))"
   ]
  },
  {
   "cell_type": "code",
   "execution_count": 79,
   "metadata": {
    "scrolled": true
   },
   "outputs": [],
   "source": [
    "# results = pd.DataFrame(history.history)\n",
    "# graph = results[['loss', 'val_loss']].plot()\n",
    "# graph.set_xlim([0,40])\n",
    "# graph.set_ylim([80,100])"
   ]
  },
  {
   "cell_type": "code",
   "execution_count": 80,
   "metadata": {},
   "outputs": [],
   "source": [
    "# np.sqrt(results.iloc[-1,1])"
   ]
  },
  {
   "cell_type": "code",
   "execution_count": 81,
   "metadata": {},
   "outputs": [
    {
     "data": {
      "text/html": [
       "<div>\n",
       "<style>\n",
       "    .dataframe thead tr:only-child th {\n",
       "        text-align: right;\n",
       "    }\n",
       "\n",
       "    .dataframe thead th {\n",
       "        text-align: left;\n",
       "    }\n",
       "\n",
       "    .dataframe tbody tr th {\n",
       "        vertical-align: top;\n",
       "    }\n",
       "</style>\n",
       "<table border=\"1\" class=\"dataframe\">\n",
       "  <thead>\n",
       "    <tr style=\"text-align: right;\">\n",
       "      <th></th>\n",
       "      <th>x1</th>\n",
       "      <th>x2</th>\n",
       "      <th>x3</th>\n",
       "      <th>x4</th>\n",
       "      <th>x5</th>\n",
       "      <th>x6</th>\n",
       "      <th>x7</th>\n",
       "      <th>x8</th>\n",
       "      <th>x9</th>\n",
       "      <th>x10</th>\n",
       "      <th>x11</th>\n",
       "      <th>x12</th>\n",
       "      <th>x13</th>\n",
       "      <th>y</th>\n",
       "    </tr>\n",
       "  </thead>\n",
       "  <tbody>\n",
       "    <tr>\n",
       "      <th>x1</th>\n",
       "      <td>1.000000</td>\n",
       "      <td>-0.200469</td>\n",
       "      <td>0.406583</td>\n",
       "      <td>-0.055892</td>\n",
       "      <td>0.420972</td>\n",
       "      <td>-0.219247</td>\n",
       "      <td>0.352734</td>\n",
       "      <td>-0.379670</td>\n",
       "      <td>0.625505</td>\n",
       "      <td>0.582764</td>\n",
       "      <td>0.289946</td>\n",
       "      <td>-0.385064</td>\n",
       "      <td>0.455621</td>\n",
       "      <td>-0.388305</td>\n",
       "    </tr>\n",
       "    <tr>\n",
       "      <th>x2</th>\n",
       "      <td>-0.200469</td>\n",
       "      <td>1.000000</td>\n",
       "      <td>-0.533828</td>\n",
       "      <td>-0.042697</td>\n",
       "      <td>-0.516604</td>\n",
       "      <td>0.311991</td>\n",
       "      <td>-0.569537</td>\n",
       "      <td>0.664408</td>\n",
       "      <td>-0.311948</td>\n",
       "      <td>-0.314563</td>\n",
       "      <td>-0.391679</td>\n",
       "      <td>0.175520</td>\n",
       "      <td>-0.412995</td>\n",
       "      <td>0.360445</td>\n",
       "    </tr>\n",
       "    <tr>\n",
       "      <th>x3</th>\n",
       "      <td>0.406583</td>\n",
       "      <td>-0.533828</td>\n",
       "      <td>1.000000</td>\n",
       "      <td>0.062938</td>\n",
       "      <td>0.763651</td>\n",
       "      <td>-0.391676</td>\n",
       "      <td>0.644779</td>\n",
       "      <td>-0.708027</td>\n",
       "      <td>0.595129</td>\n",
       "      <td>0.720760</td>\n",
       "      <td>0.383248</td>\n",
       "      <td>-0.356977</td>\n",
       "      <td>0.603800</td>\n",
       "      <td>-0.483725</td>\n",
       "    </tr>\n",
       "    <tr>\n",
       "      <th>x4</th>\n",
       "      <td>-0.055892</td>\n",
       "      <td>-0.042697</td>\n",
       "      <td>0.062938</td>\n",
       "      <td>1.000000</td>\n",
       "      <td>0.091203</td>\n",
       "      <td>0.091251</td>\n",
       "      <td>0.086518</td>\n",
       "      <td>-0.099176</td>\n",
       "      <td>-0.007368</td>\n",
       "      <td>-0.035587</td>\n",
       "      <td>-0.121515</td>\n",
       "      <td>0.048788</td>\n",
       "      <td>-0.053929</td>\n",
       "      <td>0.175260</td>\n",
       "    </tr>\n",
       "    <tr>\n",
       "      <th>x5</th>\n",
       "      <td>0.420972</td>\n",
       "      <td>-0.516604</td>\n",
       "      <td>0.763651</td>\n",
       "      <td>0.091203</td>\n",
       "      <td>1.000000</td>\n",
       "      <td>-0.302188</td>\n",
       "      <td>0.731470</td>\n",
       "      <td>-0.769230</td>\n",
       "      <td>0.611441</td>\n",
       "      <td>0.668023</td>\n",
       "      <td>0.188933</td>\n",
       "      <td>-0.380051</td>\n",
       "      <td>0.590879</td>\n",
       "      <td>-0.427321</td>\n",
       "    </tr>\n",
       "  </tbody>\n",
       "</table>\n",
       "</div>"
      ],
      "text/plain": [
       "          x1        x2        x3        x4        x5        x6        x7  \\\n",
       "x1  1.000000 -0.200469  0.406583 -0.055892  0.420972 -0.219247  0.352734   \n",
       "x2 -0.200469  1.000000 -0.533828 -0.042697 -0.516604  0.311991 -0.569537   \n",
       "x3  0.406583 -0.533828  1.000000  0.062938  0.763651 -0.391676  0.644779   \n",
       "x4 -0.055892 -0.042697  0.062938  1.000000  0.091203  0.091251  0.086518   \n",
       "x5  0.420972 -0.516604  0.763651  0.091203  1.000000 -0.302188  0.731470   \n",
       "\n",
       "          x8        x9       x10       x11       x12       x13         y  \n",
       "x1 -0.379670  0.625505  0.582764  0.289946 -0.385064  0.455621 -0.388305  \n",
       "x2  0.664408 -0.311948 -0.314563 -0.391679  0.175520 -0.412995  0.360445  \n",
       "x3 -0.708027  0.595129  0.720760  0.383248 -0.356977  0.603800 -0.483725  \n",
       "x4 -0.099176 -0.007368 -0.035587 -0.121515  0.048788 -0.053929  0.175260  \n",
       "x5 -0.769230  0.611441  0.668023  0.188933 -0.380051  0.590879 -0.427321  "
      ]
     },
     "execution_count": 81,
     "metadata": {},
     "output_type": "execute_result"
    }
   ],
   "source": [
    "df_corr = df.corr()\n",
    "df_corr.head()"
   ]
  },
  {
   "cell_type": "code",
   "execution_count": 82,
   "metadata": {},
   "outputs": [],
   "source": [
    "import seaborn as sns"
   ]
  },
  {
   "cell_type": "code",
   "execution_count": 83,
   "metadata": {},
   "outputs": [
    {
     "name": "stderr",
     "output_type": "stream",
     "text": [
      "/usr/local/lib/python3.5/dist-packages/scipy/stats/stats.py:1633: FutureWarning: Using a non-tuple sequence for multidimensional indexing is deprecated; use `arr[tuple(seq)]` instead of `arr[seq]`. In the future this will be interpreted as an array index, `arr[np.array(seq)]`, which will result either in an error or a different result.\n",
      "  return np.add.reduce(sorted[indexer] * weights, axis=axis) / sumval\n"
     ]
    },
    {
     "data": {
      "text/plain": [
       "<matplotlib.axes._subplots.AxesSubplot at 0x7f746c0f7358>"
      ]
     },
     "execution_count": 83,
     "metadata": {},
     "output_type": "execute_result"
    },
    {
     "data": {
      "image/png": "[encoded data removed]",
      "text/plain": [
       "<matplotlib.figure.Figure at 0x7f749857a7f0>"
      ]
     },
     "metadata": {},
     "output_type": "display_data"
    }
   ],
   "source": [
    "sns.distplot(df['x6'])"
   ]
  },
  {
   "cell_type": "code",
   "execution_count": 84,
   "metadata": {},
   "outputs": [
    {
     "data": {
      "text/plain": [
       "<matplotlib.axes._subplots.AxesSubplot at 0x7f74904cbeb8>"
      ]
     },
     "execution_count": 84,
     "metadata": {},
     "output_type": "execute_result"
    },
    {
     "data": {
      "image/png": "[encoded data removed]",
      "text/plain": [
       "<matplotlib.figure.Figure at 0x7f749857af98>"
      ]
     },
     "metadata": {},
     "output_type": "display_data"
    }
   ],
   "source": [
    "plt.figure(figsize=(22,8))\n",
    "sns.heatmap(df_corr, annot=True)"
   ]
  },
  {
   "cell_type": "code",
   "execution_count": 85,
   "metadata": {},
   "outputs": [
    {
     "name": "stderr",
     "output_type": "stream",
     "text": [
      "/usr/local/lib/python3.5/dist-packages/scipy/stats/stats.py:1633: FutureWarning: Using a non-tuple sequence for multidimensional indexing is deprecated; use `arr[tuple(seq)]` instead of `arr[seq]`. In the future this will be interpreted as an array index, `arr[np.array(seq)]`, which will result either in an error or a different result.\n",
      "  return np.add.reduce(sorted[indexer] * weights, axis=axis) / sumval\n"
     ]
    },
    {
     "data": {
      "text/plain": [
       "<seaborn.axisgrid.JointGrid at 0x7f74905c7358>"
      ]
     },
     "execution_count": 85,
     "metadata": {},
     "output_type": "execute_result"
    },
    {
     "data": {
      "image/png": "[encoded data removed]",
      "text/plain": [
       "<matplotlib.figure.Figure at 0x7f74905c7400>"
      ]
     },
     "metadata": {},
     "output_type": "display_data"
    }
   ],
   "source": [
    "sns.jointplot('x5', 'x8', df)"
   ]
  },
  {
   "cell_type": "code",
   "execution_count": 86,
   "metadata": {},
   "outputs": [
    {
     "data": {
      "text/html": [
       "<div>\n",
       "<style>\n",
       "    .dataframe thead tr:only-child th {\n",
       "        text-align: right;\n",
       "    }\n",
       "\n",
       "    .dataframe thead th {\n",
       "        text-align: left;\n",
       "    }\n",
       "\n",
       "    .dataframe tbody tr th {\n",
       "        vertical-align: top;\n",
       "    }\n",
       "</style>\n",
       "<table border=\"1\" class=\"dataframe\">\n",
       "  <thead>\n",
       "    <tr style=\"text-align: right;\">\n",
       "      <th></th>\n",
       "      <th>x1</th>\n",
       "      <th>x2</th>\n",
       "      <th>x3</th>\n",
       "      <th>x5</th>\n",
       "      <th>x6</th>\n",
       "      <th>x7</th>\n",
       "      <th>x8</th>\n",
       "      <th>x9</th>\n",
       "      <th>x10</th>\n",
       "      <th>x11</th>\n",
       "      <th>x12</th>\n",
       "      <th>x13</th>\n",
       "      <th>y</th>\n",
       "    </tr>\n",
       "  </thead>\n",
       "  <tbody>\n",
       "    <tr>\n",
       "      <th>0</th>\n",
       "      <td>0.00632</td>\n",
       "      <td>18.0</td>\n",
       "      <td>2.31</td>\n",
       "      <td>0.538</td>\n",
       "      <td>6.575</td>\n",
       "      <td>65.2</td>\n",
       "      <td>4.0900</td>\n",
       "      <td>1</td>\n",
       "      <td>296</td>\n",
       "      <td>15.3</td>\n",
       "      <td>396.90</td>\n",
       "      <td>4.98</td>\n",
       "      <td>24.0</td>\n",
       "    </tr>\n",
       "    <tr>\n",
       "      <th>1</th>\n",
       "      <td>0.02731</td>\n",
       "      <td>0.0</td>\n",
       "      <td>7.07</td>\n",
       "      <td>0.469</td>\n",
       "      <td>6.421</td>\n",
       "      <td>78.9</td>\n",
       "      <td>4.9671</td>\n",
       "      <td>2</td>\n",
       "      <td>242</td>\n",
       "      <td>17.8</td>\n",
       "      <td>396.90</td>\n",
       "      <td>9.14</td>\n",
       "      <td>21.6</td>\n",
       "    </tr>\n",
       "    <tr>\n",
       "      <th>2</th>\n",
       "      <td>0.02729</td>\n",
       "      <td>0.0</td>\n",
       "      <td>7.07</td>\n",
       "      <td>0.469</td>\n",
       "      <td>7.185</td>\n",
       "      <td>61.1</td>\n",
       "      <td>4.9671</td>\n",
       "      <td>2</td>\n",
       "      <td>242</td>\n",
       "      <td>17.8</td>\n",
       "      <td>392.83</td>\n",
       "      <td>4.03</td>\n",
       "      <td>34.7</td>\n",
       "    </tr>\n",
       "    <tr>\n",
       "      <th>3</th>\n",
       "      <td>0.03237</td>\n",
       "      <td>0.0</td>\n",
       "      <td>2.18</td>\n",
       "      <td>0.458</td>\n",
       "      <td>6.998</td>\n",
       "      <td>45.8</td>\n",
       "      <td>6.0622</td>\n",
       "      <td>3</td>\n",
       "      <td>222</td>\n",
       "      <td>18.7</td>\n",
       "      <td>394.63</td>\n",
       "      <td>2.94</td>\n",
       "      <td>33.4</td>\n",
       "    </tr>\n",
       "    <tr>\n",
       "      <th>4</th>\n",
       "      <td>0.06905</td>\n",
       "      <td>0.0</td>\n",
       "      <td>2.18</td>\n",
       "      <td>0.458</td>\n",
       "      <td>7.147</td>\n",
       "      <td>54.2</td>\n",
       "      <td>6.0622</td>\n",
       "      <td>3</td>\n",
       "      <td>222</td>\n",
       "      <td>18.7</td>\n",
       "      <td>396.90</td>\n",
       "      <td>5.33</td>\n",
       "      <td>36.2</td>\n",
       "    </tr>\n",
       "  </tbody>\n",
       "</table>\n",
       "</div>"
      ],
      "text/plain": [
       "        x1    x2    x3     x5     x6    x7      x8  x9  x10   x11     x12  \\\n",
       "0  0.00632  18.0  2.31  0.538  6.575  65.2  4.0900   1  296  15.3  396.90   \n",
       "1  0.02731   0.0  7.07  0.469  6.421  78.9  4.9671   2  242  17.8  396.90   \n",
       "2  0.02729   0.0  7.07  0.469  7.185  61.1  4.9671   2  242  17.8  392.83   \n",
       "3  0.03237   0.0  2.18  0.458  6.998  45.8  6.0622   3  222  18.7  394.63   \n",
       "4  0.06905   0.0  2.18  0.458  7.147  54.2  6.0622   3  222  18.7  396.90   \n",
       "\n",
       "    x13     y  \n",
       "0  4.98  24.0  \n",
       "1  9.14  21.6  \n",
       "2  4.03  34.7  \n",
       "3  2.94  33.4  \n",
       "4  5.33  36.2  "
      ]
     },
     "execution_count": 86,
     "metadata": {},
     "output_type": "execute_result"
    }
   ],
   "source": [
    "df1 = df.drop('x4', axis=1)\n",
    "df1.head()"
   ]
  },
  {
   "cell_type": "code",
   "execution_count": 87,
   "metadata": {},
   "outputs": [
    {
     "data": {
      "text/html": [
       "<div>\n",
       "<style>\n",
       "    .dataframe thead tr:only-child th {\n",
       "        text-align: right;\n",
       "    }\n",
       "\n",
       "    .dataframe thead th {\n",
       "        text-align: left;\n",
       "    }\n",
       "\n",
       "    .dataframe tbody tr th {\n",
       "        vertical-align: top;\n",
       "    }\n",
       "</style>\n",
       "<table border=\"1\" class=\"dataframe\">\n",
       "  <thead>\n",
       "    <tr style=\"text-align: right;\">\n",
       "      <th></th>\n",
       "      <th>x1</th>\n",
       "      <th>x2</th>\n",
       "      <th>x3</th>\n",
       "      <th>x4</th>\n",
       "      <th>x5</th>\n",
       "      <th>x6</th>\n",
       "      <th>x7</th>\n",
       "      <th>x8</th>\n",
       "      <th>x9</th>\n",
       "      <th>x10</th>\n",
       "      <th>x11</th>\n",
       "      <th>x12</th>\n",
       "      <th>x13</th>\n",
       "      <th>y</th>\n",
       "    </tr>\n",
       "  </thead>\n",
       "  <tbody>\n",
       "    <tr>\n",
       "      <th>0</th>\n",
       "      <td>0.00632</td>\n",
       "      <td>18.0</td>\n",
       "      <td>2.31</td>\n",
       "      <td>0</td>\n",
       "      <td>0.538</td>\n",
       "      <td>6.575</td>\n",
       "      <td>65.2</td>\n",
       "      <td>4.0900</td>\n",
       "      <td>1</td>\n",
       "      <td>296</td>\n",
       "      <td>15.3</td>\n",
       "      <td>396.90</td>\n",
       "      <td>4.98</td>\n",
       "      <td>24.0</td>\n",
       "    </tr>\n",
       "    <tr>\n",
       "      <th>1</th>\n",
       "      <td>0.02731</td>\n",
       "      <td>0.0</td>\n",
       "      <td>7.07</td>\n",
       "      <td>0</td>\n",
       "      <td>0.469</td>\n",
       "      <td>6.421</td>\n",
       "      <td>78.9</td>\n",
       "      <td>4.9671</td>\n",
       "      <td>2</td>\n",
       "      <td>242</td>\n",
       "      <td>17.8</td>\n",
       "      <td>396.90</td>\n",
       "      <td>9.14</td>\n",
       "      <td>21.6</td>\n",
       "    </tr>\n",
       "    <tr>\n",
       "      <th>2</th>\n",
       "      <td>0.02729</td>\n",
       "      <td>0.0</td>\n",
       "      <td>7.07</td>\n",
       "      <td>0</td>\n",
       "      <td>0.469</td>\n",
       "      <td>7.185</td>\n",
       "      <td>61.1</td>\n",
       "      <td>4.9671</td>\n",
       "      <td>2</td>\n",
       "      <td>242</td>\n",
       "      <td>17.8</td>\n",
       "      <td>392.83</td>\n",
       "      <td>4.03</td>\n",
       "      <td>34.7</td>\n",
       "    </tr>\n",
       "    <tr>\n",
       "      <th>3</th>\n",
       "      <td>0.03237</td>\n",
       "      <td>0.0</td>\n",
       "      <td>2.18</td>\n",
       "      <td>0</td>\n",
       "      <td>0.458</td>\n",
       "      <td>6.998</td>\n",
       "      <td>45.8</td>\n",
       "      <td>6.0622</td>\n",
       "      <td>3</td>\n",
       "      <td>222</td>\n",
       "      <td>18.7</td>\n",
       "      <td>394.63</td>\n",
       "      <td>2.94</td>\n",
       "      <td>33.4</td>\n",
       "    </tr>\n",
       "    <tr>\n",
       "      <th>4</th>\n",
       "      <td>0.06905</td>\n",
       "      <td>0.0</td>\n",
       "      <td>2.18</td>\n",
       "      <td>0</td>\n",
       "      <td>0.458</td>\n",
       "      <td>7.147</td>\n",
       "      <td>54.2</td>\n",
       "      <td>6.0622</td>\n",
       "      <td>3</td>\n",
       "      <td>222</td>\n",
       "      <td>18.7</td>\n",
       "      <td>396.90</td>\n",
       "      <td>5.33</td>\n",
       "      <td>36.2</td>\n",
       "    </tr>\n",
       "  </tbody>\n",
       "</table>\n",
       "</div>"
      ],
      "text/plain": [
       "        x1    x2    x3  x4     x5     x6    x7      x8  x9  x10   x11     x12  \\\n",
       "0  0.00632  18.0  2.31   0  0.538  6.575  65.2  4.0900   1  296  15.3  396.90   \n",
       "1  0.02731   0.0  7.07   0  0.469  6.421  78.9  4.9671   2  242  17.8  396.90   \n",
       "2  0.02729   0.0  7.07   0  0.469  7.185  61.1  4.9671   2  242  17.8  392.83   \n",
       "3  0.03237   0.0  2.18   0  0.458  6.998  45.8  6.0622   3  222  18.7  394.63   \n",
       "4  0.06905   0.0  2.18   0  0.458  7.147  54.2  6.0622   3  222  18.7  396.90   \n",
       "\n",
       "    x13     y  \n",
       "0  4.98  24.0  \n",
       "1  9.14  21.6  \n",
       "2  4.03  34.7  \n",
       "3  2.94  33.4  \n",
       "4  5.33  36.2  "
      ]
     },
     "execution_count": 87,
     "metadata": {},
     "output_type": "execute_result"
    }
   ],
   "source": [
    "df.head()"
   ]
  },
  {
   "cell_type": "code",
   "execution_count": 88,
   "metadata": {
    "collapsed": true
   },
   "outputs": [],
   "source": [
    "x2 = df.iloc[:, :-1].values.astype('f')\n",
    "t2 = df.iloc[:, -1].values.astype('f')"
   ]
  },
  {
   "cell_type": "code",
   "execution_count": 89,
   "metadata": {},
   "outputs": [
    {
     "name": "stderr",
     "output_type": "stream",
     "text": [
      "/usr/local/lib/python3.5/dist-packages/scipy/stats/stats.py:1633: FutureWarning: Using a non-tuple sequence for multidimensional indexing is deprecated; use `arr[tuple(seq)]` instead of `arr[seq]`. In the future this will be interpreted as an array index, `arr[np.array(seq)]`, which will result either in an error or a different result.\n",
      "  return np.add.reduce(sorted[indexer] * weights, axis=axis) / sumval\n"
     ]
    },
    {
     "data": {
      "text/plain": [
       "<matplotlib.axes._subplots.AxesSubplot at 0x7f740759ee10>"
      ]
     },
     "execution_count": 89,
     "metadata": {},
     "output_type": "execute_result"
    },
    {
     "data": {
      "image/png": "[encoded data removed]",
      "text/plain": [
       "<matplotlib.figure.Figure at 0x7f749025d2b0>"
      ]
     },
     "metadata": {},
     "output_type": "display_data"
    }
   ],
   "source": [
    "sns.distplot(t)"
   ]
  },
  {
   "cell_type": "code",
   "execution_count": 90,
   "metadata": {
    "collapsed": true
   },
   "outputs": [],
   "source": [
    "gt47 = df.index[df['y']>47]\n",
    "df_fixed = df.drop(gt47)"
   ]
  },
  {
   "cell_type": "code",
   "execution_count": 114,
   "metadata": {},
   "outputs": [
    {
     "data": {
      "text/plain": [
       "<bound method NDFrame.head of            x1    x2     x3  x4     x5     x6     x7      x8  x9  x10   x11  \\\n",
       "0     0.00632  18.0   2.31   0  0.538  6.575   65.2  4.0900   1  296  15.3   \n",
       "1     0.02731   0.0   7.07   0  0.469  6.421   78.9  4.9671   2  242  17.8   \n",
       "2     0.02729   0.0   7.07   0  0.469  7.185   61.1  4.9671   2  242  17.8   \n",
       "3     0.03237   0.0   2.18   0  0.458  6.998   45.8  6.0622   3  222  18.7   \n",
       "4     0.06905   0.0   2.18   0  0.458  7.147   54.2  6.0622   3  222  18.7   \n",
       "5     0.02985   0.0   2.18   0  0.458  6.430   58.7  6.0622   3  222  18.7   \n",
       "6     0.08829  12.5   7.87   0  0.524  6.012   66.6  5.5605   5  311  15.2   \n",
       "7     0.14455  12.5   7.87   0  0.524  6.172   96.1  5.9505   5  311  15.2   \n",
       "8     0.21124  12.5   7.87   0  0.524  5.631  100.0  6.0821   5  311  15.2   \n",
       "9     0.17004  12.5   7.87   0  0.524  6.004   85.9  6.5921   5  311  15.2   \n",
       "10    0.22489  12.5   7.87   0  0.524  6.377   94.3  6.3467   5  311  15.2   \n",
       "11    0.11747  12.5   7.87   0  0.524  6.009   82.9  6.2267   5  311  15.2   \n",
       "12    0.09378  12.5   7.87   0  0.524  5.889   39.0  5.4509   5  311  15.2   \n",
       "13    0.62976   0.0   8.14   0  0.538  5.949   61.8  4.7075   4  307  21.0   \n",
       "14    0.63796   0.0   8.14   0  0.538  6.096   84.5  4.4619   4  307  21.0   \n",
       "15    0.62739   0.0   8.14   0  0.538  5.834   56.5  4.4986   4  307  21.0   \n",
       "16    1.05393   0.0   8.14   0  0.538  5.935   29.3  4.4986   4  307  21.0   \n",
       "17    0.78420   0.0   8.14   0  0.538  5.990   81.7  4.2579   4  307  21.0   \n",
       "18    0.80271   0.0   8.14   0  0.538  5.456   36.6  3.7965   4  307  21.0   \n",
       "19    0.72580   0.0   8.14   0  0.538  5.727   69.5  3.7965   4  307  21.0   \n",
       "20    1.25179   0.0   8.14   0  0.538  5.570   98.1  3.7979   4  307  21.0   \n",
       "21    0.85204   0.0   8.14   0  0.538  5.965   89.2  4.0123   4  307  21.0   \n",
       "22    1.23247   0.0   8.14   0  0.538  6.142   91.7  3.9769   4  307  21.0   \n",
       "23    0.98843   0.0   8.14   0  0.538  5.813  100.0  4.0952   4  307  21.0   \n",
       "24    0.75026   0.0   8.14   0  0.538  5.924   94.1  4.3996   4  307  21.0   \n",
       "25    0.84054   0.0   8.14   0  0.538  5.599   85.7  4.4546   4  307  21.0   \n",
       "26    0.67191   0.0   8.14   0  0.538  5.813   90.3  4.6820   4  307  21.0   \n",
       "27    0.95577   0.0   8.14   0  0.538  6.047   88.8  4.4534   4  307  21.0   \n",
       "28    0.77299   0.0   8.14   0  0.538  6.495   94.4  4.4547   4  307  21.0   \n",
       "29    1.00245   0.0   8.14   0  0.538  6.674   87.3  4.2390   4  307  21.0   \n",
       "..        ...   ...    ...  ..    ...    ...    ...     ...  ..  ...   ...   \n",
       "476   4.87141   0.0  18.10   0  0.614  6.484   93.6  2.3053  24  666  20.2   \n",
       "477  15.02340   0.0  18.10   0  0.614  5.304   97.3  2.1007  24  666  20.2   \n",
       "478  10.23300   0.0  18.10   0  0.614  6.185   96.7  2.1705  24  666  20.2   \n",
       "479  14.33370   0.0  18.10   0  0.614  6.229   88.0  1.9512  24  666  20.2   \n",
       "480   5.82401   0.0  18.10   0  0.532  6.242   64.7  3.4242  24  666  20.2   \n",
       "481   5.70818   0.0  18.10   0  0.532  6.750   74.9  3.3317  24  666  20.2   \n",
       "482   5.73116   0.0  18.10   0  0.532  7.061   77.0  3.4106  24  666  20.2   \n",
       "483   2.81838   0.0  18.10   0  0.532  5.762   40.3  4.0983  24  666  20.2   \n",
       "484   2.37857   0.0  18.10   0  0.583  5.871   41.9  3.7240  24  666  20.2   \n",
       "485   3.67367   0.0  18.10   0  0.583  6.312   51.9  3.9917  24  666  20.2   \n",
       "486   5.69175   0.0  18.10   0  0.583  6.114   79.8  3.5459  24  666  20.2   \n",
       "487   4.83567   0.0  18.10   0  0.583  5.905   53.2  3.1523  24  666  20.2   \n",
       "488   0.15086   0.0  27.74   0  0.609  5.454   92.7  1.8209   4  711  20.1   \n",
       "489   0.18337   0.0  27.74   0  0.609  5.414   98.3  1.7554   4  711  20.1   \n",
       "490   0.20746   0.0  27.74   0  0.609  5.093   98.0  1.8226   4  711  20.1   \n",
       "491   0.10574   0.0  27.74   0  0.609  5.983   98.8  1.8681   4  711  20.1   \n",
       "492   0.11132   0.0  27.74   0  0.609  5.983   83.5  2.1099   4  711  20.1   \n",
       "493   0.17331   0.0   9.69   0  0.585  5.707   54.0  2.3817   6  391  19.2   \n",
       "494   0.27957   0.0   9.69   0  0.585  5.926   42.6  2.3817   6  391  19.2   \n",
       "495   0.17899   0.0   9.69   0  0.585  5.670   28.8  2.7986   6  391  19.2   \n",
       "496   0.28960   0.0   9.69   0  0.585  5.390   72.9  2.7986   6  391  19.2   \n",
       "497   0.26838   0.0   9.69   0  0.585  5.794   70.6  2.8927   6  391  19.2   \n",
       "498   0.23912   0.0   9.69   0  0.585  6.019   65.3  2.4091   6  391  19.2   \n",
       "499   0.17783   0.0   9.69   0  0.585  5.569   73.5  2.3999   6  391  19.2   \n",
       "500   0.22438   0.0   9.69   0  0.585  6.027   79.7  2.4982   6  391  19.2   \n",
       "501   0.06263   0.0  11.93   0  0.573  6.593   69.1  2.4786   1  273  21.0   \n",
       "502   0.04527   0.0  11.93   0  0.573  6.120   76.7  2.2875   1  273  21.0   \n",
       "503   0.06076   0.0  11.93   0  0.573  6.976   91.0  2.1675   1  273  21.0   \n",
       "504   0.10959   0.0  11.93   0  0.573  6.794   89.3  2.3889   1  273  21.0   \n",
       "505   0.04741   0.0  11.93   0  0.573  6.030   80.8  2.5050   1  273  21.0   \n",
       "\n",
       "        x12    x13     y  \n",
       "0    396.90   4.98  24.0  \n",
       "1    396.90   9.14  21.6  \n",
       "2    392.83   4.03  34.7  \n",
       "3    394.63   2.94  33.4  \n",
       "4    396.90   5.33  36.2  \n",
       "5    394.12   5.21  28.7  \n",
       "6    395.60  12.43  22.9  \n",
       "7    396.90  19.15  27.1  \n",
       "8    386.63  29.93  16.5  \n",
       "9    386.71  17.10  18.9  \n",
       "10   392.52  20.45  15.0  \n",
       "11   396.90  13.27  18.9  \n",
       "12   390.50  15.71  21.7  \n",
       "13   396.90   8.26  20.4  \n",
       "14   380.02  10.26  18.2  \n",
       "15   395.62   8.47  19.9  \n",
       "16   386.85   6.58  23.1  \n",
       "17   386.75  14.67  17.5  \n",
       "18   288.99  11.69  20.2  \n",
       "19   390.95  11.28  18.2  \n",
       "20   376.57  21.02  13.6  \n",
       "21   392.53  13.83  19.6  \n",
       "22   396.90  18.72  15.2  \n",
       "23   394.54  19.88  14.5  \n",
       "24   394.33  16.30  15.6  \n",
       "25   303.42  16.51  13.9  \n",
       "26   376.88  14.81  16.6  \n",
       "27   306.38  17.28  14.8  \n",
       "28   387.94  12.80  18.4  \n",
       "29   380.23  11.98  21.0  \n",
       "..      ...    ...   ...  \n",
       "476  396.21  18.68  16.7  \n",
       "477  349.48  24.91  12.0  \n",
       "478  379.70  18.03  14.6  \n",
       "479  383.32  13.11  21.4  \n",
       "480  396.90  10.74  23.0  \n",
       "481  393.07   7.74  23.7  \n",
       "482  395.28   7.01  25.0  \n",
       "483  392.92  10.42  21.8  \n",
       "484  370.73  13.34  20.6  \n",
       "485  388.62  10.58  21.2  \n",
       "486  392.68  14.98  19.1  \n",
       "487  388.22  11.45  20.6  \n",
       "488  395.09  18.06  15.2  \n",
       "489  344.05  23.97   7.0  \n",
       "490  318.43  29.68   8.1  \n",
       "491  390.11  18.07  13.6  \n",
       "492  396.90  13.35  20.1  \n",
       "493  396.90  12.01  21.8  \n",
       "494  396.90  13.59  24.5  \n",
       "495  393.29  17.60  23.1  \n",
       "496  396.90  21.14  19.7  \n",
       "497  396.90  14.10  18.3  \n",
       "498  396.90  12.92  21.2  \n",
       "499  395.77  15.10  17.5  \n",
       "500  396.90  14.33  16.8  \n",
       "501  391.99   9.67  22.4  \n",
       "502  396.90   9.08  20.6  \n",
       "503  396.90   5.64  23.9  \n",
       "504  393.45   6.48  22.0  \n",
       "505  396.90   7.88  11.9  \n",
       "\n",
       "[487 rows x 14 columns]>"
      ]
     },
     "execution_count": 114,
     "metadata": {},
     "output_type": "execute_result"
    }
   ],
   "source": [
    "df_fixed.head"
   ]
  },
  {
   "cell_type": "code",
   "execution_count": 92,
   "metadata": {
    "collapsed": true
   },
   "outputs": [],
   "source": [
    "_x = df_fixed.iloc[:, :-1].values.astype('f')\n",
    "_t = df_fixed.iloc[:, -1].values.astype('f')"
   ]
  },
  {
   "cell_type": "code",
   "execution_count": 93,
   "metadata": {},
   "outputs": [
    {
     "name": "stderr",
     "output_type": "stream",
     "text": [
      "/usr/local/lib/python3.5/dist-packages/scipy/stats/stats.py:1633: FutureWarning: Using a non-tuple sequence for multidimensional indexing is deprecated; use `arr[tuple(seq)]` instead of `arr[seq]`. In the future this will be interpreted as an array index, `arr[np.array(seq)]`, which will result either in an error or a different result.\n",
      "  return np.add.reduce(sorted[indexer] * weights, axis=axis) / sumval\n"
     ]
    },
    {
     "data": {
      "text/plain": [
       "<matplotlib.axes._subplots.AxesSubplot at 0x7f74540925c0>"
      ]
     },
     "execution_count": 93,
     "metadata": {},
     "output_type": "execute_result"
    },
    {
     "data": {
      "image/png": "[encoded data removed]",
      "text/plain": [
       "<matplotlib.figure.Figure at 0x7f74540f4c18>"
      ]
     },
     "metadata": {},
     "output_type": "display_data"
    }
   ],
   "source": [
    "sns.distplot(_t)"
   ]
  },
  {
   "cell_type": "code",
   "execution_count": 94,
   "metadata": {},
   "outputs": [
    {
     "data": {
      "text/plain": [
       "numpy.ndarray"
      ]
     },
     "execution_count": 94,
     "metadata": {},
     "output_type": "execute_result"
    }
   ],
   "source": [
    "type(_t)"
   ]
  },
  {
   "cell_type": "code",
   "execution_count": 95,
   "metadata": {},
   "outputs": [
    {
     "data": {
      "text/plain": [
       "array([[  0.006,  18.   ,   2.31 , ...,  15.3  , 396.9  ,   4.98 ],\n",
       "       [  0.027,   0.   ,   7.07 , ...,  17.8  , 396.9  ,   9.14 ],\n",
       "       [  0.027,   0.   ,   7.07 , ...,  17.8  , 392.83 ,   4.03 ],\n",
       "       ...,\n",
       "       [  0.061,   0.   ,  11.93 , ...,  21.   , 396.9  ,   5.64 ],\n",
       "       [  0.11 ,   0.   ,  11.93 , ...,  21.   , 393.45 ,   6.48 ],\n",
       "       [  0.047,   0.   ,  11.93 , ...,  21.   , 396.9  ,   7.88 ]],\n",
       "      dtype=float32)"
      ]
     },
     "execution_count": 95,
     "metadata": {},
     "output_type": "execute_result"
    }
   ],
   "source": [
    "_x"
   ]
  },
  {
   "cell_type": "code",
   "execution_count": 96,
   "metadata": {},
   "outputs": [],
   "source": [
    "x_train, x_val, t_train, t_val = train_test_split(_x, _t, test_size=0.7 , random_state=0)"
   ]
  },
  {
   "cell_type": "code",
   "execution_count": 97,
   "metadata": {},
   "outputs": [
    {
     "data": {
      "text/plain": [
       "array([[ True,  True,  True, ...,  True,  True,  True],\n",
       "       [ True,  True,  True, ...,  True,  True,  True],\n",
       "       [ True,  True,  True, ...,  True,  True,  True],\n",
       "       ...,\n",
       "       [ True,  True,  True, ...,  True,  True,  True],\n",
       "       [ True,  True,  True, ...,  True,  True,  True],\n",
       "       [ True,  True,  True, ...,  True,  True,  True]])"
      ]
     },
     "execution_count": 97,
     "metadata": {},
     "output_type": "execute_result"
    }
   ],
   "source": [
    "x_train2 = x_train\n",
    "x_train2 == x_train"
   ]
  },
  {
   "cell_type": "code",
   "execution_count": 98,
   "metadata": {},
   "outputs": [
    {
     "data": {
      "text/plain": [
       "StandardScaler(copy=True, with_mean=True, with_std=True)"
      ]
     },
     "execution_count": 98,
     "metadata": {},
     "output_type": "execute_result"
    }
   ],
   "source": [
    "scaler = StandardScaler()\n",
    "scaler.fit(x_train2)"
   ]
  },
  {
   "cell_type": "code",
   "execution_count": 99,
   "metadata": {},
   "outputs": [
    {
     "data": {
      "text/plain": [
       "array([[-0.429,  0.273, -0.534, ...,  0.05 ,  0.396, -0.887],\n",
       "       [-0.435, -0.027, -0.408, ..., -1.662,  0.396,  0.02 ],\n",
       "       [ 0.724, -0.527,  1.017, ...,  0.856,  0.396,  1.423],\n",
       "       ...,\n",
       "       [-0.43 , -0.527, -0.109, ..., -0.352,  0.367, -0.383],\n",
       "       [-0.42 , -0.527, -0.541, ..., -0.302,  0.346,  0.771],\n",
       "       [-0.441, -0.527, -0.94 , ..., -0.957,  0.352, -0.409]],\n",
       "      dtype=float32)"
      ]
     },
     "execution_count": 99,
     "metadata": {},
     "output_type": "execute_result"
    }
   ],
   "source": [
    "x_train3 = scaler.transform(x_train2)\n",
    "x_val3 = scaler.transform(x_val)\n",
    "x_train3"
   ]
  },
  {
   "cell_type": "code",
   "execution_count": 100,
   "metadata": {},
   "outputs": [
    {
     "data": {
      "text/plain": [
       "numpy.ndarray"
      ]
     },
     "execution_count": 100,
     "metadata": {},
     "output_type": "execute_result"
    }
   ],
   "source": [
    "type(x_train3)"
   ]
  },
  {
   "cell_type": "code",
   "execution_count": 101,
   "metadata": {},
   "outputs": [
    {
     "name": "stdout",
     "output_type": "stream",
     "text": [
      "Train on 146 samples, validate on 341 samples\n",
      "Epoch 1/50\n",
      "146/146 [==============================] - 1s 6ms/sample - loss: 2004.1248 - val_loss: 1759.6851\n",
      "Epoch 2/50\n",
      "146/146 [==============================] - 0s 207us/sample - loss: 1694.1234 - val_loss: 1504.6908\n",
      "Epoch 3/50\n",
      "146/146 [==============================] - 0s 205us/sample - loss: 1453.7229 - val_loss: 1309.3284\n",
      "Epoch 4/50\n",
      "146/146 [==============================] - 0s 192us/sample - loss: 1273.2185 - val_loss: 1158.5753\n",
      "Epoch 5/50\n",
      "146/146 [==============================] - 0s 201us/sample - loss: 1134.9833 - val_loss: 1041.2764\n",
      "Epoch 6/50\n",
      "146/146 [==============================] - 0s 193us/sample - loss: 1026.8859 - val_loss: 949.2355\n",
      "Epoch 7/50\n",
      "146/146 [==============================] - 0s 198us/sample - loss: 941.6792 - val_loss: 875.9272\n",
      "Epoch 8/50\n",
      "146/146 [==============================] - 0s 227us/sample - loss: 874.0821 - val_loss: 816.4960\n",
      "Epoch 9/50\n",
      "146/146 [==============================] - 0s 199us/sample - loss: 818.0081 - val_loss: 767.5465\n",
      "Epoch 10/50\n",
      "146/146 [==============================] - 0s 199us/sample - loss: 773.0619 - val_loss: 725.9428\n",
      "Epoch 11/50\n",
      "146/146 [==============================] - 0s 195us/sample - loss: 733.1869 - val_loss: 690.4814\n",
      "Epoch 12/50\n",
      "146/146 [==============================] - 0s 192us/sample - loss: 699.6761 - val_loss: 659.5046\n",
      "Epoch 13/50\n",
      "146/146 [==============================] - 0s 194us/sample - loss: 670.3647 - val_loss: 632.0901\n",
      "Epoch 14/50\n",
      "146/146 [==============================] - 0s 192us/sample - loss: 643.8820 - val_loss: 607.5639\n",
      "Epoch 15/50\n",
      "146/146 [==============================] - 0s 189us/sample - loss: 620.5631 - val_loss: 584.9900\n",
      "Epoch 16/50\n",
      "146/146 [==============================] - 0s 192us/sample - loss: 598.3858 - val_loss: 564.2856\n",
      "Epoch 17/50\n",
      "146/146 [==============================] - 0s 189us/sample - loss: 578.1211 - val_loss: 544.8178\n",
      "Epoch 18/50\n",
      "146/146 [==============================] - 0s 187us/sample - loss: 559.0136 - val_loss: 526.3204\n",
      "Epoch 19/50\n",
      "146/146 [==============================] - 0s 207us/sample - loss: 540.8494 - val_loss: 508.4759\n",
      "Epoch 20/50\n",
      "146/146 [==============================] - 0s 208us/sample - loss: 523.5064 - val_loss: 491.1661\n",
      "Epoch 21/50\n",
      "146/146 [==============================] - 0s 245us/sample - loss: 506.5764 - val_loss: 474.2670\n",
      "Epoch 22/50\n",
      "146/146 [==============================] - 0s 192us/sample - loss: 489.6209 - val_loss: 457.7142\n",
      "Epoch 23/50\n",
      "146/146 [==============================] - 0s 189us/sample - loss: 473.0230 - val_loss: 441.2288\n",
      "Epoch 24/50\n",
      "146/146 [==============================] - 0s 189us/sample - loss: 456.4203 - val_loss: 424.6224\n",
      "Epoch 25/50\n",
      "146/146 [==============================] - 0s 191us/sample - loss: 439.8749 - val_loss: 407.6320\n",
      "Epoch 26/50\n",
      "146/146 [==============================] - 0s 186us/sample - loss: 422.9011 - val_loss: 390.2660\n",
      "Epoch 27/50\n",
      "146/146 [==============================] - 0s 191us/sample - loss: 405.2111 - val_loss: 372.4720\n",
      "Epoch 28/50\n",
      "146/146 [==============================] - 0s 189us/sample - loss: 386.9397 - val_loss: 354.0001\n",
      "Epoch 29/50\n",
      "146/146 [==============================] - 0s 189us/sample - loss: 368.0244 - val_loss: 334.7202\n",
      "Epoch 30/50\n",
      "146/146 [==============================] - 0s 194us/sample - loss: 348.5618 - val_loss: 314.3766\n",
      "Epoch 31/50\n",
      "146/146 [==============================] - 0s 193us/sample - loss: 327.5534 - val_loss: 293.2314\n",
      "Epoch 32/50\n",
      "146/146 [==============================] - 0s 196us/sample - loss: 305.6213 - val_loss: 271.0716\n",
      "Epoch 33/50\n",
      "146/146 [==============================] - 0s 187us/sample - loss: 282.7724 - val_loss: 247.8966\n",
      "Epoch 34/50\n",
      "146/146 [==============================] - 0s 188us/sample - loss: 258.0581 - val_loss: 224.0036\n",
      "Epoch 35/50\n",
      "146/146 [==============================] - 0s 185us/sample - loss: 233.5967 - val_loss: 198.7913\n",
      "Epoch 36/50\n",
      "146/146 [==============================] - 0s 214us/sample - loss: 206.9653 - val_loss: 172.9175\n",
      "Epoch 37/50\n",
      "146/146 [==============================] - 0s 216us/sample - loss: 179.7062 - val_loss: 146.6289\n",
      "Epoch 38/50\n",
      "146/146 [==============================] - 0s 191us/sample - loss: 151.5281 - val_loss: 120.5942\n",
      "Epoch 39/50\n",
      "146/146 [==============================] - 0s 196us/sample - loss: 123.7006 - val_loss: 95.5819\n",
      "Epoch 40/50\n",
      "146/146 [==============================] - 0s 204us/sample - loss: 96.1468 - val_loss: 72.7638\n",
      "Epoch 41/50\n",
      "146/146 [==============================] - 0s 195us/sample - loss: 72.1000 - val_loss: 52.5155\n",
      "Epoch 42/50\n",
      "146/146 [==============================] - 0s 192us/sample - loss: 51.1190 - val_loss: 36.6235\n",
      "Epoch 43/50\n",
      "146/146 [==============================] - 0s 185us/sample - loss: 33.3154 - val_loss: 26.2602\n",
      "Epoch 44/50\n",
      "146/146 [==============================] - 0s 200us/sample - loss: 22.6990 - val_loss: 20.8523\n",
      "Epoch 45/50\n",
      "146/146 [==============================] - 0s 203us/sample - loss: 16.7677 - val_loss: 19.4682\n",
      "Epoch 46/50\n",
      "146/146 [==============================] - 0s 210us/sample - loss: 14.9683 - val_loss: 20.0661\n",
      "Epoch 47/50\n",
      "146/146 [==============================] - 0s 193us/sample - loss: 14.9874 - val_loss: 20.9271\n",
      "Epoch 48/50\n",
      "146/146 [==============================] - 0s 191us/sample - loss: 15.3351 - val_loss: 21.0664\n",
      "Epoch 49/50\n",
      "146/146 [==============================] - 0s 196us/sample - loss: 15.2155 - val_loss: 20.6133\n",
      "Epoch 50/50\n",
      "146/146 [==============================] - 0s 195us/sample - loss: 14.8257 - val_loss: 19.8035\n"
     ]
    }
   ],
   "source": [
    "# 層、ノードを増やす\n",
    "# 活性化関数を変える\n",
    "# バッチサイズ、エポック数\n",
    "# 最適化関数(Adam)\n",
    "# 学習係数\n",
    "\n",
    "model.add(layers.Dense(9, activation='linear', input_shape=(13,)))\n",
    "model.add(layers.Dense(5, activation='linear', input_shape=(13,)))\n",
    "model.add(layers.Dense(1))\n",
    "\n",
    "optimizer = keras.optimizers.Adam(learning_rate=0.001, beta_1=0.9, beta_2=0.999, epsilon=1e-08)\n",
    "\n",
    "model.compile(loss='mean_squared_error', optimizer=optimizer)\n",
    "\n",
    "history = model.fit(x_train3, t_train,\n",
    "                   batch_size=32,\n",
    "                   epochs=50,\n",
    "                   verbose=1,\n",
    "                   validation_data=(x_val3, t_val))"
   ]
  },
  {
   "cell_type": "code",
   "execution_count": 102,
   "metadata": {},
   "outputs": [
    {
     "data": {
      "text/plain": [
       "(80, 100)"
      ]
     },
     "execution_count": 102,
     "metadata": {},
     "output_type": "execute_result"
    },
    {
     "data": {
      "image/png": "[encoded data removed]",
      "text/plain": [
       "<matplotlib.figure.Figure at 0x7f740737ef60>"
      ]
     },
     "metadata": {},
     "output_type": "display_data"
    }
   ],
   "source": [
    "results = pd.DataFrame(history.history)\n",
    "graph = results[['loss', 'val_loss']].plot()\n",
    "graph.set_xlim([0,40])\n",
    "graph.set_ylim([80,100])"
   ]
  },
  {
   "cell_type": "code",
   "execution_count": 103,
   "metadata": {},
   "outputs": [
    {
     "data": {
      "text/plain": [
       "4.450111138847254"
      ]
     },
     "execution_count": 103,
     "metadata": {},
     "output_type": "execute_result"
    }
   ],
   "source": [
    "np.sqrt(results.iloc[-1,1])"
   ]
  },
  {
   "cell_type": "code",
   "execution_count": 104,
   "metadata": {},
   "outputs": [
    {
     "name": "stdout",
     "output_type": "stream",
     "text": [
      "Train on 146 samples, validate on 341 samples\n",
      "Epoch 1/50\n",
      "146/146 [==============================] - 1s 9ms/sample - loss: 497.9016 - val_loss: 175.6386\n",
      "Epoch 2/50\n",
      "146/146 [==============================] - 0s 245us/sample - loss: 89.6130 - val_loss: 37.0527\n",
      "Epoch 3/50\n",
      "146/146 [==============================] - 0s 237us/sample - loss: 69.4875 - val_loss: 75.5732\n",
      "Epoch 4/50\n",
      "146/146 [==============================] - 0s 242us/sample - loss: 37.5772 - val_loss: 18.2192\n",
      "Epoch 5/50\n",
      "146/146 [==============================] - 0s 239us/sample - loss: 20.8058 - val_loss: 31.7076\n",
      "Epoch 6/50\n",
      "146/146 [==============================] - 0s 227us/sample - loss: 31.1568 - val_loss: 24.8315\n",
      "Epoch 7/50\n",
      "146/146 [==============================] - 0s 227us/sample - loss: 18.9966 - val_loss: 18.1165\n",
      "Epoch 8/50\n",
      "146/146 [==============================] - 0s 236us/sample - loss: 15.2734 - val_loss: 23.5415\n",
      "Epoch 9/50\n",
      "146/146 [==============================] - 0s 244us/sample - loss: 16.8755 - val_loss: 18.7246\n",
      "Epoch 10/50\n",
      "146/146 [==============================] - 0s 215us/sample - loss: 13.2699 - val_loss: 17.5240\n",
      "Epoch 11/50\n",
      "146/146 [==============================] - 0s 214us/sample - loss: 14.2707 - val_loss: 17.6839\n",
      "Epoch 12/50\n",
      "146/146 [==============================] - 0s 224us/sample - loss: 13.4652 - val_loss: 17.6099\n",
      "Epoch 13/50\n",
      "146/146 [==============================] - 0s 219us/sample - loss: 13.4189 - val_loss: 18.4927\n",
      "Epoch 14/50\n",
      "146/146 [==============================] - 0s 213us/sample - loss: 13.2768 - val_loss: 17.4040\n",
      "Epoch 15/50\n",
      "146/146 [==============================] - 0s 215us/sample - loss: 12.9271 - val_loss: 17.1309\n",
      "Epoch 16/50\n",
      "146/146 [==============================] - 0s 218us/sample - loss: 13.2457 - val_loss: 17.0539\n",
      "Epoch 17/50\n",
      "146/146 [==============================] - 0s 210us/sample - loss: 12.8564 - val_loss: 17.5904\n",
      "Epoch 18/50\n",
      "146/146 [==============================] - 0s 215us/sample - loss: 12.9560 - val_loss: 17.3709\n",
      "Epoch 19/50\n",
      "146/146 [==============================] - 0s 215us/sample - loss: 12.8342 - val_loss: 16.9512\n",
      "Epoch 20/50\n",
      "146/146 [==============================] - 0s 235us/sample - loss: 12.7304 - val_loss: 16.9950\n",
      "Epoch 21/50\n",
      "146/146 [==============================] - 0s 215us/sample - loss: 12.5817 - val_loss: 16.9855\n",
      "Epoch 22/50\n",
      "146/146 [==============================] - 0s 215us/sample - loss: 12.5891 - val_loss: 16.8839\n",
      "Epoch 23/50\n",
      "146/146 [==============================] - 0s 212us/sample - loss: 12.4620 - val_loss: 16.7734\n",
      "Epoch 24/50\n",
      "146/146 [==============================] - 0s 220us/sample - loss: 12.4285 - val_loss: 16.7573\n",
      "Epoch 25/50\n",
      "146/146 [==============================] - 0s 207us/sample - loss: 12.3446 - val_loss: 16.9428\n",
      "Epoch 26/50\n",
      "146/146 [==============================] - 0s 207us/sample - loss: 12.2723 - val_loss: 16.7724\n",
      "Epoch 27/50\n",
      "146/146 [==============================] - 0s 219us/sample - loss: 12.1769 - val_loss: 16.6386\n",
      "Epoch 28/50\n",
      "146/146 [==============================] - 0s 268us/sample - loss: 12.2047 - val_loss: 16.7156\n",
      "Epoch 29/50\n",
      "146/146 [==============================] - 0s 225us/sample - loss: 12.2258 - val_loss: 16.7039\n",
      "Epoch 30/50\n",
      "146/146 [==============================] - 0s 213us/sample - loss: 12.0253 - val_loss: 16.4129\n",
      "Epoch 31/50\n",
      "146/146 [==============================] - 0s 209us/sample - loss: 12.0759 - val_loss: 16.4213\n",
      "Epoch 32/50\n",
      "146/146 [==============================] - 0s 213us/sample - loss: 12.2365 - val_loss: 16.7237\n",
      "Epoch 33/50\n",
      "146/146 [==============================] - 0s 204us/sample - loss: 11.9297 - val_loss: 16.3599\n",
      "Epoch 34/50\n",
      "146/146 [==============================] - 0s 208us/sample - loss: 11.8935 - val_loss: 16.3808\n",
      "Epoch 35/50\n",
      "146/146 [==============================] - 0s 210us/sample - loss: 11.8574 - val_loss: 16.4852\n",
      "Epoch 36/50\n",
      "146/146 [==============================] - 0s 209us/sample - loss: 11.8188 - val_loss: 16.2474\n",
      "Epoch 37/50\n",
      "146/146 [==============================] - 0s 213us/sample - loss: 12.0526 - val_loss: 16.3304\n",
      "Epoch 38/50\n",
      "146/146 [==============================] - 0s 209us/sample - loss: 11.7169 - val_loss: 16.1591\n",
      "Epoch 39/50\n",
      "146/146 [==============================] - 0s 210us/sample - loss: 11.7644 - val_loss: 16.2217\n",
      "Epoch 40/50\n",
      "146/146 [==============================] - 0s 211us/sample - loss: 11.9238 - val_loss: 16.0905\n",
      "Epoch 41/50\n",
      "146/146 [==============================] - 0s 206us/sample - loss: 11.7670 - val_loss: 16.8147\n",
      "Epoch 42/50\n",
      "146/146 [==============================] - 0s 205us/sample - loss: 11.5402 - val_loss: 16.0277\n",
      "Epoch 43/50\n",
      "146/146 [==============================] - 0s 214us/sample - loss: 12.2532 - val_loss: 16.0090\n",
      "Epoch 44/50\n",
      "146/146 [==============================] - 0s 216us/sample - loss: 11.7098 - val_loss: 16.8030\n",
      "Epoch 45/50\n",
      "146/146 [==============================] - 0s 204us/sample - loss: 11.8700 - val_loss: 15.9477\n",
      "Epoch 46/50\n",
      "146/146 [==============================] - 0s 217us/sample - loss: 11.4204 - val_loss: 15.9631\n",
      "Epoch 47/50\n",
      "146/146 [==============================] - 0s 212us/sample - loss: 11.3418 - val_loss: 16.1104\n",
      "Epoch 48/50\n",
      "146/146 [==============================] - 0s 207us/sample - loss: 11.4306 - val_loss: 16.0866\n",
      "Epoch 49/50\n",
      "146/146 [==============================] - 0s 205us/sample - loss: 11.2569 - val_loss: 15.8673\n",
      "Epoch 50/50\n",
      "146/146 [==============================] - 0s 205us/sample - loss: 11.4261 - val_loss: 15.8173\n"
     ]
    }
   ],
   "source": [
    "model.add(layers.Dense(32, activation='linear', input_shape=(13,)))\n",
    "model.add(layers.Dense(64, activation='linear', input_shape=(13,)))\n",
    "model.add(layers.Dense(32, activation='linear', input_shape=(13,)))\n",
    "model.add(layers.Dense(16, activation='linear', input_shape=(13,)))\n",
    "model.add(layers.Dense(8, activation='linear', input_shape=(13,)))\n",
    "model.add(layers.Dense(4, activation='linear', input_shape=(13,)))\n",
    "model.add(layers.Dense(2, activation='linear', input_shape=(13,)))\n",
    "model.add(layers.Dense(1))\n",
    "\n",
    "optimizer = keras.optimizers.Adam(learning_rate=0.001, beta_1=0.9, beta_2=0.999, epsilon=1e-08)\n",
    "\n",
    "model.compile(loss='mean_squared_error', optimizer=optimizer)\n",
    "\n",
    "history = model.fit(x_train3, t_train,\n",
    "                   batch_size=32,\n",
    "                   epochs=50,\n",
    "                   verbose=1,\n",
    "                   validation_data=(x_val3, t_val))"
   ]
  },
  {
   "cell_type": "code",
   "execution_count": 105,
   "metadata": {},
   "outputs": [
    {
     "data": {
      "text/plain": [
       "(80, 100)"
      ]
     },
     "execution_count": 105,
     "metadata": {},
     "output_type": "execute_result"
    },
    {
     "data": {
      "image/png": "[encoded data removed]",
      "text/plain": [
       "<matplotlib.figure.Figure at 0x7f74068e5128>"
      ]
     },
     "metadata": {},
     "output_type": "display_data"
    }
   ],
   "source": [
    "results = pd.DataFrame(history.history)\n",
    "graph = results[['loss', 'val_loss']].plot()\n",
    "graph.set_xlim([0,40])\n",
    "graph.set_ylim([80,100])"
   ]
  },
  {
   "cell_type": "code",
   "execution_count": 106,
   "metadata": {},
   "outputs": [
    {
     "data": {
      "text/plain": [
       "3.9770970035403432"
      ]
     },
     "execution_count": 106,
     "metadata": {},
     "output_type": "execute_result"
    }
   ],
   "source": [
    "np.sqrt(results.iloc[-1,1])"
   ]
  },
  {
   "cell_type": "code",
   "execution_count": 107,
   "metadata": {},
   "outputs": [],
   "source": [
    "# model.add(layers.Dense(32, activation='relu', input_shape=(13,)))\n",
    "# model.add(layers.Dense(64, activation='relu', input_shape=(13,)))\n",
    "# model.add(layers.Dense(32, activation='relu', input_shape=(13,)))\n",
    "# model.add(layers.Dense(16, activation='relu', input_shape=(13,)))\n",
    "# model.add(layers.Dense(8, activation='relu', input_shape=(13,)))\n",
    "# model.add(layers.Dense(4, activation='relu', input_shape=(13,)))\n",
    "# model.add(layers.Dense(2, activation='relu', input_shape=(13,)))\n",
    "# model.add(layers.Dense(1))\n",
    "\n",
    "# optimizer = keras.optimizers.Adam(learning_rate=0.001, beta_1=0.9, beta_2=0.999, epsilon=1e-08)\n",
    "\n",
    "# model.compile(loss='mean_squared_error', optimizer=optimizer)\n",
    "\n",
    "# history = model.fit(x_train3, t_train,\n",
    "#                    batch_size=32,\n",
    "#                    epochs=50,\n",
    "#                    verbose=1,\n",
    "#                    validation_data=(x_val3, t_val))"
   ]
  },
  {
   "cell_type": "code",
   "execution_count": 108,
   "metadata": {},
   "outputs": [],
   "source": [
    "# model.add(layers.Dense(32, activation='softplus', input_shape=(13,)))\n",
    "# model.add(layers.Dense(64, activation='softplus', input_shape=(13,)))\n",
    "# model.add(layers.Dense(32, activation='softplus', input_shape=(13,)))\n",
    "# model.add(layers.Dense(16, activation='softplus', input_shape=(13,)))\n",
    "# model.add(layers.Dense(8, activation='softplus', input_shape=(13,)))\n",
    "# model.add(layers.Dense(4, activation='softplus', input_shape=(13,)))\n",
    "# model.add(layers.Dense(2, activation='softplus', input_shape=(13,)))\n",
    "# model.add(layers.Dense(1))\n",
    "\n",
    "# optimizer = keras.optimizers.Adam(learning_rate=0.001, beta_1=0.9, beta_2=0.999, epsilon=1e-08)\n",
    "\n",
    "# model.compile(loss='mean_squared_error', optimizer=optimizer)\n",
    "\n",
    "# history = model.fit(x_train3, t_train,\n",
    "#                    batch_size=32,\n",
    "#                    epochs=50,\n",
    "#                    verbose=1,\n",
    "#                    validation_data=(x_val3, t_val))"
   ]
  },
  {
   "cell_type": "code",
   "execution_count": 109,
   "metadata": {},
   "outputs": [],
   "source": [
    "# model.add(layers.Dense(32, activation='sigmoid', input_shape=(13,)))\n",
    "# model.add(layers.Dense(64, activation='sigmoid', input_shape=(13,)))\n",
    "# model.add(layers.Dense(32, activation='sigmoid', input_shape=(13,)))\n",
    "# model.add(layers.Dense(16, activation='sigmoid', input_shape=(13,)))\n",
    "# model.add(layers.Dense(8, activation='sigmoid', input_shape=(13,)))\n",
    "# model.add(layers.Dense(4, activation='sigmoid', input_shape=(13,)))\n",
    "# model.add(layers.Dense(2, activation='sigmoid', input_shape=(13,)))\n",
    "# model.add(layers.Dense(1))\n",
    "\n",
    "# optimizer = keras.optimizers.Adam(learning_rate=0.001, beta_1=0.9, beta_2=0.999, epsilon=1e-08)\n",
    "\n",
    "# model.compile(loss='mean_squared_error', optimizer=optimizer)\n",
    "\n",
    "# history = model.fit(x_train3, t_train,\n",
    "#                    batch_size=32,\n",
    "#                    epochs=100,\n",
    "#                    verbose=1,\n",
    "#                    validation_data=(x_val3, t_val))"
   ]
  },
  {
   "cell_type": "code",
   "execution_count": 110,
   "metadata": {},
   "outputs": [
    {
     "name": "stdout",
     "output_type": "stream",
     "text": [
      "Train on 146 samples, validate on 341 samples\n",
      "Epoch 1/100\n",
      "146/146 [==============================] - 2s 13ms/sample - loss: 507.8002 - val_loss: 179.2838\n",
      "Epoch 2/100\n",
      "146/146 [==============================] - 0s 275us/sample - loss: 85.7033 - val_loss: 110.5882\n",
      "Epoch 3/100\n",
      "146/146 [==============================] - 0s 252us/sample - loss: 72.1540 - val_loss: 15.7663\n",
      "Epoch 4/100\n",
      "146/146 [==============================] - 0s 247us/sample - loss: 31.0989 - val_loss: 48.7997\n",
      "Epoch 5/100\n",
      "146/146 [==============================] - 0s 247us/sample - loss: 38.2257 - val_loss: 16.5762\n",
      "Epoch 6/100\n",
      "146/146 [==============================] - 0s 246us/sample - loss: 15.4071 - val_loss: 30.6398\n",
      "Epoch 7/100\n",
      "146/146 [==============================] - 0s 241us/sample - loss: 18.0512 - val_loss: 15.7570\n",
      "Epoch 8/100\n",
      "146/146 [==============================] - 0s 258us/sample - loss: 14.5941 - val_loss: 18.7701\n",
      "Epoch 9/100\n",
      "146/146 [==============================] - 0s 249us/sample - loss: 12.8616 - val_loss: 16.1914\n",
      "Epoch 10/100\n",
      "146/146 [==============================] - 0s 240us/sample - loss: 13.7255 - val_loss: 18.9175\n",
      "Epoch 11/100\n",
      "146/146 [==============================] - 0s 242us/sample - loss: 12.5086 - val_loss: 16.3453\n",
      "Epoch 12/100\n",
      "146/146 [==============================] - 0s 243us/sample - loss: 12.4104 - val_loss: 15.7234\n",
      "Epoch 13/100\n",
      "146/146 [==============================] - 0s 250us/sample - loss: 11.7488 - val_loss: 17.2089\n",
      "Epoch 14/100\n",
      "146/146 [==============================] - 0s 243us/sample - loss: 11.3967 - val_loss: 15.7190\n",
      "Epoch 15/100\n",
      "146/146 [==============================] - 0s 248us/sample - loss: 11.6147 - val_loss: 15.6804\n",
      "Epoch 16/100\n",
      "146/146 [==============================] - 0s 250us/sample - loss: 11.1069 - val_loss: 15.8500\n",
      "Epoch 17/100\n",
      "146/146 [==============================] - 0s 239us/sample - loss: 11.3031 - val_loss: 16.0551\n",
      "Epoch 18/100\n",
      "146/146 [==============================] - 0s 241us/sample - loss: 11.0204 - val_loss: 15.6464\n",
      "Epoch 19/100\n",
      "146/146 [==============================] - 0s 236us/sample - loss: 11.1192 - val_loss: 15.8490\n",
      "Epoch 20/100\n",
      "146/146 [==============================] - 0s 233us/sample - loss: 11.2393 - val_loss: 16.1592\n",
      "Epoch 21/100\n",
      "146/146 [==============================] - 0s 236us/sample - loss: 10.9329 - val_loss: 15.8598\n",
      "Epoch 22/100\n",
      "146/146 [==============================] - 0s 239us/sample - loss: 11.8767 - val_loss: 15.9084\n",
      "Epoch 23/100\n",
      "146/146 [==============================] - 0s 238us/sample - loss: 10.9699 - val_loss: 15.6579\n",
      "Epoch 24/100\n",
      "146/146 [==============================] - 0s 233us/sample - loss: 11.0180 - val_loss: 15.5671\n",
      "Epoch 25/100\n",
      "146/146 [==============================] - 0s 240us/sample - loss: 10.9859 - val_loss: 15.9732\n",
      "Epoch 26/100\n",
      "146/146 [==============================] - 0s 233us/sample - loss: 10.9762 - val_loss: 15.5592\n",
      "Epoch 27/100\n",
      "146/146 [==============================] - 0s 235us/sample - loss: 10.9440 - val_loss: 15.5951\n",
      "Epoch 28/100\n",
      "146/146 [==============================] - 0s 241us/sample - loss: 11.1712 - val_loss: 15.8361\n",
      "Epoch 29/100\n",
      "146/146 [==============================] - 0s 314us/sample - loss: 10.9409 - val_loss: 15.4697\n",
      "Epoch 30/100\n",
      "146/146 [==============================] - 0s 241us/sample - loss: 10.9700 - val_loss: 15.4593\n",
      "Epoch 31/100\n",
      "146/146 [==============================] - 0s 234us/sample - loss: 10.8558 - val_loss: 15.7967\n",
      "Epoch 32/100\n",
      "146/146 [==============================] - 0s 229us/sample - loss: 10.9979 - val_loss: 15.4594\n",
      "Epoch 33/100\n",
      "146/146 [==============================] - 0s 242us/sample - loss: 11.1895 - val_loss: 15.4677\n",
      "Epoch 34/100\n",
      "146/146 [==============================] - 0s 233us/sample - loss: 10.8261 - val_loss: 15.8879\n",
      "Epoch 35/100\n",
      "146/146 [==============================] - 0s 234us/sample - loss: 10.6951 - val_loss: 15.4353\n",
      "Epoch 36/100\n",
      "146/146 [==============================] - 0s 235us/sample - loss: 11.0178 - val_loss: 15.6444\n",
      "Epoch 37/100\n",
      "146/146 [==============================] - 0s 241us/sample - loss: 11.7625 - val_loss: 15.3623\n",
      "Epoch 38/100\n",
      "146/146 [==============================] - 0s 231us/sample - loss: 11.7334 - val_loss: 15.4212\n",
      "Epoch 39/100\n",
      "146/146 [==============================] - 0s 237us/sample - loss: 11.3125 - val_loss: 15.9515\n",
      "Epoch 40/100\n",
      "146/146 [==============================] - 0s 236us/sample - loss: 12.0976 - val_loss: 15.5156\n",
      "Epoch 41/100\n",
      "146/146 [==============================] - 0s 237us/sample - loss: 11.3704 - val_loss: 16.8396\n",
      "Epoch 42/100\n",
      "146/146 [==============================] - 0s 243us/sample - loss: 10.4546 - val_loss: 15.9632\n",
      "Epoch 43/100\n",
      "146/146 [==============================] - 0s 245us/sample - loss: 12.0250 - val_loss: 15.9526\n",
      "Epoch 44/100\n",
      "146/146 [==============================] - 0s 239us/sample - loss: 11.4334 - val_loss: 15.5467\n",
      "Epoch 45/100\n",
      "146/146 [==============================] - 0s 233us/sample - loss: 12.0766 - val_loss: 15.6684\n",
      "Epoch 46/100\n",
      "146/146 [==============================] - 0s 229us/sample - loss: 11.5945 - val_loss: 16.9904\n",
      "Epoch 47/100\n",
      "146/146 [==============================] - 0s 232us/sample - loss: 11.3590 - val_loss: 15.5239\n",
      "Epoch 48/100\n",
      "146/146 [==============================] - 0s 230us/sample - loss: 11.0294 - val_loss: 15.8913\n",
      "Epoch 49/100\n",
      "146/146 [==============================] - 0s 230us/sample - loss: 10.7876 - val_loss: 15.4920\n",
      "Epoch 50/100\n",
      "146/146 [==============================] - 0s 234us/sample - loss: 11.2189 - val_loss: 15.3205\n",
      "Epoch 51/100\n",
      "146/146 [==============================] - 0s 235us/sample - loss: 11.5250 - val_loss: 15.3900\n",
      "Epoch 52/100\n",
      "146/146 [==============================] - 0s 233us/sample - loss: 10.9463 - val_loss: 15.3129\n",
      "Epoch 53/100\n",
      "146/146 [==============================] - 0s 229us/sample - loss: 10.5768 - val_loss: 16.1463\n",
      "Epoch 54/100\n",
      "146/146 [==============================] - 0s 232us/sample - loss: 11.0358 - val_loss: 15.3157\n",
      "Epoch 55/100\n",
      "146/146 [==============================] - 0s 235us/sample - loss: 10.7229 - val_loss: 15.2618\n",
      "Epoch 56/100\n",
      "146/146 [==============================] - 0s 248us/sample - loss: 10.6375 - val_loss: 15.4902\n",
      "Epoch 57/100\n",
      "146/146 [==============================] - 0s 244us/sample - loss: 10.9595 - val_loss: 15.3375\n",
      "Epoch 58/100\n",
      "146/146 [==============================] - 0s 245us/sample - loss: 10.4975 - val_loss: 15.7314\n",
      "Epoch 59/100\n",
      "146/146 [==============================] - 0s 232us/sample - loss: 10.5103 - val_loss: 15.2262\n",
      "Epoch 60/100\n",
      "146/146 [==============================] - 0s 246us/sample - loss: 10.8356 - val_loss: 15.2297\n",
      "Epoch 61/100\n",
      "146/146 [==============================] - 0s 250us/sample - loss: 10.5936 - val_loss: 15.2772\n",
      "Epoch 62/100\n",
      "146/146 [==============================] - 0s 239us/sample - loss: 10.5220 - val_loss: 15.2370\n",
      "Epoch 63/100\n",
      "146/146 [==============================] - 0s 231us/sample - loss: 10.5343 - val_loss: 15.3853\n",
      "Epoch 64/100\n",
      "146/146 [==============================] - 0s 238us/sample - loss: 10.6724 - val_loss: 15.3660\n",
      "Epoch 65/100\n",
      "146/146 [==============================] - 0s 236us/sample - loss: 10.5469 - val_loss: 15.4390\n",
      "Epoch 66/100\n",
      "146/146 [==============================] - 0s 230us/sample - loss: 10.5162 - val_loss: 15.2881\n",
      "Epoch 67/100\n",
      "146/146 [==============================] - 0s 227us/sample - loss: 10.5205 - val_loss: 15.3243\n",
      "Epoch 68/100\n",
      "146/146 [==============================] - 0s 234us/sample - loss: 10.4543 - val_loss: 15.4796\n",
      "Epoch 69/100\n",
      "146/146 [==============================] - 0s 225us/sample - loss: 10.6298 - val_loss: 15.1708\n",
      "Epoch 70/100\n",
      "146/146 [==============================] - 0s 234us/sample - loss: 10.7921 - val_loss: 15.2942\n",
      "Epoch 71/100\n",
      "146/146 [==============================] - 0s 230us/sample - loss: 10.4629 - val_loss: 15.2261\n",
      "Epoch 72/100\n",
      "146/146 [==============================] - 0s 243us/sample - loss: 10.5790 - val_loss: 15.4548\n",
      "Epoch 73/100\n",
      "146/146 [==============================] - 0s 235us/sample - loss: 11.2744 - val_loss: 15.2900\n",
      "Epoch 74/100\n",
      "146/146 [==============================] - 0s 233us/sample - loss: 11.4481 - val_loss: 15.2463\n",
      "Epoch 75/100\n",
      "146/146 [==============================] - 0s 232us/sample - loss: 10.9667 - val_loss: 15.3795\n",
      "Epoch 76/100\n"
     ]
    },
    {
     "name": "stdout",
     "output_type": "stream",
     "text": [
      "146/146 [==============================] - 0s 232us/sample - loss: 10.8184 - val_loss: 15.1695\n",
      "Epoch 77/100\n",
      "146/146 [==============================] - 0s 230us/sample - loss: 10.4365 - val_loss: 15.5508\n",
      "Epoch 78/100\n",
      "146/146 [==============================] - 0s 230us/sample - loss: 10.6342 - val_loss: 15.2818\n",
      "Epoch 79/100\n",
      "146/146 [==============================] - 0s 232us/sample - loss: 10.6415 - val_loss: 15.3114\n",
      "Epoch 80/100\n",
      "146/146 [==============================] - 0s 236us/sample - loss: 10.5903 - val_loss: 15.2033\n",
      "Epoch 81/100\n",
      "146/146 [==============================] - 0s 234us/sample - loss: 10.4673 - val_loss: 15.4510\n",
      "Epoch 82/100\n",
      "146/146 [==============================] - 0s 235us/sample - loss: 10.6891 - val_loss: 15.1783\n",
      "Epoch 83/100\n",
      "146/146 [==============================] - 0s 228us/sample - loss: 10.7878 - val_loss: 15.2392\n",
      "Epoch 84/100\n",
      "146/146 [==============================] - 0s 232us/sample - loss: 10.5989 - val_loss: 15.3428\n",
      "Epoch 85/100\n",
      "146/146 [==============================] - 0s 264us/sample - loss: 10.9304 - val_loss: 15.3193\n",
      "Epoch 86/100\n",
      "146/146 [==============================] - 0s 240us/sample - loss: 11.0934 - val_loss: 15.2660\n",
      "Epoch 87/100\n",
      "146/146 [==============================] - 0s 240us/sample - loss: 10.6559 - val_loss: 15.6929\n",
      "Epoch 88/100\n",
      "146/146 [==============================] - 0s 229us/sample - loss: 11.5105 - val_loss: 15.2055\n",
      "Epoch 89/100\n",
      "146/146 [==============================] - 0s 227us/sample - loss: 11.9586 - val_loss: 15.2521\n",
      "Epoch 90/100\n",
      "146/146 [==============================] - 0s 233us/sample - loss: 14.5203 - val_loss: 15.3958\n",
      "Epoch 91/100\n",
      "146/146 [==============================] - 0s 228us/sample - loss: 13.0676 - val_loss: 15.3903\n",
      "Epoch 92/100\n",
      "146/146 [==============================] - 0s 239us/sample - loss: 11.0555 - val_loss: 15.2350\n",
      "Epoch 93/100\n",
      "146/146 [==============================] - 0s 233us/sample - loss: 10.5654 - val_loss: 15.2010\n",
      "Epoch 94/100\n",
      "146/146 [==============================] - 0s 236us/sample - loss: 10.5477 - val_loss: 15.7750\n",
      "Epoch 95/100\n",
      "146/146 [==============================] - 0s 225us/sample - loss: 11.6202 - val_loss: 15.1258\n",
      "Epoch 96/100\n",
      "146/146 [==============================] - 0s 230us/sample - loss: 11.8491 - val_loss: 15.1203\n",
      "Epoch 97/100\n",
      "146/146 [==============================] - 0s 287us/sample - loss: 10.8485 - val_loss: 15.1619\n",
      "Epoch 98/100\n",
      "146/146 [==============================] - 0s 240us/sample - loss: 10.4930 - val_loss: 15.8210\n",
      "Epoch 99/100\n",
      "146/146 [==============================] - 0s 229us/sample - loss: 10.9267 - val_loss: 15.2489\n",
      "Epoch 100/100\n",
      "146/146 [==============================] - 0s 232us/sample - loss: 10.5786 - val_loss: 15.4558\n"
     ]
    }
   ],
   "source": [
    "# model.add(layers.Dense(32, activation='linear', input_shape=(13,)))\n",
    "# model.add(layers.Dense(64, activation='linear', input_shape=(13,)))\n",
    "# model.add(layers.Dense(32, activation='linear', input_shape=(13,)))\n",
    "# model.add(layers.Dense(16, activation='linear', input_shape=(13,)))\n",
    "# model.add(layers.Dense(8, activation='linear', input_shape=(13,)))\n",
    "# model.add(layers.Dense(4, activation='linear', input_shape=(13,)))\n",
    "# model.add(layers.Dense(2, activation='linear', input_shape=(13,)))\n",
    "# model.add(layers.Dense(1))\n",
    "\n",
    "# optimizer = keras.optimizers.Adam(learning_rate=0.001, beta_1=0.9, beta_2=0.999, epsilon=1e-08)\n",
    "\n",
    "# model.compile(loss='mean_squared_error', optimizer=optimizer)\n",
    "\n",
    "# history = model.fit(x_train3, t_train,\n",
    "#                    batch_size=32,\n",
    "#                    epochs=100,\n",
    "#                    verbose=1,\n",
    "#                    validation_data=(x_val3, t_val))"
   ]
  },
  {
   "cell_type": "code",
   "execution_count": 111,
   "metadata": {},
   "outputs": [
    {
     "data": {
      "text/plain": [
       "(80, 100)"
      ]
     },
     "execution_count": 111,
     "metadata": {},
     "output_type": "execute_result"
    },
    {
     "data": {
      "image/png": "[encoded data removed]",
      "text/plain": [
       "<matplotlib.figure.Figure at 0x7f74068d2d30>"
      ]
     },
     "metadata": {},
     "output_type": "display_data"
    }
   ],
   "source": [
    "# results = pd.DataFrame(history.history)\n",
    "# graph = results[['loss', 'val_loss']].plot()\n",
    "# graph.set_xlim([0,40])\n",
    "# graph.set_ylim([80,100])"
   ]
  },
  {
   "cell_type": "code",
   "execution_count": 112,
   "metadata": {},
   "outputs": [
    {
     "data": {
      "text/plain": [
       "3.931392668444175"
      ]
     },
     "execution_count": 112,
     "metadata": {},
     "output_type": "execute_result"
    }
   ],
   "source": [
    "# np.sqrt(results.iloc[-1,1])"
   ]
  },
  {
   "cell_type": "code",
   "execution_count": 115,
   "metadata": {},
   "outputs": [
    {
     "name": "stdout",
     "output_type": "stream",
     "text": [
      "Train on 146 samples, validate on 341 samples\n",
      "Epoch 1/100\n",
      "146/146 [==============================] - 1s 5ms/sample - loss: 527.6054 - val_loss: 494.8041\n",
      "Epoch 2/100\n",
      "146/146 [==============================] - 0s 332us/sample - loss: 506.2691 - val_loss: 465.2130\n",
      "Epoch 3/100\n",
      "146/146 [==============================] - 0s 376us/sample - loss: 465.5635 - val_loss: 407.3136\n",
      "Epoch 4/100\n",
      "146/146 [==============================] - 0s 379us/sample - loss: 387.6748 - val_loss: 304.0981\n",
      "Epoch 5/100\n",
      "146/146 [==============================] - 0s 326us/sample - loss: 260.2426 - val_loss: 160.3453\n",
      "Epoch 6/100\n",
      "146/146 [==============================] - 0s 313us/sample - loss: 122.9294 - val_loss: 71.9919\n",
      "Epoch 7/100\n",
      "146/146 [==============================] - 0s 313us/sample - loss: 74.1909 - val_loss: 52.2593\n",
      "Epoch 8/100\n",
      "146/146 [==============================] - 0s 327us/sample - loss: 49.7986 - val_loss: 45.8018\n",
      "Epoch 9/100\n",
      "146/146 [==============================] - 0s 309us/sample - loss: 39.5990 - val_loss: 33.9489\n",
      "Epoch 10/100\n",
      "146/146 [==============================] - 0s 317us/sample - loss: 31.8628 - val_loss: 27.2537\n",
      "Epoch 11/100\n",
      "146/146 [==============================] - 0s 306us/sample - loss: 26.4047 - val_loss: 23.3312\n",
      "Epoch 12/100\n",
      "146/146 [==============================] - 0s 311us/sample - loss: 22.0143 - val_loss: 19.9837\n",
      "Epoch 13/100\n",
      "146/146 [==============================] - 0s 309us/sample - loss: 19.9370 - val_loss: 18.8608\n",
      "Epoch 14/100\n",
      "146/146 [==============================] - 0s 314us/sample - loss: 17.9693 - val_loss: 16.7637\n",
      "Epoch 15/100\n",
      "146/146 [==============================] - 0s 303us/sample - loss: 16.7218 - val_loss: 15.9096\n",
      "Epoch 16/100\n",
      "146/146 [==============================] - 0s 317us/sample - loss: 16.0925 - val_loss: 15.5003\n",
      "Epoch 17/100\n",
      "146/146 [==============================] - 0s 305us/sample - loss: 15.4013 - val_loss: 15.0947\n",
      "Epoch 18/100\n",
      "146/146 [==============================] - 0s 320us/sample - loss: 14.3452 - val_loss: 15.1061\n",
      "Epoch 19/100\n",
      "146/146 [==============================] - 0s 306us/sample - loss: 13.7255 - val_loss: 14.2946\n",
      "Epoch 20/100\n",
      "146/146 [==============================] - 0s 304us/sample - loss: 13.4021 - val_loss: 13.9437\n",
      "Epoch 21/100\n",
      "146/146 [==============================] - 0s 314us/sample - loss: 12.7391 - val_loss: 13.6336\n",
      "Epoch 22/100\n",
      "146/146 [==============================] - 0s 318us/sample - loss: 12.5727 - val_loss: 13.1145\n",
      "Epoch 23/100\n",
      "146/146 [==============================] - 0s 311us/sample - loss: 12.3672 - val_loss: 13.3673\n",
      "Epoch 24/100\n",
      "146/146 [==============================] - 0s 410us/sample - loss: 11.6461 - val_loss: 12.7455\n",
      "Epoch 25/100\n",
      "146/146 [==============================] - 0s 315us/sample - loss: 11.1081 - val_loss: 12.3454\n",
      "Epoch 26/100\n",
      "146/146 [==============================] - 0s 303us/sample - loss: 10.7586 - val_loss: 12.1623\n",
      "Epoch 27/100\n",
      "146/146 [==============================] - 0s 309us/sample - loss: 10.4162 - val_loss: 11.9834\n",
      "Epoch 28/100\n",
      "146/146 [==============================] - 0s 321us/sample - loss: 10.0076 - val_loss: 11.7861\n",
      "Epoch 29/100\n",
      "146/146 [==============================] - 0s 304us/sample - loss: 10.0106 - val_loss: 11.5498\n",
      "Epoch 30/100\n",
      "146/146 [==============================] - 0s 315us/sample - loss: 9.3124 - val_loss: 11.5611\n",
      "Epoch 31/100\n",
      "146/146 [==============================] - 0s 305us/sample - loss: 9.0472 - val_loss: 11.2339\n",
      "Epoch 32/100\n",
      "146/146 [==============================] - 0s 303us/sample - loss: 8.7966 - val_loss: 11.1993\n",
      "Epoch 33/100\n",
      "146/146 [==============================] - 0s 315us/sample - loss: 8.3987 - val_loss: 11.1483\n",
      "Epoch 34/100\n",
      "146/146 [==============================] - 0s 307us/sample - loss: 8.5058 - val_loss: 10.8544\n",
      "Epoch 35/100\n",
      "146/146 [==============================] - 0s 318us/sample - loss: 8.3339 - val_loss: 11.1367\n",
      "Epoch 36/100\n",
      "146/146 [==============================] - 0s 304us/sample - loss: 7.8319 - val_loss: 10.9391\n",
      "Epoch 37/100\n",
      "146/146 [==============================] - 0s 375us/sample - loss: 9.0473 - val_loss: 10.6111\n",
      "Epoch 38/100\n",
      "146/146 [==============================] - 0s 352us/sample - loss: 8.1739 - val_loss: 11.1119\n",
      "Epoch 39/100\n",
      "146/146 [==============================] - 0s 319us/sample - loss: 7.4949 - val_loss: 10.6194\n",
      "Epoch 40/100\n",
      "146/146 [==============================] - 0s 300us/sample - loss: 7.1170 - val_loss: 10.4352\n",
      "Epoch 41/100\n",
      "146/146 [==============================] - 0s 301us/sample - loss: 6.7805 - val_loss: 10.3210\n",
      "Epoch 42/100\n",
      "146/146 [==============================] - 0s 310us/sample - loss: 6.3628 - val_loss: 10.6898\n",
      "Epoch 43/100\n",
      "146/146 [==============================] - 0s 324us/sample - loss: 7.3569 - val_loss: 10.5198\n",
      "Epoch 44/100\n",
      "146/146 [==============================] - 0s 323us/sample - loss: 6.5760 - val_loss: 10.5618\n",
      "Epoch 45/100\n",
      "146/146 [==============================] - 0s 333us/sample - loss: 6.2220 - val_loss: 10.4985\n",
      "Epoch 46/100\n",
      "146/146 [==============================] - 0s 321us/sample - loss: 5.9660 - val_loss: 10.4355\n",
      "Epoch 47/100\n",
      "146/146 [==============================] - 0s 309us/sample - loss: 6.0096 - val_loss: 10.3384\n",
      "Epoch 48/100\n",
      "146/146 [==============================] - 0s 329us/sample - loss: 5.7287 - val_loss: 10.4300\n",
      "Epoch 49/100\n",
      "146/146 [==============================] - 0s 330us/sample - loss: 5.6999 - val_loss: 10.2636\n",
      "Epoch 50/100\n",
      "146/146 [==============================] - 0s 312us/sample - loss: 5.5924 - val_loss: 10.3172\n",
      "Epoch 51/100\n",
      "146/146 [==============================] - 0s 303us/sample - loss: 5.5113 - val_loss: 10.1713\n",
      "Epoch 52/100\n",
      "146/146 [==============================] - 0s 301us/sample - loss: 5.4680 - val_loss: 10.3434\n",
      "Epoch 53/100\n",
      "146/146 [==============================] - 0s 307us/sample - loss: 5.2597 - val_loss: 10.0398\n",
      "Epoch 54/100\n",
      "146/146 [==============================] - 0s 323us/sample - loss: 5.0615 - val_loss: 10.2872\n",
      "Epoch 55/100\n",
      "146/146 [==============================] - 0s 310us/sample - loss: 5.0140 - val_loss: 10.3340\n",
      "Epoch 56/100\n",
      "146/146 [==============================] - 0s 313us/sample - loss: 4.8085 - val_loss: 10.4700\n",
      "Epoch 57/100\n",
      "146/146 [==============================] - 0s 303us/sample - loss: 4.8053 - val_loss: 10.4853\n",
      "Epoch 58/100\n",
      "146/146 [==============================] - 0s 311us/sample - loss: 4.7846 - val_loss: 10.4598\n",
      "Epoch 59/100\n",
      "146/146 [==============================] - 0s 307us/sample - loss: 4.5619 - val_loss: 10.3215\n",
      "Epoch 60/100\n",
      "146/146 [==============================] - 0s 310us/sample - loss: 4.6341 - val_loss: 10.2312\n",
      "Epoch 61/100\n",
      "146/146 [==============================] - 0s 312us/sample - loss: 4.8659 - val_loss: 10.4268\n",
      "Epoch 62/100\n",
      "146/146 [==============================] - 0s 312us/sample - loss: 4.9602 - val_loss: 10.7474\n",
      "Epoch 63/100\n",
      "146/146 [==============================] - 0s 305us/sample - loss: 4.4628 - val_loss: 10.7703\n",
      "Epoch 64/100\n",
      "146/146 [==============================] - 0s 312us/sample - loss: 4.3343 - val_loss: 10.5926\n",
      "Epoch 65/100\n",
      "146/146 [==============================] - 0s 301us/sample - loss: 4.4856 - val_loss: 10.7896\n",
      "Epoch 66/100\n",
      "146/146 [==============================] - 0s 316us/sample - loss: 4.3924 - val_loss: 10.5925\n",
      "Epoch 67/100\n",
      "146/146 [==============================] - 0s 334us/sample - loss: 4.1474 - val_loss: 10.5668\n",
      "Epoch 68/100\n",
      "146/146 [==============================] - 0s 305us/sample - loss: 4.0439 - val_loss: 10.8343\n",
      "Epoch 69/100\n",
      "146/146 [==============================] - 0s 323us/sample - loss: 4.1535 - val_loss: 10.6689\n",
      "Epoch 70/100\n",
      "146/146 [==============================] - 0s 313us/sample - loss: 4.0184 - val_loss: 10.5860\n",
      "Epoch 71/100\n",
      "146/146 [==============================] - 0s 307us/sample - loss: 4.1063 - val_loss: 10.6710\n",
      "Epoch 72/100\n",
      "146/146 [==============================] - 0s 304us/sample - loss: 3.8642 - val_loss: 10.8013\n",
      "Epoch 73/100\n",
      "146/146 [==============================] - 0s 306us/sample - loss: 3.9533 - val_loss: 10.8412\n",
      "Epoch 74/100\n",
      "146/146 [==============================] - 0s 309us/sample - loss: 3.8002 - val_loss: 10.6040\n",
      "Epoch 75/100\n",
      "146/146 [==============================] - 0s 302us/sample - loss: 3.9476 - val_loss: 10.7292\n",
      "Epoch 76/100\n",
      "146/146 [==============================] - 0s 306us/sample - loss: 3.8604 - val_loss: 11.0676\n"
     ]
    },
    {
     "name": "stdout",
     "output_type": "stream",
     "text": [
      "Epoch 77/100\n",
      "146/146 [==============================] - 0s 301us/sample - loss: 3.5958 - val_loss: 10.7172\n",
      "Epoch 78/100\n",
      "146/146 [==============================] - 0s 328us/sample - loss: 3.7819 - val_loss: 11.1280\n",
      "Epoch 79/100\n",
      "146/146 [==============================] - 0s 308us/sample - loss: 4.5882 - val_loss: 11.9774\n",
      "Epoch 80/100\n",
      "146/146 [==============================] - 0s 303us/sample - loss: 4.8138 - val_loss: 10.9413\n",
      "Epoch 81/100\n",
      "146/146 [==============================] - 0s 313us/sample - loss: 3.9977 - val_loss: 11.3751\n",
      "Epoch 82/100\n",
      "146/146 [==============================] - 0s 311us/sample - loss: 3.7689 - val_loss: 11.2303\n",
      "Epoch 83/100\n",
      "146/146 [==============================] - 0s 311us/sample - loss: 4.1416 - val_loss: 11.4920\n",
      "Epoch 84/100\n",
      "146/146 [==============================] - 0s 305us/sample - loss: 3.8036 - val_loss: 11.3096\n",
      "Epoch 85/100\n",
      "146/146 [==============================] - 0s 308us/sample - loss: 3.4001 - val_loss: 11.2049\n",
      "Epoch 86/100\n",
      "146/146 [==============================] - 0s 307us/sample - loss: 3.4497 - val_loss: 11.6671\n",
      "Epoch 87/100\n",
      "146/146 [==============================] - 0s 323us/sample - loss: 3.5131 - val_loss: 11.1339\n",
      "Epoch 88/100\n",
      "146/146 [==============================] - 0s 312us/sample - loss: 3.3242 - val_loss: 11.1834\n",
      "Epoch 89/100\n",
      "146/146 [==============================] - 0s 339us/sample - loss: 3.3057 - val_loss: 10.9462\n",
      "Epoch 90/100\n",
      "146/146 [==============================] - 0s 307us/sample - loss: 3.5781 - val_loss: 10.9902\n",
      "Epoch 91/100\n",
      "146/146 [==============================] - 0s 314us/sample - loss: 3.4499 - val_loss: 11.2772\n",
      "Epoch 92/100\n",
      "146/146 [==============================] - 0s 323us/sample - loss: 3.1309 - val_loss: 11.0335\n",
      "Epoch 93/100\n",
      "146/146 [==============================] - 0s 326us/sample - loss: 3.2220 - val_loss: 11.0737\n",
      "Epoch 94/100\n",
      "146/146 [==============================] - 0s 320us/sample - loss: 3.3113 - val_loss: 11.1587\n",
      "Epoch 95/100\n",
      "146/146 [==============================] - 0s 312us/sample - loss: 3.1301 - val_loss: 10.7251\n",
      "Epoch 96/100\n",
      "146/146 [==============================] - 0s 304us/sample - loss: 3.0633 - val_loss: 11.2276\n",
      "Epoch 97/100\n",
      "146/146 [==============================] - 0s 304us/sample - loss: 3.1794 - val_loss: 11.3317\n",
      "Epoch 98/100\n",
      "146/146 [==============================] - 0s 304us/sample - loss: 3.1709 - val_loss: 11.2799\n",
      "Epoch 99/100\n",
      "146/146 [==============================] - 0s 301us/sample - loss: 3.1748 - val_loss: 11.3305\n",
      "Epoch 100/100\n",
      "146/146 [==============================] - 0s 317us/sample - loss: 3.0538 - val_loss: 11.2894\n"
     ]
    }
   ],
   "source": [
    "model = models.Sequential()\n",
    "model.add(layers.Dense(32, activation='relu', input_shape=(13,)))\n",
    "model.add(layers.Dense(64, activation='relu', input_shape=(13,)))\n",
    "model.add(layers.Dense(32, activation='relu', input_shape=(13,)))\n",
    "model.add(layers.Dense(16, activation='relu', input_shape=(13,)))\n",
    "model.add(layers.Dense(8, activation='relu', input_shape=(13,)))\n",
    "model.add(layers.Dense(4, activation='relu', input_shape=(13,)))\n",
    "model.add(layers.Dense(2, activation='relu', input_shape=(13,)))\n",
    "model.add(layers.Dense(1))\n",
    "\n",
    "optimizer = keras.optimizers.Adam(learning_rate=0.001, beta_1=0.9, beta_2=0.999, epsilon=1e-08)\n",
    "\n",
    "model.compile(loss='mean_squared_error', optimizer=optimizer)\n",
    "\n",
    "history = model.fit(x_train3, t_train,\n",
    "                   batch_size=16,\n",
    "                   epochs=100,\n",
    "                   verbose=1,\n",
    "                   validation_data=(x_val3, t_val))"
   ]
  },
  {
   "cell_type": "code",
   "execution_count": 116,
   "metadata": {},
   "outputs": [
    {
     "data": {
      "text/plain": [
       "(80, 100)"
      ]
     },
     "execution_count": 116,
     "metadata": {},
     "output_type": "execute_result"
    },
    {
     "data": {
      "image/png": "[encoded data removed]",
      "text/plain": [
       "<matplotlib.figure.Figure at 0x7f74067b8a90>"
      ]
     },
     "metadata": {},
     "output_type": "display_data"
    }
   ],
   "source": [
    "results = pd.DataFrame(history.history)\n",
    "graph = results[['loss', 'val_loss']].plot()\n",
    "graph.set_xlim([0,40])\n",
    "graph.set_ylim([80,100])"
   ]
  },
  {
   "cell_type": "code",
   "execution_count": 117,
   "metadata": {},
   "outputs": [
    {
     "data": {
      "text/plain": [
       "3.3599645654413055"
      ]
     },
     "execution_count": 117,
     "metadata": {},
     "output_type": "execute_result"
    }
   ],
   "source": [
    "np.sqrt(results.iloc[-1,1])"
   ]
  },
  {
   "cell_type": "code",
   "execution_count": 124,
   "metadata": {},
   "outputs": [],
   "source": [
    "# model = models.Sequential()\n",
    "# model.add(layers.Dense(32, kernel_initializer='normal', activation='relu', input_shape=(13,)))\n",
    "# model.add(layers.Dense(64, kernel_initializer='normal', activation='relu', input_shape=(13,)))\n",
    "# model.add(layers.Dense(128, kernel_initializer='normal', activation='relu', input_shape=(13,)))\n",
    "# model.add(layers.Dense(256, kernel_initializer='normal', activation='relu', input_shape=(13,)))\n",
    "# model.add(layers.Dense(128, kernel_initializer='normal', activation='relu', input_shape=(13,)))\n",
    "# model.add(layers.Dense(64, kernel_initializer='normal', activation='relu', input_shape=(13,)))\n",
    "# model.add(layers.Dense(32, kernel_initializer='normal', activation='relu', input_shape=(13,)))\n",
    "# model.add(layers.Dense(16, kernel_initializer='normal', activation='relu', input_shape=(13,)))\n",
    "# model.add(layers.Dense(8, kernel_initializer='normal', activation='relu', input_shape=(13,)))\n",
    "# model.add(layers.Dense(4, kernel_initializer='normal', activation='relu', input_shape=(13,)))\n",
    "# model.add(layers.Dense(2, kernel_initializer='normal', activation='relu', input_shape=(13,)))\n",
    "# model.add(layers.Dense(1))\n",
    "\n",
    "# optimizer = keras.optimizers.Adam(learning_rate=0.001, beta_1=0.9, beta_2=0.999, epsilon=1e-08)\n",
    "\n",
    "# model.compile(loss='mean_squared_error', optimizer=optimizer)\n",
    "\n",
    "# history = model.fit(x_train3, t_train,\n",
    "#                    batch_size=16,\n",
    "#                    epochs=100,\n",
    "#                    verbose=1,\n",
    "#                    validation_data=(x_val3, t_val))"
   ]
  },
  {
   "cell_type": "code",
   "execution_count": 120,
   "metadata": {},
   "outputs": [
    {
     "data": {
      "text/plain": [
       "3.44909441353299"
      ]
     },
     "execution_count": 120,
     "metadata": {},
     "output_type": "execute_result"
    }
   ],
   "source": [
    "# np.sqrt(results.iloc[-1,1])"
   ]
  },
  {
   "cell_type": "code",
   "execution_count": 123,
   "metadata": {},
   "outputs": [],
   "source": [
    "# model = models.Sequential()\n",
    "# model.add(layers.Dense(256, kernel_initializer='normal', activation='relu', input_shape=(13,)))\n",
    "# model.add(layers.Dense(128, kernel_initializer='normal', activation='relu', input_shape=(13,)))\n",
    "# model.add(layers.Dense(64, kernel_initializer='normal', activation='relu', input_shape=(13,)))\n",
    "# model.add(layers.Dense(32, kernel_initializer='normal', activation='relu', input_shape=(13,)))\n",
    "# model.add(layers.Dense(16, kernel_initializer='normal', activation='relu', input_shape=(13,)))\n",
    "# model.add(layers.Dense(8, kernel_initializer='normal', activation='relu', input_shape=(13,)))\n",
    "# model.add(layers.Dense(4, kernel_initializer='normal', activation='relu', input_shape=(13,)))\n",
    "# model.add(layers.Dense(2, kernel_initializer='normal', activation='relu', input_shape=(13,)))\n",
    "# model.add(layers.Dense(1))\n",
    "\n",
    "# optimizer = keras.optimizers.Adam(learning_rate=0.001, beta_1=0.9, beta_2=0.999, epsilon=1e-08)\n",
    "\n",
    "# model.compile(loss='mean_squared_error', optimizer=optimizer)\n",
    "\n",
    "# history = model.fit(x_train3, t_train,\n",
    "#                    batch_size=16,\n",
    "#                    epochs=100,\n",
    "#                    verbose=1,\n",
    "#                    validation_data=(x_val3, t_val))"
   ]
  },
  {
   "cell_type": "code",
   "execution_count": 122,
   "metadata": {},
   "outputs": [
    {
     "data": {
      "text/plain": [
       "3.44909441353299"
      ]
     },
     "execution_count": 122,
     "metadata": {},
     "output_type": "execute_result"
    }
   ],
   "source": [
    "# np.sqrt(results.iloc[-1,1])"
   ]
  },
  {
   "cell_type": "code",
   "execution_count": null,
   "metadata": {
    "collapsed": true
   },
   "outputs": [],
   "source": []
  }
 ],
 "metadata": {
  "kernelspec": {
   "display_name": "Python 3",
   "language": "python",
   "name": "python3"
  },
  "language_info": {
   "codemirror_mode": {
    "name": "ipython",
    "version": 3
   },
   "file_extension": ".py",
   "mimetype": "text/x-python",
   "name": "python",
   "nbconvert_exporter": "python",
   "pygments_lexer": "ipython3",
   "version": "3.5.2"
  }
 },
 "nbformat": 4,
 "nbformat_minor": 2
}
