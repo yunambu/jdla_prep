{
 "cells": [
  {
   "cell_type": "markdown",
   "metadata": {},
   "source": [
    "# 文書分類\n",
    "\n",
    "前回までの自然言語処理の基礎を活かして、実際の文書分類を行うためのデータの準備を行いましょう。\n",
    "\n",
    "## 問題設定\n",
    "\n",
    "今回は、ニュース記事をカテゴリ分けする問題設定で考えていきます。\n",
    "まずはじめに、特定フォルダ内の記事を読み込む練習をしましょう。\n",
    "\n",
    "![](http://play.kikagaku.co.jp/wp-content/uploads/2017/07/52778a504bcc7bbfa7bb08984682c418.png)\n",
    "\n",
    "今回はこのように９つの記事カテゴリーを文章から分類していきます。"
   ]
  },
  {
   "cell_type": "markdown",
   "metadata": {},
   "source": [
    "## データの前準備\n",
    "\n",
    "今回のデータは `data/text.zip` に置いてあります。\n",
    "まずは、zipファイルを解凍する必要があります。\n",
    "Jupyter Notebookでは、zipファイルなどで圧縮してからUploadする必要があるため、圧縮してUploadして解凍するといった操作を多用しますので、覚えておきましょう。\n",
    "\n",
    "`!` を使用することで、LinuxのBashコマンドを使用することができ、こちらで`unzip`コマンドを使うことが一番楽です。\n",
    "\n",
    "まずはファイルが格納されているか確認しましょう。"
   ]
  },
  {
   "cell_type": "code",
   "execution_count": 1,
   "metadata": {
    "scrolled": true
   },
   "outputs": [
    {
     "name": "stdout",
     "output_type": "stream",
     "text": [
      "cat  dog  housing.csv  sample.png  text.zip  wine_class.csv\r\n"
     ]
    }
   ],
   "source": [
    "!ls data/"
   ]
  },
  {
   "cell_type": "code",
   "execution_count": 2,
   "metadata": {
    "collapsed": true
   },
   "outputs": [],
   "source": [
    "# !unzip data/text.zip"
   ]
  },
  {
   "cell_type": "code",
   "execution_count": 3,
   "metadata": {},
   "outputs": [
    {
     "name": "stdout",
     "output_type": "stream",
     "text": [
      ".   dokujo-tsushin  kaden-channel   movie-enter  smax\t       topic-news\r\n",
      "..  it-life-hack    livedoor-homme  peachy\t sports-watch\r\n"
     ]
    }
   ],
   "source": [
    "# ファイルを確認\n",
    "!ls -a text"
   ]
  },
  {
   "cell_type": "markdown",
   "metadata": {},
   "source": [
    "`.DS_Store`という不必要なファイルが存在するため、消しておきましょう。\n",
    "圧縮のタイミングやOSによるものでいらないファイルが見つかるかもしれないため、フォルダの中などのデータをよく見ておきましょう。"
   ]
  },
  {
   "cell_type": "code",
   "execution_count": 4,
   "metadata": {},
   "outputs": [
    {
     "name": "stdout",
     "output_type": "stream",
     "text": [
      "rm: cannot remove 'text/.DS_Store': No such file or directory\r\n"
     ]
    }
   ],
   "source": [
    "!rm text/.DS_Store"
   ]
  },
  {
   "cell_type": "code",
   "execution_count": 5,
   "metadata": {},
   "outputs": [
    {
     "name": "stdout",
     "output_type": "stream",
     "text": [
      ".   dokujo-tsushin  kaden-channel   movie-enter  smax\t       topic-news\r\n",
      "..  it-life-hack    livedoor-homme  peachy\t sports-watch\r\n"
     ]
    }
   ],
   "source": [
    "# ファイルを確認\n",
    "!ls -a text"
   ]
  },
  {
   "cell_type": "markdown",
   "metadata": {},
   "source": [
    "このように削除できました。"
   ]
  },
  {
   "cell_type": "markdown",
   "metadata": {},
   "source": [
    "## 各ディレクトリのテキスト情報を変数に読み込む\n",
    "\n",
    "このテキスト情報を読み込むときに、便利なものが、辞書型の変数になります。\n",
    "\n",
    "辞書型（data）のキーにファイル名、値にテキストの文字列を読み込みます。\n",
    "\n",
    "ファイルやディレクトリを操作するときにとても便利な`glob`というライブラリもインポートしておきましょう。"
   ]
  },
  {
   "cell_type": "code",
   "execution_count": 6,
   "metadata": {
    "collapsed": true
   },
   "outputs": [],
   "source": [
    "from glob import glob"
   ]
  },
  {
   "cell_type": "code",
   "execution_count": 7,
   "metadata": {
    "collapsed": true
   },
   "outputs": [],
   "source": [
    "import pandas as pd"
   ]
  },
  {
   "cell_type": "code",
   "execution_count": 8,
   "metadata": {},
   "outputs": [
    {
     "data": {
      "text/plain": [
       "['text/livedoor-homme',\n",
       " 'text/kaden-channel',\n",
       " 'text/it-life-hack',\n",
       " 'text/smax',\n",
       " 'text/dokujo-tsushin',\n",
       " 'text/peachy',\n",
       " 'text/sports-watch',\n",
       " 'text/movie-enter',\n",
       " 'text/topic-news']"
      ]
     },
     "execution_count": 8,
     "metadata": {},
     "output_type": "execute_result"
    }
   ],
   "source": [
    "directories = glob('text/*')\n",
    "directories"
   ]
  },
  {
   "cell_type": "markdown",
   "metadata": {},
   "source": [
    "for文で繰り返すときに、各フォルダ（ディレクトリ）に対応する要素番号を分類に使用するラベルと設定したいため、`enumerate`を使うことで、要素番号も併せて取得しておきましょう。"
   ]
  },
  {
   "cell_type": "code",
   "execution_count": 9,
   "metadata": {},
   "outputs": [
    {
     "name": "stdout",
     "output_type": "stream",
     "text": [
      "0\n",
      "text/livedoor-homme\n",
      "- - -\n",
      "1\n",
      "text/kaden-channel\n",
      "- - -\n",
      "2\n",
      "text/it-life-hack\n",
      "- - -\n",
      "3\n",
      "text/smax\n",
      "- - -\n",
      "4\n",
      "text/dokujo-tsushin\n",
      "- - -\n",
      "5\n",
      "text/peachy\n",
      "- - -\n",
      "6\n",
      "text/sports-watch\n",
      "- - -\n",
      "7\n",
      "text/movie-enter\n",
      "- - -\n",
      "8\n",
      "text/topic-news\n",
      "- - -\n"
     ]
    }
   ],
   "source": [
    "for (i, directory) in enumerate(directories):\n",
    "    print(i)\n",
    "    print(directory)\n",
    "    print('- - -')"
   ]
  },
  {
   "cell_type": "code",
   "execution_count": 10,
   "metadata": {
    "collapsed": true
   },
   "outputs": [],
   "source": [
    "texts, labels = [], []\n",
    "for (i, directory) in enumerate(directories):\n",
    "    #各ディレクトリ内のtxtファイルのパスをすべて取得\n",
    "    filepaths = glob('{}/*.txt'.format(directory))\n",
    "    # テキストを読み込んで、内容をtextに格納、ラベルも併せて格納\n",
    "    for filepath in filepaths:\n",
    "        with open(filepath, encoding='utf-8') as f:\n",
    "            text = ''.join(f.readlines()[2:])  # URL等の先頭２行を除いた各行の文章を連結（join）して格納\n",
    "            texts.append(text)\n",
    "            labels.append(i)"
   ]
  },
  {
   "cell_type": "markdown",
   "metadata": {},
   "source": [
    "たとえば、最後に格納された文書を確認してみましょう。"
   ]
  },
  {
   "cell_type": "code",
   "execution_count": 11,
   "metadata": {},
   "outputs": [
    {
     "data": {
      "text/plain": [
       "'ケータイで“ムラムラ”、理想の彼女とデート体験\\n\\u30007月24日に地上アナログ放送が終了したが、東日本大震災以降、若者のテレビ離れに拍車がかかっているという。学生から社会人になり、仕事に追われる日々の中、不在時に録画してまでテレビを観なくなったこともあるが、多様化する自分の趣味に対して、たった5つのキー局ではもはや満たされなくなってしまったのだ。テレビを観ても「つまらない」と感じるようになったのは、一体いつからなのだろうか。\\n\\n\\u3000残業に疲れて遅くに帰宅したサラリーマンが、缶ビールを片手にテレビのリモコンをつけ、秘かに楽しみにしているのが深夜番組。仕事の状況によって毎日同じ時間に帰れるとは限らないので、番組への興味は薄いかもしれないが、「くだらないなぁ〜」などと思いつつ、不覚にも笑みを浮かべている自分に気付く。しかし、そんな深夜に人気を集めた番組ですらも、ゴールデンタイムに進出した途端、視聴率が伸びずに打ち切りになるなんていうのはよくある話だ。\\n\\n\\u3000そんな深夜番組的な娯楽の数々を、24時間365日、外出先でも楽しむことができる放送局が、今や手放すことのできないケータイ電話の中にある。月額わずか315円（税込）でドラマやバラエティ、2万曲以上あるミュージックビデオまで好きなだけ楽しめるケータイ専用放送局「BeeTV」だ。開局から2年ほどで、すでに120万人超が入会。BeeTVを見るのに必要なものは、NTTドコモのケータイだけ。1週間無料で見放題なので、まずは番組を見てから入会を判断すればいいわけだ。\\n\\n\\u3000BeeTVへのアクセス方法は、ケータイの「i」ボタンを押し、iメニューから「動画」を選択すると、ドコモ動画ページ内にBeeTVのオススメ番組が紹介されている。まずは、BeeTVのトップページに行き、見たい番組を探してみよう。「ジャンル」「こんな時に」「オススメ」など数字ボタンと同じ配列の9個のメニューが並ぶ中で、「こんな時に」を押してみた。すると今度は「姫キュン」「ダム泣き」「ドカ晴れ」などのメニューが現れたので、「男ですもの。ためこむ前にムラムラしよう。」との説明が流れる「ムラムラ」を思わず押してしまった。\\n\\n\\u3000帰宅途中ということもあり、周囲の人目を気にして「欲望」「美少女」「浮気がバレない最強テクニック」など刺激的な番組の誘惑には負けず、まずは落ち着いて『モテキ』を見ることにする。実は、テレビドラマを観て後追いで存在を知ったので、原作が気になっていたこともあった。先ほど「1週間無料で見放題」と説明したが、第1話は無料で視聴可能。原作のセリフを声優が読み上げ、BGMも加わり、普通のマンガ以上に楽しむことができた。\\n\\n\\u3000ようやく自宅に着き、テレビそっちのけで、再び“ムラムラ”…。今度は『美少女デート〜あなたが選ぶ、理想の彼女〜』の無料デート体験を試してみる。デートのシチュエーションを選んで、いよいよデート開始。我ながら「マヌケだなぁ」と呆れつつも、カメラ目線で話し掛けてくるセクシー系美少女・尾崎ナナちゃん（28歳／B88／W58／H85）との会話にハマっていく自分がいた。すると突然、彼女が泣き出し、A：黙ってハンカチを手渡す or B：トイレでメイクを直してくれば？」と言う\\u3000との選択を迫られ、その決断によって、彼女からご褒美のキスをしてもらえるかどうかが決まるのだ。男子諸君は是非一度、試してもらいたい。\\n\\n\\u3000\\n\\u3000\\u3000\\u3000\\u3000ダーツバーで大人のデート or スポーツクラブでダイエットデート\\n\\u3000この他にも、独特なエロの世界観を持つスピードワゴン小沢と超セクシーな女性ゲストが毎回あるシチュエーションを元にドラマを展開する『欲望の桃色アングル』や、お色気ムンムンのビンビン・ガールズが登場する『関根・天野のビンビン王子の逆襲』などなど、“ムラムラ”な番組が盛りだくさん。もちろん、“ムラムラ”以外の番組も。iモードケータイの他、高画質＆高音質のスマートフォン版BeeTVも同じく月額315円（税込）で見放題。アクセス方法は、ドコモマーケットから「動画」を選び「BeeTV」を押すだけだ。\\n\\n・「BeeTV」特集ページ - livedoor\\n・美少女デート〜あなたが選ぶ、理想の彼女〜 - BeeTV\\n\\n※BeeTVはdocomo専用のサービスです。\\n※動画をダウンロードするのでパケホーダイダブル等のパケット定額制サービスへのご加入が必要です。\\n※配信期間が終了してしまった番組は見る事ができません。\\n'"
      ]
     },
     "execution_count": 11,
     "metadata": {},
     "output_type": "execute_result"
    }
   ],
   "source": [
    "texts[0]"
   ]
  },
  {
   "cell_type": "code",
   "execution_count": 12,
   "metadata": {},
   "outputs": [
    {
     "data": {
      "text/plain": [
       "0"
      ]
     },
     "execution_count": 12,
     "metadata": {},
     "output_type": "execute_result"
    }
   ],
   "source": [
    "labels[0]"
   ]
  },
  {
   "cell_type": "markdown",
   "metadata": {},
   "source": [
    "## 文章から名詞のみを抽出"
   ]
  },
  {
   "cell_type": "markdown",
   "metadata": {},
   "source": [
    "前に作成した名詞抽出用の関数を使用して、文書全体で使用されている名詞を全てword_collectというリストに格納していきましょう。"
   ]
  },
  {
   "cell_type": "code",
   "execution_count": 13,
   "metadata": {
    "collapsed": true
   },
   "outputs": [],
   "source": [
    "import MeCab"
   ]
  },
  {
   "cell_type": "code",
   "execution_count": 14,
   "metadata": {
    "collapsed": true
   },
   "outputs": [],
   "source": [
    "mecab = MeCab.Tagger('-Ochasen')"
   ]
  },
  {
   "cell_type": "code",
   "execution_count": 15,
   "metadata": {
    "collapsed": true
   },
   "outputs": [],
   "source": [
    "def get_nouns(text):\n",
    "    nouns = []\n",
    "    res = mecab.parse(text)\n",
    "    words = res.split('\\n')[:-2] #EOSと空白部分の削除\n",
    "    for word in words:\n",
    "        part = word.split('\\t')\n",
    "        if '名詞' in part[3]:\n",
    "            nouns.append(part[0])\n",
    "    return nouns"
   ]
  },
  {
   "cell_type": "code",
   "execution_count": 16,
   "metadata": {
    "collapsed": true
   },
   "outputs": [],
   "source": [
    "word_collect = []\n",
    "for text in texts:\n",
    "    nouns = get_nouns(text)\n",
    "    word_collect.append(nouns)\n",
    "    \n",
    "# ワンライナーで下記のように書いてもOK\n",
    "# word_collect = [ get_nouns(text) for text in texts ]"
   ]
  },
  {
   "cell_type": "markdown",
   "metadata": {},
   "source": [
    "## BoWに変換\n",
    "\n",
    "前回と同様に`gensim`を使いましょう。"
   ]
  },
  {
   "cell_type": "code",
   "execution_count": 17,
   "metadata": {},
   "outputs": [
    {
     "name": "stderr",
     "output_type": "stream",
     "text": [
      "Using TensorFlow backend.\n"
     ]
    }
   ],
   "source": [
    "from gensim import corpora, matutils"
   ]
  },
  {
   "cell_type": "markdown",
   "metadata": {},
   "source": [
    "まずはBoW用の辞書を作りましょう。"
   ]
  },
  {
   "cell_type": "code",
   "execution_count": 18,
   "metadata": {
    "collapsed": true
   },
   "outputs": [],
   "source": [
    "dictionary = corpora.Dictionary(word_collect)"
   ]
  },
  {
   "cell_type": "code",
   "execution_count": 19,
   "metadata": {},
   "outputs": [
    {
     "data": {
      "text/plain": [
       "86471"
      ]
     },
     "execution_count": 19,
     "metadata": {},
     "output_type": "execute_result"
    }
   ],
   "source": [
    "len(dictionary)"
   ]
  },
  {
   "cell_type": "markdown",
   "metadata": {},
   "source": [
    "今回は`86471`単語あるようです。"
   ]
  },
  {
   "cell_type": "markdown",
   "metadata": {},
   "source": [
    "このままでも良いのですが、出現回数が多すぎたり引きすぎる単語をフィルタリングすると、特徴のある単語のみに絞ることができます。"
   ]
  },
  {
   "cell_type": "code",
   "execution_count": 20,
   "metadata": {
    "collapsed": true
   },
   "outputs": [],
   "source": [
    "dictionary.filter_extremes(no_below=20)"
   ]
  },
  {
   "cell_type": "code",
   "execution_count": 21,
   "metadata": {},
   "outputs": [
    {
     "data": {
      "text/plain": [
       "7494"
      ]
     },
     "execution_count": 21,
     "metadata": {},
     "output_type": "execute_result"
    }
   ],
   "source": [
    "len(dictionary)"
   ]
  },
  {
   "cell_type": "markdown",
   "metadata": {},
   "source": [
    "このように全体で20回以上出現しない単語はフィルタリングすることで、`7494`単語に抑えることができました。\n",
    "辞書作成に多少時間がかかるため、あとから使えるようにこの段階で保存しておくと良いでしょう。"
   ]
  },
  {
   "cell_type": "code",
   "execution_count": 22,
   "metadata": {
    "collapsed": true
   },
   "outputs": [],
   "source": [
    "# 後から使えるように保存しておく\n",
    "dictionary.save_as_text('livedoordic.txt')"
   ]
  },
  {
   "cell_type": "markdown",
   "metadata": {},
   "source": [
    "それではこの作成した辞書を使って、BoWに変換しましょう。"
   ]
  },
  {
   "cell_type": "code",
   "execution_count": 23,
   "metadata": {
    "collapsed": true
   },
   "outputs": [],
   "source": [
    "n_words = len(dictionary)"
   ]
  },
  {
   "cell_type": "code",
   "execution_count": 24,
   "metadata": {
    "collapsed": true
   },
   "outputs": [],
   "source": [
    "# BOWによる特徴ベクトルの作成\n",
    "x = []\n",
    "for nouns in word_collect:\n",
    "    bow_id = dictionary.doc2bow(nouns)\n",
    "    bow = matutils.corpus2dense([bow_id], n_words).T[0]\n",
    "    x.append(bow)"
   ]
  },
  {
   "cell_type": "code",
   "execution_count": 25,
   "metadata": {
    "collapsed": true
   },
   "outputs": [],
   "source": [
    "import numpy as np"
   ]
  },
  {
   "cell_type": "code",
   "execution_count": 26,
   "metadata": {
    "collapsed": true
   },
   "outputs": [],
   "source": [
    "x = np.array(x, 'f')\n",
    "t = np.array(labels, 'f')"
   ]
  },
  {
   "cell_type": "code",
   "execution_count": 27,
   "metadata": {},
   "outputs": [
    {
     "data": {
      "text/plain": [
       "(7376, 7494)"
      ]
     },
     "execution_count": 27,
     "metadata": {},
     "output_type": "execute_result"
    }
   ],
   "source": [
    "x.shape"
   ]
  },
  {
   "cell_type": "code",
   "execution_count": 28,
   "metadata": {},
   "outputs": [
    {
     "data": {
      "text/plain": [
       "(7376,)"
      ]
     },
     "execution_count": 28,
     "metadata": {},
     "output_type": "execute_result"
    }
   ],
   "source": [
    "t.shape"
   ]
  },
  {
   "cell_type": "markdown",
   "metadata": {},
   "source": [
    "こちらのように機械学習で使用できる形式へ変換できました。\n",
    "あとは、単純な分類問題であるため、NNでクラス分類することで実装できます。"
   ]
  },
  {
   "cell_type": "markdown",
   "metadata": {},
   "source": [
    "## 演習課題\n",
    "\n",
    "得られたデータセットを使用してクラス分類を行うNNのモデルを作成せよ。\n",
    "\n",
    "条件\n",
    "\n",
    "- seedは0で固定\n",
    "- 全体の70%が訓練データ、残りの30%が検証データ（ランダムに分割）"
   ]
  },
  {
   "cell_type": "code",
   "execution_count": 29,
   "metadata": {
    "collapsed": true
   },
   "outputs": [],
   "source": [
    "import keras\n",
    "from keras.utils import to_categorical\n",
    "\n",
    "from keras.models import Sequential\n",
    "from keras.layers import Dense, Activation, BatchNormalization,  Dropout, Flatten\n",
    "from keras.layers import Conv2D, MaxPooling2D"
   ]
  },
  {
   "cell_type": "code",
   "execution_count": 30,
   "metadata": {
    "collapsed": true
   },
   "outputs": [],
   "source": [
    "# 行列として入力するための加工\n",
    "num_classes = 9\n",
    "t = to_categorical(t, num_classes)"
   ]
  },
  {
   "cell_type": "code",
   "execution_count": 31,
   "metadata": {
    "collapsed": true
   },
   "outputs": [],
   "source": [
    "from sklearn.model_selection import train_test_split\n",
    "\n",
    "# 訓練データと検証データの分割\n",
    "train_x, val_x, train_t, val_t = train_test_split(x, t, train_size=0.7,  test_size=0.3, random_state=0)"
   ]
  },
  {
   "cell_type": "code",
   "execution_count": 32,
   "metadata": {
    "collapsed": true
   },
   "outputs": [],
   "source": [
    "# シードの固定\n",
    "np.random.seed(0)\n",
    "\n",
    "model = Sequential()\n",
    "\n",
    "model.add(Dense(200, input_shape=(7494, ), activation='relu'))\n",
    "model.add(Dense(9, activation='softmax'))\n",
    "\n",
    "optimizer = keras.optimizers.SGD(lr=0.01)\n",
    "\n",
    "model.compile(loss='categorical_crossentropy', optimizer=optimizer, metrics=['accuracy'])"
   ]
  },
  {
   "cell_type": "code",
   "execution_count": 33,
   "metadata": {},
   "outputs": [
    {
     "name": "stdout",
     "output_type": "stream",
     "text": [
      "Train on 5163 samples, validate on 2213 samples\n",
      "Epoch 1/50\n",
      "5163/5163 [==============================] - 1s 219us/step - loss: 1.8607 - acc: 0.4075 - val_loss: 1.5704 - val_acc: 0.6209\n",
      "Epoch 2/50\n",
      "5163/5163 [==============================] - 0s 69us/step - loss: 1.3616 - acc: 0.7182 - val_loss: 1.2173 - val_acc: 0.7741\n",
      "Epoch 3/50\n",
      "5163/5163 [==============================] - 0s 70us/step - loss: 1.0650 - acc: 0.8274 - val_loss: 0.9863 - val_acc: 0.8378\n",
      "Epoch 4/50\n",
      "5163/5163 [==============================] - 0s 72us/step - loss: 0.8659 - acc: 0.8687 - val_loss: 0.8292 - val_acc: 0.8604\n",
      "Epoch 5/50\n",
      "5163/5163 [==============================] - 0s 71us/step - loss: 0.7256 - acc: 0.8923 - val_loss: 0.7189 - val_acc: 0.8735\n",
      "Epoch 6/50\n",
      "5163/5163 [==============================] - 0s 69us/step - loss: 0.6232 - acc: 0.9068 - val_loss: 0.6393 - val_acc: 0.8875\n",
      "Epoch 7/50\n",
      "5163/5163 [==============================] - 0s 69us/step - loss: 0.5455 - acc: 0.9144 - val_loss: 0.5788 - val_acc: 0.8906\n",
      "Epoch 8/50\n",
      "5163/5163 [==============================] - 0s 68us/step - loss: 0.4849 - acc: 0.9231 - val_loss: 0.5313 - val_acc: 0.8956\n",
      "Epoch 9/50\n",
      "5163/5163 [==============================] - 0s 69us/step - loss: 0.4366 - acc: 0.9278 - val_loss: 0.4936 - val_acc: 0.9001\n",
      "Epoch 10/50\n",
      "5163/5163 [==============================] - 0s 68us/step - loss: 0.3969 - acc: 0.9349 - val_loss: 0.4642 - val_acc: 0.9033\n",
      "Epoch 11/50\n",
      "5163/5163 [==============================] - 0s 69us/step - loss: 0.3637 - acc: 0.9403 - val_loss: 0.4386 - val_acc: 0.9092\n",
      "Epoch 12/50\n",
      "5163/5163 [==============================] - 0s 69us/step - loss: 0.3355 - acc: 0.9450 - val_loss: 0.4183 - val_acc: 0.9110\n",
      "Epoch 13/50\n",
      "5163/5163 [==============================] - 0s 70us/step - loss: 0.3113 - acc: 0.9481 - val_loss: 0.4005 - val_acc: 0.9155\n",
      "Epoch 14/50\n",
      "5163/5163 [==============================] - 0s 69us/step - loss: 0.2900 - acc: 0.9514 - val_loss: 0.3845 - val_acc: 0.9182\n",
      "Epoch 15/50\n",
      "5163/5163 [==============================] - 0s 69us/step - loss: 0.2716 - acc: 0.9549 - val_loss: 0.3720 - val_acc: 0.9191\n",
      "Epoch 16/50\n",
      "5163/5163 [==============================] - 0s 69us/step - loss: 0.2550 - acc: 0.9574 - val_loss: 0.3597 - val_acc: 0.9205\n",
      "Epoch 17/50\n",
      "5163/5163 [==============================] - 0s 69us/step - loss: 0.2402 - acc: 0.9605 - val_loss: 0.3501 - val_acc: 0.9214\n",
      "Epoch 18/50\n",
      "5163/5163 [==============================] - 0s 72us/step - loss: 0.2270 - acc: 0.9630 - val_loss: 0.3402 - val_acc: 0.9227\n",
      "Epoch 19/50\n",
      "5163/5163 [==============================] - 0s 70us/step - loss: 0.2150 - acc: 0.9655 - val_loss: 0.3321 - val_acc: 0.9245\n",
      "Epoch 20/50\n",
      "5163/5163 [==============================] - 0s 69us/step - loss: 0.2041 - acc: 0.9684 - val_loss: 0.3245 - val_acc: 0.9250\n",
      "Epoch 21/50\n",
      "5163/5163 [==============================] - 0s 69us/step - loss: 0.1942 - acc: 0.9708 - val_loss: 0.3186 - val_acc: 0.9254\n",
      "Epoch 22/50\n",
      "5163/5163 [==============================] - 0s 69us/step - loss: 0.1851 - acc: 0.9719 - val_loss: 0.3125 - val_acc: 0.9250\n",
      "Epoch 23/50\n",
      "5163/5163 [==============================] - 0s 69us/step - loss: 0.1767 - acc: 0.9727 - val_loss: 0.3065 - val_acc: 0.9259\n",
      "Epoch 24/50\n",
      "5163/5163 [==============================] - 0s 68us/step - loss: 0.1691 - acc: 0.9744 - val_loss: 0.3011 - val_acc: 0.9259\n",
      "Epoch 25/50\n",
      "5163/5163 [==============================] - 0s 69us/step - loss: 0.1619 - acc: 0.9770 - val_loss: 0.2968 - val_acc: 0.9272\n",
      "Epoch 26/50\n",
      "5163/5163 [==============================] - 0s 68us/step - loss: 0.1552 - acc: 0.9789 - val_loss: 0.2926 - val_acc: 0.9277\n",
      "Epoch 27/50\n",
      "5163/5163 [==============================] - 0s 68us/step - loss: 0.1491 - acc: 0.9804 - val_loss: 0.2886 - val_acc: 0.9272\n",
      "Epoch 28/50\n",
      "5163/5163 [==============================] - 0s 68us/step - loss: 0.1433 - acc: 0.9810 - val_loss: 0.2849 - val_acc: 0.9286\n",
      "Epoch 29/50\n",
      "5163/5163 [==============================] - 0s 69us/step - loss: 0.1379 - acc: 0.9816 - val_loss: 0.2816 - val_acc: 0.9286\n",
      "Epoch 30/50\n",
      "5163/5163 [==============================] - 0s 70us/step - loss: 0.1328 - acc: 0.9822 - val_loss: 0.2785 - val_acc: 0.9277\n",
      "Epoch 31/50\n",
      "5163/5163 [==============================] - 0s 72us/step - loss: 0.1281 - acc: 0.9828 - val_loss: 0.2755 - val_acc: 0.9286\n",
      "Epoch 32/50\n",
      "5163/5163 [==============================] - 0s 71us/step - loss: 0.1237 - acc: 0.9839 - val_loss: 0.2731 - val_acc: 0.9300\n",
      "Epoch 33/50\n",
      "5163/5163 [==============================] - 0s 70us/step - loss: 0.1195 - acc: 0.9853 - val_loss: 0.2702 - val_acc: 0.9295\n",
      "Epoch 34/50\n",
      "5163/5163 [==============================] - 0s 69us/step - loss: 0.1155 - acc: 0.9861 - val_loss: 0.2678 - val_acc: 0.9295\n",
      "Epoch 35/50\n",
      "5163/5163 [==============================] - 0s 69us/step - loss: 0.1118 - acc: 0.9866 - val_loss: 0.2655 - val_acc: 0.9304\n",
      "Epoch 36/50\n",
      "5163/5163 [==============================] - 0s 69us/step - loss: 0.1082 - acc: 0.9862 - val_loss: 0.2630 - val_acc: 0.9300\n",
      "Epoch 37/50\n",
      "5163/5163 [==============================] - 0s 69us/step - loss: 0.1049 - acc: 0.9876 - val_loss: 0.2611 - val_acc: 0.9313\n",
      "Epoch 38/50\n",
      "5163/5163 [==============================] - 0s 70us/step - loss: 0.1017 - acc: 0.9880 - val_loss: 0.2594 - val_acc: 0.9318\n",
      "Epoch 39/50\n",
      "5163/5163 [==============================] - 0s 70us/step - loss: 0.0986 - acc: 0.9890 - val_loss: 0.2577 - val_acc: 0.9318\n",
      "Epoch 40/50\n",
      "5163/5163 [==============================] - 0s 69us/step - loss: 0.0958 - acc: 0.9892 - val_loss: 0.2558 - val_acc: 0.9331\n",
      "Epoch 41/50\n",
      "5163/5163 [==============================] - 0s 69us/step - loss: 0.0930 - acc: 0.9895 - val_loss: 0.2542 - val_acc: 0.9327\n",
      "Epoch 42/50\n",
      "5163/5163 [==============================] - 0s 68us/step - loss: 0.0904 - acc: 0.9897 - val_loss: 0.2527 - val_acc: 0.9327\n",
      "Epoch 43/50\n",
      "5163/5163 [==============================] - 0s 69us/step - loss: 0.0880 - acc: 0.9905 - val_loss: 0.2511 - val_acc: 0.9336\n",
      "Epoch 44/50\n",
      "5163/5163 [==============================] - 0s 68us/step - loss: 0.0856 - acc: 0.9905 - val_loss: 0.2500 - val_acc: 0.9336\n",
      "Epoch 45/50\n",
      "5163/5163 [==============================] - 0s 70us/step - loss: 0.0833 - acc: 0.9909 - val_loss: 0.2487 - val_acc: 0.9345\n",
      "Epoch 46/50\n",
      "5163/5163 [==============================] - 0s 70us/step - loss: 0.0811 - acc: 0.9911 - val_loss: 0.2468 - val_acc: 0.9345\n",
      "Epoch 47/50\n",
      "5163/5163 [==============================] - 0s 69us/step - loss: 0.0790 - acc: 0.9915 - val_loss: 0.2458 - val_acc: 0.9345\n",
      "Epoch 48/50\n",
      "5163/5163 [==============================] - 0s 68us/step - loss: 0.0771 - acc: 0.9919 - val_loss: 0.2445 - val_acc: 0.9345\n",
      "Epoch 49/50\n",
      "5163/5163 [==============================] - 0s 69us/step - loss: 0.0752 - acc: 0.9923 - val_loss: 0.2436 - val_acc: 0.9354\n",
      "Epoch 50/50\n",
      "5163/5163 [==============================] - 0s 69us/step - loss: 0.0733 - acc: 0.9928 - val_loss: 0.2427 - val_acc: 0.9358\n"
     ]
    }
   ],
   "source": [
    "history = model.fit(train_x, train_t,\n",
    "          batch_size=100,\n",
    "          epochs=50,\n",
    "          verbose=1,\n",
    "          validation_data=(val_x, val_t))"
   ]
  },
  {
   "cell_type": "code",
   "execution_count": 34,
   "metadata": {
    "collapsed": true
   },
   "outputs": [],
   "source": [
    "import matplotlib.pyplot as plt\n",
    "%matplotlib inline"
   ]
  },
  {
   "cell_type": "code",
   "execution_count": 35,
   "metadata": {},
   "outputs": [
    {
     "data": {
      "text/plain": [
       "<matplotlib.axes._subplots.AxesSubplot at 0x7fe41c726080>"
      ]
     },
     "execution_count": 35,
     "metadata": {},
     "output_type": "execute_result"
    },
    {
     "data": {
      "image/png": "[encoded data removed]",
      "text/plain": [
       "<matplotlib.figure.Figure at 0x7fe41c709588>"
      ]
     },
     "metadata": {},
     "output_type": "display_data"
    }
   ],
   "source": [
    "# 学習結果をPandasのDataFrame型で読み込みます。\n",
    "results = pd.DataFrame(history.history)\n",
    "\n",
    "# accuracy（精度）を表示\n",
    "results[['acc', 'val_acc']].plot()"
   ]
  },
  {
   "cell_type": "code",
   "execution_count": 36,
   "metadata": {},
   "outputs": [
    {
     "data": {
      "text/plain": [
       "<matplotlib.axes._subplots.AxesSubplot at 0x7fe41c6401d0>"
      ]
     },
     "execution_count": 36,
     "metadata": {},
     "output_type": "execute_result"
    },
    {
     "data": {
      "image/png": "[encoded data removed]",
      "text/plain": [
       "<matplotlib.figure.Figure at 0x7fe41c64cd30>"
      ]
     },
     "metadata": {},
     "output_type": "display_data"
    }
   ],
   "source": [
    "# loss（損失関数）を表示\n",
    "results[['loss', 'val_loss']].plot()"
   ]
  }
 ],
 "metadata": {
  "kernelspec": {
   "display_name": "Python 3",
   "language": "python",
   "name": "python3"
  },
  "language_info": {
   "codemirror_mode": {
    "name": "ipython",
    "version": 3
   },
   "file_extension": ".py",
   "mimetype": "text/x-python",
   "name": "python",
   "nbconvert_exporter": "python",
   "pygments_lexer": "ipython3",
   "version": "3.5.2"
  }
 },
 "nbformat": 4,
 "nbformat_minor": 2
}
